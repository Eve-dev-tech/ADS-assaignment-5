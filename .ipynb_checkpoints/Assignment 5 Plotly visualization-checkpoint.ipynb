{
 "cells": [
  {
   "cell_type": "code",
   "execution_count": 269,
   "metadata": {},
   "outputs": [],
   "source": [
    "#importing the necessary libraries\n",
    "import pandas as pd\n",
    "import numpy as np\n",
    "import matplotlib.pyplot as plt\n",
    "%matplotlib inline\n",
    "import plotly.graph_objects as go\n",
    "import plotly.express as px\n"
   ]
  },
  {
   "cell_type": "code",
   "execution_count": 270,
   "metadata": {},
   "outputs": [
    {
     "data": {
      "text/html": [
       "<div>\n",
       "<style scoped>\n",
       "    .dataframe tbody tr th:only-of-type {\n",
       "        vertical-align: middle;\n",
       "    }\n",
       "\n",
       "    .dataframe tbody tr th {\n",
       "        vertical-align: top;\n",
       "    }\n",
       "\n",
       "    .dataframe thead th {\n",
       "        text-align: right;\n",
       "    }\n",
       "</style>\n",
       "<table border=\"1\" class=\"dataframe\">\n",
       "  <thead>\n",
       "    <tr style=\"text-align: right;\">\n",
       "      <th></th>\n",
       "      <th>PassengerId</th>\n",
       "      <th>Survived</th>\n",
       "      <th>Pclass</th>\n",
       "      <th>Name</th>\n",
       "      <th>Sex</th>\n",
       "      <th>Age</th>\n",
       "      <th>SibSp</th>\n",
       "      <th>Parch</th>\n",
       "      <th>Ticket</th>\n",
       "      <th>Fare</th>\n",
       "      <th>Cabin</th>\n",
       "      <th>Embarked</th>\n",
       "    </tr>\n",
       "  </thead>\n",
       "  <tbody>\n",
       "    <tr>\n",
       "      <th>0</th>\n",
       "      <td>1</td>\n",
       "      <td>0</td>\n",
       "      <td>3</td>\n",
       "      <td>Braund, Mr. Owen Harris</td>\n",
       "      <td>male</td>\n",
       "      <td>22.0</td>\n",
       "      <td>1</td>\n",
       "      <td>0</td>\n",
       "      <td>A/5 21171</td>\n",
       "      <td>7.2500</td>\n",
       "      <td>NaN</td>\n",
       "      <td>S</td>\n",
       "    </tr>\n",
       "    <tr>\n",
       "      <th>1</th>\n",
       "      <td>2</td>\n",
       "      <td>1</td>\n",
       "      <td>1</td>\n",
       "      <td>Cumings, Mrs. John Bradley (Florence Briggs Th...</td>\n",
       "      <td>female</td>\n",
       "      <td>38.0</td>\n",
       "      <td>1</td>\n",
       "      <td>0</td>\n",
       "      <td>PC 17599</td>\n",
       "      <td>71.2833</td>\n",
       "      <td>C85</td>\n",
       "      <td>C</td>\n",
       "    </tr>\n",
       "    <tr>\n",
       "      <th>2</th>\n",
       "      <td>3</td>\n",
       "      <td>1</td>\n",
       "      <td>3</td>\n",
       "      <td>Heikkinen, Miss. Laina</td>\n",
       "      <td>female</td>\n",
       "      <td>26.0</td>\n",
       "      <td>0</td>\n",
       "      <td>0</td>\n",
       "      <td>STON/O2. 3101282</td>\n",
       "      <td>7.9250</td>\n",
       "      <td>NaN</td>\n",
       "      <td>S</td>\n",
       "    </tr>\n",
       "    <tr>\n",
       "      <th>3</th>\n",
       "      <td>4</td>\n",
       "      <td>1</td>\n",
       "      <td>1</td>\n",
       "      <td>Futrelle, Mrs. Jacques Heath (Lily May Peel)</td>\n",
       "      <td>female</td>\n",
       "      <td>35.0</td>\n",
       "      <td>1</td>\n",
       "      <td>0</td>\n",
       "      <td>113803</td>\n",
       "      <td>53.1000</td>\n",
       "      <td>C123</td>\n",
       "      <td>S</td>\n",
       "    </tr>\n",
       "    <tr>\n",
       "      <th>4</th>\n",
       "      <td>5</td>\n",
       "      <td>0</td>\n",
       "      <td>3</td>\n",
       "      <td>Allen, Mr. William Henry</td>\n",
       "      <td>male</td>\n",
       "      <td>35.0</td>\n",
       "      <td>0</td>\n",
       "      <td>0</td>\n",
       "      <td>373450</td>\n",
       "      <td>8.0500</td>\n",
       "      <td>NaN</td>\n",
       "      <td>S</td>\n",
       "    </tr>\n",
       "    <tr>\n",
       "      <th>...</th>\n",
       "      <td>...</td>\n",
       "      <td>...</td>\n",
       "      <td>...</td>\n",
       "      <td>...</td>\n",
       "      <td>...</td>\n",
       "      <td>...</td>\n",
       "      <td>...</td>\n",
       "      <td>...</td>\n",
       "      <td>...</td>\n",
       "      <td>...</td>\n",
       "      <td>...</td>\n",
       "      <td>...</td>\n",
       "    </tr>\n",
       "    <tr>\n",
       "      <th>886</th>\n",
       "      <td>887</td>\n",
       "      <td>0</td>\n",
       "      <td>2</td>\n",
       "      <td>Montvila, Rev. Juozas</td>\n",
       "      <td>male</td>\n",
       "      <td>27.0</td>\n",
       "      <td>0</td>\n",
       "      <td>0</td>\n",
       "      <td>211536</td>\n",
       "      <td>13.0000</td>\n",
       "      <td>NaN</td>\n",
       "      <td>S</td>\n",
       "    </tr>\n",
       "    <tr>\n",
       "      <th>887</th>\n",
       "      <td>888</td>\n",
       "      <td>1</td>\n",
       "      <td>1</td>\n",
       "      <td>Graham, Miss. Margaret Edith</td>\n",
       "      <td>female</td>\n",
       "      <td>19.0</td>\n",
       "      <td>0</td>\n",
       "      <td>0</td>\n",
       "      <td>112053</td>\n",
       "      <td>30.0000</td>\n",
       "      <td>B42</td>\n",
       "      <td>S</td>\n",
       "    </tr>\n",
       "    <tr>\n",
       "      <th>888</th>\n",
       "      <td>889</td>\n",
       "      <td>0</td>\n",
       "      <td>3</td>\n",
       "      <td>Johnston, Miss. Catherine Helen \"Carrie\"</td>\n",
       "      <td>female</td>\n",
       "      <td>NaN</td>\n",
       "      <td>1</td>\n",
       "      <td>2</td>\n",
       "      <td>W./C. 6607</td>\n",
       "      <td>23.4500</td>\n",
       "      <td>NaN</td>\n",
       "      <td>S</td>\n",
       "    </tr>\n",
       "    <tr>\n",
       "      <th>889</th>\n",
       "      <td>890</td>\n",
       "      <td>1</td>\n",
       "      <td>1</td>\n",
       "      <td>Behr, Mr. Karl Howell</td>\n",
       "      <td>male</td>\n",
       "      <td>26.0</td>\n",
       "      <td>0</td>\n",
       "      <td>0</td>\n",
       "      <td>111369</td>\n",
       "      <td>30.0000</td>\n",
       "      <td>C148</td>\n",
       "      <td>C</td>\n",
       "    </tr>\n",
       "    <tr>\n",
       "      <th>890</th>\n",
       "      <td>891</td>\n",
       "      <td>0</td>\n",
       "      <td>3</td>\n",
       "      <td>Dooley, Mr. Patrick</td>\n",
       "      <td>male</td>\n",
       "      <td>32.0</td>\n",
       "      <td>0</td>\n",
       "      <td>0</td>\n",
       "      <td>370376</td>\n",
       "      <td>7.7500</td>\n",
       "      <td>NaN</td>\n",
       "      <td>Q</td>\n",
       "    </tr>\n",
       "  </tbody>\n",
       "</table>\n",
       "<p>891 rows × 12 columns</p>\n",
       "</div>"
      ],
      "text/plain": [
       "     PassengerId  Survived  Pclass  \\\n",
       "0              1         0       3   \n",
       "1              2         1       1   \n",
       "2              3         1       3   \n",
       "3              4         1       1   \n",
       "4              5         0       3   \n",
       "..           ...       ...     ...   \n",
       "886          887         0       2   \n",
       "887          888         1       1   \n",
       "888          889         0       3   \n",
       "889          890         1       1   \n",
       "890          891         0       3   \n",
       "\n",
       "                                                  Name     Sex   Age  SibSp  \\\n",
       "0                              Braund, Mr. Owen Harris    male  22.0      1   \n",
       "1    Cumings, Mrs. John Bradley (Florence Briggs Th...  female  38.0      1   \n",
       "2                               Heikkinen, Miss. Laina  female  26.0      0   \n",
       "3         Futrelle, Mrs. Jacques Heath (Lily May Peel)  female  35.0      1   \n",
       "4                             Allen, Mr. William Henry    male  35.0      0   \n",
       "..                                                 ...     ...   ...    ...   \n",
       "886                              Montvila, Rev. Juozas    male  27.0      0   \n",
       "887                       Graham, Miss. Margaret Edith  female  19.0      0   \n",
       "888           Johnston, Miss. Catherine Helen \"Carrie\"  female   NaN      1   \n",
       "889                              Behr, Mr. Karl Howell    male  26.0      0   \n",
       "890                                Dooley, Mr. Patrick    male  32.0      0   \n",
       "\n",
       "     Parch            Ticket     Fare Cabin Embarked  \n",
       "0        0         A/5 21171   7.2500   NaN        S  \n",
       "1        0          PC 17599  71.2833   C85        C  \n",
       "2        0  STON/O2. 3101282   7.9250   NaN        S  \n",
       "3        0            113803  53.1000  C123        S  \n",
       "4        0            373450   8.0500   NaN        S  \n",
       "..     ...               ...      ...   ...      ...  \n",
       "886      0            211536  13.0000   NaN        S  \n",
       "887      0            112053  30.0000   B42        S  \n",
       "888      2        W./C. 6607  23.4500   NaN        S  \n",
       "889      0            111369  30.0000  C148        C  \n",
       "890      0            370376   7.7500   NaN        Q  \n",
       "\n",
       "[891 rows x 12 columns]"
      ]
     },
     "execution_count": 270,
     "metadata": {},
     "output_type": "execute_result"
    }
   ],
   "source": [
    "#loading the data\n",
    "titanic=pd.read_csv(\"Titanic Data.csv\")\n",
    "titanic"
   ]
  },
  {
   "cell_type": "code",
   "execution_count": 271,
   "metadata": {},
   "outputs": [
    {
     "name": "stdout",
     "output_type": "stream",
     "text": [
      "<class 'pandas.core.frame.DataFrame'>\n",
      "RangeIndex: 891 entries, 0 to 890\n",
      "Data columns (total 12 columns):\n",
      " #   Column       Non-Null Count  Dtype  \n",
      "---  ------       --------------  -----  \n",
      " 0   PassengerId  891 non-null    int64  \n",
      " 1   Survived     891 non-null    int64  \n",
      " 2   Pclass       891 non-null    int64  \n",
      " 3   Name         891 non-null    object \n",
      " 4   Sex          891 non-null    object \n",
      " 5   Age          714 non-null    float64\n",
      " 6   SibSp        891 non-null    int64  \n",
      " 7   Parch        891 non-null    int64  \n",
      " 8   Ticket       891 non-null    object \n",
      " 9   Fare         891 non-null    float64\n",
      " 10  Cabin        204 non-null    object \n",
      " 11  Embarked     889 non-null    object \n",
      "dtypes: float64(2), int64(5), object(5)\n",
      "memory usage: 83.7+ KB\n"
     ]
    }
   ],
   "source": [
    "#understanding the data\n",
    "titanic.info()\n"
   ]
  },
  {
   "cell_type": "code",
   "execution_count": 272,
   "metadata": {},
   "outputs": [
    {
     "data": {
      "text/plain": [
       "PassengerId      int64\n",
       "Survived         int64\n",
       "Pclass           int64\n",
       "Name            object\n",
       "Sex             object\n",
       "Age            float64\n",
       "SibSp            int64\n",
       "Parch            int64\n",
       "Ticket          object\n",
       "Fare           float64\n",
       "Cabin           object\n",
       "Embarked        object\n",
       "dtype: object"
      ]
     },
     "execution_count": 272,
     "metadata": {},
     "output_type": "execute_result"
    }
   ],
   "source": [
    "titanic.dtypes"
   ]
  },
  {
   "cell_type": "code",
   "execution_count": 273,
   "metadata": {},
   "outputs": [
    {
     "data": {
      "text/plain": [
       "(891, 12)"
      ]
     },
     "execution_count": 273,
     "metadata": {},
     "output_type": "execute_result"
    }
   ],
   "source": [
    "titanic.shape"
   ]
  },
  {
   "cell_type": "code",
   "execution_count": 274,
   "metadata": {},
   "outputs": [
    {
     "data": {
      "text/plain": [
       "PassengerId      0\n",
       "Survived         0\n",
       "Pclass           0\n",
       "Name             0\n",
       "Sex              0\n",
       "Age            177\n",
       "SibSp            0\n",
       "Parch            0\n",
       "Ticket           0\n",
       "Fare             0\n",
       "Cabin          687\n",
       "Embarked         2\n",
       "dtype: int64"
      ]
     },
     "execution_count": 274,
     "metadata": {},
     "output_type": "execute_result"
    }
   ],
   "source": [
    "# is there missing values?\n",
    "titanic.isnull().sum()"
   ]
  },
  {
   "cell_type": "code",
   "execution_count": 275,
   "metadata": {},
   "outputs": [
    {
     "data": {
      "text/plain": [
       "Index(['PassengerId', 'Survived', 'Pclass', 'Name', 'Sex', 'Age', 'SibSp',\n",
       "       'Parch', 'Ticket', 'Fare', 'Cabin', 'Embarked'],\n",
       "      dtype='object')"
      ]
     },
     "execution_count": 275,
     "metadata": {},
     "output_type": "execute_result"
    }
   ],
   "source": [
    "titanic.columns"
   ]
  },
  {
   "cell_type": "code",
   "execution_count": 276,
   "metadata": {},
   "outputs": [
    {
     "data": {
      "text/plain": [
       "29.69911764705882"
      ]
     },
     "execution_count": 276,
     "metadata": {},
     "output_type": "execute_result"
    }
   ],
   "source": [
    "# age has some missing values, find the mean \n",
    "titanic[\"Age\"].mean()"
   ]
  },
  {
   "cell_type": "code",
   "execution_count": 277,
   "metadata": {},
   "outputs": [
    {
     "data": {
      "text/plain": [
       "24.00    30\n",
       "22.00    27\n",
       "18.00    26\n",
       "19.00    25\n",
       "30.00    25\n",
       "         ..\n",
       "55.50     1\n",
       "70.50     1\n",
       "66.00     1\n",
       "23.50     1\n",
       "0.42      1\n",
       "Name: Age, Length: 88, dtype: int64"
      ]
     },
     "execution_count": 277,
     "metadata": {},
     "output_type": "execute_result"
    }
   ],
   "source": [
    "#replace the mean of age into  empty spaces\n",
    "titanic[\"Age\"].value_counts()"
   ]
  },
  {
   "cell_type": "code",
   "execution_count": 278,
   "metadata": {},
   "outputs": [
    {
     "data": {
      "text/html": [
       "<div>\n",
       "<style scoped>\n",
       "    .dataframe tbody tr th:only-of-type {\n",
       "        vertical-align: middle;\n",
       "    }\n",
       "\n",
       "    .dataframe tbody tr th {\n",
       "        vertical-align: top;\n",
       "    }\n",
       "\n",
       "    .dataframe thead th {\n",
       "        text-align: right;\n",
       "    }\n",
       "</style>\n",
       "<table border=\"1\" class=\"dataframe\">\n",
       "  <thead>\n",
       "    <tr style=\"text-align: right;\">\n",
       "      <th></th>\n",
       "      <th>PassengerId</th>\n",
       "      <th>Survived</th>\n",
       "      <th>Pclass</th>\n",
       "      <th>Name</th>\n",
       "      <th>Sex</th>\n",
       "      <th>Age</th>\n",
       "      <th>SibSp</th>\n",
       "      <th>Parch</th>\n",
       "      <th>Ticket</th>\n",
       "      <th>Fare</th>\n",
       "      <th>Cabin</th>\n",
       "      <th>Embarked</th>\n",
       "    </tr>\n",
       "  </thead>\n",
       "  <tbody>\n",
       "    <tr>\n",
       "      <th>0</th>\n",
       "      <td>1</td>\n",
       "      <td>0</td>\n",
       "      <td>3</td>\n",
       "      <td>Braund, Mr. Owen Harris</td>\n",
       "      <td>male</td>\n",
       "      <td>22.0</td>\n",
       "      <td>1</td>\n",
       "      <td>0</td>\n",
       "      <td>A/5 21171</td>\n",
       "      <td>7.2500</td>\n",
       "      <td>NaN</td>\n",
       "      <td>S</td>\n",
       "    </tr>\n",
       "    <tr>\n",
       "      <th>1</th>\n",
       "      <td>2</td>\n",
       "      <td>1</td>\n",
       "      <td>1</td>\n",
       "      <td>Cumings, Mrs. John Bradley (Florence Briggs Th...</td>\n",
       "      <td>female</td>\n",
       "      <td>38.0</td>\n",
       "      <td>1</td>\n",
       "      <td>0</td>\n",
       "      <td>PC 17599</td>\n",
       "      <td>71.2833</td>\n",
       "      <td>C85</td>\n",
       "      <td>C</td>\n",
       "    </tr>\n",
       "    <tr>\n",
       "      <th>2</th>\n",
       "      <td>3</td>\n",
       "      <td>1</td>\n",
       "      <td>3</td>\n",
       "      <td>Heikkinen, Miss. Laina</td>\n",
       "      <td>female</td>\n",
       "      <td>26.0</td>\n",
       "      <td>0</td>\n",
       "      <td>0</td>\n",
       "      <td>STON/O2. 3101282</td>\n",
       "      <td>7.9250</td>\n",
       "      <td>NaN</td>\n",
       "      <td>S</td>\n",
       "    </tr>\n",
       "    <tr>\n",
       "      <th>3</th>\n",
       "      <td>4</td>\n",
       "      <td>1</td>\n",
       "      <td>1</td>\n",
       "      <td>Futrelle, Mrs. Jacques Heath (Lily May Peel)</td>\n",
       "      <td>female</td>\n",
       "      <td>35.0</td>\n",
       "      <td>1</td>\n",
       "      <td>0</td>\n",
       "      <td>113803</td>\n",
       "      <td>53.1000</td>\n",
       "      <td>C123</td>\n",
       "      <td>S</td>\n",
       "    </tr>\n",
       "    <tr>\n",
       "      <th>4</th>\n",
       "      <td>5</td>\n",
       "      <td>0</td>\n",
       "      <td>3</td>\n",
       "      <td>Allen, Mr. William Henry</td>\n",
       "      <td>male</td>\n",
       "      <td>35.0</td>\n",
       "      <td>0</td>\n",
       "      <td>0</td>\n",
       "      <td>373450</td>\n",
       "      <td>8.0500</td>\n",
       "      <td>NaN</td>\n",
       "      <td>S</td>\n",
       "    </tr>\n",
       "    <tr>\n",
       "      <th>...</th>\n",
       "      <td>...</td>\n",
       "      <td>...</td>\n",
       "      <td>...</td>\n",
       "      <td>...</td>\n",
       "      <td>...</td>\n",
       "      <td>...</td>\n",
       "      <td>...</td>\n",
       "      <td>...</td>\n",
       "      <td>...</td>\n",
       "      <td>...</td>\n",
       "      <td>...</td>\n",
       "      <td>...</td>\n",
       "    </tr>\n",
       "    <tr>\n",
       "      <th>886</th>\n",
       "      <td>887</td>\n",
       "      <td>0</td>\n",
       "      <td>2</td>\n",
       "      <td>Montvila, Rev. Juozas</td>\n",
       "      <td>male</td>\n",
       "      <td>27.0</td>\n",
       "      <td>0</td>\n",
       "      <td>0</td>\n",
       "      <td>211536</td>\n",
       "      <td>13.0000</td>\n",
       "      <td>NaN</td>\n",
       "      <td>S</td>\n",
       "    </tr>\n",
       "    <tr>\n",
       "      <th>887</th>\n",
       "      <td>888</td>\n",
       "      <td>1</td>\n",
       "      <td>1</td>\n",
       "      <td>Graham, Miss. Margaret Edith</td>\n",
       "      <td>female</td>\n",
       "      <td>19.0</td>\n",
       "      <td>0</td>\n",
       "      <td>0</td>\n",
       "      <td>112053</td>\n",
       "      <td>30.0000</td>\n",
       "      <td>B42</td>\n",
       "      <td>S</td>\n",
       "    </tr>\n",
       "    <tr>\n",
       "      <th>888</th>\n",
       "      <td>889</td>\n",
       "      <td>0</td>\n",
       "      <td>3</td>\n",
       "      <td>Johnston, Miss. Catherine Helen \"Carrie\"</td>\n",
       "      <td>female</td>\n",
       "      <td>NaN</td>\n",
       "      <td>1</td>\n",
       "      <td>2</td>\n",
       "      <td>W./C. 6607</td>\n",
       "      <td>23.4500</td>\n",
       "      <td>NaN</td>\n",
       "      <td>S</td>\n",
       "    </tr>\n",
       "    <tr>\n",
       "      <th>889</th>\n",
       "      <td>890</td>\n",
       "      <td>1</td>\n",
       "      <td>1</td>\n",
       "      <td>Behr, Mr. Karl Howell</td>\n",
       "      <td>male</td>\n",
       "      <td>26.0</td>\n",
       "      <td>0</td>\n",
       "      <td>0</td>\n",
       "      <td>111369</td>\n",
       "      <td>30.0000</td>\n",
       "      <td>C148</td>\n",
       "      <td>C</td>\n",
       "    </tr>\n",
       "    <tr>\n",
       "      <th>890</th>\n",
       "      <td>891</td>\n",
       "      <td>0</td>\n",
       "      <td>3</td>\n",
       "      <td>Dooley, Mr. Patrick</td>\n",
       "      <td>male</td>\n",
       "      <td>32.0</td>\n",
       "      <td>0</td>\n",
       "      <td>0</td>\n",
       "      <td>370376</td>\n",
       "      <td>7.7500</td>\n",
       "      <td>NaN</td>\n",
       "      <td>Q</td>\n",
       "    </tr>\n",
       "  </tbody>\n",
       "</table>\n",
       "<p>891 rows × 12 columns</p>\n",
       "</div>"
      ],
      "text/plain": [
       "     PassengerId  Survived  Pclass  \\\n",
       "0              1         0       3   \n",
       "1              2         1       1   \n",
       "2              3         1       3   \n",
       "3              4         1       1   \n",
       "4              5         0       3   \n",
       "..           ...       ...     ...   \n",
       "886          887         0       2   \n",
       "887          888         1       1   \n",
       "888          889         0       3   \n",
       "889          890         1       1   \n",
       "890          891         0       3   \n",
       "\n",
       "                                                  Name     Sex   Age  SibSp  \\\n",
       "0                              Braund, Mr. Owen Harris    male  22.0      1   \n",
       "1    Cumings, Mrs. John Bradley (Florence Briggs Th...  female  38.0      1   \n",
       "2                               Heikkinen, Miss. Laina  female  26.0      0   \n",
       "3         Futrelle, Mrs. Jacques Heath (Lily May Peel)  female  35.0      1   \n",
       "4                             Allen, Mr. William Henry    male  35.0      0   \n",
       "..                                                 ...     ...   ...    ...   \n",
       "886                              Montvila, Rev. Juozas    male  27.0      0   \n",
       "887                       Graham, Miss. Margaret Edith  female  19.0      0   \n",
       "888           Johnston, Miss. Catherine Helen \"Carrie\"  female   NaN      1   \n",
       "889                              Behr, Mr. Karl Howell    male  26.0      0   \n",
       "890                                Dooley, Mr. Patrick    male  32.0      0   \n",
       "\n",
       "     Parch            Ticket     Fare Cabin Embarked  \n",
       "0        0         A/5 21171   7.2500   NaN        S  \n",
       "1        0          PC 17599  71.2833   C85        C  \n",
       "2        0  STON/O2. 3101282   7.9250   NaN        S  \n",
       "3        0            113803  53.1000  C123        S  \n",
       "4        0            373450   8.0500   NaN        S  \n",
       "..     ...               ...      ...   ...      ...  \n",
       "886      0            211536  13.0000   NaN        S  \n",
       "887      0            112053  30.0000   B42        S  \n",
       "888      2        W./C. 6607  23.4500   NaN        S  \n",
       "889      0            111369  30.0000  C148        C  \n",
       "890      0            370376   7.7500   NaN        Q  \n",
       "\n",
       "[891 rows x 12 columns]"
      ]
     },
     "execution_count": 278,
     "metadata": {},
     "output_type": "execute_result"
    }
   ],
   "source": [
    "#replace missing  age values  with the NaN\n",
    "titanic.Age.replace('', np.nan, inplace = True) \n",
    "titanic \n"
   ]
  },
  {
   "cell_type": "code",
   "execution_count": 279,
   "metadata": {},
   "outputs": [
    {
     "data": {
      "text/html": [
       "<div>\n",
       "<style scoped>\n",
       "    .dataframe tbody tr th:only-of-type {\n",
       "        vertical-align: middle;\n",
       "    }\n",
       "\n",
       "    .dataframe tbody tr th {\n",
       "        vertical-align: top;\n",
       "    }\n",
       "\n",
       "    .dataframe thead th {\n",
       "        text-align: right;\n",
       "    }\n",
       "</style>\n",
       "<table border=\"1\" class=\"dataframe\">\n",
       "  <thead>\n",
       "    <tr style=\"text-align: right;\">\n",
       "      <th></th>\n",
       "      <th>PassengerId</th>\n",
       "      <th>Survived</th>\n",
       "      <th>Pclass</th>\n",
       "      <th>Name</th>\n",
       "      <th>Sex</th>\n",
       "      <th>Age</th>\n",
       "      <th>SibSp</th>\n",
       "      <th>Parch</th>\n",
       "      <th>Ticket</th>\n",
       "      <th>Fare</th>\n",
       "      <th>Cabin</th>\n",
       "      <th>Embarked</th>\n",
       "    </tr>\n",
       "  </thead>\n",
       "  <tbody>\n",
       "    <tr>\n",
       "      <th>0</th>\n",
       "      <td>1</td>\n",
       "      <td>0</td>\n",
       "      <td>3</td>\n",
       "      <td>Braund, Mr. Owen Harris</td>\n",
       "      <td>male</td>\n",
       "      <td>22</td>\n",
       "      <td>1</td>\n",
       "      <td>0</td>\n",
       "      <td>A/5 21171</td>\n",
       "      <td>7.2500</td>\n",
       "      <td>NaN</td>\n",
       "      <td>S</td>\n",
       "    </tr>\n",
       "    <tr>\n",
       "      <th>1</th>\n",
       "      <td>2</td>\n",
       "      <td>1</td>\n",
       "      <td>1</td>\n",
       "      <td>Cumings, Mrs. John Bradley (Florence Briggs Th...</td>\n",
       "      <td>female</td>\n",
       "      <td>38</td>\n",
       "      <td>1</td>\n",
       "      <td>0</td>\n",
       "      <td>PC 17599</td>\n",
       "      <td>71.2833</td>\n",
       "      <td>C85</td>\n",
       "      <td>C</td>\n",
       "    </tr>\n",
       "    <tr>\n",
       "      <th>2</th>\n",
       "      <td>3</td>\n",
       "      <td>1</td>\n",
       "      <td>3</td>\n",
       "      <td>Heikkinen, Miss. Laina</td>\n",
       "      <td>female</td>\n",
       "      <td>26</td>\n",
       "      <td>0</td>\n",
       "      <td>0</td>\n",
       "      <td>STON/O2. 3101282</td>\n",
       "      <td>7.9250</td>\n",
       "      <td>NaN</td>\n",
       "      <td>S</td>\n",
       "    </tr>\n",
       "    <tr>\n",
       "      <th>3</th>\n",
       "      <td>4</td>\n",
       "      <td>1</td>\n",
       "      <td>1</td>\n",
       "      <td>Futrelle, Mrs. Jacques Heath (Lily May Peel)</td>\n",
       "      <td>female</td>\n",
       "      <td>35</td>\n",
       "      <td>1</td>\n",
       "      <td>0</td>\n",
       "      <td>113803</td>\n",
       "      <td>53.1000</td>\n",
       "      <td>C123</td>\n",
       "      <td>S</td>\n",
       "    </tr>\n",
       "    <tr>\n",
       "      <th>4</th>\n",
       "      <td>5</td>\n",
       "      <td>0</td>\n",
       "      <td>3</td>\n",
       "      <td>Allen, Mr. William Henry</td>\n",
       "      <td>male</td>\n",
       "      <td>35</td>\n",
       "      <td>0</td>\n",
       "      <td>0</td>\n",
       "      <td>373450</td>\n",
       "      <td>8.0500</td>\n",
       "      <td>NaN</td>\n",
       "      <td>S</td>\n",
       "    </tr>\n",
       "    <tr>\n",
       "      <th>...</th>\n",
       "      <td>...</td>\n",
       "      <td>...</td>\n",
       "      <td>...</td>\n",
       "      <td>...</td>\n",
       "      <td>...</td>\n",
       "      <td>...</td>\n",
       "      <td>...</td>\n",
       "      <td>...</td>\n",
       "      <td>...</td>\n",
       "      <td>...</td>\n",
       "      <td>...</td>\n",
       "      <td>...</td>\n",
       "    </tr>\n",
       "    <tr>\n",
       "      <th>886</th>\n",
       "      <td>887</td>\n",
       "      <td>0</td>\n",
       "      <td>2</td>\n",
       "      <td>Montvila, Rev. Juozas</td>\n",
       "      <td>male</td>\n",
       "      <td>27</td>\n",
       "      <td>0</td>\n",
       "      <td>0</td>\n",
       "      <td>211536</td>\n",
       "      <td>13.0000</td>\n",
       "      <td>NaN</td>\n",
       "      <td>S</td>\n",
       "    </tr>\n",
       "    <tr>\n",
       "      <th>887</th>\n",
       "      <td>888</td>\n",
       "      <td>1</td>\n",
       "      <td>1</td>\n",
       "      <td>Graham, Miss. Margaret Edith</td>\n",
       "      <td>female</td>\n",
       "      <td>19</td>\n",
       "      <td>0</td>\n",
       "      <td>0</td>\n",
       "      <td>112053</td>\n",
       "      <td>30.0000</td>\n",
       "      <td>B42</td>\n",
       "      <td>S</td>\n",
       "    </tr>\n",
       "    <tr>\n",
       "      <th>888</th>\n",
       "      <td>889</td>\n",
       "      <td>0</td>\n",
       "      <td>3</td>\n",
       "      <td>Johnston, Miss. Catherine Helen \"Carrie\"</td>\n",
       "      <td>female</td>\n",
       "      <td>29</td>\n",
       "      <td>1</td>\n",
       "      <td>2</td>\n",
       "      <td>W./C. 6607</td>\n",
       "      <td>23.4500</td>\n",
       "      <td>NaN</td>\n",
       "      <td>S</td>\n",
       "    </tr>\n",
       "    <tr>\n",
       "      <th>889</th>\n",
       "      <td>890</td>\n",
       "      <td>1</td>\n",
       "      <td>1</td>\n",
       "      <td>Behr, Mr. Karl Howell</td>\n",
       "      <td>male</td>\n",
       "      <td>26</td>\n",
       "      <td>0</td>\n",
       "      <td>0</td>\n",
       "      <td>111369</td>\n",
       "      <td>30.0000</td>\n",
       "      <td>C148</td>\n",
       "      <td>C</td>\n",
       "    </tr>\n",
       "    <tr>\n",
       "      <th>890</th>\n",
       "      <td>891</td>\n",
       "      <td>0</td>\n",
       "      <td>3</td>\n",
       "      <td>Dooley, Mr. Patrick</td>\n",
       "      <td>male</td>\n",
       "      <td>32</td>\n",
       "      <td>0</td>\n",
       "      <td>0</td>\n",
       "      <td>370376</td>\n",
       "      <td>7.7500</td>\n",
       "      <td>NaN</td>\n",
       "      <td>Q</td>\n",
       "    </tr>\n",
       "  </tbody>\n",
       "</table>\n",
       "<p>891 rows × 12 columns</p>\n",
       "</div>"
      ],
      "text/plain": [
       "     PassengerId  Survived  Pclass  \\\n",
       "0              1         0       3   \n",
       "1              2         1       1   \n",
       "2              3         1       3   \n",
       "3              4         1       1   \n",
       "4              5         0       3   \n",
       "..           ...       ...     ...   \n",
       "886          887         0       2   \n",
       "887          888         1       1   \n",
       "888          889         0       3   \n",
       "889          890         1       1   \n",
       "890          891         0       3   \n",
       "\n",
       "                                                  Name     Sex Age  SibSp  \\\n",
       "0                              Braund, Mr. Owen Harris    male  22      1   \n",
       "1    Cumings, Mrs. John Bradley (Florence Briggs Th...  female  38      1   \n",
       "2                               Heikkinen, Miss. Laina  female  26      0   \n",
       "3         Futrelle, Mrs. Jacques Heath (Lily May Peel)  female  35      1   \n",
       "4                             Allen, Mr. William Henry    male  35      0   \n",
       "..                                                 ...     ...  ..    ...   \n",
       "886                              Montvila, Rev. Juozas    male  27      0   \n",
       "887                       Graham, Miss. Margaret Edith  female  19      0   \n",
       "888           Johnston, Miss. Catherine Helen \"Carrie\"  female  29      1   \n",
       "889                              Behr, Mr. Karl Howell    male  26      0   \n",
       "890                                Dooley, Mr. Patrick    male  32      0   \n",
       "\n",
       "     Parch            Ticket     Fare Cabin Embarked  \n",
       "0        0         A/5 21171   7.2500   NaN        S  \n",
       "1        0          PC 17599  71.2833   C85        C  \n",
       "2        0  STON/O2. 3101282   7.9250   NaN        S  \n",
       "3        0            113803  53.1000  C123        S  \n",
       "4        0            373450   8.0500   NaN        S  \n",
       "..     ...               ...      ...   ...      ...  \n",
       "886      0            211536  13.0000   NaN        S  \n",
       "887      0            112053  30.0000   B42        S  \n",
       "888      2        W./C. 6607  23.4500   NaN        S  \n",
       "889      0            111369  30.0000  C148        C  \n",
       "890      0            370376   7.7500   NaN        Q  \n",
       "\n",
       "[891 rows x 12 columns]"
      ]
     },
     "execution_count": 279,
     "metadata": {},
     "output_type": "execute_result"
    }
   ],
   "source": [
    "#replace NaN in Age to mean\n",
    "titanic[\"Age\"].fillna(\"29\", inplace = True) \n",
    "  \n",
    "titanic "
   ]
  },
  {
   "cell_type": "raw",
   "metadata": {},
   "source": [
    "You have been provided with data from the Titanic Passenger Roaster, depicting if an individual survived the sinking of the ship or not. ‘Survived’ is denoted by (1) and ‘Did Not Survive’ is denoted by (0). Only using Plotly, graph the following information from the data. Feel free to use any of the Plotly submodules discussed (graph_objects, plotly express or iplot). Remember to label your axis and name your plots appropriately. For each given question, only one figure is expected.\n",
    "\n",
    "\n",
    "1. Show the age distribution in the data using a histogram"
   ]
  },
  {
   "cell_type": "code",
   "execution_count": 280,
   "metadata": {},
   "outputs": [
    {
     "data": {
      "application/vnd.plotly.v1+json": {
       "config": {
        "plotlyServerURL": "https://plot.ly"
       },
       "data": [
        {
         "alignmentgroup": "True",
         "bingroup": "x",
         "hovertemplate": "Age=%{x}<br>count=%{y}<extra></extra>",
         "legendgroup": "",
         "marker": {
          "color": "#636efa"
         },
         "name": "",
         "offsetgroup": "",
         "orientation": "v",
         "showlegend": false,
         "type": "histogram",
         "x": [
          22,
          38,
          26,
          35,
          35,
          "29",
          54,
          2,
          27,
          14,
          4,
          58,
          20,
          39,
          14,
          55,
          2,
          "29",
          31,
          "29",
          35,
          34,
          15,
          28,
          8,
          38,
          "29",
          19,
          "29",
          "29",
          40,
          "29",
          "29",
          66,
          28,
          42,
          "29",
          21,
          18,
          14,
          40,
          27,
          "29",
          3,
          19,
          "29",
          "29",
          "29",
          "29",
          18,
          7,
          21,
          49,
          29,
          65,
          "29",
          21,
          28.5,
          5,
          11,
          22,
          38,
          45,
          4,
          "29",
          "29",
          29,
          19,
          17,
          26,
          32,
          16,
          21,
          26,
          32,
          25,
          "29",
          "29",
          0.83,
          30,
          22,
          29,
          "29",
          28,
          17,
          33,
          16,
          "29",
          23,
          24,
          29,
          20,
          46,
          26,
          59,
          "29",
          71,
          23,
          34,
          34,
          28,
          "29",
          21,
          33,
          37,
          28,
          21,
          "29",
          38,
          "29",
          47,
          14.5,
          22,
          20,
          17,
          21,
          70.5,
          29,
          24,
          2,
          21,
          "29",
          32.5,
          32.5,
          54,
          12,
          "29",
          24,
          "29",
          45,
          33,
          20,
          47,
          29,
          25,
          23,
          19,
          37,
          16,
          24,
          "29",
          22,
          24,
          19,
          18,
          19,
          27,
          9,
          36.5,
          42,
          51,
          22,
          55.5,
          40.5,
          "29",
          51,
          16,
          30,
          "29",
          "29",
          44,
          40,
          26,
          17,
          1,
          9,
          "29",
          45,
          "29",
          28,
          61,
          4,
          1,
          21,
          56,
          18,
          "29",
          50,
          30,
          36,
          "29",
          "29",
          9,
          1,
          4,
          "29",
          "29",
          45,
          40,
          36,
          32,
          19,
          19,
          3,
          44,
          58,
          "29",
          42,
          "29",
          24,
          28,
          "29",
          34,
          45.5,
          18,
          2,
          32,
          26,
          16,
          40,
          24,
          35,
          22,
          30,
          "29",
          31,
          27,
          42,
          32,
          30,
          16,
          27,
          51,
          "29",
          38,
          22,
          19,
          20.5,
          18,
          "29",
          35,
          29,
          59,
          5,
          24,
          "29",
          44,
          8,
          19,
          33,
          "29",
          "29",
          29,
          22,
          30,
          44,
          25,
          24,
          37,
          54,
          "29",
          29,
          62,
          30,
          41,
          29,
          "29",
          30,
          35,
          50,
          "29",
          3,
          52,
          40,
          "29",
          36,
          16,
          25,
          58,
          35,
          "29",
          25,
          41,
          37,
          "29",
          63,
          45,
          "29",
          7,
          35,
          65,
          28,
          16,
          19,
          "29",
          33,
          30,
          22,
          42,
          22,
          26,
          19,
          36,
          24,
          24,
          "29",
          23.5,
          2,
          "29",
          50,
          "29",
          "29",
          19,
          "29",
          "29",
          0.92,
          "29",
          17,
          30,
          30,
          24,
          18,
          26,
          28,
          43,
          26,
          24,
          54,
          31,
          40,
          22,
          27,
          30,
          22,
          "29",
          36,
          61,
          36,
          31,
          16,
          "29",
          45.5,
          38,
          16,
          "29",
          "29",
          29,
          41,
          45,
          45,
          2,
          24,
          28,
          25,
          36,
          24,
          40,
          "29",
          3,
          42,
          23,
          "29",
          15,
          25,
          "29",
          28,
          22,
          38,
          "29",
          "29",
          40,
          29,
          45,
          35,
          "29",
          30,
          60,
          "29",
          "29",
          24,
          25,
          18,
          19,
          22,
          3,
          "29",
          22,
          27,
          20,
          19,
          42,
          1,
          32,
          35,
          "29",
          18,
          1,
          36,
          "29",
          17,
          36,
          21,
          28,
          23,
          24,
          22,
          31,
          46,
          23,
          28,
          39,
          26,
          21,
          28,
          20,
          34,
          51,
          3,
          21,
          "29",
          "29",
          "29",
          33,
          "29",
          44,
          "29",
          34,
          18,
          30,
          10,
          "29",
          21,
          29,
          28,
          18,
          "29",
          28,
          19,
          "29",
          32,
          28,
          "29",
          42,
          17,
          50,
          14,
          21,
          24,
          64,
          31,
          45,
          20,
          25,
          28,
          "29",
          4,
          13,
          34,
          5,
          52,
          36,
          "29",
          30,
          49,
          "29",
          29,
          65,
          "29",
          50,
          "29",
          48,
          34,
          47,
          48,
          "29",
          38,
          "29",
          56,
          "29",
          0.75,
          "29",
          38,
          33,
          23,
          22,
          "29",
          34,
          29,
          22,
          2,
          9,
          "29",
          50,
          63,
          25,
          "29",
          35,
          58,
          30,
          9,
          "29",
          21,
          55,
          71,
          21,
          "29",
          54,
          "29",
          25,
          24,
          17,
          21,
          "29",
          37,
          16,
          18,
          33,
          "29",
          28,
          26,
          29,
          "29",
          36,
          54,
          24,
          47,
          34,
          "29",
          36,
          32,
          30,
          22,
          "29",
          44,
          "29",
          40.5,
          50,
          "29",
          39,
          23,
          2,
          "29",
          17,
          "29",
          30,
          7,
          45,
          30,
          "29",
          22,
          36,
          9,
          11,
          32,
          50,
          64,
          19,
          "29",
          33,
          8,
          17,
          27,
          "29",
          22,
          22,
          62,
          48,
          "29",
          39,
          36,
          "29",
          40,
          28,
          "29",
          "29",
          24,
          19,
          29,
          "29",
          32,
          62,
          53,
          36,
          "29",
          16,
          19,
          34,
          39,
          "29",
          32,
          25,
          39,
          54,
          36,
          "29",
          18,
          47,
          60,
          22,
          "29",
          35,
          52,
          47,
          "29",
          37,
          36,
          "29",
          49,
          "29",
          49,
          24,
          "29",
          "29",
          44,
          35,
          36,
          30,
          27,
          22,
          40,
          39,
          "29",
          "29",
          "29",
          35,
          24,
          34,
          26,
          4,
          26,
          27,
          42,
          20,
          21,
          21,
          61,
          57,
          21,
          26,
          "29",
          80,
          51,
          32,
          "29",
          9,
          28,
          32,
          31,
          41,
          "29",
          20,
          24,
          2,
          "29",
          0.75,
          48,
          19,
          56,
          "29",
          23,
          "29",
          18,
          21,
          "29",
          18,
          24,
          "29",
          32,
          23,
          58,
          50,
          40,
          47,
          36,
          20,
          32,
          25,
          "29",
          43,
          "29",
          40,
          31,
          70,
          31,
          "29",
          18,
          24.5,
          18,
          43,
          36,
          "29",
          27,
          20,
          14,
          60,
          25,
          14,
          19,
          18,
          15,
          31,
          4,
          "29",
          25,
          60,
          52,
          44,
          "29",
          49,
          42,
          18,
          35,
          18,
          25,
          26,
          39,
          45,
          42,
          22,
          "29",
          24,
          "29",
          48,
          29,
          52,
          19,
          38,
          27,
          "29",
          33,
          6,
          17,
          34,
          50,
          27,
          20,
          30,
          "29",
          25,
          25,
          29,
          11,
          "29",
          23,
          23,
          28.5,
          48,
          35,
          "29",
          "29",
          "29",
          36,
          21,
          24,
          31,
          70,
          16,
          30,
          19,
          31,
          4,
          6,
          33,
          23,
          48,
          0.67,
          28,
          18,
          34,
          33,
          "29",
          41,
          20,
          36,
          16,
          51,
          "29",
          30.5,
          "29",
          32,
          24,
          48,
          57,
          "29",
          54,
          18,
          "29",
          5,
          "29",
          43,
          13,
          17,
          29,
          "29",
          25,
          25,
          18,
          8,
          1,
          46,
          "29",
          16,
          "29",
          "29",
          25,
          39,
          49,
          31,
          30,
          30,
          34,
          31,
          11,
          0.42,
          27,
          31,
          39,
          18,
          39,
          33,
          26,
          39,
          35,
          6,
          30.5,
          "29",
          23,
          31,
          43,
          10,
          52,
          27,
          38,
          27,
          2,
          "29",
          "29",
          1,
          "29",
          62,
          15,
          0.83,
          "29",
          23,
          18,
          39,
          21,
          "29",
          32,
          "29",
          20,
          16,
          30,
          34.5,
          17,
          42,
          "29",
          35,
          28,
          "29",
          4,
          74,
          9,
          16,
          44,
          18,
          45,
          51,
          24,
          "29",
          41,
          21,
          48,
          "29",
          24,
          42,
          27,
          31,
          "29",
          4,
          26,
          47,
          33,
          47,
          28,
          15,
          20,
          19,
          "29",
          56,
          25,
          33,
          22,
          28,
          25,
          39,
          27,
          19,
          "29",
          26,
          32
         ],
         "xaxis": "x",
         "yaxis": "y"
        }
       ],
       "layout": {
        "barmode": "relative",
        "height": 500,
        "legend": {
         "tracegroupgap": 0
        },
        "template": {
         "data": {
          "bar": [
           {
            "error_x": {
             "color": "#2a3f5f"
            },
            "error_y": {
             "color": "#2a3f5f"
            },
            "marker": {
             "line": {
              "color": "#E5ECF6",
              "width": 0.5
             }
            },
            "type": "bar"
           }
          ],
          "barpolar": [
           {
            "marker": {
             "line": {
              "color": "#E5ECF6",
              "width": 0.5
             }
            },
            "type": "barpolar"
           }
          ],
          "carpet": [
           {
            "aaxis": {
             "endlinecolor": "#2a3f5f",
             "gridcolor": "white",
             "linecolor": "white",
             "minorgridcolor": "white",
             "startlinecolor": "#2a3f5f"
            },
            "baxis": {
             "endlinecolor": "#2a3f5f",
             "gridcolor": "white",
             "linecolor": "white",
             "minorgridcolor": "white",
             "startlinecolor": "#2a3f5f"
            },
            "type": "carpet"
           }
          ],
          "choropleth": [
           {
            "colorbar": {
             "outlinewidth": 0,
             "ticks": ""
            },
            "type": "choropleth"
           }
          ],
          "contour": [
           {
            "colorbar": {
             "outlinewidth": 0,
             "ticks": ""
            },
            "colorscale": [
             [
              0,
              "#0d0887"
             ],
             [
              0.1111111111111111,
              "#46039f"
             ],
             [
              0.2222222222222222,
              "#7201a8"
             ],
             [
              0.3333333333333333,
              "#9c179e"
             ],
             [
              0.4444444444444444,
              "#bd3786"
             ],
             [
              0.5555555555555556,
              "#d8576b"
             ],
             [
              0.6666666666666666,
              "#ed7953"
             ],
             [
              0.7777777777777778,
              "#fb9f3a"
             ],
             [
              0.8888888888888888,
              "#fdca26"
             ],
             [
              1,
              "#f0f921"
             ]
            ],
            "type": "contour"
           }
          ],
          "contourcarpet": [
           {
            "colorbar": {
             "outlinewidth": 0,
             "ticks": ""
            },
            "type": "contourcarpet"
           }
          ],
          "heatmap": [
           {
            "colorbar": {
             "outlinewidth": 0,
             "ticks": ""
            },
            "colorscale": [
             [
              0,
              "#0d0887"
             ],
             [
              0.1111111111111111,
              "#46039f"
             ],
             [
              0.2222222222222222,
              "#7201a8"
             ],
             [
              0.3333333333333333,
              "#9c179e"
             ],
             [
              0.4444444444444444,
              "#bd3786"
             ],
             [
              0.5555555555555556,
              "#d8576b"
             ],
             [
              0.6666666666666666,
              "#ed7953"
             ],
             [
              0.7777777777777778,
              "#fb9f3a"
             ],
             [
              0.8888888888888888,
              "#fdca26"
             ],
             [
              1,
              "#f0f921"
             ]
            ],
            "type": "heatmap"
           }
          ],
          "heatmapgl": [
           {
            "colorbar": {
             "outlinewidth": 0,
             "ticks": ""
            },
            "colorscale": [
             [
              0,
              "#0d0887"
             ],
             [
              0.1111111111111111,
              "#46039f"
             ],
             [
              0.2222222222222222,
              "#7201a8"
             ],
             [
              0.3333333333333333,
              "#9c179e"
             ],
             [
              0.4444444444444444,
              "#bd3786"
             ],
             [
              0.5555555555555556,
              "#d8576b"
             ],
             [
              0.6666666666666666,
              "#ed7953"
             ],
             [
              0.7777777777777778,
              "#fb9f3a"
             ],
             [
              0.8888888888888888,
              "#fdca26"
             ],
             [
              1,
              "#f0f921"
             ]
            ],
            "type": "heatmapgl"
           }
          ],
          "histogram": [
           {
            "marker": {
             "colorbar": {
              "outlinewidth": 0,
              "ticks": ""
             }
            },
            "type": "histogram"
           }
          ],
          "histogram2d": [
           {
            "colorbar": {
             "outlinewidth": 0,
             "ticks": ""
            },
            "colorscale": [
             [
              0,
              "#0d0887"
             ],
             [
              0.1111111111111111,
              "#46039f"
             ],
             [
              0.2222222222222222,
              "#7201a8"
             ],
             [
              0.3333333333333333,
              "#9c179e"
             ],
             [
              0.4444444444444444,
              "#bd3786"
             ],
             [
              0.5555555555555556,
              "#d8576b"
             ],
             [
              0.6666666666666666,
              "#ed7953"
             ],
             [
              0.7777777777777778,
              "#fb9f3a"
             ],
             [
              0.8888888888888888,
              "#fdca26"
             ],
             [
              1,
              "#f0f921"
             ]
            ],
            "type": "histogram2d"
           }
          ],
          "histogram2dcontour": [
           {
            "colorbar": {
             "outlinewidth": 0,
             "ticks": ""
            },
            "colorscale": [
             [
              0,
              "#0d0887"
             ],
             [
              0.1111111111111111,
              "#46039f"
             ],
             [
              0.2222222222222222,
              "#7201a8"
             ],
             [
              0.3333333333333333,
              "#9c179e"
             ],
             [
              0.4444444444444444,
              "#bd3786"
             ],
             [
              0.5555555555555556,
              "#d8576b"
             ],
             [
              0.6666666666666666,
              "#ed7953"
             ],
             [
              0.7777777777777778,
              "#fb9f3a"
             ],
             [
              0.8888888888888888,
              "#fdca26"
             ],
             [
              1,
              "#f0f921"
             ]
            ],
            "type": "histogram2dcontour"
           }
          ],
          "mesh3d": [
           {
            "colorbar": {
             "outlinewidth": 0,
             "ticks": ""
            },
            "type": "mesh3d"
           }
          ],
          "parcoords": [
           {
            "line": {
             "colorbar": {
              "outlinewidth": 0,
              "ticks": ""
             }
            },
            "type": "parcoords"
           }
          ],
          "pie": [
           {
            "automargin": true,
            "type": "pie"
           }
          ],
          "scatter": [
           {
            "marker": {
             "colorbar": {
              "outlinewidth": 0,
              "ticks": ""
             }
            },
            "type": "scatter"
           }
          ],
          "scatter3d": [
           {
            "line": {
             "colorbar": {
              "outlinewidth": 0,
              "ticks": ""
             }
            },
            "marker": {
             "colorbar": {
              "outlinewidth": 0,
              "ticks": ""
             }
            },
            "type": "scatter3d"
           }
          ],
          "scattercarpet": [
           {
            "marker": {
             "colorbar": {
              "outlinewidth": 0,
              "ticks": ""
             }
            },
            "type": "scattercarpet"
           }
          ],
          "scattergeo": [
           {
            "marker": {
             "colorbar": {
              "outlinewidth": 0,
              "ticks": ""
             }
            },
            "type": "scattergeo"
           }
          ],
          "scattergl": [
           {
            "marker": {
             "colorbar": {
              "outlinewidth": 0,
              "ticks": ""
             }
            },
            "type": "scattergl"
           }
          ],
          "scattermapbox": [
           {
            "marker": {
             "colorbar": {
              "outlinewidth": 0,
              "ticks": ""
             }
            },
            "type": "scattermapbox"
           }
          ],
          "scatterpolar": [
           {
            "marker": {
             "colorbar": {
              "outlinewidth": 0,
              "ticks": ""
             }
            },
            "type": "scatterpolar"
           }
          ],
          "scatterpolargl": [
           {
            "marker": {
             "colorbar": {
              "outlinewidth": 0,
              "ticks": ""
             }
            },
            "type": "scatterpolargl"
           }
          ],
          "scatterternary": [
           {
            "marker": {
             "colorbar": {
              "outlinewidth": 0,
              "ticks": ""
             }
            },
            "type": "scatterternary"
           }
          ],
          "surface": [
           {
            "colorbar": {
             "outlinewidth": 0,
             "ticks": ""
            },
            "colorscale": [
             [
              0,
              "#0d0887"
             ],
             [
              0.1111111111111111,
              "#46039f"
             ],
             [
              0.2222222222222222,
              "#7201a8"
             ],
             [
              0.3333333333333333,
              "#9c179e"
             ],
             [
              0.4444444444444444,
              "#bd3786"
             ],
             [
              0.5555555555555556,
              "#d8576b"
             ],
             [
              0.6666666666666666,
              "#ed7953"
             ],
             [
              0.7777777777777778,
              "#fb9f3a"
             ],
             [
              0.8888888888888888,
              "#fdca26"
             ],
             [
              1,
              "#f0f921"
             ]
            ],
            "type": "surface"
           }
          ],
          "table": [
           {
            "cells": {
             "fill": {
              "color": "#EBF0F8"
             },
             "line": {
              "color": "white"
             }
            },
            "header": {
             "fill": {
              "color": "#C8D4E3"
             },
             "line": {
              "color": "white"
             }
            },
            "type": "table"
           }
          ]
         },
         "layout": {
          "annotationdefaults": {
           "arrowcolor": "#2a3f5f",
           "arrowhead": 0,
           "arrowwidth": 1
          },
          "coloraxis": {
           "colorbar": {
            "outlinewidth": 0,
            "ticks": ""
           }
          },
          "colorscale": {
           "diverging": [
            [
             0,
             "#8e0152"
            ],
            [
             0.1,
             "#c51b7d"
            ],
            [
             0.2,
             "#de77ae"
            ],
            [
             0.3,
             "#f1b6da"
            ],
            [
             0.4,
             "#fde0ef"
            ],
            [
             0.5,
             "#f7f7f7"
            ],
            [
             0.6,
             "#e6f5d0"
            ],
            [
             0.7,
             "#b8e186"
            ],
            [
             0.8,
             "#7fbc41"
            ],
            [
             0.9,
             "#4d9221"
            ],
            [
             1,
             "#276419"
            ]
           ],
           "sequential": [
            [
             0,
             "#0d0887"
            ],
            [
             0.1111111111111111,
             "#46039f"
            ],
            [
             0.2222222222222222,
             "#7201a8"
            ],
            [
             0.3333333333333333,
             "#9c179e"
            ],
            [
             0.4444444444444444,
             "#bd3786"
            ],
            [
             0.5555555555555556,
             "#d8576b"
            ],
            [
             0.6666666666666666,
             "#ed7953"
            ],
            [
             0.7777777777777778,
             "#fb9f3a"
            ],
            [
             0.8888888888888888,
             "#fdca26"
            ],
            [
             1,
             "#f0f921"
            ]
           ],
           "sequentialminus": [
            [
             0,
             "#0d0887"
            ],
            [
             0.1111111111111111,
             "#46039f"
            ],
            [
             0.2222222222222222,
             "#7201a8"
            ],
            [
             0.3333333333333333,
             "#9c179e"
            ],
            [
             0.4444444444444444,
             "#bd3786"
            ],
            [
             0.5555555555555556,
             "#d8576b"
            ],
            [
             0.6666666666666666,
             "#ed7953"
            ],
            [
             0.7777777777777778,
             "#fb9f3a"
            ],
            [
             0.8888888888888888,
             "#fdca26"
            ],
            [
             1,
             "#f0f921"
            ]
           ]
          },
          "colorway": [
           "#636efa",
           "#EF553B",
           "#00cc96",
           "#ab63fa",
           "#FFA15A",
           "#19d3f3",
           "#FF6692",
           "#B6E880",
           "#FF97FF",
           "#FECB52"
          ],
          "font": {
           "color": "#2a3f5f"
          },
          "geo": {
           "bgcolor": "white",
           "lakecolor": "white",
           "landcolor": "#E5ECF6",
           "showlakes": true,
           "showland": true,
           "subunitcolor": "white"
          },
          "hoverlabel": {
           "align": "left"
          },
          "hovermode": "closest",
          "mapbox": {
           "style": "light"
          },
          "paper_bgcolor": "white",
          "plot_bgcolor": "#E5ECF6",
          "polar": {
           "angularaxis": {
            "gridcolor": "white",
            "linecolor": "white",
            "ticks": ""
           },
           "bgcolor": "#E5ECF6",
           "radialaxis": {
            "gridcolor": "white",
            "linecolor": "white",
            "ticks": ""
           }
          },
          "scene": {
           "xaxis": {
            "backgroundcolor": "#E5ECF6",
            "gridcolor": "white",
            "gridwidth": 2,
            "linecolor": "white",
            "showbackground": true,
            "ticks": "",
            "zerolinecolor": "white"
           },
           "yaxis": {
            "backgroundcolor": "#E5ECF6",
            "gridcolor": "white",
            "gridwidth": 2,
            "linecolor": "white",
            "showbackground": true,
            "ticks": "",
            "zerolinecolor": "white"
           },
           "zaxis": {
            "backgroundcolor": "#E5ECF6",
            "gridcolor": "white",
            "gridwidth": 2,
            "linecolor": "white",
            "showbackground": true,
            "ticks": "",
            "zerolinecolor": "white"
           }
          },
          "shapedefaults": {
           "line": {
            "color": "#2a3f5f"
           }
          },
          "ternary": {
           "aaxis": {
            "gridcolor": "white",
            "linecolor": "white",
            "ticks": ""
           },
           "baxis": {
            "gridcolor": "white",
            "linecolor": "white",
            "ticks": ""
           },
           "bgcolor": "#E5ECF6",
           "caxis": {
            "gridcolor": "white",
            "linecolor": "white",
            "ticks": ""
           }
          },
          "title": {
           "x": 0.05
          },
          "xaxis": {
           "automargin": true,
           "gridcolor": "white",
           "linecolor": "white",
           "ticks": "",
           "title": {
            "standoff": 15
           },
           "zerolinecolor": "white",
           "zerolinewidth": 2
          },
          "yaxis": {
           "automargin": true,
           "gridcolor": "white",
           "linecolor": "white",
           "ticks": "",
           "title": {
            "standoff": 15
           },
           "zerolinecolor": "white",
           "zerolinewidth": 2
          }
         }
        },
        "title": {
         "text": "Histogram of Age"
        },
        "width": 800,
        "xaxis": {
         "anchor": "y",
         "domain": [
          0,
          1
         ],
         "title": {
          "text": "Age"
         }
        },
        "yaxis": {
         "anchor": "x",
         "domain": [
          0,
          1
         ],
         "title": {
          "text": "count"
         }
        }
       }
      },
      "text/html": [
       "<div>                            <div id=\"f55a2741-d603-4b81-8ac7-4c7d03f02767\" class=\"plotly-graph-div\" style=\"height:500px; width:800px;\"></div>            <script type=\"text/javascript\">                require([\"plotly\"], function(Plotly) {                    window.PLOTLYENV=window.PLOTLYENV || {};                                    if (document.getElementById(\"f55a2741-d603-4b81-8ac7-4c7d03f02767\")) {                    Plotly.newPlot(                        \"f55a2741-d603-4b81-8ac7-4c7d03f02767\",                        [{\"alignmentgroup\": \"True\", \"bingroup\": \"x\", \"hovertemplate\": \"Age=%{x}<br>count=%{y}<extra></extra>\", \"legendgroup\": \"\", \"marker\": {\"color\": \"#636efa\"}, \"name\": \"\", \"offsetgroup\": \"\", \"orientation\": \"v\", \"showlegend\": false, \"type\": \"histogram\", \"x\": [22.0, 38.0, 26.0, 35.0, 35.0, \"29\", 54.0, 2.0, 27.0, 14.0, 4.0, 58.0, 20.0, 39.0, 14.0, 55.0, 2.0, \"29\", 31.0, \"29\", 35.0, 34.0, 15.0, 28.0, 8.0, 38.0, \"29\", 19.0, \"29\", \"29\", 40.0, \"29\", \"29\", 66.0, 28.0, 42.0, \"29\", 21.0, 18.0, 14.0, 40.0, 27.0, \"29\", 3.0, 19.0, \"29\", \"29\", \"29\", \"29\", 18.0, 7.0, 21.0, 49.0, 29.0, 65.0, \"29\", 21.0, 28.5, 5.0, 11.0, 22.0, 38.0, 45.0, 4.0, \"29\", \"29\", 29.0, 19.0, 17.0, 26.0, 32.0, 16.0, 21.0, 26.0, 32.0, 25.0, \"29\", \"29\", 0.83, 30.0, 22.0, 29.0, \"29\", 28.0, 17.0, 33.0, 16.0, \"29\", 23.0, 24.0, 29.0, 20.0, 46.0, 26.0, 59.0, \"29\", 71.0, 23.0, 34.0, 34.0, 28.0, \"29\", 21.0, 33.0, 37.0, 28.0, 21.0, \"29\", 38.0, \"29\", 47.0, 14.5, 22.0, 20.0, 17.0, 21.0, 70.5, 29.0, 24.0, 2.0, 21.0, \"29\", 32.5, 32.5, 54.0, 12.0, \"29\", 24.0, \"29\", 45.0, 33.0, 20.0, 47.0, 29.0, 25.0, 23.0, 19.0, 37.0, 16.0, 24.0, \"29\", 22.0, 24.0, 19.0, 18.0, 19.0, 27.0, 9.0, 36.5, 42.0, 51.0, 22.0, 55.5, 40.5, \"29\", 51.0, 16.0, 30.0, \"29\", \"29\", 44.0, 40.0, 26.0, 17.0, 1.0, 9.0, \"29\", 45.0, \"29\", 28.0, 61.0, 4.0, 1.0, 21.0, 56.0, 18.0, \"29\", 50.0, 30.0, 36.0, \"29\", \"29\", 9.0, 1.0, 4.0, \"29\", \"29\", 45.0, 40.0, 36.0, 32.0, 19.0, 19.0, 3.0, 44.0, 58.0, \"29\", 42.0, \"29\", 24.0, 28.0, \"29\", 34.0, 45.5, 18.0, 2.0, 32.0, 26.0, 16.0, 40.0, 24.0, 35.0, 22.0, 30.0, \"29\", 31.0, 27.0, 42.0, 32.0, 30.0, 16.0, 27.0, 51.0, \"29\", 38.0, 22.0, 19.0, 20.5, 18.0, \"29\", 35.0, 29.0, 59.0, 5.0, 24.0, \"29\", 44.0, 8.0, 19.0, 33.0, \"29\", \"29\", 29.0, 22.0, 30.0, 44.0, 25.0, 24.0, 37.0, 54.0, \"29\", 29.0, 62.0, 30.0, 41.0, 29.0, \"29\", 30.0, 35.0, 50.0, \"29\", 3.0, 52.0, 40.0, \"29\", 36.0, 16.0, 25.0, 58.0, 35.0, \"29\", 25.0, 41.0, 37.0, \"29\", 63.0, 45.0, \"29\", 7.0, 35.0, 65.0, 28.0, 16.0, 19.0, \"29\", 33.0, 30.0, 22.0, 42.0, 22.0, 26.0, 19.0, 36.0, 24.0, 24.0, \"29\", 23.5, 2.0, \"29\", 50.0, \"29\", \"29\", 19.0, \"29\", \"29\", 0.92, \"29\", 17.0, 30.0, 30.0, 24.0, 18.0, 26.0, 28.0, 43.0, 26.0, 24.0, 54.0, 31.0, 40.0, 22.0, 27.0, 30.0, 22.0, \"29\", 36.0, 61.0, 36.0, 31.0, 16.0, \"29\", 45.5, 38.0, 16.0, \"29\", \"29\", 29.0, 41.0, 45.0, 45.0, 2.0, 24.0, 28.0, 25.0, 36.0, 24.0, 40.0, \"29\", 3.0, 42.0, 23.0, \"29\", 15.0, 25.0, \"29\", 28.0, 22.0, 38.0, \"29\", \"29\", 40.0, 29.0, 45.0, 35.0, \"29\", 30.0, 60.0, \"29\", \"29\", 24.0, 25.0, 18.0, 19.0, 22.0, 3.0, \"29\", 22.0, 27.0, 20.0, 19.0, 42.0, 1.0, 32.0, 35.0, \"29\", 18.0, 1.0, 36.0, \"29\", 17.0, 36.0, 21.0, 28.0, 23.0, 24.0, 22.0, 31.0, 46.0, 23.0, 28.0, 39.0, 26.0, 21.0, 28.0, 20.0, 34.0, 51.0, 3.0, 21.0, \"29\", \"29\", \"29\", 33.0, \"29\", 44.0, \"29\", 34.0, 18.0, 30.0, 10.0, \"29\", 21.0, 29.0, 28.0, 18.0, \"29\", 28.0, 19.0, \"29\", 32.0, 28.0, \"29\", 42.0, 17.0, 50.0, 14.0, 21.0, 24.0, 64.0, 31.0, 45.0, 20.0, 25.0, 28.0, \"29\", 4.0, 13.0, 34.0, 5.0, 52.0, 36.0, \"29\", 30.0, 49.0, \"29\", 29.0, 65.0, \"29\", 50.0, \"29\", 48.0, 34.0, 47.0, 48.0, \"29\", 38.0, \"29\", 56.0, \"29\", 0.75, \"29\", 38.0, 33.0, 23.0, 22.0, \"29\", 34.0, 29.0, 22.0, 2.0, 9.0, \"29\", 50.0, 63.0, 25.0, \"29\", 35.0, 58.0, 30.0, 9.0, \"29\", 21.0, 55.0, 71.0, 21.0, \"29\", 54.0, \"29\", 25.0, 24.0, 17.0, 21.0, \"29\", 37.0, 16.0, 18.0, 33.0, \"29\", 28.0, 26.0, 29.0, \"29\", 36.0, 54.0, 24.0, 47.0, 34.0, \"29\", 36.0, 32.0, 30.0, 22.0, \"29\", 44.0, \"29\", 40.5, 50.0, \"29\", 39.0, 23.0, 2.0, \"29\", 17.0, \"29\", 30.0, 7.0, 45.0, 30.0, \"29\", 22.0, 36.0, 9.0, 11.0, 32.0, 50.0, 64.0, 19.0, \"29\", 33.0, 8.0, 17.0, 27.0, \"29\", 22.0, 22.0, 62.0, 48.0, \"29\", 39.0, 36.0, \"29\", 40.0, 28.0, \"29\", \"29\", 24.0, 19.0, 29.0, \"29\", 32.0, 62.0, 53.0, 36.0, \"29\", 16.0, 19.0, 34.0, 39.0, \"29\", 32.0, 25.0, 39.0, 54.0, 36.0, \"29\", 18.0, 47.0, 60.0, 22.0, \"29\", 35.0, 52.0, 47.0, \"29\", 37.0, 36.0, \"29\", 49.0, \"29\", 49.0, 24.0, \"29\", \"29\", 44.0, 35.0, 36.0, 30.0, 27.0, 22.0, 40.0, 39.0, \"29\", \"29\", \"29\", 35.0, 24.0, 34.0, 26.0, 4.0, 26.0, 27.0, 42.0, 20.0, 21.0, 21.0, 61.0, 57.0, 21.0, 26.0, \"29\", 80.0, 51.0, 32.0, \"29\", 9.0, 28.0, 32.0, 31.0, 41.0, \"29\", 20.0, 24.0, 2.0, \"29\", 0.75, 48.0, 19.0, 56.0, \"29\", 23.0, \"29\", 18.0, 21.0, \"29\", 18.0, 24.0, \"29\", 32.0, 23.0, 58.0, 50.0, 40.0, 47.0, 36.0, 20.0, 32.0, 25.0, \"29\", 43.0, \"29\", 40.0, 31.0, 70.0, 31.0, \"29\", 18.0, 24.5, 18.0, 43.0, 36.0, \"29\", 27.0, 20.0, 14.0, 60.0, 25.0, 14.0, 19.0, 18.0, 15.0, 31.0, 4.0, \"29\", 25.0, 60.0, 52.0, 44.0, \"29\", 49.0, 42.0, 18.0, 35.0, 18.0, 25.0, 26.0, 39.0, 45.0, 42.0, 22.0, \"29\", 24.0, \"29\", 48.0, 29.0, 52.0, 19.0, 38.0, 27.0, \"29\", 33.0, 6.0, 17.0, 34.0, 50.0, 27.0, 20.0, 30.0, \"29\", 25.0, 25.0, 29.0, 11.0, \"29\", 23.0, 23.0, 28.5, 48.0, 35.0, \"29\", \"29\", \"29\", 36.0, 21.0, 24.0, 31.0, 70.0, 16.0, 30.0, 19.0, 31.0, 4.0, 6.0, 33.0, 23.0, 48.0, 0.67, 28.0, 18.0, 34.0, 33.0, \"29\", 41.0, 20.0, 36.0, 16.0, 51.0, \"29\", 30.5, \"29\", 32.0, 24.0, 48.0, 57.0, \"29\", 54.0, 18.0, \"29\", 5.0, \"29\", 43.0, 13.0, 17.0, 29.0, \"29\", 25.0, 25.0, 18.0, 8.0, 1.0, 46.0, \"29\", 16.0, \"29\", \"29\", 25.0, 39.0, 49.0, 31.0, 30.0, 30.0, 34.0, 31.0, 11.0, 0.42, 27.0, 31.0, 39.0, 18.0, 39.0, 33.0, 26.0, 39.0, 35.0, 6.0, 30.5, \"29\", 23.0, 31.0, 43.0, 10.0, 52.0, 27.0, 38.0, 27.0, 2.0, \"29\", \"29\", 1.0, \"29\", 62.0, 15.0, 0.83, \"29\", 23.0, 18.0, 39.0, 21.0, \"29\", 32.0, \"29\", 20.0, 16.0, 30.0, 34.5, 17.0, 42.0, \"29\", 35.0, 28.0, \"29\", 4.0, 74.0, 9.0, 16.0, 44.0, 18.0, 45.0, 51.0, 24.0, \"29\", 41.0, 21.0, 48.0, \"29\", 24.0, 42.0, 27.0, 31.0, \"29\", 4.0, 26.0, 47.0, 33.0, 47.0, 28.0, 15.0, 20.0, 19.0, \"29\", 56.0, 25.0, 33.0, 22.0, 28.0, 25.0, 39.0, 27.0, 19.0, \"29\", 26.0, 32.0], \"xaxis\": \"x\", \"yaxis\": \"y\"}],                        {\"barmode\": \"relative\", \"height\": 500, \"legend\": {\"tracegroupgap\": 0}, \"template\": {\"data\": {\"bar\": [{\"error_x\": {\"color\": \"#2a3f5f\"}, \"error_y\": {\"color\": \"#2a3f5f\"}, \"marker\": {\"line\": {\"color\": \"#E5ECF6\", \"width\": 0.5}}, \"type\": \"bar\"}], \"barpolar\": [{\"marker\": {\"line\": {\"color\": \"#E5ECF6\", \"width\": 0.5}}, \"type\": \"barpolar\"}], \"carpet\": [{\"aaxis\": {\"endlinecolor\": \"#2a3f5f\", \"gridcolor\": \"white\", \"linecolor\": \"white\", \"minorgridcolor\": \"white\", \"startlinecolor\": \"#2a3f5f\"}, \"baxis\": {\"endlinecolor\": \"#2a3f5f\", \"gridcolor\": \"white\", \"linecolor\": \"white\", \"minorgridcolor\": \"white\", \"startlinecolor\": \"#2a3f5f\"}, \"type\": \"carpet\"}], \"choropleth\": [{\"colorbar\": {\"outlinewidth\": 0, \"ticks\": \"\"}, \"type\": \"choropleth\"}], \"contour\": [{\"colorbar\": {\"outlinewidth\": 0, \"ticks\": \"\"}, \"colorscale\": [[0.0, \"#0d0887\"], [0.1111111111111111, \"#46039f\"], [0.2222222222222222, \"#7201a8\"], [0.3333333333333333, \"#9c179e\"], [0.4444444444444444, \"#bd3786\"], [0.5555555555555556, \"#d8576b\"], [0.6666666666666666, \"#ed7953\"], [0.7777777777777778, \"#fb9f3a\"], [0.8888888888888888, \"#fdca26\"], [1.0, \"#f0f921\"]], \"type\": \"contour\"}], \"contourcarpet\": [{\"colorbar\": {\"outlinewidth\": 0, \"ticks\": \"\"}, \"type\": \"contourcarpet\"}], \"heatmap\": [{\"colorbar\": {\"outlinewidth\": 0, \"ticks\": \"\"}, \"colorscale\": [[0.0, \"#0d0887\"], [0.1111111111111111, \"#46039f\"], [0.2222222222222222, \"#7201a8\"], [0.3333333333333333, \"#9c179e\"], [0.4444444444444444, \"#bd3786\"], [0.5555555555555556, \"#d8576b\"], [0.6666666666666666, \"#ed7953\"], [0.7777777777777778, \"#fb9f3a\"], [0.8888888888888888, \"#fdca26\"], [1.0, \"#f0f921\"]], \"type\": \"heatmap\"}], \"heatmapgl\": [{\"colorbar\": {\"outlinewidth\": 0, \"ticks\": \"\"}, \"colorscale\": [[0.0, \"#0d0887\"], [0.1111111111111111, \"#46039f\"], [0.2222222222222222, \"#7201a8\"], [0.3333333333333333, \"#9c179e\"], [0.4444444444444444, \"#bd3786\"], [0.5555555555555556, \"#d8576b\"], [0.6666666666666666, \"#ed7953\"], [0.7777777777777778, \"#fb9f3a\"], [0.8888888888888888, \"#fdca26\"], [1.0, \"#f0f921\"]], \"type\": \"heatmapgl\"}], \"histogram\": [{\"marker\": {\"colorbar\": {\"outlinewidth\": 0, \"ticks\": \"\"}}, \"type\": \"histogram\"}], \"histogram2d\": [{\"colorbar\": {\"outlinewidth\": 0, \"ticks\": \"\"}, \"colorscale\": [[0.0, \"#0d0887\"], [0.1111111111111111, \"#46039f\"], [0.2222222222222222, \"#7201a8\"], [0.3333333333333333, \"#9c179e\"], [0.4444444444444444, \"#bd3786\"], [0.5555555555555556, \"#d8576b\"], [0.6666666666666666, \"#ed7953\"], [0.7777777777777778, \"#fb9f3a\"], [0.8888888888888888, \"#fdca26\"], [1.0, \"#f0f921\"]], \"type\": \"histogram2d\"}], \"histogram2dcontour\": [{\"colorbar\": {\"outlinewidth\": 0, \"ticks\": \"\"}, \"colorscale\": [[0.0, \"#0d0887\"], [0.1111111111111111, \"#46039f\"], [0.2222222222222222, \"#7201a8\"], [0.3333333333333333, \"#9c179e\"], [0.4444444444444444, \"#bd3786\"], [0.5555555555555556, \"#d8576b\"], [0.6666666666666666, \"#ed7953\"], [0.7777777777777778, \"#fb9f3a\"], [0.8888888888888888, \"#fdca26\"], [1.0, \"#f0f921\"]], \"type\": \"histogram2dcontour\"}], \"mesh3d\": [{\"colorbar\": {\"outlinewidth\": 0, \"ticks\": \"\"}, \"type\": \"mesh3d\"}], \"parcoords\": [{\"line\": {\"colorbar\": {\"outlinewidth\": 0, \"ticks\": \"\"}}, \"type\": \"parcoords\"}], \"pie\": [{\"automargin\": true, \"type\": \"pie\"}], \"scatter\": [{\"marker\": {\"colorbar\": {\"outlinewidth\": 0, \"ticks\": \"\"}}, \"type\": \"scatter\"}], \"scatter3d\": [{\"line\": {\"colorbar\": {\"outlinewidth\": 0, \"ticks\": \"\"}}, \"marker\": {\"colorbar\": {\"outlinewidth\": 0, \"ticks\": \"\"}}, \"type\": \"scatter3d\"}], \"scattercarpet\": [{\"marker\": {\"colorbar\": {\"outlinewidth\": 0, \"ticks\": \"\"}}, \"type\": \"scattercarpet\"}], \"scattergeo\": [{\"marker\": {\"colorbar\": {\"outlinewidth\": 0, \"ticks\": \"\"}}, \"type\": \"scattergeo\"}], \"scattergl\": [{\"marker\": {\"colorbar\": {\"outlinewidth\": 0, \"ticks\": \"\"}}, \"type\": \"scattergl\"}], \"scattermapbox\": [{\"marker\": {\"colorbar\": {\"outlinewidth\": 0, \"ticks\": \"\"}}, \"type\": \"scattermapbox\"}], \"scatterpolar\": [{\"marker\": {\"colorbar\": {\"outlinewidth\": 0, \"ticks\": \"\"}}, \"type\": \"scatterpolar\"}], \"scatterpolargl\": [{\"marker\": {\"colorbar\": {\"outlinewidth\": 0, \"ticks\": \"\"}}, \"type\": \"scatterpolargl\"}], \"scatterternary\": [{\"marker\": {\"colorbar\": {\"outlinewidth\": 0, \"ticks\": \"\"}}, \"type\": \"scatterternary\"}], \"surface\": [{\"colorbar\": {\"outlinewidth\": 0, \"ticks\": \"\"}, \"colorscale\": [[0.0, \"#0d0887\"], [0.1111111111111111, \"#46039f\"], [0.2222222222222222, \"#7201a8\"], [0.3333333333333333, \"#9c179e\"], [0.4444444444444444, \"#bd3786\"], [0.5555555555555556, \"#d8576b\"], [0.6666666666666666, \"#ed7953\"], [0.7777777777777778, \"#fb9f3a\"], [0.8888888888888888, \"#fdca26\"], [1.0, \"#f0f921\"]], \"type\": \"surface\"}], \"table\": [{\"cells\": {\"fill\": {\"color\": \"#EBF0F8\"}, \"line\": {\"color\": \"white\"}}, \"header\": {\"fill\": {\"color\": \"#C8D4E3\"}, \"line\": {\"color\": \"white\"}}, \"type\": \"table\"}]}, \"layout\": {\"annotationdefaults\": {\"arrowcolor\": \"#2a3f5f\", \"arrowhead\": 0, \"arrowwidth\": 1}, \"coloraxis\": {\"colorbar\": {\"outlinewidth\": 0, \"ticks\": \"\"}}, \"colorscale\": {\"diverging\": [[0, \"#8e0152\"], [0.1, \"#c51b7d\"], [0.2, \"#de77ae\"], [0.3, \"#f1b6da\"], [0.4, \"#fde0ef\"], [0.5, \"#f7f7f7\"], [0.6, \"#e6f5d0\"], [0.7, \"#b8e186\"], [0.8, \"#7fbc41\"], [0.9, \"#4d9221\"], [1, \"#276419\"]], \"sequential\": [[0.0, \"#0d0887\"], [0.1111111111111111, \"#46039f\"], [0.2222222222222222, \"#7201a8\"], [0.3333333333333333, \"#9c179e\"], [0.4444444444444444, \"#bd3786\"], [0.5555555555555556, \"#d8576b\"], [0.6666666666666666, \"#ed7953\"], [0.7777777777777778, \"#fb9f3a\"], [0.8888888888888888, \"#fdca26\"], [1.0, \"#f0f921\"]], \"sequentialminus\": [[0.0, \"#0d0887\"], [0.1111111111111111, \"#46039f\"], [0.2222222222222222, \"#7201a8\"], [0.3333333333333333, \"#9c179e\"], [0.4444444444444444, \"#bd3786\"], [0.5555555555555556, \"#d8576b\"], [0.6666666666666666, \"#ed7953\"], [0.7777777777777778, \"#fb9f3a\"], [0.8888888888888888, \"#fdca26\"], [1.0, \"#f0f921\"]]}, \"colorway\": [\"#636efa\", \"#EF553B\", \"#00cc96\", \"#ab63fa\", \"#FFA15A\", \"#19d3f3\", \"#FF6692\", \"#B6E880\", \"#FF97FF\", \"#FECB52\"], \"font\": {\"color\": \"#2a3f5f\"}, \"geo\": {\"bgcolor\": \"white\", \"lakecolor\": \"white\", \"landcolor\": \"#E5ECF6\", \"showlakes\": true, \"showland\": true, \"subunitcolor\": \"white\"}, \"hoverlabel\": {\"align\": \"left\"}, \"hovermode\": \"closest\", \"mapbox\": {\"style\": \"light\"}, \"paper_bgcolor\": \"white\", \"plot_bgcolor\": \"#E5ECF6\", \"polar\": {\"angularaxis\": {\"gridcolor\": \"white\", \"linecolor\": \"white\", \"ticks\": \"\"}, \"bgcolor\": \"#E5ECF6\", \"radialaxis\": {\"gridcolor\": \"white\", \"linecolor\": \"white\", \"ticks\": \"\"}}, \"scene\": {\"xaxis\": {\"backgroundcolor\": \"#E5ECF6\", \"gridcolor\": \"white\", \"gridwidth\": 2, \"linecolor\": \"white\", \"showbackground\": true, \"ticks\": \"\", \"zerolinecolor\": \"white\"}, \"yaxis\": {\"backgroundcolor\": \"#E5ECF6\", \"gridcolor\": \"white\", \"gridwidth\": 2, \"linecolor\": \"white\", \"showbackground\": true, \"ticks\": \"\", \"zerolinecolor\": \"white\"}, \"zaxis\": {\"backgroundcolor\": \"#E5ECF6\", \"gridcolor\": \"white\", \"gridwidth\": 2, \"linecolor\": \"white\", \"showbackground\": true, \"ticks\": \"\", \"zerolinecolor\": \"white\"}}, \"shapedefaults\": {\"line\": {\"color\": \"#2a3f5f\"}}, \"ternary\": {\"aaxis\": {\"gridcolor\": \"white\", \"linecolor\": \"white\", \"ticks\": \"\"}, \"baxis\": {\"gridcolor\": \"white\", \"linecolor\": \"white\", \"ticks\": \"\"}, \"bgcolor\": \"#E5ECF6\", \"caxis\": {\"gridcolor\": \"white\", \"linecolor\": \"white\", \"ticks\": \"\"}}, \"title\": {\"x\": 0.05}, \"xaxis\": {\"automargin\": true, \"gridcolor\": \"white\", \"linecolor\": \"white\", \"ticks\": \"\", \"title\": {\"standoff\": 15}, \"zerolinecolor\": \"white\", \"zerolinewidth\": 2}, \"yaxis\": {\"automargin\": true, \"gridcolor\": \"white\", \"linecolor\": \"white\", \"ticks\": \"\", \"title\": {\"standoff\": 15}, \"zerolinecolor\": \"white\", \"zerolinewidth\": 2}}}, \"title\": {\"text\": \"Histogram of Age\"}, \"width\": 800, \"xaxis\": {\"anchor\": \"y\", \"domain\": [0.0, 1.0], \"title\": {\"text\": \"Age\"}}, \"yaxis\": {\"anchor\": \"x\", \"domain\": [0.0, 1.0], \"title\": {\"text\": \"count\"}}},                        {\"responsive\": true}                    ).then(function(){\n",
       "                            \n",
       "var gd = document.getElementById('f55a2741-d603-4b81-8ac7-4c7d03f02767');\n",
       "var x = new MutationObserver(function (mutations, observer) {{\n",
       "        var display = window.getComputedStyle(gd).display;\n",
       "        if (!display || display === 'none') {{\n",
       "            console.log([gd, 'removed!']);\n",
       "            Plotly.purge(gd);\n",
       "            observer.disconnect();\n",
       "        }}\n",
       "}});\n",
       "\n",
       "// Listen for the removal of the full notebook cells\n",
       "var notebookContainer = gd.closest('#notebook-container');\n",
       "if (notebookContainer) {{\n",
       "    x.observe(notebookContainer, {childList: true});\n",
       "}}\n",
       "\n",
       "// Listen for the clearing of the current output cell\n",
       "var outputEl = gd.closest('.output');\n",
       "if (outputEl) {{\n",
       "    x.observe(outputEl, {childList: true});\n",
       "}}\n",
       "\n",
       "                        })                };                });            </script>        </div>"
      ]
     },
     "metadata": {},
     "output_type": "display_data"
    }
   ],
   "source": [
    "import plotly.express as px\n",
    "fig = px.histogram(titanic, x=\"Age\",\n",
    "                   title=\"Histogram of Age\",\n",
    "                   width=800, height=500)\n",
    "fig.show()"
   ]
  },
  {
   "cell_type": "raw",
   "metadata": {},
   "source": [
    "2. Show the age distribution based on gender using a histogram."
   ]
  },
  {
   "cell_type": "code",
   "execution_count": 281,
   "metadata": {},
   "outputs": [
    {
     "data": {
      "text/html": [
       "<div>\n",
       "<style scoped>\n",
       "    .dataframe tbody tr th:only-of-type {\n",
       "        vertical-align: middle;\n",
       "    }\n",
       "\n",
       "    .dataframe tbody tr th {\n",
       "        vertical-align: top;\n",
       "    }\n",
       "\n",
       "    .dataframe thead th {\n",
       "        text-align: right;\n",
       "    }\n",
       "</style>\n",
       "<table border=\"1\" class=\"dataframe\">\n",
       "  <thead>\n",
       "    <tr style=\"text-align: right;\">\n",
       "      <th></th>\n",
       "      <th>PassengerId</th>\n",
       "      <th>Survived</th>\n",
       "      <th>Pclass</th>\n",
       "      <th>Name</th>\n",
       "      <th>Sex</th>\n",
       "      <th>Age</th>\n",
       "      <th>SibSp</th>\n",
       "      <th>Parch</th>\n",
       "      <th>Ticket</th>\n",
       "      <th>Fare</th>\n",
       "      <th>Cabin</th>\n",
       "      <th>Embarked</th>\n",
       "    </tr>\n",
       "  </thead>\n",
       "  <tbody>\n",
       "    <tr>\n",
       "      <th>0</th>\n",
       "      <td>1</td>\n",
       "      <td>0</td>\n",
       "      <td>3</td>\n",
       "      <td>Braund, Mr. Owen Harris</td>\n",
       "      <td>1</td>\n",
       "      <td>22</td>\n",
       "      <td>1</td>\n",
       "      <td>0</td>\n",
       "      <td>A/5 21171</td>\n",
       "      <td>7.2500</td>\n",
       "      <td>NaN</td>\n",
       "      <td>S</td>\n",
       "    </tr>\n",
       "    <tr>\n",
       "      <th>1</th>\n",
       "      <td>2</td>\n",
       "      <td>1</td>\n",
       "      <td>1</td>\n",
       "      <td>Cumings, Mrs. John Bradley (Florence Briggs Th...</td>\n",
       "      <td>0</td>\n",
       "      <td>38</td>\n",
       "      <td>1</td>\n",
       "      <td>0</td>\n",
       "      <td>PC 17599</td>\n",
       "      <td>71.2833</td>\n",
       "      <td>C85</td>\n",
       "      <td>C</td>\n",
       "    </tr>\n",
       "    <tr>\n",
       "      <th>2</th>\n",
       "      <td>3</td>\n",
       "      <td>1</td>\n",
       "      <td>3</td>\n",
       "      <td>Heikkinen, Miss. Laina</td>\n",
       "      <td>0</td>\n",
       "      <td>26</td>\n",
       "      <td>0</td>\n",
       "      <td>0</td>\n",
       "      <td>STON/O2. 3101282</td>\n",
       "      <td>7.9250</td>\n",
       "      <td>NaN</td>\n",
       "      <td>S</td>\n",
       "    </tr>\n",
       "    <tr>\n",
       "      <th>3</th>\n",
       "      <td>4</td>\n",
       "      <td>1</td>\n",
       "      <td>1</td>\n",
       "      <td>Futrelle, Mrs. Jacques Heath (Lily May Peel)</td>\n",
       "      <td>0</td>\n",
       "      <td>35</td>\n",
       "      <td>1</td>\n",
       "      <td>0</td>\n",
       "      <td>113803</td>\n",
       "      <td>53.1000</td>\n",
       "      <td>C123</td>\n",
       "      <td>S</td>\n",
       "    </tr>\n",
       "    <tr>\n",
       "      <th>4</th>\n",
       "      <td>5</td>\n",
       "      <td>0</td>\n",
       "      <td>3</td>\n",
       "      <td>Allen, Mr. William Henry</td>\n",
       "      <td>1</td>\n",
       "      <td>35</td>\n",
       "      <td>0</td>\n",
       "      <td>0</td>\n",
       "      <td>373450</td>\n",
       "      <td>8.0500</td>\n",
       "      <td>NaN</td>\n",
       "      <td>S</td>\n",
       "    </tr>\n",
       "    <tr>\n",
       "      <th>...</th>\n",
       "      <td>...</td>\n",
       "      <td>...</td>\n",
       "      <td>...</td>\n",
       "      <td>...</td>\n",
       "      <td>...</td>\n",
       "      <td>...</td>\n",
       "      <td>...</td>\n",
       "      <td>...</td>\n",
       "      <td>...</td>\n",
       "      <td>...</td>\n",
       "      <td>...</td>\n",
       "      <td>...</td>\n",
       "    </tr>\n",
       "    <tr>\n",
       "      <th>886</th>\n",
       "      <td>887</td>\n",
       "      <td>0</td>\n",
       "      <td>2</td>\n",
       "      <td>Montvila, Rev. Juozas</td>\n",
       "      <td>1</td>\n",
       "      <td>27</td>\n",
       "      <td>0</td>\n",
       "      <td>0</td>\n",
       "      <td>211536</td>\n",
       "      <td>13.0000</td>\n",
       "      <td>NaN</td>\n",
       "      <td>S</td>\n",
       "    </tr>\n",
       "    <tr>\n",
       "      <th>887</th>\n",
       "      <td>888</td>\n",
       "      <td>1</td>\n",
       "      <td>1</td>\n",
       "      <td>Graham, Miss. Margaret Edith</td>\n",
       "      <td>0</td>\n",
       "      <td>19</td>\n",
       "      <td>0</td>\n",
       "      <td>0</td>\n",
       "      <td>112053</td>\n",
       "      <td>30.0000</td>\n",
       "      <td>B42</td>\n",
       "      <td>S</td>\n",
       "    </tr>\n",
       "    <tr>\n",
       "      <th>888</th>\n",
       "      <td>889</td>\n",
       "      <td>0</td>\n",
       "      <td>3</td>\n",
       "      <td>Johnston, Miss. Catherine Helen \"Carrie\"</td>\n",
       "      <td>0</td>\n",
       "      <td>29</td>\n",
       "      <td>1</td>\n",
       "      <td>2</td>\n",
       "      <td>W./C. 6607</td>\n",
       "      <td>23.4500</td>\n",
       "      <td>NaN</td>\n",
       "      <td>S</td>\n",
       "    </tr>\n",
       "    <tr>\n",
       "      <th>889</th>\n",
       "      <td>890</td>\n",
       "      <td>1</td>\n",
       "      <td>1</td>\n",
       "      <td>Behr, Mr. Karl Howell</td>\n",
       "      <td>1</td>\n",
       "      <td>26</td>\n",
       "      <td>0</td>\n",
       "      <td>0</td>\n",
       "      <td>111369</td>\n",
       "      <td>30.0000</td>\n",
       "      <td>C148</td>\n",
       "      <td>C</td>\n",
       "    </tr>\n",
       "    <tr>\n",
       "      <th>890</th>\n",
       "      <td>891</td>\n",
       "      <td>0</td>\n",
       "      <td>3</td>\n",
       "      <td>Dooley, Mr. Patrick</td>\n",
       "      <td>1</td>\n",
       "      <td>32</td>\n",
       "      <td>0</td>\n",
       "      <td>0</td>\n",
       "      <td>370376</td>\n",
       "      <td>7.7500</td>\n",
       "      <td>NaN</td>\n",
       "      <td>Q</td>\n",
       "    </tr>\n",
       "  </tbody>\n",
       "</table>\n",
       "<p>891 rows × 12 columns</p>\n",
       "</div>"
      ],
      "text/plain": [
       "     PassengerId  Survived  Pclass  \\\n",
       "0              1         0       3   \n",
       "1              2         1       1   \n",
       "2              3         1       3   \n",
       "3              4         1       1   \n",
       "4              5         0       3   \n",
       "..           ...       ...     ...   \n",
       "886          887         0       2   \n",
       "887          888         1       1   \n",
       "888          889         0       3   \n",
       "889          890         1       1   \n",
       "890          891         0       3   \n",
       "\n",
       "                                                  Name  Sex Age  SibSp  Parch  \\\n",
       "0                              Braund, Mr. Owen Harris    1  22      1      0   \n",
       "1    Cumings, Mrs. John Bradley (Florence Briggs Th...    0  38      1      0   \n",
       "2                               Heikkinen, Miss. Laina    0  26      0      0   \n",
       "3         Futrelle, Mrs. Jacques Heath (Lily May Peel)    0  35      1      0   \n",
       "4                             Allen, Mr. William Henry    1  35      0      0   \n",
       "..                                                 ...  ...  ..    ...    ...   \n",
       "886                              Montvila, Rev. Juozas    1  27      0      0   \n",
       "887                       Graham, Miss. Margaret Edith    0  19      0      0   \n",
       "888           Johnston, Miss. Catherine Helen \"Carrie\"    0  29      1      2   \n",
       "889                              Behr, Mr. Karl Howell    1  26      0      0   \n",
       "890                                Dooley, Mr. Patrick    1  32      0      0   \n",
       "\n",
       "               Ticket     Fare Cabin Embarked  \n",
       "0           A/5 21171   7.2500   NaN        S  \n",
       "1            PC 17599  71.2833   C85        C  \n",
       "2    STON/O2. 3101282   7.9250   NaN        S  \n",
       "3              113803  53.1000  C123        S  \n",
       "4              373450   8.0500   NaN        S  \n",
       "..                ...      ...   ...      ...  \n",
       "886            211536  13.0000   NaN        S  \n",
       "887            112053  30.0000   B42        S  \n",
       "888        W./C. 6607  23.4500   NaN        S  \n",
       "889            111369  30.0000  C148        C  \n",
       "890            370376   7.7500   NaN        Q  \n",
       "\n",
       "[891 rows x 12 columns]"
      ]
     },
     "execution_count": 281,
     "metadata": {},
     "output_type": "execute_result"
    }
   ],
   "source": [
    "#converting binary string to binary int \n",
    "sex = {'male': 1,'female': 0} \n",
    "titanic.Sex = [sex[item] for item in titanic.Sex] \n",
    "titanic "
   ]
  },
  {
   "cell_type": "code",
   "execution_count": 282,
   "metadata": {},
   "outputs": [],
   "source": [
    "x1= titanic.Age[titanic.Sex == 1]\n",
    "x2= titanic.Age[titanic.Sex == 0]\n"
   ]
  },
  {
   "cell_type": "code",
   "execution_count": 283,
   "metadata": {},
   "outputs": [
    {
     "data": {
      "application/vnd.plotly.v1+json": {
       "config": {
        "plotlyServerURL": "https://plot.ly"
       },
       "data": [
        {
         "alignmentgroup": "True",
         "bingroup": "x",
         "hovertemplate": "Sex=1<br>Age=%{x}<br>count=%{y}<extra></extra>",
         "legendgroup": "1",
         "marker": {
          "color": "#636efa",
          "opacity": 0.7
         },
         "name": "1",
         "offsetgroup": "1",
         "orientation": "v",
         "showlegend": true,
         "type": "histogram",
         "x": [
          22,
          35,
          "29",
          54,
          2,
          20,
          39,
          2,
          "29",
          35,
          34,
          28,
          "29",
          19,
          "29",
          40,
          66,
          28,
          42,
          "29",
          21,
          "29",
          "29",
          "29",
          "29",
          7,
          21,
          65,
          "29",
          28.5,
          11,
          22,
          45,
          4,
          "29",
          "29",
          19,
          26,
          32,
          21,
          26,
          32,
          25,
          "29",
          "29",
          0.83,
          22,
          29,
          28,
          16,
          "29",
          24,
          29,
          20,
          46,
          26,
          59,
          "29",
          71,
          23,
          34,
          "29",
          21,
          33,
          37,
          28,
          "29",
          38,
          47,
          22,
          21,
          70.5,
          29,
          24,
          21,
          "29",
          32.5,
          54,
          12,
          "29",
          24,
          45,
          33,
          20,
          25,
          23,
          37,
          16,
          24,
          19,
          18,
          19,
          27,
          36.5,
          42,
          51,
          55.5,
          40.5,
          "29",
          51,
          30,
          "29",
          "29",
          44,
          26,
          17,
          1,
          9,
          "29",
          28,
          61,
          4,
          21,
          56,
          18,
          "29",
          30,
          36,
          "29",
          9,
          1,
          "29",
          45,
          40,
          36,
          19,
          3,
          "29",
          42,
          28,
          "29",
          34,
          45.5,
          18,
          32,
          26,
          40,
          24,
          22,
          30,
          "29",
          42,
          30,
          16,
          27,
          51,
          "29",
          38,
          22,
          19,
          20.5,
          18,
          29,
          59,
          24,
          44,
          19,
          33,
          29,
          22,
          30,
          44,
          37,
          54,
          "29",
          62,
          30,
          "29",
          3,
          52,
          40,
          36,
          16,
          25,
          "29",
          25,
          37,
          "29",
          7,
          65,
          28,
          16,
          19,
          "29",
          33,
          30,
          22,
          42,
          36,
          24,
          "29",
          23.5,
          "29",
          "29",
          19,
          "29",
          0.92,
          30,
          28,
          43,
          54,
          22,
          27,
          "29",
          61,
          45.5,
          38,
          16,
          "29",
          29,
          45,
          45,
          2,
          28,
          25,
          36,
          3,
          42,
          23,
          "29",
          15,
          25,
          "29",
          28,
          40,
          29,
          35,
          "29",
          30,
          25,
          18,
          19,
          22,
          27,
          20,
          19,
          32,
          "29",
          18,
          1,
          "29",
          36,
          21,
          28,
          22,
          46,
          23,
          39,
          26,
          28,
          34,
          51,
          3,
          21,
          "29",
          "29",
          "29",
          44,
          30,
          "29",
          21,
          29,
          18,
          "29",
          "29",
          32,
          28,
          17,
          50,
          64,
          31,
          20,
          25,
          "29",
          4,
          34,
          52,
          36,
          "29",
          30,
          49,
          "29",
          29,
          65,
          "29",
          48,
          34,
          47,
          48,
          "29",
          38,
          "29",
          56,
          "29",
          "29",
          38,
          "29",
          34,
          29,
          22,
          9,
          "29",
          50,
          25,
          58,
          30,
          9,
          "29",
          21,
          55,
          71,
          21,
          "29",
          "29",
          24,
          17,
          18,
          "29",
          28,
          26,
          29,
          "29",
          36,
          24,
          47,
          "29",
          32,
          22,
          "29",
          "29",
          40.5,
          "29",
          39,
          23,
          "29",
          17,
          45,
          "29",
          32,
          50,
          64,
          "29",
          33,
          8,
          17,
          27,
          "29",
          22,
          62,
          "29",
          "29",
          40,
          28,
          "29",
          24,
          19,
          "29",
          32,
          62,
          36,
          16,
          19,
          32,
          54,
          36,
          "29",
          47,
          60,
          22,
          "29",
          35,
          47,
          37,
          36,
          49,
          "29",
          49,
          "29",
          "29",
          44,
          35,
          36,
          30,
          27,
          "29",
          "29",
          35,
          34,
          26,
          27,
          42,
          20,
          21,
          21,
          61,
          57,
          26,
          "29",
          80,
          51,
          32,
          "29",
          32,
          31,
          "29",
          20,
          "29",
          48,
          19,
          56,
          "29",
          "29",
          21,
          24,
          "29",
          23,
          58,
          50,
          40,
          47,
          36,
          20,
          32,
          25,
          "29",
          43,
          31,
          70,
          31,
          "29",
          18,
          24.5,
          36,
          27,
          20,
          14,
          60,
          25,
          14,
          19,
          18,
          31,
          "29",
          25,
          60,
          52,
          44,
          49,
          42,
          35,
          25,
          26,
          39,
          42,
          "29",
          "29",
          48,
          29,
          52,
          19,
          "29",
          33,
          17,
          34,
          50,
          27,
          20,
          25,
          11,
          "29",
          23,
          23,
          28.5,
          35,
          "29",
          "29",
          "29",
          36,
          24,
          31,
          70,
          16,
          19,
          31,
          6,
          33,
          23,
          0.67,
          28,
          18,
          34,
          "29",
          41,
          20,
          16,
          "29",
          "29",
          32,
          24,
          48,
          "29",
          18,
          "29",
          "29",
          29,
          "29",
          25,
          25,
          8,
          1,
          46,
          "29",
          16,
          "29",
          25,
          39,
          30,
          34,
          11,
          0.42,
          27,
          31,
          39,
          39,
          26,
          39,
          35,
          30.5,
          "29",
          31,
          43,
          10,
          27,
          38,
          2,
          "29",
          "29",
          1,
          "29",
          0.83,
          "29",
          23,
          18,
          21,
          "29",
          32,
          "29",
          20,
          16,
          34.5,
          17,
          42,
          "29",
          35,
          28,
          4,
          74,
          51,
          "29",
          41,
          21,
          24,
          31,
          "29",
          4,
          26,
          33,
          47,
          20,
          19,
          "29",
          33,
          28,
          25,
          27,
          26,
          32
         ],
         "xaxis": "x",
         "yaxis": "y"
        },
        {
         "alignmentgroup": "True",
         "bingroup": "x",
         "hovertemplate": "Sex=0<br>Age=%{x}<br>count=%{y}<extra></extra>",
         "legendgroup": "0",
         "marker": {
          "color": "#EF553B",
          "opacity": 0.7
         },
         "name": "0",
         "offsetgroup": "0",
         "orientation": "v",
         "showlegend": true,
         "type": "histogram",
         "x": [
          38,
          26,
          35,
          27,
          14,
          4,
          58,
          14,
          55,
          31,
          "29",
          15,
          8,
          38,
          "29",
          "29",
          "29",
          18,
          14,
          40,
          27,
          3,
          19,
          "29",
          18,
          49,
          29,
          21,
          5,
          38,
          29,
          17,
          16,
          30,
          "29",
          17,
          33,
          23,
          34,
          28,
          21,
          "29",
          14.5,
          20,
          17,
          2,
          32.5,
          "29",
          47,
          29,
          19,
          "29",
          22,
          24,
          9,
          22,
          16,
          40,
          "29",
          45,
          1,
          50,
          "29",
          4,
          "29",
          32,
          19,
          44,
          58,
          "29",
          24,
          2,
          16,
          35,
          31,
          27,
          32,
          "29",
          35,
          5,
          "29",
          8,
          "29",
          "29",
          25,
          24,
          29,
          41,
          29,
          "29",
          30,
          35,
          50,
          "29",
          58,
          35,
          41,
          "29",
          63,
          45,
          35,
          22,
          26,
          19,
          24,
          2,
          50,
          "29",
          "29",
          "29",
          17,
          30,
          24,
          18,
          26,
          26,
          24,
          31,
          40,
          30,
          22,
          36,
          36,
          31,
          16,
          "29",
          "29",
          41,
          24,
          24,
          40,
          "29",
          22,
          38,
          "29",
          "29",
          45,
          60,
          "29",
          "29",
          24,
          3,
          "29",
          22,
          42,
          1,
          35,
          36,
          17,
          23,
          24,
          31,
          28,
          21,
          20,
          "29",
          33,
          "29",
          34,
          18,
          10,
          28,
          28,
          19,
          "29",
          42,
          14,
          21,
          24,
          45,
          28,
          13,
          5,
          "29",
          50,
          0.75,
          33,
          23,
          22,
          2,
          63,
          "29",
          35,
          54,
          25,
          21,
          "29",
          37,
          16,
          33,
          54,
          34,
          36,
          30,
          44,
          50,
          2,
          "29",
          30,
          7,
          30,
          22,
          36,
          9,
          11,
          19,
          22,
          48,
          39,
          36,
          "29",
          29,
          53,
          "29",
          34,
          39,
          "29",
          25,
          39,
          18,
          52,
          "29",
          "29",
          24,
          22,
          40,
          39,
          "29",
          24,
          26,
          4,
          21,
          9,
          28,
          41,
          24,
          2,
          0.75,
          23,
          18,
          "29",
          18,
          32,
          "29",
          40,
          18,
          43,
          "29",
          15,
          4,
          "29",
          18,
          18,
          45,
          22,
          24,
          38,
          27,
          6,
          30,
          "29",
          25,
          29,
          48,
          21,
          30,
          4,
          48,
          33,
          36,
          51,
          30.5,
          57,
          54,
          5,
          43,
          13,
          17,
          18,
          "29",
          49,
          31,
          30,
          31,
          18,
          33,
          6,
          23,
          52,
          27,
          62,
          15,
          39,
          30,
          "29",
          9,
          16,
          44,
          18,
          45,
          24,
          48,
          "29",
          42,
          27,
          47,
          28,
          15,
          56,
          25,
          22,
          39,
          19,
          "29"
         ],
         "xaxis": "x",
         "yaxis": "y"
        }
       ],
       "layout": {
        "barmode": "relative",
        "legend": {
         "title": {
          "text": "Sex"
         },
         "tracegroupgap": 0
        },
        "margin": {
         "t": 60
        },
        "template": {
         "data": {
          "bar": [
           {
            "error_x": {
             "color": "#2a3f5f"
            },
            "error_y": {
             "color": "#2a3f5f"
            },
            "marker": {
             "line": {
              "color": "#E5ECF6",
              "width": 0.5
             }
            },
            "type": "bar"
           }
          ],
          "barpolar": [
           {
            "marker": {
             "line": {
              "color": "#E5ECF6",
              "width": 0.5
             }
            },
            "type": "barpolar"
           }
          ],
          "carpet": [
           {
            "aaxis": {
             "endlinecolor": "#2a3f5f",
             "gridcolor": "white",
             "linecolor": "white",
             "minorgridcolor": "white",
             "startlinecolor": "#2a3f5f"
            },
            "baxis": {
             "endlinecolor": "#2a3f5f",
             "gridcolor": "white",
             "linecolor": "white",
             "minorgridcolor": "white",
             "startlinecolor": "#2a3f5f"
            },
            "type": "carpet"
           }
          ],
          "choropleth": [
           {
            "colorbar": {
             "outlinewidth": 0,
             "ticks": ""
            },
            "type": "choropleth"
           }
          ],
          "contour": [
           {
            "colorbar": {
             "outlinewidth": 0,
             "ticks": ""
            },
            "colorscale": [
             [
              0,
              "#0d0887"
             ],
             [
              0.1111111111111111,
              "#46039f"
             ],
             [
              0.2222222222222222,
              "#7201a8"
             ],
             [
              0.3333333333333333,
              "#9c179e"
             ],
             [
              0.4444444444444444,
              "#bd3786"
             ],
             [
              0.5555555555555556,
              "#d8576b"
             ],
             [
              0.6666666666666666,
              "#ed7953"
             ],
             [
              0.7777777777777778,
              "#fb9f3a"
             ],
             [
              0.8888888888888888,
              "#fdca26"
             ],
             [
              1,
              "#f0f921"
             ]
            ],
            "type": "contour"
           }
          ],
          "contourcarpet": [
           {
            "colorbar": {
             "outlinewidth": 0,
             "ticks": ""
            },
            "type": "contourcarpet"
           }
          ],
          "heatmap": [
           {
            "colorbar": {
             "outlinewidth": 0,
             "ticks": ""
            },
            "colorscale": [
             [
              0,
              "#0d0887"
             ],
             [
              0.1111111111111111,
              "#46039f"
             ],
             [
              0.2222222222222222,
              "#7201a8"
             ],
             [
              0.3333333333333333,
              "#9c179e"
             ],
             [
              0.4444444444444444,
              "#bd3786"
             ],
             [
              0.5555555555555556,
              "#d8576b"
             ],
             [
              0.6666666666666666,
              "#ed7953"
             ],
             [
              0.7777777777777778,
              "#fb9f3a"
             ],
             [
              0.8888888888888888,
              "#fdca26"
             ],
             [
              1,
              "#f0f921"
             ]
            ],
            "type": "heatmap"
           }
          ],
          "heatmapgl": [
           {
            "colorbar": {
             "outlinewidth": 0,
             "ticks": ""
            },
            "colorscale": [
             [
              0,
              "#0d0887"
             ],
             [
              0.1111111111111111,
              "#46039f"
             ],
             [
              0.2222222222222222,
              "#7201a8"
             ],
             [
              0.3333333333333333,
              "#9c179e"
             ],
             [
              0.4444444444444444,
              "#bd3786"
             ],
             [
              0.5555555555555556,
              "#d8576b"
             ],
             [
              0.6666666666666666,
              "#ed7953"
             ],
             [
              0.7777777777777778,
              "#fb9f3a"
             ],
             [
              0.8888888888888888,
              "#fdca26"
             ],
             [
              1,
              "#f0f921"
             ]
            ],
            "type": "heatmapgl"
           }
          ],
          "histogram": [
           {
            "marker": {
             "colorbar": {
              "outlinewidth": 0,
              "ticks": ""
             }
            },
            "type": "histogram"
           }
          ],
          "histogram2d": [
           {
            "colorbar": {
             "outlinewidth": 0,
             "ticks": ""
            },
            "colorscale": [
             [
              0,
              "#0d0887"
             ],
             [
              0.1111111111111111,
              "#46039f"
             ],
             [
              0.2222222222222222,
              "#7201a8"
             ],
             [
              0.3333333333333333,
              "#9c179e"
             ],
             [
              0.4444444444444444,
              "#bd3786"
             ],
             [
              0.5555555555555556,
              "#d8576b"
             ],
             [
              0.6666666666666666,
              "#ed7953"
             ],
             [
              0.7777777777777778,
              "#fb9f3a"
             ],
             [
              0.8888888888888888,
              "#fdca26"
             ],
             [
              1,
              "#f0f921"
             ]
            ],
            "type": "histogram2d"
           }
          ],
          "histogram2dcontour": [
           {
            "colorbar": {
             "outlinewidth": 0,
             "ticks": ""
            },
            "colorscale": [
             [
              0,
              "#0d0887"
             ],
             [
              0.1111111111111111,
              "#46039f"
             ],
             [
              0.2222222222222222,
              "#7201a8"
             ],
             [
              0.3333333333333333,
              "#9c179e"
             ],
             [
              0.4444444444444444,
              "#bd3786"
             ],
             [
              0.5555555555555556,
              "#d8576b"
             ],
             [
              0.6666666666666666,
              "#ed7953"
             ],
             [
              0.7777777777777778,
              "#fb9f3a"
             ],
             [
              0.8888888888888888,
              "#fdca26"
             ],
             [
              1,
              "#f0f921"
             ]
            ],
            "type": "histogram2dcontour"
           }
          ],
          "mesh3d": [
           {
            "colorbar": {
             "outlinewidth": 0,
             "ticks": ""
            },
            "type": "mesh3d"
           }
          ],
          "parcoords": [
           {
            "line": {
             "colorbar": {
              "outlinewidth": 0,
              "ticks": ""
             }
            },
            "type": "parcoords"
           }
          ],
          "pie": [
           {
            "automargin": true,
            "type": "pie"
           }
          ],
          "scatter": [
           {
            "marker": {
             "colorbar": {
              "outlinewidth": 0,
              "ticks": ""
             }
            },
            "type": "scatter"
           }
          ],
          "scatter3d": [
           {
            "line": {
             "colorbar": {
              "outlinewidth": 0,
              "ticks": ""
             }
            },
            "marker": {
             "colorbar": {
              "outlinewidth": 0,
              "ticks": ""
             }
            },
            "type": "scatter3d"
           }
          ],
          "scattercarpet": [
           {
            "marker": {
             "colorbar": {
              "outlinewidth": 0,
              "ticks": ""
             }
            },
            "type": "scattercarpet"
           }
          ],
          "scattergeo": [
           {
            "marker": {
             "colorbar": {
              "outlinewidth": 0,
              "ticks": ""
             }
            },
            "type": "scattergeo"
           }
          ],
          "scattergl": [
           {
            "marker": {
             "colorbar": {
              "outlinewidth": 0,
              "ticks": ""
             }
            },
            "type": "scattergl"
           }
          ],
          "scattermapbox": [
           {
            "marker": {
             "colorbar": {
              "outlinewidth": 0,
              "ticks": ""
             }
            },
            "type": "scattermapbox"
           }
          ],
          "scatterpolar": [
           {
            "marker": {
             "colorbar": {
              "outlinewidth": 0,
              "ticks": ""
             }
            },
            "type": "scatterpolar"
           }
          ],
          "scatterpolargl": [
           {
            "marker": {
             "colorbar": {
              "outlinewidth": 0,
              "ticks": ""
             }
            },
            "type": "scatterpolargl"
           }
          ],
          "scatterternary": [
           {
            "marker": {
             "colorbar": {
              "outlinewidth": 0,
              "ticks": ""
             }
            },
            "type": "scatterternary"
           }
          ],
          "surface": [
           {
            "colorbar": {
             "outlinewidth": 0,
             "ticks": ""
            },
            "colorscale": [
             [
              0,
              "#0d0887"
             ],
             [
              0.1111111111111111,
              "#46039f"
             ],
             [
              0.2222222222222222,
              "#7201a8"
             ],
             [
              0.3333333333333333,
              "#9c179e"
             ],
             [
              0.4444444444444444,
              "#bd3786"
             ],
             [
              0.5555555555555556,
              "#d8576b"
             ],
             [
              0.6666666666666666,
              "#ed7953"
             ],
             [
              0.7777777777777778,
              "#fb9f3a"
             ],
             [
              0.8888888888888888,
              "#fdca26"
             ],
             [
              1,
              "#f0f921"
             ]
            ],
            "type": "surface"
           }
          ],
          "table": [
           {
            "cells": {
             "fill": {
              "color": "#EBF0F8"
             },
             "line": {
              "color": "white"
             }
            },
            "header": {
             "fill": {
              "color": "#C8D4E3"
             },
             "line": {
              "color": "white"
             }
            },
            "type": "table"
           }
          ]
         },
         "layout": {
          "annotationdefaults": {
           "arrowcolor": "#2a3f5f",
           "arrowhead": 0,
           "arrowwidth": 1
          },
          "coloraxis": {
           "colorbar": {
            "outlinewidth": 0,
            "ticks": ""
           }
          },
          "colorscale": {
           "diverging": [
            [
             0,
             "#8e0152"
            ],
            [
             0.1,
             "#c51b7d"
            ],
            [
             0.2,
             "#de77ae"
            ],
            [
             0.3,
             "#f1b6da"
            ],
            [
             0.4,
             "#fde0ef"
            ],
            [
             0.5,
             "#f7f7f7"
            ],
            [
             0.6,
             "#e6f5d0"
            ],
            [
             0.7,
             "#b8e186"
            ],
            [
             0.8,
             "#7fbc41"
            ],
            [
             0.9,
             "#4d9221"
            ],
            [
             1,
             "#276419"
            ]
           ],
           "sequential": [
            [
             0,
             "#0d0887"
            ],
            [
             0.1111111111111111,
             "#46039f"
            ],
            [
             0.2222222222222222,
             "#7201a8"
            ],
            [
             0.3333333333333333,
             "#9c179e"
            ],
            [
             0.4444444444444444,
             "#bd3786"
            ],
            [
             0.5555555555555556,
             "#d8576b"
            ],
            [
             0.6666666666666666,
             "#ed7953"
            ],
            [
             0.7777777777777778,
             "#fb9f3a"
            ],
            [
             0.8888888888888888,
             "#fdca26"
            ],
            [
             1,
             "#f0f921"
            ]
           ],
           "sequentialminus": [
            [
             0,
             "#0d0887"
            ],
            [
             0.1111111111111111,
             "#46039f"
            ],
            [
             0.2222222222222222,
             "#7201a8"
            ],
            [
             0.3333333333333333,
             "#9c179e"
            ],
            [
             0.4444444444444444,
             "#bd3786"
            ],
            [
             0.5555555555555556,
             "#d8576b"
            ],
            [
             0.6666666666666666,
             "#ed7953"
            ],
            [
             0.7777777777777778,
             "#fb9f3a"
            ],
            [
             0.8888888888888888,
             "#fdca26"
            ],
            [
             1,
             "#f0f921"
            ]
           ]
          },
          "colorway": [
           "#636efa",
           "#EF553B",
           "#00cc96",
           "#ab63fa",
           "#FFA15A",
           "#19d3f3",
           "#FF6692",
           "#B6E880",
           "#FF97FF",
           "#FECB52"
          ],
          "font": {
           "color": "#2a3f5f"
          },
          "geo": {
           "bgcolor": "white",
           "lakecolor": "white",
           "landcolor": "#E5ECF6",
           "showlakes": true,
           "showland": true,
           "subunitcolor": "white"
          },
          "hoverlabel": {
           "align": "left"
          },
          "hovermode": "closest",
          "mapbox": {
           "style": "light"
          },
          "paper_bgcolor": "white",
          "plot_bgcolor": "#E5ECF6",
          "polar": {
           "angularaxis": {
            "gridcolor": "white",
            "linecolor": "white",
            "ticks": ""
           },
           "bgcolor": "#E5ECF6",
           "radialaxis": {
            "gridcolor": "white",
            "linecolor": "white",
            "ticks": ""
           }
          },
          "scene": {
           "xaxis": {
            "backgroundcolor": "#E5ECF6",
            "gridcolor": "white",
            "gridwidth": 2,
            "linecolor": "white",
            "showbackground": true,
            "ticks": "",
            "zerolinecolor": "white"
           },
           "yaxis": {
            "backgroundcolor": "#E5ECF6",
            "gridcolor": "white",
            "gridwidth": 2,
            "linecolor": "white",
            "showbackground": true,
            "ticks": "",
            "zerolinecolor": "white"
           },
           "zaxis": {
            "backgroundcolor": "#E5ECF6",
            "gridcolor": "white",
            "gridwidth": 2,
            "linecolor": "white",
            "showbackground": true,
            "ticks": "",
            "zerolinecolor": "white"
           }
          },
          "shapedefaults": {
           "line": {
            "color": "#2a3f5f"
           }
          },
          "ternary": {
           "aaxis": {
            "gridcolor": "white",
            "linecolor": "white",
            "ticks": ""
           },
           "baxis": {
            "gridcolor": "white",
            "linecolor": "white",
            "ticks": ""
           },
           "bgcolor": "#E5ECF6",
           "caxis": {
            "gridcolor": "white",
            "linecolor": "white",
            "ticks": ""
           }
          },
          "title": {
           "x": 0.05
          },
          "xaxis": {
           "automargin": true,
           "gridcolor": "white",
           "linecolor": "white",
           "ticks": "",
           "title": {
            "standoff": 15
           },
           "zerolinecolor": "white",
           "zerolinewidth": 2
          },
          "yaxis": {
           "automargin": true,
           "gridcolor": "white",
           "linecolor": "white",
           "ticks": "",
           "title": {
            "standoff": 15
           },
           "zerolinecolor": "white",
           "zerolinewidth": 2
          }
         }
        },
        "xaxis": {
         "anchor": "y",
         "domain": [
          0,
          1
         ],
         "title": {
          "text": "Age"
         }
        },
        "yaxis": {
         "anchor": "x",
         "domain": [
          0,
          1
         ],
         "title": {
          "text": "count"
         }
        }
       }
      },
      "text/html": [
       "<div>                            <div id=\"a3a14819-f689-4ddf-95ef-91cb7e084010\" class=\"plotly-graph-div\" style=\"height:525px; width:100%;\"></div>            <script type=\"text/javascript\">                require([\"plotly\"], function(Plotly) {                    window.PLOTLYENV=window.PLOTLYENV || {};                                    if (document.getElementById(\"a3a14819-f689-4ddf-95ef-91cb7e084010\")) {                    Plotly.newPlot(                        \"a3a14819-f689-4ddf-95ef-91cb7e084010\",                        [{\"alignmentgroup\": \"True\", \"bingroup\": \"x\", \"hovertemplate\": \"Sex=1<br>Age=%{x}<br>count=%{y}<extra></extra>\", \"legendgroup\": \"1\", \"marker\": {\"color\": \"#636efa\", \"opacity\": 0.7}, \"name\": \"1\", \"offsetgroup\": \"1\", \"orientation\": \"v\", \"showlegend\": true, \"type\": \"histogram\", \"x\": [22.0, 35.0, \"29\", 54.0, 2.0, 20.0, 39.0, 2.0, \"29\", 35.0, 34.0, 28.0, \"29\", 19.0, \"29\", 40.0, 66.0, 28.0, 42.0, \"29\", 21.0, \"29\", \"29\", \"29\", \"29\", 7.0, 21.0, 65.0, \"29\", 28.5, 11.0, 22.0, 45.0, 4.0, \"29\", \"29\", 19.0, 26.0, 32.0, 21.0, 26.0, 32.0, 25.0, \"29\", \"29\", 0.83, 22.0, 29.0, 28.0, 16.0, \"29\", 24.0, 29.0, 20.0, 46.0, 26.0, 59.0, \"29\", 71.0, 23.0, 34.0, \"29\", 21.0, 33.0, 37.0, 28.0, \"29\", 38.0, 47.0, 22.0, 21.0, 70.5, 29.0, 24.0, 21.0, \"29\", 32.5, 54.0, 12.0, \"29\", 24.0, 45.0, 33.0, 20.0, 25.0, 23.0, 37.0, 16.0, 24.0, 19.0, 18.0, 19.0, 27.0, 36.5, 42.0, 51.0, 55.5, 40.5, \"29\", 51.0, 30.0, \"29\", \"29\", 44.0, 26.0, 17.0, 1.0, 9.0, \"29\", 28.0, 61.0, 4.0, 21.0, 56.0, 18.0, \"29\", 30.0, 36.0, \"29\", 9.0, 1.0, \"29\", 45.0, 40.0, 36.0, 19.0, 3.0, \"29\", 42.0, 28.0, \"29\", 34.0, 45.5, 18.0, 32.0, 26.0, 40.0, 24.0, 22.0, 30.0, \"29\", 42.0, 30.0, 16.0, 27.0, 51.0, \"29\", 38.0, 22.0, 19.0, 20.5, 18.0, 29.0, 59.0, 24.0, 44.0, 19.0, 33.0, 29.0, 22.0, 30.0, 44.0, 37.0, 54.0, \"29\", 62.0, 30.0, \"29\", 3.0, 52.0, 40.0, 36.0, 16.0, 25.0, \"29\", 25.0, 37.0, \"29\", 7.0, 65.0, 28.0, 16.0, 19.0, \"29\", 33.0, 30.0, 22.0, 42.0, 36.0, 24.0, \"29\", 23.5, \"29\", \"29\", 19.0, \"29\", 0.92, 30.0, 28.0, 43.0, 54.0, 22.0, 27.0, \"29\", 61.0, 45.5, 38.0, 16.0, \"29\", 29.0, 45.0, 45.0, 2.0, 28.0, 25.0, 36.0, 3.0, 42.0, 23.0, \"29\", 15.0, 25.0, \"29\", 28.0, 40.0, 29.0, 35.0, \"29\", 30.0, 25.0, 18.0, 19.0, 22.0, 27.0, 20.0, 19.0, 32.0, \"29\", 18.0, 1.0, \"29\", 36.0, 21.0, 28.0, 22.0, 46.0, 23.0, 39.0, 26.0, 28.0, 34.0, 51.0, 3.0, 21.0, \"29\", \"29\", \"29\", 44.0, 30.0, \"29\", 21.0, 29.0, 18.0, \"29\", \"29\", 32.0, 28.0, 17.0, 50.0, 64.0, 31.0, 20.0, 25.0, \"29\", 4.0, 34.0, 52.0, 36.0, \"29\", 30.0, 49.0, \"29\", 29.0, 65.0, \"29\", 48.0, 34.0, 47.0, 48.0, \"29\", 38.0, \"29\", 56.0, \"29\", \"29\", 38.0, \"29\", 34.0, 29.0, 22.0, 9.0, \"29\", 50.0, 25.0, 58.0, 30.0, 9.0, \"29\", 21.0, 55.0, 71.0, 21.0, \"29\", \"29\", 24.0, 17.0, 18.0, \"29\", 28.0, 26.0, 29.0, \"29\", 36.0, 24.0, 47.0, \"29\", 32.0, 22.0, \"29\", \"29\", 40.5, \"29\", 39.0, 23.0, \"29\", 17.0, 45.0, \"29\", 32.0, 50.0, 64.0, \"29\", 33.0, 8.0, 17.0, 27.0, \"29\", 22.0, 62.0, \"29\", \"29\", 40.0, 28.0, \"29\", 24.0, 19.0, \"29\", 32.0, 62.0, 36.0, 16.0, 19.0, 32.0, 54.0, 36.0, \"29\", 47.0, 60.0, 22.0, \"29\", 35.0, 47.0, 37.0, 36.0, 49.0, \"29\", 49.0, \"29\", \"29\", 44.0, 35.0, 36.0, 30.0, 27.0, \"29\", \"29\", 35.0, 34.0, 26.0, 27.0, 42.0, 20.0, 21.0, 21.0, 61.0, 57.0, 26.0, \"29\", 80.0, 51.0, 32.0, \"29\", 32.0, 31.0, \"29\", 20.0, \"29\", 48.0, 19.0, 56.0, \"29\", \"29\", 21.0, 24.0, \"29\", 23.0, 58.0, 50.0, 40.0, 47.0, 36.0, 20.0, 32.0, 25.0, \"29\", 43.0, 31.0, 70.0, 31.0, \"29\", 18.0, 24.5, 36.0, 27.0, 20.0, 14.0, 60.0, 25.0, 14.0, 19.0, 18.0, 31.0, \"29\", 25.0, 60.0, 52.0, 44.0, 49.0, 42.0, 35.0, 25.0, 26.0, 39.0, 42.0, \"29\", \"29\", 48.0, 29.0, 52.0, 19.0, \"29\", 33.0, 17.0, 34.0, 50.0, 27.0, 20.0, 25.0, 11.0, \"29\", 23.0, 23.0, 28.5, 35.0, \"29\", \"29\", \"29\", 36.0, 24.0, 31.0, 70.0, 16.0, 19.0, 31.0, 6.0, 33.0, 23.0, 0.67, 28.0, 18.0, 34.0, \"29\", 41.0, 20.0, 16.0, \"29\", \"29\", 32.0, 24.0, 48.0, \"29\", 18.0, \"29\", \"29\", 29.0, \"29\", 25.0, 25.0, 8.0, 1.0, 46.0, \"29\", 16.0, \"29\", 25.0, 39.0, 30.0, 34.0, 11.0, 0.42, 27.0, 31.0, 39.0, 39.0, 26.0, 39.0, 35.0, 30.5, \"29\", 31.0, 43.0, 10.0, 27.0, 38.0, 2.0, \"29\", \"29\", 1.0, \"29\", 0.83, \"29\", 23.0, 18.0, 21.0, \"29\", 32.0, \"29\", 20.0, 16.0, 34.5, 17.0, 42.0, \"29\", 35.0, 28.0, 4.0, 74.0, 51.0, \"29\", 41.0, 21.0, 24.0, 31.0, \"29\", 4.0, 26.0, 33.0, 47.0, 20.0, 19.0, \"29\", 33.0, 28.0, 25.0, 27.0, 26.0, 32.0], \"xaxis\": \"x\", \"yaxis\": \"y\"}, {\"alignmentgroup\": \"True\", \"bingroup\": \"x\", \"hovertemplate\": \"Sex=0<br>Age=%{x}<br>count=%{y}<extra></extra>\", \"legendgroup\": \"0\", \"marker\": {\"color\": \"#EF553B\", \"opacity\": 0.7}, \"name\": \"0\", \"offsetgroup\": \"0\", \"orientation\": \"v\", \"showlegend\": true, \"type\": \"histogram\", \"x\": [38.0, 26.0, 35.0, 27.0, 14.0, 4.0, 58.0, 14.0, 55.0, 31.0, \"29\", 15.0, 8.0, 38.0, \"29\", \"29\", \"29\", 18.0, 14.0, 40.0, 27.0, 3.0, 19.0, \"29\", 18.0, 49.0, 29.0, 21.0, 5.0, 38.0, 29.0, 17.0, 16.0, 30.0, \"29\", 17.0, 33.0, 23.0, 34.0, 28.0, 21.0, \"29\", 14.5, 20.0, 17.0, 2.0, 32.5, \"29\", 47.0, 29.0, 19.0, \"29\", 22.0, 24.0, 9.0, 22.0, 16.0, 40.0, \"29\", 45.0, 1.0, 50.0, \"29\", 4.0, \"29\", 32.0, 19.0, 44.0, 58.0, \"29\", 24.0, 2.0, 16.0, 35.0, 31.0, 27.0, 32.0, \"29\", 35.0, 5.0, \"29\", 8.0, \"29\", \"29\", 25.0, 24.0, 29.0, 41.0, 29.0, \"29\", 30.0, 35.0, 50.0, \"29\", 58.0, 35.0, 41.0, \"29\", 63.0, 45.0, 35.0, 22.0, 26.0, 19.0, 24.0, 2.0, 50.0, \"29\", \"29\", \"29\", 17.0, 30.0, 24.0, 18.0, 26.0, 26.0, 24.0, 31.0, 40.0, 30.0, 22.0, 36.0, 36.0, 31.0, 16.0, \"29\", \"29\", 41.0, 24.0, 24.0, 40.0, \"29\", 22.0, 38.0, \"29\", \"29\", 45.0, 60.0, \"29\", \"29\", 24.0, 3.0, \"29\", 22.0, 42.0, 1.0, 35.0, 36.0, 17.0, 23.0, 24.0, 31.0, 28.0, 21.0, 20.0, \"29\", 33.0, \"29\", 34.0, 18.0, 10.0, 28.0, 28.0, 19.0, \"29\", 42.0, 14.0, 21.0, 24.0, 45.0, 28.0, 13.0, 5.0, \"29\", 50.0, 0.75, 33.0, 23.0, 22.0, 2.0, 63.0, \"29\", 35.0, 54.0, 25.0, 21.0, \"29\", 37.0, 16.0, 33.0, 54.0, 34.0, 36.0, 30.0, 44.0, 50.0, 2.0, \"29\", 30.0, 7.0, 30.0, 22.0, 36.0, 9.0, 11.0, 19.0, 22.0, 48.0, 39.0, 36.0, \"29\", 29.0, 53.0, \"29\", 34.0, 39.0, \"29\", 25.0, 39.0, 18.0, 52.0, \"29\", \"29\", 24.0, 22.0, 40.0, 39.0, \"29\", 24.0, 26.0, 4.0, 21.0, 9.0, 28.0, 41.0, 24.0, 2.0, 0.75, 23.0, 18.0, \"29\", 18.0, 32.0, \"29\", 40.0, 18.0, 43.0, \"29\", 15.0, 4.0, \"29\", 18.0, 18.0, 45.0, 22.0, 24.0, 38.0, 27.0, 6.0, 30.0, \"29\", 25.0, 29.0, 48.0, 21.0, 30.0, 4.0, 48.0, 33.0, 36.0, 51.0, 30.5, 57.0, 54.0, 5.0, 43.0, 13.0, 17.0, 18.0, \"29\", 49.0, 31.0, 30.0, 31.0, 18.0, 33.0, 6.0, 23.0, 52.0, 27.0, 62.0, 15.0, 39.0, 30.0, \"29\", 9.0, 16.0, 44.0, 18.0, 45.0, 24.0, 48.0, \"29\", 42.0, 27.0, 47.0, 28.0, 15.0, 56.0, 25.0, 22.0, 39.0, 19.0, \"29\"], \"xaxis\": \"x\", \"yaxis\": \"y\"}],                        {\"barmode\": \"relative\", \"legend\": {\"title\": {\"text\": \"Sex\"}, \"tracegroupgap\": 0}, \"margin\": {\"t\": 60}, \"template\": {\"data\": {\"bar\": [{\"error_x\": {\"color\": \"#2a3f5f\"}, \"error_y\": {\"color\": \"#2a3f5f\"}, \"marker\": {\"line\": {\"color\": \"#E5ECF6\", \"width\": 0.5}}, \"type\": \"bar\"}], \"barpolar\": [{\"marker\": {\"line\": {\"color\": \"#E5ECF6\", \"width\": 0.5}}, \"type\": \"barpolar\"}], \"carpet\": [{\"aaxis\": {\"endlinecolor\": \"#2a3f5f\", \"gridcolor\": \"white\", \"linecolor\": \"white\", \"minorgridcolor\": \"white\", \"startlinecolor\": \"#2a3f5f\"}, \"baxis\": {\"endlinecolor\": \"#2a3f5f\", \"gridcolor\": \"white\", \"linecolor\": \"white\", \"minorgridcolor\": \"white\", \"startlinecolor\": \"#2a3f5f\"}, \"type\": \"carpet\"}], \"choropleth\": [{\"colorbar\": {\"outlinewidth\": 0, \"ticks\": \"\"}, \"type\": \"choropleth\"}], \"contour\": [{\"colorbar\": {\"outlinewidth\": 0, \"ticks\": \"\"}, \"colorscale\": [[0.0, \"#0d0887\"], [0.1111111111111111, \"#46039f\"], [0.2222222222222222, \"#7201a8\"], [0.3333333333333333, \"#9c179e\"], [0.4444444444444444, \"#bd3786\"], [0.5555555555555556, \"#d8576b\"], [0.6666666666666666, \"#ed7953\"], [0.7777777777777778, \"#fb9f3a\"], [0.8888888888888888, \"#fdca26\"], [1.0, \"#f0f921\"]], \"type\": \"contour\"}], \"contourcarpet\": [{\"colorbar\": {\"outlinewidth\": 0, \"ticks\": \"\"}, \"type\": \"contourcarpet\"}], \"heatmap\": [{\"colorbar\": {\"outlinewidth\": 0, \"ticks\": \"\"}, \"colorscale\": [[0.0, \"#0d0887\"], [0.1111111111111111, \"#46039f\"], [0.2222222222222222, \"#7201a8\"], [0.3333333333333333, \"#9c179e\"], [0.4444444444444444, \"#bd3786\"], [0.5555555555555556, \"#d8576b\"], [0.6666666666666666, \"#ed7953\"], [0.7777777777777778, \"#fb9f3a\"], [0.8888888888888888, \"#fdca26\"], [1.0, \"#f0f921\"]], \"type\": \"heatmap\"}], \"heatmapgl\": [{\"colorbar\": {\"outlinewidth\": 0, \"ticks\": \"\"}, \"colorscale\": [[0.0, \"#0d0887\"], [0.1111111111111111, \"#46039f\"], [0.2222222222222222, \"#7201a8\"], [0.3333333333333333, \"#9c179e\"], [0.4444444444444444, \"#bd3786\"], [0.5555555555555556, \"#d8576b\"], [0.6666666666666666, \"#ed7953\"], [0.7777777777777778, \"#fb9f3a\"], [0.8888888888888888, \"#fdca26\"], [1.0, \"#f0f921\"]], \"type\": \"heatmapgl\"}], \"histogram\": [{\"marker\": {\"colorbar\": {\"outlinewidth\": 0, \"ticks\": \"\"}}, \"type\": \"histogram\"}], \"histogram2d\": [{\"colorbar\": {\"outlinewidth\": 0, \"ticks\": \"\"}, \"colorscale\": [[0.0, \"#0d0887\"], [0.1111111111111111, \"#46039f\"], [0.2222222222222222, \"#7201a8\"], [0.3333333333333333, \"#9c179e\"], [0.4444444444444444, \"#bd3786\"], [0.5555555555555556, \"#d8576b\"], [0.6666666666666666, \"#ed7953\"], [0.7777777777777778, \"#fb9f3a\"], [0.8888888888888888, \"#fdca26\"], [1.0, \"#f0f921\"]], \"type\": \"histogram2d\"}], \"histogram2dcontour\": [{\"colorbar\": {\"outlinewidth\": 0, \"ticks\": \"\"}, \"colorscale\": [[0.0, \"#0d0887\"], [0.1111111111111111, \"#46039f\"], [0.2222222222222222, \"#7201a8\"], [0.3333333333333333, \"#9c179e\"], [0.4444444444444444, \"#bd3786\"], [0.5555555555555556, \"#d8576b\"], [0.6666666666666666, \"#ed7953\"], [0.7777777777777778, \"#fb9f3a\"], [0.8888888888888888, \"#fdca26\"], [1.0, \"#f0f921\"]], \"type\": \"histogram2dcontour\"}], \"mesh3d\": [{\"colorbar\": {\"outlinewidth\": 0, \"ticks\": \"\"}, \"type\": \"mesh3d\"}], \"parcoords\": [{\"line\": {\"colorbar\": {\"outlinewidth\": 0, \"ticks\": \"\"}}, \"type\": \"parcoords\"}], \"pie\": [{\"automargin\": true, \"type\": \"pie\"}], \"scatter\": [{\"marker\": {\"colorbar\": {\"outlinewidth\": 0, \"ticks\": \"\"}}, \"type\": \"scatter\"}], \"scatter3d\": [{\"line\": {\"colorbar\": {\"outlinewidth\": 0, \"ticks\": \"\"}}, \"marker\": {\"colorbar\": {\"outlinewidth\": 0, \"ticks\": \"\"}}, \"type\": \"scatter3d\"}], \"scattercarpet\": [{\"marker\": {\"colorbar\": {\"outlinewidth\": 0, \"ticks\": \"\"}}, \"type\": \"scattercarpet\"}], \"scattergeo\": [{\"marker\": {\"colorbar\": {\"outlinewidth\": 0, \"ticks\": \"\"}}, \"type\": \"scattergeo\"}], \"scattergl\": [{\"marker\": {\"colorbar\": {\"outlinewidth\": 0, \"ticks\": \"\"}}, \"type\": \"scattergl\"}], \"scattermapbox\": [{\"marker\": {\"colorbar\": {\"outlinewidth\": 0, \"ticks\": \"\"}}, \"type\": \"scattermapbox\"}], \"scatterpolar\": [{\"marker\": {\"colorbar\": {\"outlinewidth\": 0, \"ticks\": \"\"}}, \"type\": \"scatterpolar\"}], \"scatterpolargl\": [{\"marker\": {\"colorbar\": {\"outlinewidth\": 0, \"ticks\": \"\"}}, \"type\": \"scatterpolargl\"}], \"scatterternary\": [{\"marker\": {\"colorbar\": {\"outlinewidth\": 0, \"ticks\": \"\"}}, \"type\": \"scatterternary\"}], \"surface\": [{\"colorbar\": {\"outlinewidth\": 0, \"ticks\": \"\"}, \"colorscale\": [[0.0, \"#0d0887\"], [0.1111111111111111, \"#46039f\"], [0.2222222222222222, \"#7201a8\"], [0.3333333333333333, \"#9c179e\"], [0.4444444444444444, \"#bd3786\"], [0.5555555555555556, \"#d8576b\"], [0.6666666666666666, \"#ed7953\"], [0.7777777777777778, \"#fb9f3a\"], [0.8888888888888888, \"#fdca26\"], [1.0, \"#f0f921\"]], \"type\": \"surface\"}], \"table\": [{\"cells\": {\"fill\": {\"color\": \"#EBF0F8\"}, \"line\": {\"color\": \"white\"}}, \"header\": {\"fill\": {\"color\": \"#C8D4E3\"}, \"line\": {\"color\": \"white\"}}, \"type\": \"table\"}]}, \"layout\": {\"annotationdefaults\": {\"arrowcolor\": \"#2a3f5f\", \"arrowhead\": 0, \"arrowwidth\": 1}, \"coloraxis\": {\"colorbar\": {\"outlinewidth\": 0, \"ticks\": \"\"}}, \"colorscale\": {\"diverging\": [[0, \"#8e0152\"], [0.1, \"#c51b7d\"], [0.2, \"#de77ae\"], [0.3, \"#f1b6da\"], [0.4, \"#fde0ef\"], [0.5, \"#f7f7f7\"], [0.6, \"#e6f5d0\"], [0.7, \"#b8e186\"], [0.8, \"#7fbc41\"], [0.9, \"#4d9221\"], [1, \"#276419\"]], \"sequential\": [[0.0, \"#0d0887\"], [0.1111111111111111, \"#46039f\"], [0.2222222222222222, \"#7201a8\"], [0.3333333333333333, \"#9c179e\"], [0.4444444444444444, \"#bd3786\"], [0.5555555555555556, \"#d8576b\"], [0.6666666666666666, \"#ed7953\"], [0.7777777777777778, \"#fb9f3a\"], [0.8888888888888888, \"#fdca26\"], [1.0, \"#f0f921\"]], \"sequentialminus\": [[0.0, \"#0d0887\"], [0.1111111111111111, \"#46039f\"], [0.2222222222222222, \"#7201a8\"], [0.3333333333333333, \"#9c179e\"], [0.4444444444444444, \"#bd3786\"], [0.5555555555555556, \"#d8576b\"], [0.6666666666666666, \"#ed7953\"], [0.7777777777777778, \"#fb9f3a\"], [0.8888888888888888, \"#fdca26\"], [1.0, \"#f0f921\"]]}, \"colorway\": [\"#636efa\", \"#EF553B\", \"#00cc96\", \"#ab63fa\", \"#FFA15A\", \"#19d3f3\", \"#FF6692\", \"#B6E880\", \"#FF97FF\", \"#FECB52\"], \"font\": {\"color\": \"#2a3f5f\"}, \"geo\": {\"bgcolor\": \"white\", \"lakecolor\": \"white\", \"landcolor\": \"#E5ECF6\", \"showlakes\": true, \"showland\": true, \"subunitcolor\": \"white\"}, \"hoverlabel\": {\"align\": \"left\"}, \"hovermode\": \"closest\", \"mapbox\": {\"style\": \"light\"}, \"paper_bgcolor\": \"white\", \"plot_bgcolor\": \"#E5ECF6\", \"polar\": {\"angularaxis\": {\"gridcolor\": \"white\", \"linecolor\": \"white\", \"ticks\": \"\"}, \"bgcolor\": \"#E5ECF6\", \"radialaxis\": {\"gridcolor\": \"white\", \"linecolor\": \"white\", \"ticks\": \"\"}}, \"scene\": {\"xaxis\": {\"backgroundcolor\": \"#E5ECF6\", \"gridcolor\": \"white\", \"gridwidth\": 2, \"linecolor\": \"white\", \"showbackground\": true, \"ticks\": \"\", \"zerolinecolor\": \"white\"}, \"yaxis\": {\"backgroundcolor\": \"#E5ECF6\", \"gridcolor\": \"white\", \"gridwidth\": 2, \"linecolor\": \"white\", \"showbackground\": true, \"ticks\": \"\", \"zerolinecolor\": \"white\"}, \"zaxis\": {\"backgroundcolor\": \"#E5ECF6\", \"gridcolor\": \"white\", \"gridwidth\": 2, \"linecolor\": \"white\", \"showbackground\": true, \"ticks\": \"\", \"zerolinecolor\": \"white\"}}, \"shapedefaults\": {\"line\": {\"color\": \"#2a3f5f\"}}, \"ternary\": {\"aaxis\": {\"gridcolor\": \"white\", \"linecolor\": \"white\", \"ticks\": \"\"}, \"baxis\": {\"gridcolor\": \"white\", \"linecolor\": \"white\", \"ticks\": \"\"}, \"bgcolor\": \"#E5ECF6\", \"caxis\": {\"gridcolor\": \"white\", \"linecolor\": \"white\", \"ticks\": \"\"}}, \"title\": {\"x\": 0.05}, \"xaxis\": {\"automargin\": true, \"gridcolor\": \"white\", \"linecolor\": \"white\", \"ticks\": \"\", \"title\": {\"standoff\": 15}, \"zerolinecolor\": \"white\", \"zerolinewidth\": 2}, \"yaxis\": {\"automargin\": true, \"gridcolor\": \"white\", \"linecolor\": \"white\", \"ticks\": \"\", \"title\": {\"standoff\": 15}, \"zerolinecolor\": \"white\", \"zerolinewidth\": 2}}}, \"xaxis\": {\"anchor\": \"y\", \"domain\": [0.0, 1.0], \"title\": {\"text\": \"Age\"}}, \"yaxis\": {\"anchor\": \"x\", \"domain\": [0.0, 1.0], \"title\": {\"text\": \"count\"}}},                        {\"responsive\": true}                    ).then(function(){\n",
       "                            \n",
       "var gd = document.getElementById('a3a14819-f689-4ddf-95ef-91cb7e084010');\n",
       "var x = new MutationObserver(function (mutations, observer) {{\n",
       "        var display = window.getComputedStyle(gd).display;\n",
       "        if (!display || display === 'none') {{\n",
       "            console.log([gd, 'removed!']);\n",
       "            Plotly.purge(gd);\n",
       "            observer.disconnect();\n",
       "        }}\n",
       "}});\n",
       "\n",
       "// Listen for the removal of the full notebook cells\n",
       "var notebookContainer = gd.closest('#notebook-container');\n",
       "if (notebookContainer) {{\n",
       "    x.observe(notebookContainer, {childList: true});\n",
       "}}\n",
       "\n",
       "// Listen for the clearing of the current output cell\n",
       "var outputEl = gd.closest('.output');\n",
       "if (outputEl) {{\n",
       "    x.observe(outputEl, {childList: true});\n",
       "}}\n",
       "\n",
       "                        })                };                });            </script>        </div>"
      ]
     },
     "metadata": {},
     "output_type": "display_data"
    }
   ],
   "source": [
    "# Age purely versus Gender\n",
    "px.histogram(titanic,x = \"Age\", opacity = 0.7, color = \"Sex\")"
   ]
  },
  {
   "cell_type": "raw",
   "metadata": {},
   "source": [
    "3. Using the function df.corr() to identify the correlation within the data, represent its results using a form of a matrix plot"
   ]
  },
  {
   "cell_type": "code",
   "execution_count": 284,
   "metadata": {},
   "outputs": [
    {
     "data": {
      "text/html": [
       "<div>\n",
       "<style scoped>\n",
       "    .dataframe tbody tr th:only-of-type {\n",
       "        vertical-align: middle;\n",
       "    }\n",
       "\n",
       "    .dataframe tbody tr th {\n",
       "        vertical-align: top;\n",
       "    }\n",
       "\n",
       "    .dataframe thead th {\n",
       "        text-align: right;\n",
       "    }\n",
       "</style>\n",
       "<table border=\"1\" class=\"dataframe\">\n",
       "  <thead>\n",
       "    <tr style=\"text-align: right;\">\n",
       "      <th></th>\n",
       "      <th>PassengerId</th>\n",
       "      <th>Survived</th>\n",
       "      <th>Pclass</th>\n",
       "      <th>Sex</th>\n",
       "      <th>SibSp</th>\n",
       "      <th>Parch</th>\n",
       "      <th>Fare</th>\n",
       "    </tr>\n",
       "  </thead>\n",
       "  <tbody>\n",
       "    <tr>\n",
       "      <th>PassengerId</th>\n",
       "      <td>1.000000</td>\n",
       "      <td>-0.004090</td>\n",
       "      <td>-0.026824</td>\n",
       "      <td>0.035079</td>\n",
       "      <td>-0.048394</td>\n",
       "      <td>0.000798</td>\n",
       "      <td>-0.008921</td>\n",
       "    </tr>\n",
       "    <tr>\n",
       "      <th>Survived</th>\n",
       "      <td>-0.004090</td>\n",
       "      <td>1.000000</td>\n",
       "      <td>-0.323533</td>\n",
       "      <td>-0.543351</td>\n",
       "      <td>0.085915</td>\n",
       "      <td>0.133933</td>\n",
       "      <td>0.266229</td>\n",
       "    </tr>\n",
       "    <tr>\n",
       "      <th>Pclass</th>\n",
       "      <td>-0.026824</td>\n",
       "      <td>-0.323533</td>\n",
       "      <td>1.000000</td>\n",
       "      <td>0.129325</td>\n",
       "      <td>-0.039552</td>\n",
       "      <td>-0.021019</td>\n",
       "      <td>-0.573531</td>\n",
       "    </tr>\n",
       "    <tr>\n",
       "      <th>Sex</th>\n",
       "      <td>0.035079</td>\n",
       "      <td>-0.543351</td>\n",
       "      <td>0.129325</td>\n",
       "      <td>1.000000</td>\n",
       "      <td>-0.188694</td>\n",
       "      <td>-0.246536</td>\n",
       "      <td>-0.213480</td>\n",
       "    </tr>\n",
       "    <tr>\n",
       "      <th>SibSp</th>\n",
       "      <td>-0.048394</td>\n",
       "      <td>0.085915</td>\n",
       "      <td>-0.039552</td>\n",
       "      <td>-0.188694</td>\n",
       "      <td>1.000000</td>\n",
       "      <td>0.425241</td>\n",
       "      <td>0.358262</td>\n",
       "    </tr>\n",
       "    <tr>\n",
       "      <th>Parch</th>\n",
       "      <td>0.000798</td>\n",
       "      <td>0.133933</td>\n",
       "      <td>-0.021019</td>\n",
       "      <td>-0.246536</td>\n",
       "      <td>0.425241</td>\n",
       "      <td>1.000000</td>\n",
       "      <td>0.330360</td>\n",
       "    </tr>\n",
       "    <tr>\n",
       "      <th>Fare</th>\n",
       "      <td>-0.008921</td>\n",
       "      <td>0.266229</td>\n",
       "      <td>-0.573531</td>\n",
       "      <td>-0.213480</td>\n",
       "      <td>0.358262</td>\n",
       "      <td>0.330360</td>\n",
       "      <td>1.000000</td>\n",
       "    </tr>\n",
       "  </tbody>\n",
       "</table>\n",
       "</div>"
      ],
      "text/plain": [
       "             PassengerId  Survived    Pclass       Sex     SibSp     Parch  \\\n",
       "PassengerId     1.000000 -0.004090 -0.026824  0.035079 -0.048394  0.000798   \n",
       "Survived       -0.004090  1.000000 -0.323533 -0.543351  0.085915  0.133933   \n",
       "Pclass         -0.026824 -0.323533  1.000000  0.129325 -0.039552 -0.021019   \n",
       "Sex             0.035079 -0.543351  0.129325  1.000000 -0.188694 -0.246536   \n",
       "SibSp          -0.048394  0.085915 -0.039552 -0.188694  1.000000  0.425241   \n",
       "Parch           0.000798  0.133933 -0.021019 -0.246536  0.425241  1.000000   \n",
       "Fare           -0.008921  0.266229 -0.573531 -0.213480  0.358262  0.330360   \n",
       "\n",
       "                 Fare  \n",
       "PassengerId -0.008921  \n",
       "Survived     0.266229  \n",
       "Pclass      -0.573531  \n",
       "Sex         -0.213480  \n",
       "SibSp        0.358262  \n",
       "Parch        0.330360  \n",
       "Fare         1.000000  "
      ]
     },
     "execution_count": 284,
     "metadata": {},
     "output_type": "execute_result"
    }
   ],
   "source": [
    "#understanding the data correlation.\n",
    "titanic.corr(method ='kendall') "
   ]
  },
  {
   "cell_type": "code",
   "execution_count": 285,
   "metadata": {},
   "outputs": [
    {
     "data": {
      "text/html": [
       "<div>\n",
       "<style scoped>\n",
       "    .dataframe tbody tr th:only-of-type {\n",
       "        vertical-align: middle;\n",
       "    }\n",
       "\n",
       "    .dataframe tbody tr th {\n",
       "        vertical-align: top;\n",
       "    }\n",
       "\n",
       "    .dataframe thead th {\n",
       "        text-align: right;\n",
       "    }\n",
       "</style>\n",
       "<table border=\"1\" class=\"dataframe\">\n",
       "  <thead>\n",
       "    <tr style=\"text-align: right;\">\n",
       "      <th></th>\n",
       "      <th>PassengerId</th>\n",
       "      <th>Survived</th>\n",
       "      <th>Pclass</th>\n",
       "      <th>Sex</th>\n",
       "      <th>SibSp</th>\n",
       "      <th>Parch</th>\n",
       "      <th>Fare</th>\n",
       "    </tr>\n",
       "  </thead>\n",
       "  <tbody>\n",
       "    <tr>\n",
       "      <th>PassengerId</th>\n",
       "      <td>1.000000</td>\n",
       "      <td>-0.005007</td>\n",
       "      <td>-0.035144</td>\n",
       "      <td>0.042939</td>\n",
       "      <td>-0.057527</td>\n",
       "      <td>-0.001652</td>\n",
       "      <td>0.012658</td>\n",
       "    </tr>\n",
       "    <tr>\n",
       "      <th>Survived</th>\n",
       "      <td>-0.005007</td>\n",
       "      <td>1.000000</td>\n",
       "      <td>-0.338481</td>\n",
       "      <td>-0.543351</td>\n",
       "      <td>-0.035322</td>\n",
       "      <td>0.081629</td>\n",
       "      <td>0.257307</td>\n",
       "    </tr>\n",
       "    <tr>\n",
       "      <th>Pclass</th>\n",
       "      <td>-0.035144</td>\n",
       "      <td>-0.338481</td>\n",
       "      <td>1.000000</td>\n",
       "      <td>0.131900</td>\n",
       "      <td>0.083081</td>\n",
       "      <td>0.018443</td>\n",
       "      <td>-0.549500</td>\n",
       "    </tr>\n",
       "    <tr>\n",
       "      <th>Sex</th>\n",
       "      <td>0.042939</td>\n",
       "      <td>-0.543351</td>\n",
       "      <td>0.131900</td>\n",
       "      <td>1.000000</td>\n",
       "      <td>-0.114631</td>\n",
       "      <td>-0.245489</td>\n",
       "      <td>-0.182333</td>\n",
       "    </tr>\n",
       "    <tr>\n",
       "      <th>SibSp</th>\n",
       "      <td>-0.057527</td>\n",
       "      <td>-0.035322</td>\n",
       "      <td>0.083081</td>\n",
       "      <td>-0.114631</td>\n",
       "      <td>1.000000</td>\n",
       "      <td>0.414838</td>\n",
       "      <td>0.159651</td>\n",
       "    </tr>\n",
       "    <tr>\n",
       "      <th>Parch</th>\n",
       "      <td>-0.001652</td>\n",
       "      <td>0.081629</td>\n",
       "      <td>0.018443</td>\n",
       "      <td>-0.245489</td>\n",
       "      <td>0.414838</td>\n",
       "      <td>1.000000</td>\n",
       "      <td>0.216225</td>\n",
       "    </tr>\n",
       "    <tr>\n",
       "      <th>Fare</th>\n",
       "      <td>0.012658</td>\n",
       "      <td>0.257307</td>\n",
       "      <td>-0.549500</td>\n",
       "      <td>-0.182333</td>\n",
       "      <td>0.159651</td>\n",
       "      <td>0.216225</td>\n",
       "      <td>1.000000</td>\n",
       "    </tr>\n",
       "  </tbody>\n",
       "</table>\n",
       "</div>"
      ],
      "text/plain": [
       "             PassengerId  Survived    Pclass       Sex     SibSp     Parch  \\\n",
       "PassengerId     1.000000 -0.005007 -0.035144  0.042939 -0.057527 -0.001652   \n",
       "Survived       -0.005007  1.000000 -0.338481 -0.543351 -0.035322  0.081629   \n",
       "Pclass         -0.035144 -0.338481  1.000000  0.131900  0.083081  0.018443   \n",
       "Sex             0.042939 -0.543351  0.131900  1.000000 -0.114631 -0.245489   \n",
       "SibSp          -0.057527 -0.035322  0.083081 -0.114631  1.000000  0.414838   \n",
       "Parch          -0.001652  0.081629  0.018443 -0.245489  0.414838  1.000000   \n",
       "Fare            0.012658  0.257307 -0.549500 -0.182333  0.159651  0.216225   \n",
       "\n",
       "                 Fare  \n",
       "PassengerId  0.012658  \n",
       "Survived     0.257307  \n",
       "Pclass      -0.549500  \n",
       "Sex         -0.182333  \n",
       "SibSp        0.159651  \n",
       "Parch        0.216225  \n",
       "Fare         1.000000  "
      ]
     },
     "execution_count": 285,
     "metadata": {},
     "output_type": "execute_result"
    }
   ],
   "source": [
    "titanic.corr(method ='pearson') "
   ]
  },
  {
   "cell_type": "code",
   "execution_count": null,
   "metadata": {},
   "outputs": [],
   "source": [
    "\n",
    " "
   ]
  },
  {
   "cell_type": "code",
   "execution_count": 286,
   "metadata": {},
   "outputs": [
    {
     "data": {
      "text/html": [
       "<div>\n",
       "<style scoped>\n",
       "    .dataframe tbody tr th:only-of-type {\n",
       "        vertical-align: middle;\n",
       "    }\n",
       "\n",
       "    .dataframe tbody tr th {\n",
       "        vertical-align: top;\n",
       "    }\n",
       "\n",
       "    .dataframe thead th {\n",
       "        text-align: right;\n",
       "    }\n",
       "</style>\n",
       "<table border=\"1\" class=\"dataframe\">\n",
       "  <thead>\n",
       "    <tr style=\"text-align: right;\">\n",
       "      <th></th>\n",
       "      <th>Sex</th>\n",
       "      <th>Age</th>\n",
       "      <th>Fare</th>\n",
       "      <th>Survived</th>\n",
       "      <th>Pclass</th>\n",
       "    </tr>\n",
       "  </thead>\n",
       "  <tbody>\n",
       "    <tr>\n",
       "      <th>0</th>\n",
       "      <td>1</td>\n",
       "      <td>22</td>\n",
       "      <td>7.2500</td>\n",
       "      <td>1</td>\n",
       "      <td>3</td>\n",
       "    </tr>\n",
       "    <tr>\n",
       "      <th>1</th>\n",
       "      <td>0</td>\n",
       "      <td>38</td>\n",
       "      <td>71.2833</td>\n",
       "      <td>2</td>\n",
       "      <td>1</td>\n",
       "    </tr>\n",
       "    <tr>\n",
       "      <th>2</th>\n",
       "      <td>0</td>\n",
       "      <td>26</td>\n",
       "      <td>7.9250</td>\n",
       "      <td>3</td>\n",
       "      <td>3</td>\n",
       "    </tr>\n",
       "    <tr>\n",
       "      <th>3</th>\n",
       "      <td>0</td>\n",
       "      <td>35</td>\n",
       "      <td>53.1000</td>\n",
       "      <td>4</td>\n",
       "      <td>1</td>\n",
       "    </tr>\n",
       "    <tr>\n",
       "      <th>4</th>\n",
       "      <td>1</td>\n",
       "      <td>35</td>\n",
       "      <td>8.0500</td>\n",
       "      <td>5</td>\n",
       "      <td>3</td>\n",
       "    </tr>\n",
       "    <tr>\n",
       "      <th>...</th>\n",
       "      <td>...</td>\n",
       "      <td>...</td>\n",
       "      <td>...</td>\n",
       "      <td>...</td>\n",
       "      <td>...</td>\n",
       "    </tr>\n",
       "    <tr>\n",
       "      <th>886</th>\n",
       "      <td>1</td>\n",
       "      <td>27</td>\n",
       "      <td>13.0000</td>\n",
       "      <td>887</td>\n",
       "      <td>2</td>\n",
       "    </tr>\n",
       "    <tr>\n",
       "      <th>887</th>\n",
       "      <td>0</td>\n",
       "      <td>19</td>\n",
       "      <td>30.0000</td>\n",
       "      <td>888</td>\n",
       "      <td>1</td>\n",
       "    </tr>\n",
       "    <tr>\n",
       "      <th>888</th>\n",
       "      <td>0</td>\n",
       "      <td>29</td>\n",
       "      <td>23.4500</td>\n",
       "      <td>889</td>\n",
       "      <td>3</td>\n",
       "    </tr>\n",
       "    <tr>\n",
       "      <th>889</th>\n",
       "      <td>1</td>\n",
       "      <td>26</td>\n",
       "      <td>30.0000</td>\n",
       "      <td>890</td>\n",
       "      <td>1</td>\n",
       "    </tr>\n",
       "    <tr>\n",
       "      <th>890</th>\n",
       "      <td>1</td>\n",
       "      <td>32</td>\n",
       "      <td>7.7500</td>\n",
       "      <td>891</td>\n",
       "      <td>3</td>\n",
       "    </tr>\n",
       "  </tbody>\n",
       "</table>\n",
       "<p>891 rows × 5 columns</p>\n",
       "</div>"
      ],
      "text/plain": [
       "     Sex Age     Fare  Survived  Pclass\n",
       "0      1  22   7.2500         1       3\n",
       "1      0  38  71.2833         2       1\n",
       "2      0  26   7.9250         3       3\n",
       "3      0  35  53.1000         4       1\n",
       "4      1  35   8.0500         5       3\n",
       "..   ...  ..      ...       ...     ...\n",
       "886    1  27  13.0000       887       2\n",
       "887    0  19  30.0000       888       1\n",
       "888    0  29  23.4500       889       3\n",
       "889    1  26  30.0000       890       1\n",
       "890    1  32   7.7500       891       3\n",
       "\n",
       "[891 rows x 5 columns]"
      ]
     },
     "execution_count": 286,
     "metadata": {},
     "output_type": "execute_result"
    }
   ],
   "source": [
    "import plotly.figure_factory as ff\n",
    "# prepare data\n",
    "datacorr = titanic.loc[:,[\"Sex\",\"Age\", \"Fare\",\"Survived\",\"Pclass\"]]\n",
    "datacorr[\"Survived\"] = np.arange(1,len(datacorr)+1)\n",
    "datacorr"
   ]
  },
  {
   "cell_type": "code",
   "execution_count": 287,
   "metadata": {},
   "outputs": [
    {
     "data": {
      "application/vnd.plotly.v1+json": {
       "config": {
        "linkText": "Export to plot.ly",
        "plotlyServerURL": "https://plot.ly",
        "showLink": false
       },
       "data": [
        {
         "type": "heatmap",
         "x": [
          "Sex",
          "Age",
          "Fare",
          "Survived",
          "Pclass"
         ],
         "y": [
          "Sex",
          "Age",
          "Fare",
          "Survived",
          "Pclass"
         ],
         "z": [
          [
           1,
           22,
           7.25,
           0,
           3
          ],
          [
           0,
           38,
           71.2833,
           1,
           1
          ],
          [
           0,
           26,
           7.925,
           1,
           3
          ],
          [
           0,
           35,
           53.1,
           1,
           1
          ],
          [
           1,
           35,
           8.05,
           0,
           3
          ],
          [
           1,
           "29",
           8.4583,
           0,
           3
          ],
          [
           1,
           54,
           51.8625,
           0,
           1
          ],
          [
           1,
           2,
           21.075,
           0,
           3
          ],
          [
           0,
           27,
           11.1333,
           1,
           3
          ],
          [
           0,
           14,
           30.0708,
           1,
           2
          ],
          [
           0,
           4,
           16.7,
           1,
           3
          ],
          [
           0,
           58,
           26.55,
           1,
           1
          ],
          [
           1,
           20,
           8.05,
           0,
           3
          ],
          [
           1,
           39,
           31.275,
           0,
           3
          ],
          [
           0,
           14,
           7.8542,
           0,
           3
          ],
          [
           0,
           55,
           16,
           1,
           2
          ],
          [
           1,
           2,
           29.125,
           0,
           3
          ],
          [
           1,
           "29",
           13,
           1,
           2
          ],
          [
           0,
           31,
           18,
           0,
           3
          ],
          [
           0,
           "29",
           7.225,
           1,
           3
          ],
          [
           1,
           35,
           26,
           0,
           2
          ],
          [
           1,
           34,
           13,
           1,
           2
          ],
          [
           0,
           15,
           8.0292,
           1,
           3
          ],
          [
           1,
           28,
           35.5,
           1,
           1
          ],
          [
           0,
           8,
           21.075,
           0,
           3
          ],
          [
           0,
           38,
           31.3875,
           1,
           3
          ],
          [
           1,
           "29",
           7.225,
           0,
           3
          ],
          [
           1,
           19,
           263,
           0,
           1
          ],
          [
           0,
           "29",
           7.8792,
           1,
           3
          ],
          [
           1,
           "29",
           7.8958,
           0,
           3
          ],
          [
           1,
           40,
           27.7208,
           0,
           1
          ],
          [
           0,
           "29",
           146.5208,
           1,
           1
          ],
          [
           0,
           "29",
           7.75,
           1,
           3
          ],
          [
           1,
           66,
           10.5,
           0,
           2
          ],
          [
           1,
           28,
           82.1708,
           0,
           1
          ],
          [
           1,
           42,
           52,
           0,
           1
          ],
          [
           1,
           "29",
           7.2292,
           1,
           3
          ],
          [
           1,
           21,
           8.05,
           0,
           3
          ],
          [
           0,
           18,
           18,
           0,
           3
          ],
          [
           0,
           14,
           11.2417,
           1,
           3
          ],
          [
           0,
           40,
           9.475,
           0,
           3
          ],
          [
           0,
           27,
           21,
           0,
           2
          ],
          [
           1,
           "29",
           7.8958,
           0,
           3
          ],
          [
           0,
           3,
           41.5792,
           1,
           2
          ],
          [
           0,
           19,
           7.8792,
           1,
           3
          ],
          [
           1,
           "29",
           8.05,
           0,
           3
          ],
          [
           1,
           "29",
           15.5,
           0,
           3
          ],
          [
           0,
           "29",
           7.75,
           1,
           3
          ],
          [
           1,
           "29",
           21.6792,
           0,
           3
          ],
          [
           0,
           18,
           17.8,
           0,
           3
          ],
          [
           1,
           7,
           39.6875,
           0,
           3
          ],
          [
           1,
           21,
           7.8,
           0,
           3
          ],
          [
           0,
           49,
           76.7292,
           1,
           1
          ],
          [
           0,
           29,
           26,
           1,
           2
          ],
          [
           1,
           65,
           61.9792,
           0,
           1
          ],
          [
           1,
           "29",
           35.5,
           1,
           1
          ],
          [
           0,
           21,
           10.5,
           1,
           2
          ],
          [
           1,
           28.5,
           7.2292,
           0,
           3
          ],
          [
           0,
           5,
           27.75,
           1,
           2
          ],
          [
           1,
           11,
           46.9,
           0,
           3
          ],
          [
           1,
           22,
           7.2292,
           0,
           3
          ],
          [
           0,
           38,
           80,
           1,
           1
          ],
          [
           1,
           45,
           83.475,
           0,
           1
          ],
          [
           1,
           4,
           27.9,
           0,
           3
          ],
          [
           1,
           "29",
           27.7208,
           0,
           1
          ],
          [
           1,
           "29",
           15.2458,
           1,
           3
          ],
          [
           0,
           29,
           10.5,
           1,
           2
          ],
          [
           1,
           19,
           8.1583,
           0,
           3
          ],
          [
           0,
           17,
           7.925,
           1,
           3
          ],
          [
           1,
           26,
           8.6625,
           0,
           3
          ],
          [
           1,
           32,
           10.5,
           0,
           2
          ],
          [
           0,
           16,
           46.9,
           0,
           3
          ],
          [
           1,
           21,
           73.5,
           0,
           2
          ],
          [
           1,
           26,
           14.4542,
           0,
           3
          ],
          [
           1,
           32,
           56.4958,
           1,
           3
          ],
          [
           1,
           25,
           7.65,
           0,
           3
          ],
          [
           1,
           "29",
           7.8958,
           0,
           3
          ],
          [
           1,
           "29",
           8.05,
           0,
           3
          ],
          [
           1,
           0.83,
           29,
           1,
           2
          ],
          [
           0,
           30,
           12.475,
           1,
           3
          ],
          [
           1,
           22,
           9,
           0,
           3
          ],
          [
           1,
           29,
           9.5,
           1,
           3
          ],
          [
           0,
           "29",
           7.7875,
           1,
           3
          ],
          [
           1,
           28,
           47.1,
           0,
           1
          ],
          [
           0,
           17,
           10.5,
           1,
           2
          ],
          [
           0,
           33,
           15.85,
           1,
           3
          ],
          [
           1,
           16,
           34.375,
           0,
           3
          ],
          [
           1,
           "29",
           8.05,
           0,
           3
          ],
          [
           0,
           23,
           263,
           1,
           1
          ],
          [
           1,
           24,
           8.05,
           0,
           3
          ],
          [
           1,
           29,
           8.05,
           0,
           3
          ],
          [
           1,
           20,
           7.8542,
           0,
           3
          ],
          [
           1,
           46,
           61.175,
           0,
           1
          ],
          [
           1,
           26,
           20.575,
           0,
           3
          ],
          [
           1,
           59,
           7.25,
           0,
           3
          ],
          [
           1,
           "29",
           8.05,
           0,
           3
          ],
          [
           1,
           71,
           34.6542,
           0,
           1
          ],
          [
           1,
           23,
           63.3583,
           1,
           1
          ],
          [
           0,
           34,
           23,
           1,
           2
          ],
          [
           1,
           34,
           26,
           0,
           2
          ],
          [
           0,
           28,
           7.8958,
           0,
           3
          ],
          [
           1,
           "29",
           7.8958,
           0,
           3
          ],
          [
           1,
           21,
           77.2875,
           0,
           1
          ],
          [
           1,
           33,
           8.6542,
           0,
           3
          ],
          [
           1,
           37,
           7.925,
           0,
           3
          ],
          [
           1,
           28,
           7.8958,
           0,
           3
          ],
          [
           0,
           21,
           7.65,
           1,
           3
          ],
          [
           1,
           "29",
           7.775,
           1,
           3
          ],
          [
           1,
           38,
           7.8958,
           0,
           3
          ],
          [
           0,
           "29",
           24.15,
           1,
           3
          ],
          [
           1,
           47,
           52,
           0,
           1
          ],
          [
           0,
           14.5,
           14.4542,
           0,
           3
          ],
          [
           1,
           22,
           8.05,
           0,
           3
          ],
          [
           0,
           20,
           9.825,
           0,
           3
          ],
          [
           0,
           17,
           14.4583,
           0,
           3
          ],
          [
           1,
           21,
           7.925,
           0,
           3
          ],
          [
           1,
           70.5,
           7.75,
           0,
           3
          ],
          [
           1,
           29,
           21,
           0,
           2
          ],
          [
           1,
           24,
           247.5208,
           0,
           1
          ],
          [
           0,
           2,
           31.275,
           0,
           3
          ],
          [
           1,
           21,
           73.5,
           0,
           2
          ],
          [
           1,
           "29",
           8.05,
           0,
           3
          ],
          [
           1,
           32.5,
           30.0708,
           0,
           2
          ],
          [
           0,
           32.5,
           13,
           1,
           2
          ],
          [
           1,
           54,
           77.2875,
           0,
           1
          ],
          [
           1,
           12,
           11.2417,
           1,
           3
          ],
          [
           1,
           "29",
           7.75,
           0,
           3
          ],
          [
           1,
           24,
           7.1417,
           1,
           3
          ],
          [
           0,
           "29",
           22.3583,
           1,
           3
          ],
          [
           1,
           45,
           6.975,
           0,
           3
          ],
          [
           1,
           33,
           7.8958,
           0,
           3
          ],
          [
           1,
           20,
           7.05,
           0,
           3
          ],
          [
           0,
           47,
           14.5,
           0,
           3
          ],
          [
           0,
           29,
           26,
           1,
           2
          ],
          [
           1,
           25,
           13,
           0,
           2
          ],
          [
           1,
           23,
           15.0458,
           0,
           2
          ],
          [
           0,
           19,
           26.2833,
           1,
           1
          ],
          [
           1,
           37,
           53.1,
           0,
           1
          ],
          [
           1,
           16,
           9.2167,
           0,
           3
          ],
          [
           1,
           24,
           79.2,
           0,
           1
          ],
          [
           0,
           "29",
           15.2458,
           0,
           3
          ],
          [
           0,
           22,
           7.75,
           1,
           3
          ],
          [
           0,
           24,
           15.85,
           1,
           3
          ],
          [
           1,
           19,
           6.75,
           0,
           3
          ],
          [
           1,
           18,
           11.5,
           0,
           2
          ],
          [
           1,
           19,
           36.75,
           0,
           2
          ],
          [
           1,
           27,
           7.7958,
           1,
           3
          ],
          [
           0,
           9,
           34.375,
           0,
           3
          ],
          [
           1,
           36.5,
           26,
           0,
           2
          ],
          [
           1,
           42,
           13,
           0,
           2
          ],
          [
           1,
           51,
           12.525,
           0,
           2
          ],
          [
           0,
           22,
           66.6,
           1,
           1
          ],
          [
           1,
           55.5,
           8.05,
           0,
           3
          ],
          [
           1,
           40.5,
           14.5,
           0,
           3
          ],
          [
           1,
           "29",
           7.3125,
           0,
           3
          ],
          [
           1,
           51,
           61.3792,
           0,
           1
          ],
          [
           0,
           16,
           7.7333,
           1,
           3
          ],
          [
           1,
           30,
           8.05,
           0,
           3
          ],
          [
           1,
           "29",
           8.6625,
           0,
           3
          ],
          [
           1,
           "29",
           69.55,
           0,
           3
          ],
          [
           1,
           44,
           16.1,
           0,
           3
          ],
          [
           0,
           40,
           15.75,
           1,
           2
          ],
          [
           1,
           26,
           7.775,
           0,
           3
          ],
          [
           1,
           17,
           8.6625,
           0,
           3
          ],
          [
           1,
           1,
           39.6875,
           0,
           3
          ],
          [
           1,
           9,
           20.525,
           1,
           3
          ],
          [
           0,
           "29",
           55,
           1,
           1
          ],
          [
           0,
           45,
           27.9,
           0,
           3
          ],
          [
           1,
           "29",
           25.925,
           0,
           1
          ],
          [
           1,
           28,
           56.4958,
           0,
           3
          ],
          [
           1,
           61,
           33.5,
           0,
           1
          ],
          [
           1,
           4,
           29.125,
           0,
           3
          ],
          [
           0,
           1,
           11.1333,
           1,
           3
          ],
          [
           1,
           21,
           7.925,
           0,
           3
          ],
          [
           1,
           56,
           30.6958,
           0,
           1
          ],
          [
           1,
           18,
           7.8542,
           0,
           3
          ],
          [
           1,
           "29",
           25.4667,
           0,
           3
          ],
          [
           0,
           50,
           28.7125,
           0,
           1
          ],
          [
           1,
           30,
           13,
           0,
           2
          ],
          [
           1,
           36,
           0,
           0,
           3
          ],
          [
           0,
           "29",
           69.55,
           0,
           3
          ],
          [
           1,
           "29",
           15.05,
           0,
           2
          ],
          [
           1,
           9,
           31.3875,
           0,
           3
          ],
          [
           1,
           1,
           39,
           1,
           2
          ],
          [
           0,
           4,
           22.025,
           1,
           3
          ],
          [
           1,
           "29",
           50,
           0,
           1
          ],
          [
           0,
           "29",
           15.5,
           1,
           3
          ],
          [
           1,
           45,
           26.55,
           1,
           1
          ],
          [
           1,
           40,
           15.5,
           0,
           3
          ],
          [
           1,
           36,
           7.8958,
           0,
           3
          ],
          [
           0,
           32,
           13,
           1,
           2
          ],
          [
           1,
           19,
           13,
           0,
           2
          ],
          [
           0,
           19,
           7.8542,
           1,
           3
          ],
          [
           1,
           3,
           26,
           1,
           2
          ],
          [
           0,
           44,
           27.7208,
           1,
           1
          ],
          [
           0,
           58,
           146.5208,
           1,
           1
          ],
          [
           1,
           "29",
           7.75,
           0,
           3
          ],
          [
           1,
           42,
           8.4042,
           0,
           3
          ],
          [
           0,
           "29",
           7.75,
           1,
           3
          ],
          [
           0,
           24,
           13,
           0,
           2
          ],
          [
           1,
           28,
           9.5,
           0,
           3
          ],
          [
           1,
           "29",
           69.55,
           0,
           3
          ],
          [
           1,
           34,
           6.4958,
           0,
           3
          ],
          [
           1,
           45.5,
           7.225,
           0,
           3
          ],
          [
           1,
           18,
           8.05,
           1,
           3
          ],
          [
           0,
           2,
           10.4625,
           0,
           3
          ],
          [
           1,
           32,
           15.85,
           0,
           3
          ],
          [
           1,
           26,
           18.7875,
           1,
           3
          ],
          [
           0,
           16,
           7.75,
           1,
           3
          ],
          [
           1,
           40,
           31,
           1,
           1
          ],
          [
           1,
           24,
           7.05,
           0,
           3
          ],
          [
           0,
           35,
           21,
           1,
           2
          ],
          [
           1,
           22,
           7.25,
           0,
           3
          ],
          [
           1,
           30,
           13,
           0,
           2
          ],
          [
           1,
           "29",
           7.75,
           0,
           3
          ],
          [
           0,
           31,
           113.275,
           1,
           1
          ],
          [
           0,
           27,
           7.925,
           1,
           3
          ],
          [
           1,
           42,
           27,
           0,
           2
          ],
          [
           0,
           32,
           76.2917,
           1,
           1
          ],
          [
           1,
           30,
           10.5,
           0,
           2
          ],
          [
           1,
           16,
           8.05,
           1,
           3
          ],
          [
           1,
           27,
           13,
           0,
           2
          ],
          [
           1,
           51,
           8.05,
           0,
           3
          ],
          [
           1,
           "29",
           7.8958,
           0,
           3
          ],
          [
           1,
           38,
           90,
           1,
           1
          ],
          [
           1,
           22,
           9.35,
           0,
           3
          ],
          [
           1,
           19,
           10.5,
           1,
           2
          ],
          [
           1,
           20.5,
           7.25,
           0,
           3
          ],
          [
           1,
           18,
           13,
           0,
           2
          ],
          [
           0,
           "29",
           25.4667,
           0,
           3
          ],
          [
           0,
           35,
           83.475,
           1,
           1
          ],
          [
           1,
           29,
           7.775,
           0,
           3
          ],
          [
           1,
           59,
           13.5,
           0,
           2
          ],
          [
           0,
           5,
           31.3875,
           1,
           3
          ],
          [
           1,
           24,
           10.5,
           0,
           2
          ],
          [
           0,
           "29",
           7.55,
           0,
           3
          ],
          [
           1,
           44,
           26,
           0,
           2
          ],
          [
           0,
           8,
           26.25,
           1,
           2
          ],
          [
           1,
           19,
           10.5,
           0,
           2
          ],
          [
           1,
           33,
           12.275,
           0,
           2
          ],
          [
           0,
           "29",
           14.4542,
           0,
           3
          ],
          [
           0,
           "29",
           15.5,
           1,
           3
          ],
          [
           1,
           29,
           10.5,
           0,
           2
          ],
          [
           1,
           22,
           7.125,
           0,
           3
          ],
          [
           1,
           30,
           7.225,
           0,
           3
          ],
          [
           1,
           44,
           90,
           0,
           1
          ],
          [
           0,
           25,
           7.775,
           0,
           3
          ],
          [
           0,
           24,
           14.5,
           1,
           2
          ],
          [
           1,
           37,
           52.5542,
           1,
           1
          ],
          [
           1,
           54,
           26,
           0,
           2
          ],
          [
           1,
           "29",
           7.25,
           0,
           3
          ],
          [
           0,
           29,
           10.4625,
           0,
           3
          ],
          [
           1,
           62,
           26.55,
           0,
           1
          ],
          [
           1,
           30,
           16.1,
           0,
           3
          ],
          [
           0,
           41,
           20.2125,
           0,
           3
          ],
          [
           0,
           29,
           15.2458,
           1,
           3
          ],
          [
           0,
           "29",
           79.2,
           1,
           1
          ],
          [
           0,
           30,
           86.5,
           1,
           1
          ],
          [
           0,
           35,
           512.3292,
           1,
           1
          ],
          [
           0,
           50,
           26,
           1,
           2
          ],
          [
           1,
           "29",
           7.75,
           0,
           3
          ],
          [
           1,
           3,
           31.3875,
           1,
           3
          ],
          [
           1,
           52,
           79.65,
           0,
           1
          ],
          [
           1,
           40,
           0,
           0,
           1
          ],
          [
           0,
           "29",
           7.75,
           0,
           3
          ],
          [
           1,
           36,
           10.5,
           0,
           2
          ],
          [
           1,
           16,
           39.6875,
           0,
           3
          ],
          [
           1,
           25,
           7.775,
           1,
           3
          ],
          [
           0,
           58,
           153.4625,
           1,
           1
          ],
          [
           0,
           35,
           135.6333,
           1,
           1
          ],
          [
           1,
           "29",
           31,
           0,
           1
          ],
          [
           1,
           25,
           0,
           1,
           3
          ],
          [
           0,
           41,
           19.5,
           1,
           2
          ],
          [
           1,
           37,
           29.7,
           0,
           1
          ],
          [
           0,
           "29",
           7.75,
           1,
           3
          ],
          [
           0,
           63,
           77.9583,
           1,
           1
          ],
          [
           0,
           45,
           7.75,
           0,
           3
          ],
          [
           1,
           "29",
           0,
           0,
           2
          ],
          [
           1,
           7,
           29.125,
           0,
           3
          ],
          [
           0,
           35,
           20.25,
           1,
           3
          ],
          [
           1,
           65,
           7.75,
           0,
           3
          ],
          [
           1,
           28,
           7.8542,
           0,
           3
          ],
          [
           1,
           16,
           9.5,
           0,
           3
          ],
          [
           1,
           19,
           8.05,
           1,
           3
          ],
          [
           1,
           "29",
           26,
           0,
           1
          ],
          [
           1,
           33,
           8.6625,
           0,
           3
          ],
          [
           1,
           30,
           9.5,
           1,
           3
          ],
          [
           1,
           22,
           7.8958,
           0,
           3
          ],
          [
           1,
           42,
           13,
           1,
           2
          ],
          [
           0,
           22,
           7.75,
           1,
           3
          ],
          [
           0,
           26,
           78.85,
           1,
           1
          ],
          [
           0,
           19,
           91.0792,
           1,
           1
          ],
          [
           1,
           36,
           12.875,
           0,
           2
          ],
          [
           0,
           24,
           8.85,
           0,
           3
          ],
          [
           1,
           24,
           7.8958,
           0,
           3
          ],
          [
           1,
           "29",
           27.7208,
           0,
           1
          ],
          [
           1,
           23.5,
           7.2292,
           0,
           3
          ],
          [
           0,
           2,
           151.55,
           0,
           1
          ],
          [
           1,
           "29",
           30.5,
           1,
           1
          ],
          [
           0,
           50,
           247.5208,
           1,
           1
          ],
          [
           0,
           "29",
           7.75,
           1,
           3
          ],
          [
           1,
           "29",
           23.25,
           1,
           3
          ],
          [
           1,
           19,
           0,
           0,
           3
          ],
          [
           0,
           "29",
           12.35,
           1,
           2
          ],
          [
           1,
           "29",
           8.05,
           0,
           3
          ],
          [
           1,
           0.92,
           151.55,
           1,
           1
          ],
          [
           0,
           "29",
           110.8833,
           1,
           1
          ],
          [
           0,
           17,
           108.9,
           1,
           1
          ],
          [
           1,
           30,
           24,
           0,
           2
          ],
          [
           0,
           30,
           56.9292,
           1,
           1
          ],
          [
           0,
           24,
           83.1583,
           1,
           1
          ],
          [
           0,
           18,
           262.375,
           1,
           1
          ],
          [
           0,
           26,
           26,
           0,
           2
          ],
          [
           1,
           28,
           7.8958,
           0,
           3
          ],
          [
           1,
           43,
           26.25,
           0,
           2
          ],
          [
           0,
           26,
           7.8542,
           1,
           3
          ],
          [
           0,
           24,
           26,
           1,
           2
          ],
          [
           1,
           54,
           14,
           0,
           2
          ],
          [
           0,
           31,
           164.8667,
           1,
           1
          ],
          [
           0,
           40,
           134.5,
           1,
           1
          ],
          [
           1,
           22,
           7.25,
           0,
           3
          ],
          [
           1,
           27,
           7.8958,
           0,
           3
          ],
          [
           0,
           30,
           12.35,
           1,
           2
          ],
          [
           0,
           22,
           29,
           1,
           2
          ],
          [
           1,
           "29",
           69.55,
           0,
           3
          ],
          [
           0,
           36,
           135.6333,
           1,
           1
          ],
          [
           1,
           61,
           6.2375,
           0,
           3
          ],
          [
           0,
           36,
           13,
           1,
           2
          ],
          [
           0,
           31,
           20.525,
           1,
           3
          ],
          [
           0,
           16,
           57.9792,
           1,
           1
          ],
          [
           0,
           "29",
           23.25,
           1,
           3
          ],
          [
           1,
           45.5,
           28.5,
           0,
           1
          ],
          [
           1,
           38,
           153.4625,
           0,
           1
          ],
          [
           1,
           16,
           18,
           0,
           3
          ],
          [
           0,
           "29",
           133.65,
           1,
           1
          ],
          [
           1,
           "29",
           7.8958,
           0,
           3
          ],
          [
           1,
           29,
           66.6,
           0,
           1
          ],
          [
           0,
           41,
           134.5,
           1,
           1
          ],
          [
           1,
           45,
           8.05,
           1,
           3
          ],
          [
           1,
           45,
           35.5,
           0,
           1
          ],
          [
           1,
           2,
           26,
           1,
           2
          ],
          [
           0,
           24,
           263,
           1,
           1
          ],
          [
           1,
           28,
           13,
           0,
           2
          ],
          [
           1,
           25,
           13,
           0,
           2
          ],
          [
           1,
           36,
           13,
           0,
           2
          ],
          [
           0,
           24,
           13,
           1,
           2
          ],
          [
           0,
           40,
           13,
           1,
           2
          ],
          [
           0,
           "29",
           16.1,
           1,
           3
          ],
          [
           1,
           3,
           15.9,
           1,
           3
          ],
          [
           1,
           42,
           8.6625,
           0,
           3
          ],
          [
           1,
           23,
           9.225,
           0,
           3
          ],
          [
           1,
           "29",
           35,
           0,
           1
          ],
          [
           1,
           15,
           7.2292,
           0,
           3
          ],
          [
           1,
           25,
           17.8,
           0,
           3
          ],
          [
           1,
           "29",
           7.225,
           0,
           3
          ],
          [
           1,
           28,
           9.5,
           0,
           3
          ],
          [
           0,
           22,
           55,
           1,
           1
          ],
          [
           0,
           38,
           13,
           0,
           2
          ],
          [
           0,
           "29",
           7.8792,
           1,
           3
          ],
          [
           0,
           "29",
           7.8792,
           1,
           3
          ],
          [
           1,
           40,
           27.9,
           0,
           3
          ],
          [
           1,
           29,
           27.7208,
           0,
           2
          ],
          [
           0,
           45,
           14.4542,
           0,
           3
          ],
          [
           1,
           35,
           7.05,
           0,
           3
          ],
          [
           1,
           "29",
           15.5,
           0,
           3
          ],
          [
           1,
           30,
           7.25,
           0,
           3
          ],
          [
           0,
           60,
           75.25,
           1,
           1
          ],
          [
           0,
           "29",
           7.2292,
           1,
           3
          ],
          [
           0,
           "29",
           7.75,
           1,
           3
          ],
          [
           0,
           24,
           69.3,
           1,
           1
          ],
          [
           1,
           25,
           55.4417,
           1,
           1
          ],
          [
           1,
           18,
           6.4958,
           0,
           3
          ],
          [
           1,
           19,
           8.05,
           0,
           3
          ],
          [
           1,
           22,
           135.6333,
           0,
           1
          ],
          [
           0,
           3,
           21.075,
           0,
           3
          ],
          [
           0,
           "29",
           82.1708,
           1,
           1
          ],
          [
           0,
           22,
           7.25,
           1,
           3
          ],
          [
           1,
           27,
           211.5,
           0,
           1
          ],
          [
           1,
           20,
           4.0125,
           0,
           3
          ],
          [
           1,
           19,
           7.775,
           0,
           3
          ],
          [
           0,
           42,
           227.525,
           1,
           1
          ],
          [
           0,
           1,
           15.7417,
           1,
           3
          ],
          [
           1,
           32,
           7.925,
           0,
           3
          ],
          [
           0,
           35,
           52,
           1,
           1
          ],
          [
           1,
           "29",
           7.8958,
           0,
           3
          ],
          [
           1,
           18,
           73.5,
           0,
           2
          ],
          [
           1,
           1,
           46.9,
           0,
           3
          ],
          [
           0,
           36,
           13,
           1,
           2
          ],
          [
           1,
           "29",
           7.7292,
           0,
           3
          ],
          [
           0,
           17,
           12,
           1,
           2
          ],
          [
           1,
           36,
           120,
           1,
           1
          ],
          [
           1,
           21,
           7.7958,
           1,
           3
          ],
          [
           1,
           28,
           7.925,
           0,
           3
          ],
          [
           0,
           23,
           113.275,
           1,
           1
          ],
          [
           0,
           24,
           16.7,
           1,
           3
          ],
          [
           1,
           22,
           7.7958,
           0,
           3
          ],
          [
           0,
           31,
           7.8542,
           0,
           3
          ],
          [
           1,
           46,
           26,
           0,
           2
          ],
          [
           1,
           23,
           10.5,
           0,
           2
          ],
          [
           0,
           28,
           12.65,
           1,
           2
          ],
          [
           1,
           39,
           7.925,
           1,
           3
          ],
          [
           1,
           26,
           8.05,
           0,
           3
          ],
          [
           0,
           21,
           9.825,
           0,
           3
          ],
          [
           1,
           28,
           15.85,
           0,
           3
          ],
          [
           0,
           20,
           8.6625,
           0,
           3
          ],
          [
           1,
           34,
           21,
           0,
           2
          ],
          [
           1,
           51,
           7.75,
           0,
           3
          ],
          [
           1,
           3,
           18.75,
           1,
           2
          ],
          [
           1,
           21,
           7.775,
           0,
           3
          ],
          [
           0,
           "29",
           25.4667,
           0,
           3
          ],
          [
           1,
           "29",
           7.8958,
           0,
           3
          ],
          [
           1,
           "29",
           6.8583,
           0,
           3
          ],
          [
           0,
           33,
           90,
           1,
           1
          ],
          [
           1,
           "29",
           0,
           0,
           2
          ],
          [
           1,
           44,
           7.925,
           1,
           3
          ],
          [
           0,
           "29",
           8.05,
           0,
           3
          ],
          [
           0,
           34,
           32.5,
           1,
           2
          ],
          [
           0,
           18,
           13,
           1,
           2
          ],
          [
           1,
           30,
           13,
           0,
           2
          ],
          [
           0,
           10,
           24.15,
           0,
           3
          ],
          [
           1,
           "29",
           7.8958,
           0,
           3
          ],
          [
           1,
           21,
           7.7333,
           0,
           3
          ],
          [
           1,
           29,
           7.875,
           0,
           3
          ],
          [
           0,
           28,
           14.4,
           0,
           3
          ],
          [
           1,
           18,
           20.2125,
           0,
           3
          ],
          [
           1,
           "29",
           7.25,
           0,
           3
          ],
          [
           0,
           28,
           26,
           1,
           2
          ],
          [
           0,
           19,
           26,
           1,
           2
          ],
          [
           1,
           "29",
           7.75,
           0,
           3
          ],
          [
           1,
           32,
           8.05,
           1,
           3
          ],
          [
           1,
           28,
           26.55,
           1,
           1
          ],
          [
           0,
           "29",
           16.1,
           1,
           3
          ],
          [
           0,
           42,
           26,
           1,
           2
          ],
          [
           1,
           17,
           7.125,
           0,
           3
          ],
          [
           1,
           50,
           55.9,
           0,
           1
          ],
          [
           0,
           14,
           120,
           1,
           1
          ],
          [
           0,
           21,
           34.375,
           0,
           3
          ],
          [
           0,
           24,
           18.75,
           1,
           2
          ],
          [
           1,
           64,
           263,
           0,
           1
          ],
          [
           1,
           31,
           10.5,
           0,
           2
          ],
          [
           0,
           45,
           26.25,
           1,
           2
          ],
          [
           1,
           20,
           9.5,
           0,
           3
          ],
          [
           1,
           25,
           7.775,
           0,
           3
          ],
          [
           0,
           28,
           13,
           1,
           2
          ],
          [
           1,
           "29",
           8.1125,
           1,
           3
          ],
          [
           1,
           4,
           81.8583,
           1,
           1
          ],
          [
           0,
           13,
           19.5,
           1,
           2
          ],
          [
           1,
           34,
           26.55,
           1,
           1
          ],
          [
           0,
           5,
           19.2583,
           1,
           3
          ],
          [
           1,
           52,
           30.5,
           1,
           1
          ],
          [
           1,
           36,
           27.75,
           0,
           2
          ],
          [
           1,
           "29",
           19.9667,
           0,
           3
          ],
          [
           1,
           30,
           27.75,
           0,
           1
          ],
          [
           1,
           49,
           89.1042,
           1,
           1
          ],
          [
           1,
           "29",
           8.05,
           0,
           3
          ],
          [
           1,
           29,
           7.8958,
           1,
           3
          ],
          [
           1,
           65,
           26.55,
           0,
           1
          ],
          [
           0,
           "29",
           51.8625,
           1,
           1
          ],
          [
           0,
           50,
           10.5,
           1,
           2
          ],
          [
           1,
           "29",
           7.75,
           0,
           3
          ],
          [
           1,
           48,
           26.55,
           1,
           1
          ],
          [
           1,
           34,
           8.05,
           0,
           3
          ],
          [
           1,
           47,
           38.5,
           0,
           1
          ],
          [
           1,
           48,
           13,
           0,
           2
          ],
          [
           1,
           "29",
           8.05,
           0,
           3
          ],
          [
           1,
           38,
           7.05,
           0,
           3
          ],
          [
           1,
           "29",
           0,
           0,
           2
          ],
          [
           1,
           56,
           26.55,
           0,
           1
          ],
          [
           1,
           "29",
           7.725,
           0,
           3
          ],
          [
           0,
           0.75,
           19.2583,
           1,
           3
          ],
          [
           1,
           "29",
           7.25,
           0,
           3
          ],
          [
           1,
           38,
           8.6625,
           0,
           3
          ],
          [
           0,
           33,
           27.75,
           1,
           2
          ],
          [
           0,
           23,
           13.7917,
           1,
           2
          ],
          [
           0,
           22,
           9.8375,
           0,
           3
          ],
          [
           1,
           "29",
           52,
           0,
           1
          ],
          [
           1,
           34,
           21,
           0,
           2
          ],
          [
           1,
           29,
           7.0458,
           0,
           3
          ],
          [
           1,
           22,
           7.5208,
           0,
           3
          ],
          [
           0,
           2,
           12.2875,
           1,
           3
          ],
          [
           1,
           9,
           46.9,
           0,
           3
          ],
          [
           1,
           "29",
           0,
           0,
           2
          ],
          [
           1,
           50,
           8.05,
           0,
           3
          ],
          [
           0,
           63,
           9.5875,
           1,
           3
          ],
          [
           1,
           25,
           91.0792,
           1,
           1
          ],
          [
           0,
           "29",
           25.4667,
           0,
           3
          ],
          [
           0,
           35,
           90,
           1,
           1
          ],
          [
           1,
           58,
           29.7,
           0,
           1
          ],
          [
           1,
           30,
           8.05,
           0,
           3
          ],
          [
           1,
           9,
           15.9,
           1,
           3
          ],
          [
           1,
           "29",
           19.9667,
           0,
           3
          ],
          [
           1,
           21,
           7.25,
           0,
           3
          ],
          [
           1,
           55,
           30.5,
           0,
           1
          ],
          [
           1,
           71,
           49.5042,
           0,
           1
          ],
          [
           1,
           21,
           8.05,
           0,
           3
          ],
          [
           1,
           "29",
           14.4583,
           0,
           3
          ],
          [
           0,
           54,
           78.2667,
           1,
           1
          ],
          [
           1,
           "29",
           15.1,
           0,
           3
          ],
          [
           0,
           25,
           151.55,
           0,
           1
          ],
          [
           1,
           24,
           7.7958,
           0,
           3
          ],
          [
           1,
           17,
           8.6625,
           0,
           3
          ],
          [
           0,
           21,
           7.75,
           0,
           3
          ],
          [
           0,
           "29",
           7.6292,
           0,
           3
          ],
          [
           0,
           37,
           9.5875,
           0,
           3
          ],
          [
           0,
           16,
           86.5,
           1,
           1
          ],
          [
           1,
           18,
           108.9,
           0,
           1
          ],
          [
           0,
           33,
           26,
           1,
           2
          ],
          [
           1,
           "29",
           26.55,
           1,
           1
          ],
          [
           1,
           28,
           22.525,
           0,
           3
          ],
          [
           1,
           26,
           56.4958,
           1,
           3
          ],
          [
           1,
           29,
           7.75,
           1,
           3
          ],
          [
           1,
           "29",
           8.05,
           0,
           3
          ],
          [
           1,
           36,
           26.2875,
           1,
           1
          ],
          [
           0,
           54,
           59.4,
           1,
           1
          ],
          [
           1,
           24,
           7.4958,
           0,
           3
          ],
          [
           1,
           47,
           34.0208,
           0,
           1
          ],
          [
           0,
           34,
           10.5,
           1,
           2
          ],
          [
           1,
           "29",
           24.15,
           0,
           3
          ],
          [
           0,
           36,
           26,
           1,
           2
          ],
          [
           1,
           32,
           7.8958,
           0,
           3
          ],
          [
           0,
           30,
           93.5,
           1,
           1
          ],
          [
           1,
           22,
           7.8958,
           0,
           3
          ],
          [
           1,
           "29",
           7.225,
           0,
           3
          ],
          [
           0,
           44,
           57.9792,
           1,
           1
          ],
          [
           1,
           "29",
           7.2292,
           0,
           3
          ],
          [
           1,
           40.5,
           7.75,
           0,
           3
          ],
          [
           0,
           50,
           10.5,
           1,
           2
          ],
          [
           1,
           "29",
           221.7792,
           0,
           1
          ],
          [
           1,
           39,
           7.925,
           0,
           3
          ],
          [
           1,
           23,
           11.5,
           0,
           2
          ],
          [
           0,
           2,
           26,
           1,
           2
          ],
          [
           1,
           "29",
           7.2292,
           0,
           3
          ],
          [
           1,
           17,
           7.2292,
           0,
           3
          ],
          [
           0,
           "29",
           22.3583,
           1,
           3
          ],
          [
           0,
           30,
           8.6625,
           0,
           3
          ],
          [
           0,
           7,
           26.25,
           1,
           2
          ],
          [
           1,
           45,
           26.55,
           0,
           1
          ],
          [
           0,
           30,
           106.425,
           1,
           1
          ],
          [
           1,
           "29",
           14.5,
           0,
           3
          ],
          [
           0,
           22,
           49.5,
           1,
           1
          ],
          [
           0,
           36,
           71,
           1,
           1
          ],
          [
           0,
           9,
           31.275,
           0,
           3
          ],
          [
           0,
           11,
           31.275,
           0,
           3
          ],
          [
           1,
           32,
           26,
           1,
           2
          ],
          [
           1,
           50,
           106.425,
           0,
           1
          ],
          [
           1,
           64,
           26,
           0,
           1
          ],
          [
           0,
           19,
           26,
           1,
           2
          ],
          [
           1,
           "29",
           13.8625,
           1,
           2
          ],
          [
           1,
           33,
           20.525,
           0,
           3
          ],
          [
           1,
           8,
           36.75,
           1,
           2
          ],
          [
           1,
           17,
           110.8833,
           1,
           1
          ],
          [
           1,
           27,
           26,
           0,
           2
          ],
          [
           1,
           "29",
           7.8292,
           0,
           3
          ],
          [
           1,
           22,
           7.225,
           1,
           3
          ],
          [
           0,
           22,
           7.775,
           1,
           3
          ],
          [
           1,
           62,
           26.55,
           0,
           1
          ],
          [
           0,
           48,
           39.6,
           1,
           1
          ],
          [
           1,
           "29",
           227.525,
           0,
           1
          ],
          [
           0,
           39,
           79.65,
           1,
           1
          ],
          [
           0,
           36,
           17.4,
           1,
           3
          ],
          [
           1,
           "29",
           7.75,
           0,
           3
          ],
          [
           1,
           40,
           7.8958,
           0,
           3
          ],
          [
           1,
           28,
           13.5,
           0,
           2
          ],
          [
           1,
           "29",
           8.05,
           0,
           3
          ],
          [
           0,
           "29",
           8.05,
           0,
           3
          ],
          [
           1,
           24,
           24.15,
           0,
           3
          ],
          [
           1,
           19,
           7.8958,
           0,
           3
          ],
          [
           0,
           29,
           21.075,
           0,
           3
          ],
          [
           1,
           "29",
           7.2292,
           0,
           3
          ],
          [
           1,
           32,
           7.8542,
           1,
           3
          ],
          [
           1,
           62,
           10.5,
           1,
           2
          ],
          [
           0,
           53,
           51.4792,
           1,
           1
          ],
          [
           1,
           36,
           26.3875,
           1,
           1
          ],
          [
           0,
           "29",
           7.75,
           1,
           3
          ],
          [
           1,
           16,
           8.05,
           0,
           3
          ],
          [
           1,
           19,
           14.5,
           0,
           3
          ],
          [
           0,
           34,
           13,
           1,
           2
          ],
          [
           0,
           39,
           55.9,
           1,
           1
          ],
          [
           0,
           "29",
           14.4583,
           0,
           3
          ],
          [
           1,
           32,
           7.925,
           1,
           3
          ],
          [
           0,
           25,
           30,
           1,
           2
          ],
          [
           0,
           39,
           110.8833,
           1,
           1
          ],
          [
           1,
           54,
           26,
           0,
           2
          ],
          [
           1,
           36,
           40.125,
           0,
           1
          ],
          [
           1,
           "29",
           8.7125,
           0,
           3
          ],
          [
           0,
           18,
           79.65,
           1,
           1
          ],
          [
           1,
           47,
           15,
           0,
           2
          ],
          [
           1,
           60,
           79.2,
           1,
           1
          ],
          [
           1,
           22,
           8.05,
           0,
           3
          ],
          [
           1,
           "29",
           8.05,
           0,
           3
          ],
          [
           1,
           35,
           7.125,
           0,
           3
          ],
          [
           0,
           52,
           78.2667,
           1,
           1
          ],
          [
           1,
           47,
           7.25,
           0,
           3
          ],
          [
           0,
           "29",
           7.75,
           0,
           3
          ],
          [
           1,
           37,
           26,
           0,
           2
          ],
          [
           1,
           36,
           24.15,
           0,
           3
          ],
          [
           0,
           "29",
           33,
           1,
           2
          ],
          [
           1,
           49,
           0,
           0,
           3
          ],
          [
           1,
           "29",
           7.225,
           0,
           3
          ],
          [
           1,
           49,
           56.9292,
           1,
           1
          ],
          [
           0,
           24,
           27,
           1,
           2
          ],
          [
           1,
           "29",
           7.8958,
           0,
           3
          ],
          [
           1,
           "29",
           42.4,
           0,
           1
          ],
          [
           1,
           44,
           8.05,
           0,
           3
          ],
          [
           1,
           35,
           26.55,
           1,
           1
          ],
          [
           1,
           36,
           15.55,
           0,
           3
          ],
          [
           1,
           30,
           7.8958,
           0,
           3
          ],
          [
           1,
           27,
           30.5,
           1,
           1
          ],
          [
           0,
           22,
           41.5792,
           1,
           2
          ],
          [
           0,
           40,
           153.4625,
           1,
           1
          ],
          [
           0,
           39,
           31.275,
           0,
           3
          ],
          [
           1,
           "29",
           7.05,
           0,
           3
          ],
          [
           0,
           "29",
           15.5,
           1,
           3
          ],
          [
           1,
           "29",
           7.75,
           0,
           3
          ],
          [
           1,
           35,
           8.05,
           0,
           3
          ],
          [
           0,
           24,
           65,
           1,
           2
          ],
          [
           1,
           34,
           14.4,
           0,
           3
          ],
          [
           0,
           26,
           16.1,
           0,
           3
          ],
          [
           0,
           4,
           39,
           1,
           2
          ],
          [
           1,
           26,
           10.5,
           0,
           2
          ],
          [
           1,
           27,
           14.4542,
           0,
           3
          ],
          [
           1,
           42,
           52.5542,
           1,
           1
          ],
          [
           1,
           20,
           15.7417,
           1,
           3
          ],
          [
           1,
           21,
           7.8542,
           0,
           3
          ],
          [
           1,
           21,
           16.1,
           0,
           3
          ],
          [
           1,
           61,
           32.3208,
           0,
           1
          ],
          [
           1,
           57,
           12.35,
           0,
           2
          ],
          [
           0,
           21,
           77.9583,
           1,
           1
          ],
          [
           1,
           26,
           7.8958,
           0,
           3
          ],
          [
           1,
           "29",
           7.7333,
           0,
           3
          ],
          [
           1,
           80,
           30,
           1,
           1
          ],
          [
           1,
           51,
           7.0542,
           0,
           3
          ],
          [
           1,
           32,
           30.5,
           1,
           1
          ],
          [
           1,
           "29",
           0,
           0,
           1
          ],
          [
           0,
           9,
           27.9,
           0,
           3
          ],
          [
           0,
           28,
           13,
           1,
           2
          ],
          [
           1,
           32,
           7.925,
           0,
           3
          ],
          [
           1,
           31,
           26.25,
           0,
           2
          ],
          [
           0,
           41,
           39.6875,
           0,
           3
          ],
          [
           1,
           "29",
           16.1,
           0,
           3
          ],
          [
           1,
           20,
           7.8542,
           0,
           3
          ],
          [
           0,
           24,
           69.3,
           1,
           1
          ],
          [
           0,
           2,
           27.9,
           0,
           3
          ],
          [
           1,
           "29",
           56.4958,
           1,
           3
          ],
          [
           0,
           0.75,
           19.2583,
           1,
           3
          ],
          [
           1,
           48,
           76.7292,
           1,
           1
          ],
          [
           1,
           19,
           7.8958,
           0,
           3
          ],
          [
           1,
           56,
           35.5,
           1,
           1
          ],
          [
           1,
           "29",
           7.55,
           0,
           3
          ],
          [
           0,
           23,
           7.55,
           1,
           3
          ],
          [
           1,
           "29",
           7.8958,
           0,
           3
          ],
          [
           0,
           18,
           23,
           1,
           2
          ],
          [
           1,
           21,
           8.4333,
           0,
           3
          ],
          [
           0,
           "29",
           7.8292,
           1,
           3
          ],
          [
           0,
           18,
           6.75,
           0,
           3
          ],
          [
           1,
           24,
           73.5,
           0,
           2
          ],
          [
           1,
           "29",
           7.8958,
           0,
           3
          ],
          [
           0,
           32,
           15.5,
           0,
           3
          ],
          [
           1,
           23,
           13,
           0,
           2
          ],
          [
           1,
           58,
           113.275,
           0,
           1
          ],
          [
           1,
           50,
           133.65,
           1,
           1
          ],
          [
           1,
           40,
           7.225,
           0,
           3
          ],
          [
           1,
           47,
           25.5875,
           0,
           1
          ],
          [
           1,
           36,
           7.4958,
           0,
           3
          ],
          [
           1,
           20,
           7.925,
           1,
           3
          ],
          [
           1,
           32,
           73.5,
           0,
           2
          ],
          [
           1,
           25,
           13,
           0,
           2
          ],
          [
           1,
           "29",
           7.775,
           0,
           3
          ],
          [
           1,
           43,
           8.05,
           0,
           3
          ],
          [
           0,
           "29",
           52,
           1,
           1
          ],
          [
           0,
           40,
           39,
           1,
           2
          ],
          [
           1,
           31,
           52,
           0,
           1
          ],
          [
           1,
           70,
           10.5,
           0,
           2
          ],
          [
           1,
           31,
           13,
           1,
           2
          ],
          [
           1,
           "29",
           0,
           0,
           2
          ],
          [
           1,
           18,
           7.775,
           0,
           3
          ],
          [
           1,
           24.5,
           8.05,
           0,
           3
          ],
          [
           0,
           18,
           9.8417,
           1,
           3
          ],
          [
           0,
           43,
           46.9,
           0,
           3
          ],
          [
           1,
           36,
           512.3292,
           1,
           1
          ],
          [
           0,
           "29",
           8.1375,
           0,
           3
          ],
          [
           1,
           27,
           76.7292,
           1,
           1
          ],
          [
           1,
           20,
           9.225,
           0,
           3
          ],
          [
           1,
           14,
           46.9,
           0,
           3
          ],
          [
           1,
           60,
           39,
           0,
           2
          ],
          [
           1,
           25,
           41.5792,
           0,
           2
          ],
          [
           1,
           14,
           39.6875,
           0,
           3
          ],
          [
           1,
           19,
           10.1708,
           0,
           3
          ],
          [
           1,
           18,
           7.7958,
           0,
           3
          ],
          [
           0,
           15,
           211.3375,
           1,
           1
          ],
          [
           1,
           31,
           57,
           1,
           1
          ],
          [
           0,
           4,
           13.4167,
           1,
           3
          ],
          [
           1,
           "29",
           56.4958,
           1,
           3
          ],
          [
           1,
           25,
           7.225,
           0,
           3
          ],
          [
           1,
           60,
           26.55,
           0,
           1
          ],
          [
           1,
           52,
           13.5,
           0,
           2
          ],
          [
           1,
           44,
           8.05,
           0,
           3
          ],
          [
           0,
           "29",
           7.7333,
           1,
           3
          ],
          [
           1,
           49,
           110.8833,
           0,
           1
          ],
          [
           1,
           42,
           7.65,
           0,
           3
          ],
          [
           0,
           18,
           227.525,
           1,
           1
          ],
          [
           1,
           35,
           26.2875,
           1,
           1
          ],
          [
           0,
           18,
           14.4542,
           0,
           3
          ],
          [
           1,
           25,
           7.7417,
           0,
           3
          ],
          [
           1,
           26,
           7.8542,
           0,
           3
          ],
          [
           1,
           39,
           26,
           0,
           2
          ],
          [
           0,
           45,
           13.5,
           1,
           2
          ],
          [
           1,
           42,
           26.2875,
           1,
           1
          ],
          [
           0,
           22,
           151.55,
           1,
           1
          ],
          [
           1,
           "29",
           15.2458,
           1,
           3
          ],
          [
           0,
           24,
           49.5042,
           1,
           1
          ],
          [
           1,
           "29",
           26.55,
           0,
           1
          ],
          [
           1,
           48,
           52,
           1,
           1
          ],
          [
           1,
           29,
           9.4833,
           0,
           3
          ],
          [
           1,
           52,
           13,
           0,
           2
          ],
          [
           1,
           19,
           7.65,
           0,
           3
          ],
          [
           0,
           38,
           227.525,
           1,
           1
          ],
          [
           0,
           27,
           10.5,
           1,
           2
          ],
          [
           1,
           "29",
           15.5,
           0,
           3
          ],
          [
           1,
           33,
           7.775,
           0,
           3
          ],
          [
           0,
           6,
           33,
           1,
           2
          ],
          [
           1,
           17,
           7.0542,
           0,
           3
          ],
          [
           1,
           34,
           13,
           0,
           2
          ],
          [
           1,
           50,
           13,
           0,
           2
          ],
          [
           1,
           27,
           53.1,
           1,
           1
          ],
          [
           1,
           20,
           8.6625,
           0,
           3
          ],
          [
           0,
           30,
           21,
           1,
           2
          ],
          [
           0,
           "29",
           7.7375,
           1,
           3
          ],
          [
           1,
           25,
           26,
           0,
           2
          ],
          [
           0,
           25,
           7.925,
           0,
           3
          ],
          [
           0,
           29,
           211.3375,
           1,
           1
          ],
          [
           1,
           11,
           18.7875,
           0,
           3
          ],
          [
           1,
           "29",
           0,
           0,
           2
          ],
          [
           1,
           23,
           13,
           0,
           2
          ],
          [
           1,
           23,
           13,
           0,
           2
          ],
          [
           1,
           28.5,
           16.1,
           0,
           3
          ],
          [
           0,
           48,
           34.375,
           0,
           3
          ],
          [
           1,
           35,
           512.3292,
           1,
           1
          ],
          [
           1,
           "29",
           7.8958,
           0,
           3
          ],
          [
           1,
           "29",
           7.8958,
           0,
           3
          ],
          [
           1,
           "29",
           30,
           1,
           1
          ],
          [
           1,
           36,
           78.85,
           0,
           1
          ],
          [
           0,
           21,
           262.375,
           1,
           1
          ],
          [
           1,
           24,
           16.1,
           0,
           3
          ],
          [
           1,
           31,
           7.925,
           1,
           3
          ],
          [
           1,
           70,
           71,
           0,
           1
          ],
          [
           1,
           16,
           20.25,
           0,
           3
          ],
          [
           0,
           30,
           13,
           1,
           2
          ],
          [
           1,
           19,
           53.1,
           0,
           1
          ],
          [
           1,
           31,
           7.75,
           0,
           3
          ],
          [
           0,
           4,
           23,
           1,
           2
          ],
          [
           1,
           6,
           12.475,
           1,
           3
          ],
          [
           1,
           33,
           9.5,
           0,
           3
          ],
          [
           1,
           23,
           7.8958,
           0,
           3
          ],
          [
           0,
           48,
           65,
           1,
           2
          ],
          [
           1,
           0.67,
           14.5,
           1,
           2
          ],
          [
           1,
           28,
           7.7958,
           0,
           3
          ],
          [
           1,
           18,
           11.5,
           0,
           2
          ],
          [
           1,
           34,
           8.05,
           0,
           3
          ],
          [
           0,
           33,
           86.5,
           1,
           1
          ],
          [
           1,
           "29",
           14.5,
           0,
           3
          ],
          [
           1,
           41,
           7.125,
           0,
           3
          ],
          [
           1,
           20,
           7.2292,
           1,
           3
          ],
          [
           0,
           36,
           120,
           1,
           1
          ],
          [
           1,
           16,
           7.775,
           0,
           3
          ],
          [
           0,
           51,
           77.9583,
           1,
           1
          ],
          [
           1,
           "29",
           39.6,
           0,
           1
          ],
          [
           0,
           30.5,
           7.75,
           0,
           3
          ],
          [
           1,
           "29",
           24.15,
           0,
           3
          ],
          [
           1,
           32,
           8.3625,
           0,
           3
          ],
          [
           1,
           24,
           9.5,
           0,
           3
          ],
          [
           1,
           48,
           7.8542,
           0,
           3
          ],
          [
           0,
           57,
           10.5,
           0,
           2
          ],
          [
           1,
           "29",
           7.225,
           0,
           3
          ],
          [
           0,
           54,
           23,
           1,
           2
          ],
          [
           1,
           18,
           7.75,
           0,
           3
          ],
          [
           1,
           "29",
           7.75,
           0,
           3
          ],
          [
           0,
           5,
           12.475,
           1,
           3
          ],
          [
           1,
           "29",
           7.7375,
           0,
           3
          ],
          [
           0,
           43,
           211.3375,
           1,
           1
          ],
          [
           0,
           13,
           7.2292,
           1,
           3
          ],
          [
           0,
           17,
           57,
           1,
           1
          ],
          [
           1,
           29,
           30,
           0,
           1
          ],
          [
           1,
           "29",
           23.45,
           0,
           3
          ],
          [
           1,
           25,
           7.05,
           0,
           3
          ],
          [
           1,
           25,
           7.25,
           0,
           3
          ],
          [
           0,
           18,
           7.4958,
           1,
           3
          ],
          [
           1,
           8,
           29.125,
           0,
           3
          ],
          [
           1,
           1,
           20.575,
           1,
           3
          ],
          [
           1,
           46,
           79.2,
           0,
           1
          ],
          [
           1,
           "29",
           7.75,
           0,
           3
          ],
          [
           1,
           16,
           26,
           0,
           2
          ],
          [
           0,
           "29",
           69.55,
           0,
           3
          ],
          [
           1,
           "29",
           30.6958,
           0,
           1
          ],
          [
           1,
           25,
           7.8958,
           0,
           3
          ],
          [
           1,
           39,
           13,
           0,
           2
          ],
          [
           0,
           49,
           25.9292,
           1,
           1
          ],
          [
           0,
           31,
           8.6833,
           1,
           3
          ],
          [
           1,
           30,
           7.2292,
           0,
           3
          ],
          [
           0,
           30,
           24.15,
           0,
           3
          ],
          [
           1,
           34,
           13,
           0,
           2
          ],
          [
           0,
           31,
           26.25,
           1,
           2
          ],
          [
           1,
           11,
           120,
           1,
           1
          ],
          [
           1,
           0.42,
           8.5167,
           1,
           3
          ],
          [
           1,
           27,
           6.975,
           1,
           3
          ],
          [
           1,
           31,
           7.775,
           0,
           3
          ],
          [
           1,
           39,
           0,
           0,
           1
          ],
          [
           0,
           18,
           7.775,
           0,
           3
          ],
          [
           1,
           39,
           13,
           0,
           2
          ],
          [
           0,
           33,
           53.1,
           1,
           1
          ],
          [
           1,
           26,
           7.8875,
           0,
           3
          ],
          [
           1,
           39,
           24.15,
           0,
           3
          ],
          [
           1,
           35,
           10.5,
           0,
           2
          ],
          [
           0,
           6,
           31.275,
           0,
           3
          ],
          [
           1,
           30.5,
           8.05,
           0,
           3
          ],
          [
           1,
           "29",
           0,
           0,
           1
          ],
          [
           0,
           23,
           7.925,
           0,
           3
          ],
          [
           1,
           31,
           37.0042,
           0,
           2
          ],
          [
           1,
           43,
           6.45,
           0,
           3
          ],
          [
           1,
           10,
           27.9,
           0,
           3
          ],
          [
           0,
           52,
           93.5,
           1,
           1
          ],
          [
           1,
           27,
           8.6625,
           1,
           3
          ],
          [
           1,
           38,
           0,
           0,
           1
          ],
          [
           0,
           27,
           12.475,
           1,
           3
          ],
          [
           1,
           2,
           39.6875,
           0,
           3
          ],
          [
           1,
           "29",
           6.95,
           0,
           3
          ],
          [
           1,
           "29",
           56.4958,
           0,
           3
          ],
          [
           1,
           1,
           37.0042,
           1,
           2
          ],
          [
           1,
           "29",
           7.75,
           1,
           3
          ],
          [
           0,
           62,
           80,
           1,
           1
          ],
          [
           0,
           15,
           14.4542,
           1,
           3
          ],
          [
           1,
           0.83,
           18.75,
           1,
           2
          ],
          [
           1,
           "29",
           7.2292,
           0,
           3
          ],
          [
           1,
           23,
           7.8542,
           0,
           3
          ],
          [
           1,
           18,
           8.3,
           0,
           3
          ],
          [
           0,
           39,
           83.1583,
           1,
           1
          ],
          [
           1,
           21,
           8.6625,
           0,
           3
          ],
          [
           1,
           "29",
           8.05,
           0,
           3
          ],
          [
           1,
           32,
           56.4958,
           1,
           3
          ],
          [
           1,
           "29",
           29.7,
           1,
           1
          ],
          [
           1,
           20,
           7.925,
           0,
           3
          ],
          [
           1,
           16,
           10.5,
           0,
           2
          ],
          [
           0,
           30,
           31,
           1,
           1
          ],
          [
           1,
           34.5,
           6.4375,
           0,
           3
          ],
          [
           1,
           17,
           8.6625,
           0,
           3
          ],
          [
           1,
           42,
           7.55,
           0,
           3
          ],
          [
           1,
           "29",
           69.55,
           0,
           3
          ],
          [
           1,
           35,
           7.8958,
           0,
           3
          ],
          [
           1,
           28,
           33,
           0,
           2
          ],
          [
           0,
           "29",
           89.1042,
           1,
           1
          ],
          [
           1,
           4,
           31.275,
           0,
           3
          ],
          [
           1,
           74,
           7.775,
           0,
           3
          ],
          [
           0,
           9,
           15.2458,
           0,
           3
          ],
          [
           0,
           16,
           39.4,
           1,
           1
          ],
          [
           0,
           44,
           26,
           0,
           2
          ],
          [
           0,
           18,
           9.35,
           1,
           3
          ],
          [
           0,
           45,
           164.8667,
           1,
           1
          ],
          [
           1,
           51,
           26.55,
           1,
           1
          ],
          [
           0,
           24,
           19.2583,
           1,
           3
          ],
          [
           1,
           "29",
           7.2292,
           0,
           3
          ],
          [
           1,
           41,
           14.1083,
           0,
           3
          ],
          [
           1,
           21,
           11.5,
           0,
           2
          ],
          [
           0,
           48,
           25.9292,
           1,
           1
          ],
          [
           0,
           "29",
           69.55,
           0,
           3
          ],
          [
           1,
           24,
           13,
           0,
           2
          ],
          [
           0,
           42,
           13,
           1,
           2
          ],
          [
           0,
           27,
           13.8583,
           1,
           2
          ],
          [
           1,
           31,
           50.4958,
           0,
           1
          ],
          [
           1,
           "29",
           9.5,
           0,
           3
          ],
          [
           1,
           4,
           11.1333,
           1,
           3
          ],
          [
           1,
           26,
           7.8958,
           0,
           3
          ],
          [
           0,
           47,
           52.5542,
           1,
           1
          ],
          [
           1,
           33,
           5,
           0,
           1
          ],
          [
           1,
           47,
           9,
           0,
           3
          ],
          [
           0,
           28,
           24,
           1,
           2
          ],
          [
           0,
           15,
           7.225,
           1,
           3
          ],
          [
           1,
           20,
           9.8458,
           0,
           3
          ],
          [
           1,
           19,
           7.8958,
           0,
           3
          ],
          [
           1,
           "29",
           7.8958,
           0,
           3
          ],
          [
           0,
           56,
           83.1583,
           1,
           1
          ],
          [
           0,
           25,
           26,
           1,
           2
          ],
          [
           1,
           33,
           7.8958,
           0,
           3
          ],
          [
           0,
           22,
           10.5167,
           0,
           3
          ],
          [
           1,
           28,
           10.5,
           0,
           2
          ],
          [
           1,
           25,
           7.05,
           0,
           3
          ],
          [
           0,
           39,
           29.125,
           0,
           3
          ],
          [
           1,
           27,
           13,
           0,
           2
          ],
          [
           0,
           19,
           30,
           1,
           1
          ],
          [
           0,
           "29",
           23.45,
           0,
           3
          ],
          [
           1,
           26,
           30,
           1,
           1
          ],
          [
           1,
           32,
           7.75,
           0,
           3
          ]
         ]
        }
       ],
       "layout": {
        "template": {
         "data": {
          "bar": [
           {
            "error_x": {
             "color": "#2a3f5f"
            },
            "error_y": {
             "color": "#2a3f5f"
            },
            "marker": {
             "line": {
              "color": "#E5ECF6",
              "width": 0.5
             }
            },
            "type": "bar"
           }
          ],
          "barpolar": [
           {
            "marker": {
             "line": {
              "color": "#E5ECF6",
              "width": 0.5
             }
            },
            "type": "barpolar"
           }
          ],
          "carpet": [
           {
            "aaxis": {
             "endlinecolor": "#2a3f5f",
             "gridcolor": "white",
             "linecolor": "white",
             "minorgridcolor": "white",
             "startlinecolor": "#2a3f5f"
            },
            "baxis": {
             "endlinecolor": "#2a3f5f",
             "gridcolor": "white",
             "linecolor": "white",
             "minorgridcolor": "white",
             "startlinecolor": "#2a3f5f"
            },
            "type": "carpet"
           }
          ],
          "choropleth": [
           {
            "colorbar": {
             "outlinewidth": 0,
             "ticks": ""
            },
            "type": "choropleth"
           }
          ],
          "contour": [
           {
            "colorbar": {
             "outlinewidth": 0,
             "ticks": ""
            },
            "colorscale": [
             [
              0,
              "#0d0887"
             ],
             [
              0.1111111111111111,
              "#46039f"
             ],
             [
              0.2222222222222222,
              "#7201a8"
             ],
             [
              0.3333333333333333,
              "#9c179e"
             ],
             [
              0.4444444444444444,
              "#bd3786"
             ],
             [
              0.5555555555555556,
              "#d8576b"
             ],
             [
              0.6666666666666666,
              "#ed7953"
             ],
             [
              0.7777777777777778,
              "#fb9f3a"
             ],
             [
              0.8888888888888888,
              "#fdca26"
             ],
             [
              1,
              "#f0f921"
             ]
            ],
            "type": "contour"
           }
          ],
          "contourcarpet": [
           {
            "colorbar": {
             "outlinewidth": 0,
             "ticks": ""
            },
            "type": "contourcarpet"
           }
          ],
          "heatmap": [
           {
            "colorbar": {
             "outlinewidth": 0,
             "ticks": ""
            },
            "colorscale": [
             [
              0,
              "#0d0887"
             ],
             [
              0.1111111111111111,
              "#46039f"
             ],
             [
              0.2222222222222222,
              "#7201a8"
             ],
             [
              0.3333333333333333,
              "#9c179e"
             ],
             [
              0.4444444444444444,
              "#bd3786"
             ],
             [
              0.5555555555555556,
              "#d8576b"
             ],
             [
              0.6666666666666666,
              "#ed7953"
             ],
             [
              0.7777777777777778,
              "#fb9f3a"
             ],
             [
              0.8888888888888888,
              "#fdca26"
             ],
             [
              1,
              "#f0f921"
             ]
            ],
            "type": "heatmap"
           }
          ],
          "heatmapgl": [
           {
            "colorbar": {
             "outlinewidth": 0,
             "ticks": ""
            },
            "colorscale": [
             [
              0,
              "#0d0887"
             ],
             [
              0.1111111111111111,
              "#46039f"
             ],
             [
              0.2222222222222222,
              "#7201a8"
             ],
             [
              0.3333333333333333,
              "#9c179e"
             ],
             [
              0.4444444444444444,
              "#bd3786"
             ],
             [
              0.5555555555555556,
              "#d8576b"
             ],
             [
              0.6666666666666666,
              "#ed7953"
             ],
             [
              0.7777777777777778,
              "#fb9f3a"
             ],
             [
              0.8888888888888888,
              "#fdca26"
             ],
             [
              1,
              "#f0f921"
             ]
            ],
            "type": "heatmapgl"
           }
          ],
          "histogram": [
           {
            "marker": {
             "colorbar": {
              "outlinewidth": 0,
              "ticks": ""
             }
            },
            "type": "histogram"
           }
          ],
          "histogram2d": [
           {
            "colorbar": {
             "outlinewidth": 0,
             "ticks": ""
            },
            "colorscale": [
             [
              0,
              "#0d0887"
             ],
             [
              0.1111111111111111,
              "#46039f"
             ],
             [
              0.2222222222222222,
              "#7201a8"
             ],
             [
              0.3333333333333333,
              "#9c179e"
             ],
             [
              0.4444444444444444,
              "#bd3786"
             ],
             [
              0.5555555555555556,
              "#d8576b"
             ],
             [
              0.6666666666666666,
              "#ed7953"
             ],
             [
              0.7777777777777778,
              "#fb9f3a"
             ],
             [
              0.8888888888888888,
              "#fdca26"
             ],
             [
              1,
              "#f0f921"
             ]
            ],
            "type": "histogram2d"
           }
          ],
          "histogram2dcontour": [
           {
            "colorbar": {
             "outlinewidth": 0,
             "ticks": ""
            },
            "colorscale": [
             [
              0,
              "#0d0887"
             ],
             [
              0.1111111111111111,
              "#46039f"
             ],
             [
              0.2222222222222222,
              "#7201a8"
             ],
             [
              0.3333333333333333,
              "#9c179e"
             ],
             [
              0.4444444444444444,
              "#bd3786"
             ],
             [
              0.5555555555555556,
              "#d8576b"
             ],
             [
              0.6666666666666666,
              "#ed7953"
             ],
             [
              0.7777777777777778,
              "#fb9f3a"
             ],
             [
              0.8888888888888888,
              "#fdca26"
             ],
             [
              1,
              "#f0f921"
             ]
            ],
            "type": "histogram2dcontour"
           }
          ],
          "mesh3d": [
           {
            "colorbar": {
             "outlinewidth": 0,
             "ticks": ""
            },
            "type": "mesh3d"
           }
          ],
          "parcoords": [
           {
            "line": {
             "colorbar": {
              "outlinewidth": 0,
              "ticks": ""
             }
            },
            "type": "parcoords"
           }
          ],
          "pie": [
           {
            "automargin": true,
            "type": "pie"
           }
          ],
          "scatter": [
           {
            "marker": {
             "colorbar": {
              "outlinewidth": 0,
              "ticks": ""
             }
            },
            "type": "scatter"
           }
          ],
          "scatter3d": [
           {
            "line": {
             "colorbar": {
              "outlinewidth": 0,
              "ticks": ""
             }
            },
            "marker": {
             "colorbar": {
              "outlinewidth": 0,
              "ticks": ""
             }
            },
            "type": "scatter3d"
           }
          ],
          "scattercarpet": [
           {
            "marker": {
             "colorbar": {
              "outlinewidth": 0,
              "ticks": ""
             }
            },
            "type": "scattercarpet"
           }
          ],
          "scattergeo": [
           {
            "marker": {
             "colorbar": {
              "outlinewidth": 0,
              "ticks": ""
             }
            },
            "type": "scattergeo"
           }
          ],
          "scattergl": [
           {
            "marker": {
             "colorbar": {
              "outlinewidth": 0,
              "ticks": ""
             }
            },
            "type": "scattergl"
           }
          ],
          "scattermapbox": [
           {
            "marker": {
             "colorbar": {
              "outlinewidth": 0,
              "ticks": ""
             }
            },
            "type": "scattermapbox"
           }
          ],
          "scatterpolar": [
           {
            "marker": {
             "colorbar": {
              "outlinewidth": 0,
              "ticks": ""
             }
            },
            "type": "scatterpolar"
           }
          ],
          "scatterpolargl": [
           {
            "marker": {
             "colorbar": {
              "outlinewidth": 0,
              "ticks": ""
             }
            },
            "type": "scatterpolargl"
           }
          ],
          "scatterternary": [
           {
            "marker": {
             "colorbar": {
              "outlinewidth": 0,
              "ticks": ""
             }
            },
            "type": "scatterternary"
           }
          ],
          "surface": [
           {
            "colorbar": {
             "outlinewidth": 0,
             "ticks": ""
            },
            "colorscale": [
             [
              0,
              "#0d0887"
             ],
             [
              0.1111111111111111,
              "#46039f"
             ],
             [
              0.2222222222222222,
              "#7201a8"
             ],
             [
              0.3333333333333333,
              "#9c179e"
             ],
             [
              0.4444444444444444,
              "#bd3786"
             ],
             [
              0.5555555555555556,
              "#d8576b"
             ],
             [
              0.6666666666666666,
              "#ed7953"
             ],
             [
              0.7777777777777778,
              "#fb9f3a"
             ],
             [
              0.8888888888888888,
              "#fdca26"
             ],
             [
              1,
              "#f0f921"
             ]
            ],
            "type": "surface"
           }
          ],
          "table": [
           {
            "cells": {
             "fill": {
              "color": "#EBF0F8"
             },
             "line": {
              "color": "white"
             }
            },
            "header": {
             "fill": {
              "color": "#C8D4E3"
             },
             "line": {
              "color": "white"
             }
            },
            "type": "table"
           }
          ]
         },
         "layout": {
          "annotationdefaults": {
           "arrowcolor": "#2a3f5f",
           "arrowhead": 0,
           "arrowwidth": 1
          },
          "coloraxis": {
           "colorbar": {
            "outlinewidth": 0,
            "ticks": ""
           }
          },
          "colorscale": {
           "diverging": [
            [
             0,
             "#8e0152"
            ],
            [
             0.1,
             "#c51b7d"
            ],
            [
             0.2,
             "#de77ae"
            ],
            [
             0.3,
             "#f1b6da"
            ],
            [
             0.4,
             "#fde0ef"
            ],
            [
             0.5,
             "#f7f7f7"
            ],
            [
             0.6,
             "#e6f5d0"
            ],
            [
             0.7,
             "#b8e186"
            ],
            [
             0.8,
             "#7fbc41"
            ],
            [
             0.9,
             "#4d9221"
            ],
            [
             1,
             "#276419"
            ]
           ],
           "sequential": [
            [
             0,
             "#0d0887"
            ],
            [
             0.1111111111111111,
             "#46039f"
            ],
            [
             0.2222222222222222,
             "#7201a8"
            ],
            [
             0.3333333333333333,
             "#9c179e"
            ],
            [
             0.4444444444444444,
             "#bd3786"
            ],
            [
             0.5555555555555556,
             "#d8576b"
            ],
            [
             0.6666666666666666,
             "#ed7953"
            ],
            [
             0.7777777777777778,
             "#fb9f3a"
            ],
            [
             0.8888888888888888,
             "#fdca26"
            ],
            [
             1,
             "#f0f921"
            ]
           ],
           "sequentialminus": [
            [
             0,
             "#0d0887"
            ],
            [
             0.1111111111111111,
             "#46039f"
            ],
            [
             0.2222222222222222,
             "#7201a8"
            ],
            [
             0.3333333333333333,
             "#9c179e"
            ],
            [
             0.4444444444444444,
             "#bd3786"
            ],
            [
             0.5555555555555556,
             "#d8576b"
            ],
            [
             0.6666666666666666,
             "#ed7953"
            ],
            [
             0.7777777777777778,
             "#fb9f3a"
            ],
            [
             0.8888888888888888,
             "#fdca26"
            ],
            [
             1,
             "#f0f921"
            ]
           ]
          },
          "colorway": [
           "#636efa",
           "#EF553B",
           "#00cc96",
           "#ab63fa",
           "#FFA15A",
           "#19d3f3",
           "#FF6692",
           "#B6E880",
           "#FF97FF",
           "#FECB52"
          ],
          "font": {
           "color": "#2a3f5f"
          },
          "geo": {
           "bgcolor": "white",
           "lakecolor": "white",
           "landcolor": "#E5ECF6",
           "showlakes": true,
           "showland": true,
           "subunitcolor": "white"
          },
          "hoverlabel": {
           "align": "left"
          },
          "hovermode": "closest",
          "mapbox": {
           "style": "light"
          },
          "paper_bgcolor": "white",
          "plot_bgcolor": "#E5ECF6",
          "polar": {
           "angularaxis": {
            "gridcolor": "white",
            "linecolor": "white",
            "ticks": ""
           },
           "bgcolor": "#E5ECF6",
           "radialaxis": {
            "gridcolor": "white",
            "linecolor": "white",
            "ticks": ""
           }
          },
          "scene": {
           "xaxis": {
            "backgroundcolor": "#E5ECF6",
            "gridcolor": "white",
            "gridwidth": 2,
            "linecolor": "white",
            "showbackground": true,
            "ticks": "",
            "zerolinecolor": "white"
           },
           "yaxis": {
            "backgroundcolor": "#E5ECF6",
            "gridcolor": "white",
            "gridwidth": 2,
            "linecolor": "white",
            "showbackground": true,
            "ticks": "",
            "zerolinecolor": "white"
           },
           "zaxis": {
            "backgroundcolor": "#E5ECF6",
            "gridcolor": "white",
            "gridwidth": 2,
            "linecolor": "white",
            "showbackground": true,
            "ticks": "",
            "zerolinecolor": "white"
           }
          },
          "shapedefaults": {
           "line": {
            "color": "#2a3f5f"
           }
          },
          "ternary": {
           "aaxis": {
            "gridcolor": "white",
            "linecolor": "white",
            "ticks": ""
           },
           "baxis": {
            "gridcolor": "white",
            "linecolor": "white",
            "ticks": ""
           },
           "bgcolor": "#E5ECF6",
           "caxis": {
            "gridcolor": "white",
            "linecolor": "white",
            "ticks": ""
           }
          },
          "title": {
           "x": 0.05
          },
          "xaxis": {
           "automargin": true,
           "gridcolor": "white",
           "linecolor": "white",
           "ticks": "",
           "title": {
            "standoff": 15
           },
           "zerolinecolor": "white",
           "zerolinewidth": 2
          },
          "yaxis": {
           "automargin": true,
           "gridcolor": "white",
           "linecolor": "white",
           "ticks": "",
           "title": {
            "standoff": 15
           },
           "zerolinecolor": "white",
           "zerolinewidth": 2
          }
         }
        }
       }
      },
      "text/html": [
       "<div>                            <div id=\"58006c6a-b5c4-46c0-a034-fda27d8728c0\" class=\"plotly-graph-div\" style=\"height:525px; width:100%;\"></div>            <script type=\"text/javascript\">                require([\"plotly\"], function(Plotly) {                    window.PLOTLYENV=window.PLOTLYENV || {};                                    if (document.getElementById(\"58006c6a-b5c4-46c0-a034-fda27d8728c0\")) {                    Plotly.newPlot(                        \"58006c6a-b5c4-46c0-a034-fda27d8728c0\",                        [{\"type\": \"heatmap\", \"x\": [\"Sex\", \"Age\", \"Fare\", \"Survived\", \"Pclass\"], \"y\": [\"Sex\", \"Age\", \"Fare\", \"Survived\", \"Pclass\"], \"z\": [[1, 22.0, 7.25, 0, 3], [0, 38.0, 71.2833, 1, 1], [0, 26.0, 7.925, 1, 3], [0, 35.0, 53.1, 1, 1], [1, 35.0, 8.05, 0, 3], [1, \"29\", 8.4583, 0, 3], [1, 54.0, 51.8625, 0, 1], [1, 2.0, 21.075, 0, 3], [0, 27.0, 11.1333, 1, 3], [0, 14.0, 30.0708, 1, 2], [0, 4.0, 16.7, 1, 3], [0, 58.0, 26.55, 1, 1], [1, 20.0, 8.05, 0, 3], [1, 39.0, 31.275, 0, 3], [0, 14.0, 7.8542, 0, 3], [0, 55.0, 16.0, 1, 2], [1, 2.0, 29.125, 0, 3], [1, \"29\", 13.0, 1, 2], [0, 31.0, 18.0, 0, 3], [0, \"29\", 7.225, 1, 3], [1, 35.0, 26.0, 0, 2], [1, 34.0, 13.0, 1, 2], [0, 15.0, 8.0292, 1, 3], [1, 28.0, 35.5, 1, 1], [0, 8.0, 21.075, 0, 3], [0, 38.0, 31.3875, 1, 3], [1, \"29\", 7.225, 0, 3], [1, 19.0, 263.0, 0, 1], [0, \"29\", 7.8792, 1, 3], [1, \"29\", 7.8958, 0, 3], [1, 40.0, 27.7208, 0, 1], [0, \"29\", 146.5208, 1, 1], [0, \"29\", 7.75, 1, 3], [1, 66.0, 10.5, 0, 2], [1, 28.0, 82.1708, 0, 1], [1, 42.0, 52.0, 0, 1], [1, \"29\", 7.2292, 1, 3], [1, 21.0, 8.05, 0, 3], [0, 18.0, 18.0, 0, 3], [0, 14.0, 11.2417, 1, 3], [0, 40.0, 9.475, 0, 3], [0, 27.0, 21.0, 0, 2], [1, \"29\", 7.8958, 0, 3], [0, 3.0, 41.5792, 1, 2], [0, 19.0, 7.8792, 1, 3], [1, \"29\", 8.05, 0, 3], [1, \"29\", 15.5, 0, 3], [0, \"29\", 7.75, 1, 3], [1, \"29\", 21.6792, 0, 3], [0, 18.0, 17.8, 0, 3], [1, 7.0, 39.6875, 0, 3], [1, 21.0, 7.8, 0, 3], [0, 49.0, 76.7292, 1, 1], [0, 29.0, 26.0, 1, 2], [1, 65.0, 61.9792, 0, 1], [1, \"29\", 35.5, 1, 1], [0, 21.0, 10.5, 1, 2], [1, 28.5, 7.2292, 0, 3], [0, 5.0, 27.75, 1, 2], [1, 11.0, 46.9, 0, 3], [1, 22.0, 7.2292, 0, 3], [0, 38.0, 80.0, 1, 1], [1, 45.0, 83.475, 0, 1], [1, 4.0, 27.9, 0, 3], [1, \"29\", 27.7208, 0, 1], [1, \"29\", 15.2458, 1, 3], [0, 29.0, 10.5, 1, 2], [1, 19.0, 8.1583, 0, 3], [0, 17.0, 7.925, 1, 3], [1, 26.0, 8.6625, 0, 3], [1, 32.0, 10.5, 0, 2], [0, 16.0, 46.9, 0, 3], [1, 21.0, 73.5, 0, 2], [1, 26.0, 14.4542, 0, 3], [1, 32.0, 56.4958, 1, 3], [1, 25.0, 7.65, 0, 3], [1, \"29\", 7.8958, 0, 3], [1, \"29\", 8.05, 0, 3], [1, 0.83, 29.0, 1, 2], [0, 30.0, 12.475, 1, 3], [1, 22.0, 9.0, 0, 3], [1, 29.0, 9.5, 1, 3], [0, \"29\", 7.7875, 1, 3], [1, 28.0, 47.1, 0, 1], [0, 17.0, 10.5, 1, 2], [0, 33.0, 15.85, 1, 3], [1, 16.0, 34.375, 0, 3], [1, \"29\", 8.05, 0, 3], [0, 23.0, 263.0, 1, 1], [1, 24.0, 8.05, 0, 3], [1, 29.0, 8.05, 0, 3], [1, 20.0, 7.8542, 0, 3], [1, 46.0, 61.175, 0, 1], [1, 26.0, 20.575, 0, 3], [1, 59.0, 7.25, 0, 3], [1, \"29\", 8.05, 0, 3], [1, 71.0, 34.6542, 0, 1], [1, 23.0, 63.3583, 1, 1], [0, 34.0, 23.0, 1, 2], [1, 34.0, 26.0, 0, 2], [0, 28.0, 7.8958, 0, 3], [1, \"29\", 7.8958, 0, 3], [1, 21.0, 77.2875, 0, 1], [1, 33.0, 8.6542, 0, 3], [1, 37.0, 7.925, 0, 3], [1, 28.0, 7.8958, 0, 3], [0, 21.0, 7.65, 1, 3], [1, \"29\", 7.775, 1, 3], [1, 38.0, 7.8958, 0, 3], [0, \"29\", 24.15, 1, 3], [1, 47.0, 52.0, 0, 1], [0, 14.5, 14.4542, 0, 3], [1, 22.0, 8.05, 0, 3], [0, 20.0, 9.825, 0, 3], [0, 17.0, 14.4583, 0, 3], [1, 21.0, 7.925, 0, 3], [1, 70.5, 7.75, 0, 3], [1, 29.0, 21.0, 0, 2], [1, 24.0, 247.5208, 0, 1], [0, 2.0, 31.275, 0, 3], [1, 21.0, 73.5, 0, 2], [1, \"29\", 8.05, 0, 3], [1, 32.5, 30.0708, 0, 2], [0, 32.5, 13.0, 1, 2], [1, 54.0, 77.2875, 0, 1], [1, 12.0, 11.2417, 1, 3], [1, \"29\", 7.75, 0, 3], [1, 24.0, 7.1417, 1, 3], [0, \"29\", 22.3583, 1, 3], [1, 45.0, 6.975, 0, 3], [1, 33.0, 7.8958, 0, 3], [1, 20.0, 7.05, 0, 3], [0, 47.0, 14.5, 0, 3], [0, 29.0, 26.0, 1, 2], [1, 25.0, 13.0, 0, 2], [1, 23.0, 15.0458, 0, 2], [0, 19.0, 26.2833, 1, 1], [1, 37.0, 53.1, 0, 1], [1, 16.0, 9.2167, 0, 3], [1, 24.0, 79.2, 0, 1], [0, \"29\", 15.2458, 0, 3], [0, 22.0, 7.75, 1, 3], [0, 24.0, 15.85, 1, 3], [1, 19.0, 6.75, 0, 3], [1, 18.0, 11.5, 0, 2], [1, 19.0, 36.75, 0, 2], [1, 27.0, 7.7958, 1, 3], [0, 9.0, 34.375, 0, 3], [1, 36.5, 26.0, 0, 2], [1, 42.0, 13.0, 0, 2], [1, 51.0, 12.525, 0, 2], [0, 22.0, 66.6, 1, 1], [1, 55.5, 8.05, 0, 3], [1, 40.5, 14.5, 0, 3], [1, \"29\", 7.3125, 0, 3], [1, 51.0, 61.3792, 0, 1], [0, 16.0, 7.7333, 1, 3], [1, 30.0, 8.05, 0, 3], [1, \"29\", 8.6625, 0, 3], [1, \"29\", 69.55, 0, 3], [1, 44.0, 16.1, 0, 3], [0, 40.0, 15.75, 1, 2], [1, 26.0, 7.775, 0, 3], [1, 17.0, 8.6625, 0, 3], [1, 1.0, 39.6875, 0, 3], [1, 9.0, 20.525, 1, 3], [0, \"29\", 55.0, 1, 1], [0, 45.0, 27.9, 0, 3], [1, \"29\", 25.925, 0, 1], [1, 28.0, 56.4958, 0, 3], [1, 61.0, 33.5, 0, 1], [1, 4.0, 29.125, 0, 3], [0, 1.0, 11.1333, 1, 3], [1, 21.0, 7.925, 0, 3], [1, 56.0, 30.6958, 0, 1], [1, 18.0, 7.8542, 0, 3], [1, \"29\", 25.4667, 0, 3], [0, 50.0, 28.7125, 0, 1], [1, 30.0, 13.0, 0, 2], [1, 36.0, 0.0, 0, 3], [0, \"29\", 69.55, 0, 3], [1, \"29\", 15.05, 0, 2], [1, 9.0, 31.3875, 0, 3], [1, 1.0, 39.0, 1, 2], [0, 4.0, 22.025, 1, 3], [1, \"29\", 50.0, 0, 1], [0, \"29\", 15.5, 1, 3], [1, 45.0, 26.55, 1, 1], [1, 40.0, 15.5, 0, 3], [1, 36.0, 7.8958, 0, 3], [0, 32.0, 13.0, 1, 2], [1, 19.0, 13.0, 0, 2], [0, 19.0, 7.8542, 1, 3], [1, 3.0, 26.0, 1, 2], [0, 44.0, 27.7208, 1, 1], [0, 58.0, 146.5208, 1, 1], [1, \"29\", 7.75, 0, 3], [1, 42.0, 8.4042, 0, 3], [0, \"29\", 7.75, 1, 3], [0, 24.0, 13.0, 0, 2], [1, 28.0, 9.5, 0, 3], [1, \"29\", 69.55, 0, 3], [1, 34.0, 6.4958, 0, 3], [1, 45.5, 7.225, 0, 3], [1, 18.0, 8.05, 1, 3], [0, 2.0, 10.4625, 0, 3], [1, 32.0, 15.85, 0, 3], [1, 26.0, 18.7875, 1, 3], [0, 16.0, 7.75, 1, 3], [1, 40.0, 31.0, 1, 1], [1, 24.0, 7.05, 0, 3], [0, 35.0, 21.0, 1, 2], [1, 22.0, 7.25, 0, 3], [1, 30.0, 13.0, 0, 2], [1, \"29\", 7.75, 0, 3], [0, 31.0, 113.275, 1, 1], [0, 27.0, 7.925, 1, 3], [1, 42.0, 27.0, 0, 2], [0, 32.0, 76.2917, 1, 1], [1, 30.0, 10.5, 0, 2], [1, 16.0, 8.05, 1, 3], [1, 27.0, 13.0, 0, 2], [1, 51.0, 8.05, 0, 3], [1, \"29\", 7.8958, 0, 3], [1, 38.0, 90.0, 1, 1], [1, 22.0, 9.35, 0, 3], [1, 19.0, 10.5, 1, 2], [1, 20.5, 7.25, 0, 3], [1, 18.0, 13.0, 0, 2], [0, \"29\", 25.4667, 0, 3], [0, 35.0, 83.475, 1, 1], [1, 29.0, 7.775, 0, 3], [1, 59.0, 13.5, 0, 2], [0, 5.0, 31.3875, 1, 3], [1, 24.0, 10.5, 0, 2], [0, \"29\", 7.55, 0, 3], [1, 44.0, 26.0, 0, 2], [0, 8.0, 26.25, 1, 2], [1, 19.0, 10.5, 0, 2], [1, 33.0, 12.275, 0, 2], [0, \"29\", 14.4542, 0, 3], [0, \"29\", 15.5, 1, 3], [1, 29.0, 10.5, 0, 2], [1, 22.0, 7.125, 0, 3], [1, 30.0, 7.225, 0, 3], [1, 44.0, 90.0, 0, 1], [0, 25.0, 7.775, 0, 3], [0, 24.0, 14.5, 1, 2], [1, 37.0, 52.5542, 1, 1], [1, 54.0, 26.0, 0, 2], [1, \"29\", 7.25, 0, 3], [0, 29.0, 10.4625, 0, 3], [1, 62.0, 26.55, 0, 1], [1, 30.0, 16.1, 0, 3], [0, 41.0, 20.2125, 0, 3], [0, 29.0, 15.2458, 1, 3], [0, \"29\", 79.2, 1, 1], [0, 30.0, 86.5, 1, 1], [0, 35.0, 512.3292, 1, 1], [0, 50.0, 26.0, 1, 2], [1, \"29\", 7.75, 0, 3], [1, 3.0, 31.3875, 1, 3], [1, 52.0, 79.65, 0, 1], [1, 40.0, 0.0, 0, 1], [0, \"29\", 7.75, 0, 3], [1, 36.0, 10.5, 0, 2], [1, 16.0, 39.6875, 0, 3], [1, 25.0, 7.775, 1, 3], [0, 58.0, 153.4625, 1, 1], [0, 35.0, 135.6333, 1, 1], [1, \"29\", 31.0, 0, 1], [1, 25.0, 0.0, 1, 3], [0, 41.0, 19.5, 1, 2], [1, 37.0, 29.7, 0, 1], [0, \"29\", 7.75, 1, 3], [0, 63.0, 77.9583, 1, 1], [0, 45.0, 7.75, 0, 3], [1, \"29\", 0.0, 0, 2], [1, 7.0, 29.125, 0, 3], [0, 35.0, 20.25, 1, 3], [1, 65.0, 7.75, 0, 3], [1, 28.0, 7.8542, 0, 3], [1, 16.0, 9.5, 0, 3], [1, 19.0, 8.05, 1, 3], [1, \"29\", 26.0, 0, 1], [1, 33.0, 8.6625, 0, 3], [1, 30.0, 9.5, 1, 3], [1, 22.0, 7.8958, 0, 3], [1, 42.0, 13.0, 1, 2], [0, 22.0, 7.75, 1, 3], [0, 26.0, 78.85, 1, 1], [0, 19.0, 91.0792, 1, 1], [1, 36.0, 12.875, 0, 2], [0, 24.0, 8.85, 0, 3], [1, 24.0, 7.8958, 0, 3], [1, \"29\", 27.7208, 0, 1], [1, 23.5, 7.2292, 0, 3], [0, 2.0, 151.55, 0, 1], [1, \"29\", 30.5, 1, 1], [0, 50.0, 247.5208, 1, 1], [0, \"29\", 7.75, 1, 3], [1, \"29\", 23.25, 1, 3], [1, 19.0, 0.0, 0, 3], [0, \"29\", 12.35, 1, 2], [1, \"29\", 8.05, 0, 3], [1, 0.92, 151.55, 1, 1], [0, \"29\", 110.8833, 1, 1], [0, 17.0, 108.9, 1, 1], [1, 30.0, 24.0, 0, 2], [0, 30.0, 56.9292, 1, 1], [0, 24.0, 83.1583, 1, 1], [0, 18.0, 262.375, 1, 1], [0, 26.0, 26.0, 0, 2], [1, 28.0, 7.8958, 0, 3], [1, 43.0, 26.25, 0, 2], [0, 26.0, 7.8542, 1, 3], [0, 24.0, 26.0, 1, 2], [1, 54.0, 14.0, 0, 2], [0, 31.0, 164.8667, 1, 1], [0, 40.0, 134.5, 1, 1], [1, 22.0, 7.25, 0, 3], [1, 27.0, 7.8958, 0, 3], [0, 30.0, 12.35, 1, 2], [0, 22.0, 29.0, 1, 2], [1, \"29\", 69.55, 0, 3], [0, 36.0, 135.6333, 1, 1], [1, 61.0, 6.2375, 0, 3], [0, 36.0, 13.0, 1, 2], [0, 31.0, 20.525, 1, 3], [0, 16.0, 57.9792, 1, 1], [0, \"29\", 23.25, 1, 3], [1, 45.5, 28.5, 0, 1], [1, 38.0, 153.4625, 0, 1], [1, 16.0, 18.0, 0, 3], [0, \"29\", 133.65, 1, 1], [1, \"29\", 7.8958, 0, 3], [1, 29.0, 66.6, 0, 1], [0, 41.0, 134.5, 1, 1], [1, 45.0, 8.05, 1, 3], [1, 45.0, 35.5, 0, 1], [1, 2.0, 26.0, 1, 2], [0, 24.0, 263.0, 1, 1], [1, 28.0, 13.0, 0, 2], [1, 25.0, 13.0, 0, 2], [1, 36.0, 13.0, 0, 2], [0, 24.0, 13.0, 1, 2], [0, 40.0, 13.0, 1, 2], [0, \"29\", 16.1, 1, 3], [1, 3.0, 15.9, 1, 3], [1, 42.0, 8.6625, 0, 3], [1, 23.0, 9.225, 0, 3], [1, \"29\", 35.0, 0, 1], [1, 15.0, 7.2292, 0, 3], [1, 25.0, 17.8, 0, 3], [1, \"29\", 7.225, 0, 3], [1, 28.0, 9.5, 0, 3], [0, 22.0, 55.0, 1, 1], [0, 38.0, 13.0, 0, 2], [0, \"29\", 7.8792, 1, 3], [0, \"29\", 7.8792, 1, 3], [1, 40.0, 27.9, 0, 3], [1, 29.0, 27.7208, 0, 2], [0, 45.0, 14.4542, 0, 3], [1, 35.0, 7.05, 0, 3], [1, \"29\", 15.5, 0, 3], [1, 30.0, 7.25, 0, 3], [0, 60.0, 75.25, 1, 1], [0, \"29\", 7.2292, 1, 3], [0, \"29\", 7.75, 1, 3], [0, 24.0, 69.3, 1, 1], [1, 25.0, 55.4417, 1, 1], [1, 18.0, 6.4958, 0, 3], [1, 19.0, 8.05, 0, 3], [1, 22.0, 135.6333, 0, 1], [0, 3.0, 21.075, 0, 3], [0, \"29\", 82.1708, 1, 1], [0, 22.0, 7.25, 1, 3], [1, 27.0, 211.5, 0, 1], [1, 20.0, 4.0125, 0, 3], [1, 19.0, 7.775, 0, 3], [0, 42.0, 227.525, 1, 1], [0, 1.0, 15.7417, 1, 3], [1, 32.0, 7.925, 0, 3], [0, 35.0, 52.0, 1, 1], [1, \"29\", 7.8958, 0, 3], [1, 18.0, 73.5, 0, 2], [1, 1.0, 46.9, 0, 3], [0, 36.0, 13.0, 1, 2], [1, \"29\", 7.7292, 0, 3], [0, 17.0, 12.0, 1, 2], [1, 36.0, 120.0, 1, 1], [1, 21.0, 7.7958, 1, 3], [1, 28.0, 7.925, 0, 3], [0, 23.0, 113.275, 1, 1], [0, 24.0, 16.7, 1, 3], [1, 22.0, 7.7958, 0, 3], [0, 31.0, 7.8542, 0, 3], [1, 46.0, 26.0, 0, 2], [1, 23.0, 10.5, 0, 2], [0, 28.0, 12.65, 1, 2], [1, 39.0, 7.925, 1, 3], [1, 26.0, 8.05, 0, 3], [0, 21.0, 9.825, 0, 3], [1, 28.0, 15.85, 0, 3], [0, 20.0, 8.6625, 0, 3], [1, 34.0, 21.0, 0, 2], [1, 51.0, 7.75, 0, 3], [1, 3.0, 18.75, 1, 2], [1, 21.0, 7.775, 0, 3], [0, \"29\", 25.4667, 0, 3], [1, \"29\", 7.8958, 0, 3], [1, \"29\", 6.8583, 0, 3], [0, 33.0, 90.0, 1, 1], [1, \"29\", 0.0, 0, 2], [1, 44.0, 7.925, 1, 3], [0, \"29\", 8.05, 0, 3], [0, 34.0, 32.5, 1, 2], [0, 18.0, 13.0, 1, 2], [1, 30.0, 13.0, 0, 2], [0, 10.0, 24.15, 0, 3], [1, \"29\", 7.8958, 0, 3], [1, 21.0, 7.7333, 0, 3], [1, 29.0, 7.875, 0, 3], [0, 28.0, 14.4, 0, 3], [1, 18.0, 20.2125, 0, 3], [1, \"29\", 7.25, 0, 3], [0, 28.0, 26.0, 1, 2], [0, 19.0, 26.0, 1, 2], [1, \"29\", 7.75, 0, 3], [1, 32.0, 8.05, 1, 3], [1, 28.0, 26.55, 1, 1], [0, \"29\", 16.1, 1, 3], [0, 42.0, 26.0, 1, 2], [1, 17.0, 7.125, 0, 3], [1, 50.0, 55.9, 0, 1], [0, 14.0, 120.0, 1, 1], [0, 21.0, 34.375, 0, 3], [0, 24.0, 18.75, 1, 2], [1, 64.0, 263.0, 0, 1], [1, 31.0, 10.5, 0, 2], [0, 45.0, 26.25, 1, 2], [1, 20.0, 9.5, 0, 3], [1, 25.0, 7.775, 0, 3], [0, 28.0, 13.0, 1, 2], [1, \"29\", 8.1125, 1, 3], [1, 4.0, 81.8583, 1, 1], [0, 13.0, 19.5, 1, 2], [1, 34.0, 26.55, 1, 1], [0, 5.0, 19.2583, 1, 3], [1, 52.0, 30.5, 1, 1], [1, 36.0, 27.75, 0, 2], [1, \"29\", 19.9667, 0, 3], [1, 30.0, 27.75, 0, 1], [1, 49.0, 89.1042, 1, 1], [1, \"29\", 8.05, 0, 3], [1, 29.0, 7.8958, 1, 3], [1, 65.0, 26.55, 0, 1], [0, \"29\", 51.8625, 1, 1], [0, 50.0, 10.5, 1, 2], [1, \"29\", 7.75, 0, 3], [1, 48.0, 26.55, 1, 1], [1, 34.0, 8.05, 0, 3], [1, 47.0, 38.5, 0, 1], [1, 48.0, 13.0, 0, 2], [1, \"29\", 8.05, 0, 3], [1, 38.0, 7.05, 0, 3], [1, \"29\", 0.0, 0, 2], [1, 56.0, 26.55, 0, 1], [1, \"29\", 7.725, 0, 3], [0, 0.75, 19.2583, 1, 3], [1, \"29\", 7.25, 0, 3], [1, 38.0, 8.6625, 0, 3], [0, 33.0, 27.75, 1, 2], [0, 23.0, 13.7917, 1, 2], [0, 22.0, 9.8375, 0, 3], [1, \"29\", 52.0, 0, 1], [1, 34.0, 21.0, 0, 2], [1, 29.0, 7.0458, 0, 3], [1, 22.0, 7.5208, 0, 3], [0, 2.0, 12.2875, 1, 3], [1, 9.0, 46.9, 0, 3], [1, \"29\", 0.0, 0, 2], [1, 50.0, 8.05, 0, 3], [0, 63.0, 9.5875, 1, 3], [1, 25.0, 91.0792, 1, 1], [0, \"29\", 25.4667, 0, 3], [0, 35.0, 90.0, 1, 1], [1, 58.0, 29.7, 0, 1], [1, 30.0, 8.05, 0, 3], [1, 9.0, 15.9, 1, 3], [1, \"29\", 19.9667, 0, 3], [1, 21.0, 7.25, 0, 3], [1, 55.0, 30.5, 0, 1], [1, 71.0, 49.5042, 0, 1], [1, 21.0, 8.05, 0, 3], [1, \"29\", 14.4583, 0, 3], [0, 54.0, 78.2667, 1, 1], [1, \"29\", 15.1, 0, 3], [0, 25.0, 151.55, 0, 1], [1, 24.0, 7.7958, 0, 3], [1, 17.0, 8.6625, 0, 3], [0, 21.0, 7.75, 0, 3], [0, \"29\", 7.6292, 0, 3], [0, 37.0, 9.5875, 0, 3], [0, 16.0, 86.5, 1, 1], [1, 18.0, 108.9, 0, 1], [0, 33.0, 26.0, 1, 2], [1, \"29\", 26.55, 1, 1], [1, 28.0, 22.525, 0, 3], [1, 26.0, 56.4958, 1, 3], [1, 29.0, 7.75, 1, 3], [1, \"29\", 8.05, 0, 3], [1, 36.0, 26.2875, 1, 1], [0, 54.0, 59.4, 1, 1], [1, 24.0, 7.4958, 0, 3], [1, 47.0, 34.0208, 0, 1], [0, 34.0, 10.5, 1, 2], [1, \"29\", 24.15, 0, 3], [0, 36.0, 26.0, 1, 2], [1, 32.0, 7.8958, 0, 3], [0, 30.0, 93.5, 1, 1], [1, 22.0, 7.8958, 0, 3], [1, \"29\", 7.225, 0, 3], [0, 44.0, 57.9792, 1, 1], [1, \"29\", 7.2292, 0, 3], [1, 40.5, 7.75, 0, 3], [0, 50.0, 10.5, 1, 2], [1, \"29\", 221.7792, 0, 1], [1, 39.0, 7.925, 0, 3], [1, 23.0, 11.5, 0, 2], [0, 2.0, 26.0, 1, 2], [1, \"29\", 7.2292, 0, 3], [1, 17.0, 7.2292, 0, 3], [0, \"29\", 22.3583, 1, 3], [0, 30.0, 8.6625, 0, 3], [0, 7.0, 26.25, 1, 2], [1, 45.0, 26.55, 0, 1], [0, 30.0, 106.425, 1, 1], [1, \"29\", 14.5, 0, 3], [0, 22.0, 49.5, 1, 1], [0, 36.0, 71.0, 1, 1], [0, 9.0, 31.275, 0, 3], [0, 11.0, 31.275, 0, 3], [1, 32.0, 26.0, 1, 2], [1, 50.0, 106.425, 0, 1], [1, 64.0, 26.0, 0, 1], [0, 19.0, 26.0, 1, 2], [1, \"29\", 13.8625, 1, 2], [1, 33.0, 20.525, 0, 3], [1, 8.0, 36.75, 1, 2], [1, 17.0, 110.8833, 1, 1], [1, 27.0, 26.0, 0, 2], [1, \"29\", 7.8292, 0, 3], [1, 22.0, 7.225, 1, 3], [0, 22.0, 7.775, 1, 3], [1, 62.0, 26.55, 0, 1], [0, 48.0, 39.6, 1, 1], [1, \"29\", 227.525, 0, 1], [0, 39.0, 79.65, 1, 1], [0, 36.0, 17.4, 1, 3], [1, \"29\", 7.75, 0, 3], [1, 40.0, 7.8958, 0, 3], [1, 28.0, 13.5, 0, 2], [1, \"29\", 8.05, 0, 3], [0, \"29\", 8.05, 0, 3], [1, 24.0, 24.15, 0, 3], [1, 19.0, 7.8958, 0, 3], [0, 29.0, 21.075, 0, 3], [1, \"29\", 7.2292, 0, 3], [1, 32.0, 7.8542, 1, 3], [1, 62.0, 10.5, 1, 2], [0, 53.0, 51.4792, 1, 1], [1, 36.0, 26.3875, 1, 1], [0, \"29\", 7.75, 1, 3], [1, 16.0, 8.05, 0, 3], [1, 19.0, 14.5, 0, 3], [0, 34.0, 13.0, 1, 2], [0, 39.0, 55.9, 1, 1], [0, \"29\", 14.4583, 0, 3], [1, 32.0, 7.925, 1, 3], [0, 25.0, 30.0, 1, 2], [0, 39.0, 110.8833, 1, 1], [1, 54.0, 26.0, 0, 2], [1, 36.0, 40.125, 0, 1], [1, \"29\", 8.7125, 0, 3], [0, 18.0, 79.65, 1, 1], [1, 47.0, 15.0, 0, 2], [1, 60.0, 79.2, 1, 1], [1, 22.0, 8.05, 0, 3], [1, \"29\", 8.05, 0, 3], [1, 35.0, 7.125, 0, 3], [0, 52.0, 78.2667, 1, 1], [1, 47.0, 7.25, 0, 3], [0, \"29\", 7.75, 0, 3], [1, 37.0, 26.0, 0, 2], [1, 36.0, 24.15, 0, 3], [0, \"29\", 33.0, 1, 2], [1, 49.0, 0.0, 0, 3], [1, \"29\", 7.225, 0, 3], [1, 49.0, 56.9292, 1, 1], [0, 24.0, 27.0, 1, 2], [1, \"29\", 7.8958, 0, 3], [1, \"29\", 42.4, 0, 1], [1, 44.0, 8.05, 0, 3], [1, 35.0, 26.55, 1, 1], [1, 36.0, 15.55, 0, 3], [1, 30.0, 7.8958, 0, 3], [1, 27.0, 30.5, 1, 1], [0, 22.0, 41.5792, 1, 2], [0, 40.0, 153.4625, 1, 1], [0, 39.0, 31.275, 0, 3], [1, \"29\", 7.05, 0, 3], [0, \"29\", 15.5, 1, 3], [1, \"29\", 7.75, 0, 3], [1, 35.0, 8.05, 0, 3], [0, 24.0, 65.0, 1, 2], [1, 34.0, 14.4, 0, 3], [0, 26.0, 16.1, 0, 3], [0, 4.0, 39.0, 1, 2], [1, 26.0, 10.5, 0, 2], [1, 27.0, 14.4542, 0, 3], [1, 42.0, 52.5542, 1, 1], [1, 20.0, 15.7417, 1, 3], [1, 21.0, 7.8542, 0, 3], [1, 21.0, 16.1, 0, 3], [1, 61.0, 32.3208, 0, 1], [1, 57.0, 12.35, 0, 2], [0, 21.0, 77.9583, 1, 1], [1, 26.0, 7.8958, 0, 3], [1, \"29\", 7.7333, 0, 3], [1, 80.0, 30.0, 1, 1], [1, 51.0, 7.0542, 0, 3], [1, 32.0, 30.5, 1, 1], [1, \"29\", 0.0, 0, 1], [0, 9.0, 27.9, 0, 3], [0, 28.0, 13.0, 1, 2], [1, 32.0, 7.925, 0, 3], [1, 31.0, 26.25, 0, 2], [0, 41.0, 39.6875, 0, 3], [1, \"29\", 16.1, 0, 3], [1, 20.0, 7.8542, 0, 3], [0, 24.0, 69.3, 1, 1], [0, 2.0, 27.9, 0, 3], [1, \"29\", 56.4958, 1, 3], [0, 0.75, 19.2583, 1, 3], [1, 48.0, 76.7292, 1, 1], [1, 19.0, 7.8958, 0, 3], [1, 56.0, 35.5, 1, 1], [1, \"29\", 7.55, 0, 3], [0, 23.0, 7.55, 1, 3], [1, \"29\", 7.8958, 0, 3], [0, 18.0, 23.0, 1, 2], [1, 21.0, 8.4333, 0, 3], [0, \"29\", 7.8292, 1, 3], [0, 18.0, 6.75, 0, 3], [1, 24.0, 73.5, 0, 2], [1, \"29\", 7.8958, 0, 3], [0, 32.0, 15.5, 0, 3], [1, 23.0, 13.0, 0, 2], [1, 58.0, 113.275, 0, 1], [1, 50.0, 133.65, 1, 1], [1, 40.0, 7.225, 0, 3], [1, 47.0, 25.5875, 0, 1], [1, 36.0, 7.4958, 0, 3], [1, 20.0, 7.925, 1, 3], [1, 32.0, 73.5, 0, 2], [1, 25.0, 13.0, 0, 2], [1, \"29\", 7.775, 0, 3], [1, 43.0, 8.05, 0, 3], [0, \"29\", 52.0, 1, 1], [0, 40.0, 39.0, 1, 2], [1, 31.0, 52.0, 0, 1], [1, 70.0, 10.5, 0, 2], [1, 31.0, 13.0, 1, 2], [1, \"29\", 0.0, 0, 2], [1, 18.0, 7.775, 0, 3], [1, 24.5, 8.05, 0, 3], [0, 18.0, 9.8417, 1, 3], [0, 43.0, 46.9, 0, 3], [1, 36.0, 512.3292, 1, 1], [0, \"29\", 8.1375, 0, 3], [1, 27.0, 76.7292, 1, 1], [1, 20.0, 9.225, 0, 3], [1, 14.0, 46.9, 0, 3], [1, 60.0, 39.0, 0, 2], [1, 25.0, 41.5792, 0, 2], [1, 14.0, 39.6875, 0, 3], [1, 19.0, 10.1708, 0, 3], [1, 18.0, 7.7958, 0, 3], [0, 15.0, 211.3375, 1, 1], [1, 31.0, 57.0, 1, 1], [0, 4.0, 13.4167, 1, 3], [1, \"29\", 56.4958, 1, 3], [1, 25.0, 7.225, 0, 3], [1, 60.0, 26.55, 0, 1], [1, 52.0, 13.5, 0, 2], [1, 44.0, 8.05, 0, 3], [0, \"29\", 7.7333, 1, 3], [1, 49.0, 110.8833, 0, 1], [1, 42.0, 7.65, 0, 3], [0, 18.0, 227.525, 1, 1], [1, 35.0, 26.2875, 1, 1], [0, 18.0, 14.4542, 0, 3], [1, 25.0, 7.7417, 0, 3], [1, 26.0, 7.8542, 0, 3], [1, 39.0, 26.0, 0, 2], [0, 45.0, 13.5, 1, 2], [1, 42.0, 26.2875, 1, 1], [0, 22.0, 151.55, 1, 1], [1, \"29\", 15.2458, 1, 3], [0, 24.0, 49.5042, 1, 1], [1, \"29\", 26.55, 0, 1], [1, 48.0, 52.0, 1, 1], [1, 29.0, 9.4833, 0, 3], [1, 52.0, 13.0, 0, 2], [1, 19.0, 7.65, 0, 3], [0, 38.0, 227.525, 1, 1], [0, 27.0, 10.5, 1, 2], [1, \"29\", 15.5, 0, 3], [1, 33.0, 7.775, 0, 3], [0, 6.0, 33.0, 1, 2], [1, 17.0, 7.0542, 0, 3], [1, 34.0, 13.0, 0, 2], [1, 50.0, 13.0, 0, 2], [1, 27.0, 53.1, 1, 1], [1, 20.0, 8.6625, 0, 3], [0, 30.0, 21.0, 1, 2], [0, \"29\", 7.7375, 1, 3], [1, 25.0, 26.0, 0, 2], [0, 25.0, 7.925, 0, 3], [0, 29.0, 211.3375, 1, 1], [1, 11.0, 18.7875, 0, 3], [1, \"29\", 0.0, 0, 2], [1, 23.0, 13.0, 0, 2], [1, 23.0, 13.0, 0, 2], [1, 28.5, 16.1, 0, 3], [0, 48.0, 34.375, 0, 3], [1, 35.0, 512.3292, 1, 1], [1, \"29\", 7.8958, 0, 3], [1, \"29\", 7.8958, 0, 3], [1, \"29\", 30.0, 1, 1], [1, 36.0, 78.85, 0, 1], [0, 21.0, 262.375, 1, 1], [1, 24.0, 16.1, 0, 3], [1, 31.0, 7.925, 1, 3], [1, 70.0, 71.0, 0, 1], [1, 16.0, 20.25, 0, 3], [0, 30.0, 13.0, 1, 2], [1, 19.0, 53.1, 0, 1], [1, 31.0, 7.75, 0, 3], [0, 4.0, 23.0, 1, 2], [1, 6.0, 12.475, 1, 3], [1, 33.0, 9.5, 0, 3], [1, 23.0, 7.8958, 0, 3], [0, 48.0, 65.0, 1, 2], [1, 0.67, 14.5, 1, 2], [1, 28.0, 7.7958, 0, 3], [1, 18.0, 11.5, 0, 2], [1, 34.0, 8.05, 0, 3], [0, 33.0, 86.5, 1, 1], [1, \"29\", 14.5, 0, 3], [1, 41.0, 7.125, 0, 3], [1, 20.0, 7.2292, 1, 3], [0, 36.0, 120.0, 1, 1], [1, 16.0, 7.775, 0, 3], [0, 51.0, 77.9583, 1, 1], [1, \"29\", 39.6, 0, 1], [0, 30.5, 7.75, 0, 3], [1, \"29\", 24.15, 0, 3], [1, 32.0, 8.3625, 0, 3], [1, 24.0, 9.5, 0, 3], [1, 48.0, 7.8542, 0, 3], [0, 57.0, 10.5, 0, 2], [1, \"29\", 7.225, 0, 3], [0, 54.0, 23.0, 1, 2], [1, 18.0, 7.75, 0, 3], [1, \"29\", 7.75, 0, 3], [0, 5.0, 12.475, 1, 3], [1, \"29\", 7.7375, 0, 3], [0, 43.0, 211.3375, 1, 1], [0, 13.0, 7.2292, 1, 3], [0, 17.0, 57.0, 1, 1], [1, 29.0, 30.0, 0, 1], [1, \"29\", 23.45, 0, 3], [1, 25.0, 7.05, 0, 3], [1, 25.0, 7.25, 0, 3], [0, 18.0, 7.4958, 1, 3], [1, 8.0, 29.125, 0, 3], [1, 1.0, 20.575, 1, 3], [1, 46.0, 79.2, 0, 1], [1, \"29\", 7.75, 0, 3], [1, 16.0, 26.0, 0, 2], [0, \"29\", 69.55, 0, 3], [1, \"29\", 30.6958, 0, 1], [1, 25.0, 7.8958, 0, 3], [1, 39.0, 13.0, 0, 2], [0, 49.0, 25.9292, 1, 1], [0, 31.0, 8.6833, 1, 3], [1, 30.0, 7.2292, 0, 3], [0, 30.0, 24.15, 0, 3], [1, 34.0, 13.0, 0, 2], [0, 31.0, 26.25, 1, 2], [1, 11.0, 120.0, 1, 1], [1, 0.42, 8.5167, 1, 3], [1, 27.0, 6.975, 1, 3], [1, 31.0, 7.775, 0, 3], [1, 39.0, 0.0, 0, 1], [0, 18.0, 7.775, 0, 3], [1, 39.0, 13.0, 0, 2], [0, 33.0, 53.1, 1, 1], [1, 26.0, 7.8875, 0, 3], [1, 39.0, 24.15, 0, 3], [1, 35.0, 10.5, 0, 2], [0, 6.0, 31.275, 0, 3], [1, 30.5, 8.05, 0, 3], [1, \"29\", 0.0, 0, 1], [0, 23.0, 7.925, 0, 3], [1, 31.0, 37.0042, 0, 2], [1, 43.0, 6.45, 0, 3], [1, 10.0, 27.9, 0, 3], [0, 52.0, 93.5, 1, 1], [1, 27.0, 8.6625, 1, 3], [1, 38.0, 0.0, 0, 1], [0, 27.0, 12.475, 1, 3], [1, 2.0, 39.6875, 0, 3], [1, \"29\", 6.95, 0, 3], [1, \"29\", 56.4958, 0, 3], [1, 1.0, 37.0042, 1, 2], [1, \"29\", 7.75, 1, 3], [0, 62.0, 80.0, 1, 1], [0, 15.0, 14.4542, 1, 3], [1, 0.83, 18.75, 1, 2], [1, \"29\", 7.2292, 0, 3], [1, 23.0, 7.8542, 0, 3], [1, 18.0, 8.3, 0, 3], [0, 39.0, 83.1583, 1, 1], [1, 21.0, 8.6625, 0, 3], [1, \"29\", 8.05, 0, 3], [1, 32.0, 56.4958, 1, 3], [1, \"29\", 29.7, 1, 1], [1, 20.0, 7.925, 0, 3], [1, 16.0, 10.5, 0, 2], [0, 30.0, 31.0, 1, 1], [1, 34.5, 6.4375, 0, 3], [1, 17.0, 8.6625, 0, 3], [1, 42.0, 7.55, 0, 3], [1, \"29\", 69.55, 0, 3], [1, 35.0, 7.8958, 0, 3], [1, 28.0, 33.0, 0, 2], [0, \"29\", 89.1042, 1, 1], [1, 4.0, 31.275, 0, 3], [1, 74.0, 7.775, 0, 3], [0, 9.0, 15.2458, 0, 3], [0, 16.0, 39.4, 1, 1], [0, 44.0, 26.0, 0, 2], [0, 18.0, 9.35, 1, 3], [0, 45.0, 164.8667, 1, 1], [1, 51.0, 26.55, 1, 1], [0, 24.0, 19.2583, 1, 3], [1, \"29\", 7.2292, 0, 3], [1, 41.0, 14.1083, 0, 3], [1, 21.0, 11.5, 0, 2], [0, 48.0, 25.9292, 1, 1], [0, \"29\", 69.55, 0, 3], [1, 24.0, 13.0, 0, 2], [0, 42.0, 13.0, 1, 2], [0, 27.0, 13.8583, 1, 2], [1, 31.0, 50.4958, 0, 1], [1, \"29\", 9.5, 0, 3], [1, 4.0, 11.1333, 1, 3], [1, 26.0, 7.8958, 0, 3], [0, 47.0, 52.5542, 1, 1], [1, 33.0, 5.0, 0, 1], [1, 47.0, 9.0, 0, 3], [0, 28.0, 24.0, 1, 2], [0, 15.0, 7.225, 1, 3], [1, 20.0, 9.8458, 0, 3], [1, 19.0, 7.8958, 0, 3], [1, \"29\", 7.8958, 0, 3], [0, 56.0, 83.1583, 1, 1], [0, 25.0, 26.0, 1, 2], [1, 33.0, 7.8958, 0, 3], [0, 22.0, 10.5167, 0, 3], [1, 28.0, 10.5, 0, 2], [1, 25.0, 7.05, 0, 3], [0, 39.0, 29.125, 0, 3], [1, 27.0, 13.0, 0, 2], [0, 19.0, 30.0, 1, 1], [0, \"29\", 23.45, 0, 3], [1, 26.0, 30.0, 1, 1], [1, 32.0, 7.75, 0, 3]]}],                        {\"template\": {\"data\": {\"bar\": [{\"error_x\": {\"color\": \"#2a3f5f\"}, \"error_y\": {\"color\": \"#2a3f5f\"}, \"marker\": {\"line\": {\"color\": \"#E5ECF6\", \"width\": 0.5}}, \"type\": \"bar\"}], \"barpolar\": [{\"marker\": {\"line\": {\"color\": \"#E5ECF6\", \"width\": 0.5}}, \"type\": \"barpolar\"}], \"carpet\": [{\"aaxis\": {\"endlinecolor\": \"#2a3f5f\", \"gridcolor\": \"white\", \"linecolor\": \"white\", \"minorgridcolor\": \"white\", \"startlinecolor\": \"#2a3f5f\"}, \"baxis\": {\"endlinecolor\": \"#2a3f5f\", \"gridcolor\": \"white\", \"linecolor\": \"white\", \"minorgridcolor\": \"white\", \"startlinecolor\": \"#2a3f5f\"}, \"type\": \"carpet\"}], \"choropleth\": [{\"colorbar\": {\"outlinewidth\": 0, \"ticks\": \"\"}, \"type\": \"choropleth\"}], \"contour\": [{\"colorbar\": {\"outlinewidth\": 0, \"ticks\": \"\"}, \"colorscale\": [[0.0, \"#0d0887\"], [0.1111111111111111, \"#46039f\"], [0.2222222222222222, \"#7201a8\"], [0.3333333333333333, \"#9c179e\"], [0.4444444444444444, \"#bd3786\"], [0.5555555555555556, \"#d8576b\"], [0.6666666666666666, \"#ed7953\"], [0.7777777777777778, \"#fb9f3a\"], [0.8888888888888888, \"#fdca26\"], [1.0, \"#f0f921\"]], \"type\": \"contour\"}], \"contourcarpet\": [{\"colorbar\": {\"outlinewidth\": 0, \"ticks\": \"\"}, \"type\": \"contourcarpet\"}], \"heatmap\": [{\"colorbar\": {\"outlinewidth\": 0, \"ticks\": \"\"}, \"colorscale\": [[0.0, \"#0d0887\"], [0.1111111111111111, \"#46039f\"], [0.2222222222222222, \"#7201a8\"], [0.3333333333333333, \"#9c179e\"], [0.4444444444444444, \"#bd3786\"], [0.5555555555555556, \"#d8576b\"], [0.6666666666666666, \"#ed7953\"], [0.7777777777777778, \"#fb9f3a\"], [0.8888888888888888, \"#fdca26\"], [1.0, \"#f0f921\"]], \"type\": \"heatmap\"}], \"heatmapgl\": [{\"colorbar\": {\"outlinewidth\": 0, \"ticks\": \"\"}, \"colorscale\": [[0.0, \"#0d0887\"], [0.1111111111111111, \"#46039f\"], [0.2222222222222222, \"#7201a8\"], [0.3333333333333333, \"#9c179e\"], [0.4444444444444444, \"#bd3786\"], [0.5555555555555556, \"#d8576b\"], [0.6666666666666666, \"#ed7953\"], [0.7777777777777778, \"#fb9f3a\"], [0.8888888888888888, \"#fdca26\"], [1.0, \"#f0f921\"]], \"type\": \"heatmapgl\"}], \"histogram\": [{\"marker\": {\"colorbar\": {\"outlinewidth\": 0, \"ticks\": \"\"}}, \"type\": \"histogram\"}], \"histogram2d\": [{\"colorbar\": {\"outlinewidth\": 0, \"ticks\": \"\"}, \"colorscale\": [[0.0, \"#0d0887\"], [0.1111111111111111, \"#46039f\"], [0.2222222222222222, \"#7201a8\"], [0.3333333333333333, \"#9c179e\"], [0.4444444444444444, \"#bd3786\"], [0.5555555555555556, \"#d8576b\"], [0.6666666666666666, \"#ed7953\"], [0.7777777777777778, \"#fb9f3a\"], [0.8888888888888888, \"#fdca26\"], [1.0, \"#f0f921\"]], \"type\": \"histogram2d\"}], \"histogram2dcontour\": [{\"colorbar\": {\"outlinewidth\": 0, \"ticks\": \"\"}, \"colorscale\": [[0.0, \"#0d0887\"], [0.1111111111111111, \"#46039f\"], [0.2222222222222222, \"#7201a8\"], [0.3333333333333333, \"#9c179e\"], [0.4444444444444444, \"#bd3786\"], [0.5555555555555556, \"#d8576b\"], [0.6666666666666666, \"#ed7953\"], [0.7777777777777778, \"#fb9f3a\"], [0.8888888888888888, \"#fdca26\"], [1.0, \"#f0f921\"]], \"type\": \"histogram2dcontour\"}], \"mesh3d\": [{\"colorbar\": {\"outlinewidth\": 0, \"ticks\": \"\"}, \"type\": \"mesh3d\"}], \"parcoords\": [{\"line\": {\"colorbar\": {\"outlinewidth\": 0, \"ticks\": \"\"}}, \"type\": \"parcoords\"}], \"pie\": [{\"automargin\": true, \"type\": \"pie\"}], \"scatter\": [{\"marker\": {\"colorbar\": {\"outlinewidth\": 0, \"ticks\": \"\"}}, \"type\": \"scatter\"}], \"scatter3d\": [{\"line\": {\"colorbar\": {\"outlinewidth\": 0, \"ticks\": \"\"}}, \"marker\": {\"colorbar\": {\"outlinewidth\": 0, \"ticks\": \"\"}}, \"type\": \"scatter3d\"}], \"scattercarpet\": [{\"marker\": {\"colorbar\": {\"outlinewidth\": 0, \"ticks\": \"\"}}, \"type\": \"scattercarpet\"}], \"scattergeo\": [{\"marker\": {\"colorbar\": {\"outlinewidth\": 0, \"ticks\": \"\"}}, \"type\": \"scattergeo\"}], \"scattergl\": [{\"marker\": {\"colorbar\": {\"outlinewidth\": 0, \"ticks\": \"\"}}, \"type\": \"scattergl\"}], \"scattermapbox\": [{\"marker\": {\"colorbar\": {\"outlinewidth\": 0, \"ticks\": \"\"}}, \"type\": \"scattermapbox\"}], \"scatterpolar\": [{\"marker\": {\"colorbar\": {\"outlinewidth\": 0, \"ticks\": \"\"}}, \"type\": \"scatterpolar\"}], \"scatterpolargl\": [{\"marker\": {\"colorbar\": {\"outlinewidth\": 0, \"ticks\": \"\"}}, \"type\": \"scatterpolargl\"}], \"scatterternary\": [{\"marker\": {\"colorbar\": {\"outlinewidth\": 0, \"ticks\": \"\"}}, \"type\": \"scatterternary\"}], \"surface\": [{\"colorbar\": {\"outlinewidth\": 0, \"ticks\": \"\"}, \"colorscale\": [[0.0, \"#0d0887\"], [0.1111111111111111, \"#46039f\"], [0.2222222222222222, \"#7201a8\"], [0.3333333333333333, \"#9c179e\"], [0.4444444444444444, \"#bd3786\"], [0.5555555555555556, \"#d8576b\"], [0.6666666666666666, \"#ed7953\"], [0.7777777777777778, \"#fb9f3a\"], [0.8888888888888888, \"#fdca26\"], [1.0, \"#f0f921\"]], \"type\": \"surface\"}], \"table\": [{\"cells\": {\"fill\": {\"color\": \"#EBF0F8\"}, \"line\": {\"color\": \"white\"}}, \"header\": {\"fill\": {\"color\": \"#C8D4E3\"}, \"line\": {\"color\": \"white\"}}, \"type\": \"table\"}]}, \"layout\": {\"annotationdefaults\": {\"arrowcolor\": \"#2a3f5f\", \"arrowhead\": 0, \"arrowwidth\": 1}, \"coloraxis\": {\"colorbar\": {\"outlinewidth\": 0, \"ticks\": \"\"}}, \"colorscale\": {\"diverging\": [[0, \"#8e0152\"], [0.1, \"#c51b7d\"], [0.2, \"#de77ae\"], [0.3, \"#f1b6da\"], [0.4, \"#fde0ef\"], [0.5, \"#f7f7f7\"], [0.6, \"#e6f5d0\"], [0.7, \"#b8e186\"], [0.8, \"#7fbc41\"], [0.9, \"#4d9221\"], [1, \"#276419\"]], \"sequential\": [[0.0, \"#0d0887\"], [0.1111111111111111, \"#46039f\"], [0.2222222222222222, \"#7201a8\"], [0.3333333333333333, \"#9c179e\"], [0.4444444444444444, \"#bd3786\"], [0.5555555555555556, \"#d8576b\"], [0.6666666666666666, \"#ed7953\"], [0.7777777777777778, \"#fb9f3a\"], [0.8888888888888888, \"#fdca26\"], [1.0, \"#f0f921\"]], \"sequentialminus\": [[0.0, \"#0d0887\"], [0.1111111111111111, \"#46039f\"], [0.2222222222222222, \"#7201a8\"], [0.3333333333333333, \"#9c179e\"], [0.4444444444444444, \"#bd3786\"], [0.5555555555555556, \"#d8576b\"], [0.6666666666666666, \"#ed7953\"], [0.7777777777777778, \"#fb9f3a\"], [0.8888888888888888, \"#fdca26\"], [1.0, \"#f0f921\"]]}, \"colorway\": [\"#636efa\", \"#EF553B\", \"#00cc96\", \"#ab63fa\", \"#FFA15A\", \"#19d3f3\", \"#FF6692\", \"#B6E880\", \"#FF97FF\", \"#FECB52\"], \"font\": {\"color\": \"#2a3f5f\"}, \"geo\": {\"bgcolor\": \"white\", \"lakecolor\": \"white\", \"landcolor\": \"#E5ECF6\", \"showlakes\": true, \"showland\": true, \"subunitcolor\": \"white\"}, \"hoverlabel\": {\"align\": \"left\"}, \"hovermode\": \"closest\", \"mapbox\": {\"style\": \"light\"}, \"paper_bgcolor\": \"white\", \"plot_bgcolor\": \"#E5ECF6\", \"polar\": {\"angularaxis\": {\"gridcolor\": \"white\", \"linecolor\": \"white\", \"ticks\": \"\"}, \"bgcolor\": \"#E5ECF6\", \"radialaxis\": {\"gridcolor\": \"white\", \"linecolor\": \"white\", \"ticks\": \"\"}}, \"scene\": {\"xaxis\": {\"backgroundcolor\": \"#E5ECF6\", \"gridcolor\": \"white\", \"gridwidth\": 2, \"linecolor\": \"white\", \"showbackground\": true, \"ticks\": \"\", \"zerolinecolor\": \"white\"}, \"yaxis\": {\"backgroundcolor\": \"#E5ECF6\", \"gridcolor\": \"white\", \"gridwidth\": 2, \"linecolor\": \"white\", \"showbackground\": true, \"ticks\": \"\", \"zerolinecolor\": \"white\"}, \"zaxis\": {\"backgroundcolor\": \"#E5ECF6\", \"gridcolor\": \"white\", \"gridwidth\": 2, \"linecolor\": \"white\", \"showbackground\": true, \"ticks\": \"\", \"zerolinecolor\": \"white\"}}, \"shapedefaults\": {\"line\": {\"color\": \"#2a3f5f\"}}, \"ternary\": {\"aaxis\": {\"gridcolor\": \"white\", \"linecolor\": \"white\", \"ticks\": \"\"}, \"baxis\": {\"gridcolor\": \"white\", \"linecolor\": \"white\", \"ticks\": \"\"}, \"bgcolor\": \"#E5ECF6\", \"caxis\": {\"gridcolor\": \"white\", \"linecolor\": \"white\", \"ticks\": \"\"}}, \"title\": {\"x\": 0.05}, \"xaxis\": {\"automargin\": true, \"gridcolor\": \"white\", \"linecolor\": \"white\", \"ticks\": \"\", \"title\": {\"standoff\": 15}, \"zerolinecolor\": \"white\", \"zerolinewidth\": 2}, \"yaxis\": {\"automargin\": true, \"gridcolor\": \"white\", \"linecolor\": \"white\", \"ticks\": \"\", \"title\": {\"standoff\": 15}, \"zerolinecolor\": \"white\", \"zerolinewidth\": 2}}}},                        {\"responsive\": true}                    ).then(function(){\n",
       "                            \n",
       "var gd = document.getElementById('58006c6a-b5c4-46c0-a034-fda27d8728c0');\n",
       "var x = new MutationObserver(function (mutations, observer) {{\n",
       "        var display = window.getComputedStyle(gd).display;\n",
       "        if (!display || display === 'none') {{\n",
       "            console.log([gd, 'removed!']);\n",
       "            Plotly.purge(gd);\n",
       "            observer.disconnect();\n",
       "        }}\n",
       "}});\n",
       "\n",
       "// Listen for the removal of the full notebook cells\n",
       "var notebookContainer = gd.closest('#notebook-container');\n",
       "if (notebookContainer) {{\n",
       "    x.observe(notebookContainer, {childList: true});\n",
       "}}\n",
       "\n",
       "// Listen for the clearing of the current output cell\n",
       "var outputEl = gd.closest('.output');\n",
       "if (outputEl) {{\n",
       "    x.observe(outputEl, {childList: true});\n",
       "}}\n",
       "\n",
       "                        })                };                });            </script>        </div>"
      ]
     },
     "metadata": {},
     "output_type": "display_data"
    }
   ],
   "source": [
    "# Checking correlation between features to understand relative trends/comparisons before feature engine\n",
    "datacorr = titanic.loc[:,[\"Sex\",\"Age\", \"Fare\",\"Survived\",\"Pclass\"]]\n",
    "trace = go.Heatmap(z = datacorr, x = datacorr.columns, y = datacorr.columns)\n",
    "iplot([trace])"
   ]
  },
  {
   "cell_type": "raw",
   "metadata": {},
   "source": [
    "4.Pivot the data setting the column Pclass as the columns and Fare as the values. From the resulting structure, use a boxplot to show the distribution of the values in its 3 columns."
   ]
  },
  {
   "cell_type": "code",
   "execution_count": 288,
   "metadata": {},
   "outputs": [
    {
     "data": {
      "application/vnd.plotly.v1+json": {
       "config": {
        "plotlyServerURL": "https://plot.ly"
       },
       "data": [
        {
         "alignmentgroup": "True",
         "boxpoints": "all",
         "hovertemplate": "Pclass=%{x}<br>Fare=%{y}<extra></extra>",
         "legendgroup": "",
         "marker": {
          "color": "#636efa"
         },
         "name": "",
         "notched": false,
         "offsetgroup": "",
         "orientation": "v",
         "showlegend": false,
         "type": "box",
         "x": [
          3,
          1,
          3,
          1,
          3,
          3,
          1,
          3,
          3,
          2,
          3,
          1,
          3,
          3,
          3,
          2,
          3,
          2,
          3,
          3,
          2,
          2,
          3,
          1,
          3,
          3,
          3,
          1,
          3,
          3,
          1,
          1,
          3,
          2,
          1,
          1,
          3,
          3,
          3,
          3,
          3,
          2,
          3,
          2,
          3,
          3,
          3,
          3,
          3,
          3,
          3,
          3,
          1,
          2,
          1,
          1,
          2,
          3,
          2,
          3,
          3,
          1,
          1,
          3,
          1,
          3,
          2,
          3,
          3,
          3,
          2,
          3,
          2,
          3,
          3,
          3,
          3,
          3,
          2,
          3,
          3,
          3,
          3,
          1,
          2,
          3,
          3,
          3,
          1,
          3,
          3,
          3,
          1,
          3,
          3,
          3,
          1,
          1,
          2,
          2,
          3,
          3,
          1,
          3,
          3,
          3,
          3,
          3,
          3,
          3,
          1,
          3,
          3,
          3,
          3,
          3,
          3,
          2,
          1,
          3,
          2,
          3,
          2,
          2,
          1,
          3,
          3,
          3,
          3,
          3,
          3,
          3,
          3,
          2,
          2,
          2,
          1,
          1,
          3,
          1,
          3,
          3,
          3,
          3,
          2,
          2,
          3,
          3,
          2,
          2,
          2,
          1,
          3,
          3,
          3,
          1,
          3,
          3,
          3,
          3,
          3,
          2,
          3,
          3,
          3,
          3,
          1,
          3,
          1,
          3,
          1,
          3,
          3,
          3,
          1,
          3,
          3,
          1,
          2,
          3,
          3,
          2,
          3,
          2,
          3,
          1,
          3,
          1,
          3,
          3,
          2,
          2,
          3,
          2,
          1,
          1,
          3,
          3,
          3,
          2,
          3,
          3,
          3,
          3,
          3,
          3,
          3,
          3,
          3,
          1,
          3,
          2,
          3,
          2,
          3,
          1,
          3,
          2,
          1,
          2,
          3,
          2,
          3,
          3,
          1,
          3,
          2,
          3,
          2,
          3,
          1,
          3,
          2,
          3,
          2,
          3,
          2,
          2,
          2,
          2,
          3,
          3,
          2,
          3,
          3,
          1,
          3,
          2,
          1,
          2,
          3,
          3,
          1,
          3,
          3,
          3,
          1,
          1,
          1,
          2,
          3,
          3,
          1,
          1,
          3,
          2,
          3,
          3,
          1,
          1,
          1,
          3,
          2,
          1,
          3,
          1,
          3,
          2,
          3,
          3,
          3,
          3,
          3,
          3,
          1,
          3,
          3,
          3,
          2,
          3,
          1,
          1,
          2,
          3,
          3,
          1,
          3,
          1,
          1,
          1,
          3,
          3,
          3,
          2,
          3,
          1,
          1,
          1,
          2,
          1,
          1,
          1,
          2,
          3,
          2,
          3,
          2,
          2,
          1,
          1,
          3,
          3,
          2,
          2,
          3,
          1,
          3,
          2,
          3,
          1,
          3,
          1,
          1,
          3,
          1,
          3,
          1,
          1,
          3,
          1,
          2,
          1,
          2,
          2,
          2,
          2,
          2,
          3,
          3,
          3,
          3,
          1,
          3,
          3,
          3,
          3,
          1,
          2,
          3,
          3,
          3,
          2,
          3,
          3,
          3,
          3,
          1,
          3,
          3,
          1,
          1,
          3,
          3,
          1,
          3,
          1,
          3,
          1,
          3,
          3,
          1,
          3,
          3,
          1,
          3,
          2,
          3,
          2,
          3,
          2,
          1,
          3,
          3,
          1,
          3,
          3,
          3,
          2,
          2,
          2,
          3,
          3,
          3,
          3,
          3,
          2,
          3,
          2,
          3,
          3,
          3,
          3,
          1,
          2,
          3,
          3,
          2,
          2,
          2,
          3,
          3,
          3,
          3,
          3,
          3,
          3,
          2,
          2,
          3,
          3,
          1,
          3,
          2,
          3,
          1,
          1,
          3,
          2,
          1,
          2,
          2,
          3,
          3,
          2,
          3,
          1,
          2,
          1,
          3,
          1,
          2,
          3,
          1,
          1,
          3,
          3,
          1,
          1,
          2,
          3,
          1,
          3,
          1,
          2,
          3,
          3,
          2,
          1,
          3,
          3,
          3,
          3,
          2,
          2,
          3,
          1,
          2,
          3,
          3,
          3,
          3,
          2,
          3,
          3,
          1,
          3,
          1,
          1,
          3,
          3,
          3,
          3,
          1,
          1,
          3,
          3,
          1,
          3,
          1,
          3,
          3,
          3,
          3,
          3,
          1,
          1,
          2,
          1,
          3,
          3,
          3,
          3,
          1,
          1,
          3,
          1,
          2,
          3,
          2,
          3,
          1,
          3,
          3,
          1,
          3,
          3,
          2,
          1,
          3,
          2,
          2,
          3,
          3,
          3,
          3,
          2,
          1,
          1,
          3,
          1,
          1,
          3,
          3,
          2,
          1,
          1,
          2,
          2,
          3,
          2,
          1,
          2,
          3,
          3,
          3,
          1,
          1,
          1,
          1,
          3,
          3,
          3,
          2,
          3,
          3,
          3,
          3,
          3,
          3,
          3,
          2,
          1,
          1,
          3,
          3,
          3,
          2,
          1,
          3,
          3,
          2,
          1,
          2,
          1,
          3,
          1,
          2,
          1,
          3,
          3,
          3,
          1,
          3,
          3,
          2,
          3,
          2,
          3,
          3,
          1,
          2,
          3,
          1,
          3,
          1,
          3,
          3,
          1,
          2,
          1,
          3,
          3,
          3,
          3,
          3,
          2,
          3,
          3,
          2,
          2,
          3,
          1,
          3,
          3,
          3,
          1,
          2,
          1,
          3,
          3,
          1,
          3,
          1,
          1,
          3,
          2,
          3,
          2,
          3,
          3,
          3,
          1,
          3,
          3,
          3,
          1,
          3,
          1,
          3,
          3,
          3,
          2,
          3,
          3,
          3,
          2,
          3,
          3,
          2,
          1,
          1,
          3,
          1,
          3,
          3,
          2,
          2,
          3,
          3,
          1,
          2,
          1,
          2,
          2,
          2,
          3,
          3,
          3,
          3,
          1,
          3,
          1,
          3,
          3,
          2,
          2,
          3,
          3,
          3,
          1,
          1,
          3,
          3,
          3,
          1,
          2,
          3,
          3,
          1,
          3,
          1,
          1,
          3,
          3,
          3,
          2,
          2,
          1,
          1,
          3,
          1,
          1,
          1,
          3,
          2,
          3,
          1,
          2,
          3,
          3,
          2,
          3,
          2,
          2,
          1,
          3,
          2,
          3,
          2,
          3,
          1,
          3,
          2,
          2,
          2,
          3,
          3,
          1,
          3,
          3,
          1,
          1,
          1,
          3,
          3,
          1,
          3,
          2,
          1,
          3,
          2,
          3,
          3,
          3,
          2,
          2,
          3,
          2,
          3,
          1,
          3,
          3,
          3,
          1,
          3,
          1,
          1,
          3,
          3,
          3,
          3,
          3,
          2,
          3,
          2,
          3,
          3,
          3,
          3,
          1,
          3,
          1,
          1,
          3,
          3,
          3,
          3,
          3,
          3,
          1,
          3,
          2,
          3,
          1,
          3,
          2,
          1,
          3,
          3,
          3,
          2,
          2,
          1,
          3,
          3,
          3,
          1,
          3,
          2,
          1,
          3,
          3,
          2,
          3,
          3,
          1,
          3,
          2,
          3,
          3,
          1,
          3,
          1,
          3,
          3,
          3,
          3,
          2,
          3,
          1,
          3,
          2,
          3,
          3,
          3,
          1,
          3,
          3,
          3,
          1,
          3,
          2,
          1,
          3,
          3,
          3,
          3,
          3,
          2,
          1,
          3,
          3,
          3,
          1,
          2,
          3,
          1,
          1,
          3,
          3,
          3,
          2,
          1,
          3,
          2,
          2,
          2,
          1,
          3,
          3,
          3,
          1,
          1,
          3,
          2,
          3,
          3,
          3,
          3,
          1,
          2,
          3,
          3,
          2,
          3,
          3,
          2,
          1,
          3,
          1,
          3
         ],
         "x0": " ",
         "xaxis": "x",
         "y": [
          7.25,
          71.2833,
          7.925,
          53.1,
          8.05,
          8.4583,
          51.8625,
          21.075,
          11.1333,
          30.0708,
          16.7,
          26.55,
          8.05,
          31.275,
          7.8542,
          16,
          29.125,
          13,
          18,
          7.225,
          26,
          13,
          8.0292,
          35.5,
          21.075,
          31.3875,
          7.225,
          263,
          7.8792,
          7.8958,
          27.7208,
          146.5208,
          7.75,
          10.5,
          82.1708,
          52,
          7.2292,
          8.05,
          18,
          11.2417,
          9.475,
          21,
          7.8958,
          41.5792,
          7.8792,
          8.05,
          15.5,
          7.75,
          21.6792,
          17.8,
          39.6875,
          7.8,
          76.7292,
          26,
          61.9792,
          35.5,
          10.5,
          7.2292,
          27.75,
          46.9,
          7.2292,
          80,
          83.475,
          27.9,
          27.7208,
          15.2458,
          10.5,
          8.1583,
          7.925,
          8.6625,
          10.5,
          46.9,
          73.5,
          14.4542,
          56.4958,
          7.65,
          7.8958,
          8.05,
          29,
          12.475,
          9,
          9.5,
          7.7875,
          47.1,
          10.5,
          15.85,
          34.375,
          8.05,
          263,
          8.05,
          8.05,
          7.8542,
          61.175,
          20.575,
          7.25,
          8.05,
          34.6542,
          63.3583,
          23,
          26,
          7.8958,
          7.8958,
          77.2875,
          8.6542,
          7.925,
          7.8958,
          7.65,
          7.775,
          7.8958,
          24.15,
          52,
          14.4542,
          8.05,
          9.825,
          14.4583,
          7.925,
          7.75,
          21,
          247.5208,
          31.275,
          73.5,
          8.05,
          30.0708,
          13,
          77.2875,
          11.2417,
          7.75,
          7.1417,
          22.3583,
          6.975,
          7.8958,
          7.05,
          14.5,
          26,
          13,
          15.0458,
          26.2833,
          53.1,
          9.2167,
          79.2,
          15.2458,
          7.75,
          15.85,
          6.75,
          11.5,
          36.75,
          7.7958,
          34.375,
          26,
          13,
          12.525,
          66.6,
          8.05,
          14.5,
          7.3125,
          61.3792,
          7.7333,
          8.05,
          8.6625,
          69.55,
          16.1,
          15.75,
          7.775,
          8.6625,
          39.6875,
          20.525,
          55,
          27.9,
          25.925,
          56.4958,
          33.5,
          29.125,
          11.1333,
          7.925,
          30.6958,
          7.8542,
          25.4667,
          28.7125,
          13,
          0,
          69.55,
          15.05,
          31.3875,
          39,
          22.025,
          50,
          15.5,
          26.55,
          15.5,
          7.8958,
          13,
          13,
          7.8542,
          26,
          27.7208,
          146.5208,
          7.75,
          8.4042,
          7.75,
          13,
          9.5,
          69.55,
          6.4958,
          7.225,
          8.05,
          10.4625,
          15.85,
          18.7875,
          7.75,
          31,
          7.05,
          21,
          7.25,
          13,
          7.75,
          113.275,
          7.925,
          27,
          76.2917,
          10.5,
          8.05,
          13,
          8.05,
          7.8958,
          90,
          9.35,
          10.5,
          7.25,
          13,
          25.4667,
          83.475,
          7.775,
          13.5,
          31.3875,
          10.5,
          7.55,
          26,
          26.25,
          10.5,
          12.275,
          14.4542,
          15.5,
          10.5,
          7.125,
          7.225,
          90,
          7.775,
          14.5,
          52.5542,
          26,
          7.25,
          10.4625,
          26.55,
          16.1,
          20.2125,
          15.2458,
          79.2,
          86.5,
          512.3292,
          26,
          7.75,
          31.3875,
          79.65,
          0,
          7.75,
          10.5,
          39.6875,
          7.775,
          153.4625,
          135.6333,
          31,
          0,
          19.5,
          29.7,
          7.75,
          77.9583,
          7.75,
          0,
          29.125,
          20.25,
          7.75,
          7.8542,
          9.5,
          8.05,
          26,
          8.6625,
          9.5,
          7.8958,
          13,
          7.75,
          78.85,
          91.0792,
          12.875,
          8.85,
          7.8958,
          27.7208,
          7.2292,
          151.55,
          30.5,
          247.5208,
          7.75,
          23.25,
          0,
          12.35,
          8.05,
          151.55,
          110.8833,
          108.9,
          24,
          56.9292,
          83.1583,
          262.375,
          26,
          7.8958,
          26.25,
          7.8542,
          26,
          14,
          164.8667,
          134.5,
          7.25,
          7.8958,
          12.35,
          29,
          69.55,
          135.6333,
          6.2375,
          13,
          20.525,
          57.9792,
          23.25,
          28.5,
          153.4625,
          18,
          133.65,
          7.8958,
          66.6,
          134.5,
          8.05,
          35.5,
          26,
          263,
          13,
          13,
          13,
          13,
          13,
          16.1,
          15.9,
          8.6625,
          9.225,
          35,
          7.2292,
          17.8,
          7.225,
          9.5,
          55,
          13,
          7.8792,
          7.8792,
          27.9,
          27.7208,
          14.4542,
          7.05,
          15.5,
          7.25,
          75.25,
          7.2292,
          7.75,
          69.3,
          55.4417,
          6.4958,
          8.05,
          135.6333,
          21.075,
          82.1708,
          7.25,
          211.5,
          4.0125,
          7.775,
          227.525,
          15.7417,
          7.925,
          52,
          7.8958,
          73.5,
          46.9,
          13,
          7.7292,
          12,
          120,
          7.7958,
          7.925,
          113.275,
          16.7,
          7.7958,
          7.8542,
          26,
          10.5,
          12.65,
          7.925,
          8.05,
          9.825,
          15.85,
          8.6625,
          21,
          7.75,
          18.75,
          7.775,
          25.4667,
          7.8958,
          6.8583,
          90,
          0,
          7.925,
          8.05,
          32.5,
          13,
          13,
          24.15,
          7.8958,
          7.7333,
          7.875,
          14.4,
          20.2125,
          7.25,
          26,
          26,
          7.75,
          8.05,
          26.55,
          16.1,
          26,
          7.125,
          55.9,
          120,
          34.375,
          18.75,
          263,
          10.5,
          26.25,
          9.5,
          7.775,
          13,
          8.1125,
          81.8583,
          19.5,
          26.55,
          19.2583,
          30.5,
          27.75,
          19.9667,
          27.75,
          89.1042,
          8.05,
          7.8958,
          26.55,
          51.8625,
          10.5,
          7.75,
          26.55,
          8.05,
          38.5,
          13,
          8.05,
          7.05,
          0,
          26.55,
          7.725,
          19.2583,
          7.25,
          8.6625,
          27.75,
          13.7917,
          9.8375,
          52,
          21,
          7.0458,
          7.5208,
          12.2875,
          46.9,
          0,
          8.05,
          9.5875,
          91.0792,
          25.4667,
          90,
          29.7,
          8.05,
          15.9,
          19.9667,
          7.25,
          30.5,
          49.5042,
          8.05,
          14.4583,
          78.2667,
          15.1,
          151.55,
          7.7958,
          8.6625,
          7.75,
          7.6292,
          9.5875,
          86.5,
          108.9,
          26,
          26.55,
          22.525,
          56.4958,
          7.75,
          8.05,
          26.2875,
          59.4,
          7.4958,
          34.0208,
          10.5,
          24.15,
          26,
          7.8958,
          93.5,
          7.8958,
          7.225,
          57.9792,
          7.2292,
          7.75,
          10.5,
          221.7792,
          7.925,
          11.5,
          26,
          7.2292,
          7.2292,
          22.3583,
          8.6625,
          26.25,
          26.55,
          106.425,
          14.5,
          49.5,
          71,
          31.275,
          31.275,
          26,
          106.425,
          26,
          26,
          13.8625,
          20.525,
          36.75,
          110.8833,
          26,
          7.8292,
          7.225,
          7.775,
          26.55,
          39.6,
          227.525,
          79.65,
          17.4,
          7.75,
          7.8958,
          13.5,
          8.05,
          8.05,
          24.15,
          7.8958,
          21.075,
          7.2292,
          7.8542,
          10.5,
          51.4792,
          26.3875,
          7.75,
          8.05,
          14.5,
          13,
          55.9,
          14.4583,
          7.925,
          30,
          110.8833,
          26,
          40.125,
          8.7125,
          79.65,
          15,
          79.2,
          8.05,
          8.05,
          7.125,
          78.2667,
          7.25,
          7.75,
          26,
          24.15,
          33,
          0,
          7.225,
          56.9292,
          27,
          7.8958,
          42.4,
          8.05,
          26.55,
          15.55,
          7.8958,
          30.5,
          41.5792,
          153.4625,
          31.275,
          7.05,
          15.5,
          7.75,
          8.05,
          65,
          14.4,
          16.1,
          39,
          10.5,
          14.4542,
          52.5542,
          15.7417,
          7.8542,
          16.1,
          32.3208,
          12.35,
          77.9583,
          7.8958,
          7.7333,
          30,
          7.0542,
          30.5,
          0,
          27.9,
          13,
          7.925,
          26.25,
          39.6875,
          16.1,
          7.8542,
          69.3,
          27.9,
          56.4958,
          19.2583,
          76.7292,
          7.8958,
          35.5,
          7.55,
          7.55,
          7.8958,
          23,
          8.4333,
          7.8292,
          6.75,
          73.5,
          7.8958,
          15.5,
          13,
          113.275,
          133.65,
          7.225,
          25.5875,
          7.4958,
          7.925,
          73.5,
          13,
          7.775,
          8.05,
          52,
          39,
          52,
          10.5,
          13,
          0,
          7.775,
          8.05,
          9.8417,
          46.9,
          512.3292,
          8.1375,
          76.7292,
          9.225,
          46.9,
          39,
          41.5792,
          39.6875,
          10.1708,
          7.7958,
          211.3375,
          57,
          13.4167,
          56.4958,
          7.225,
          26.55,
          13.5,
          8.05,
          7.7333,
          110.8833,
          7.65,
          227.525,
          26.2875,
          14.4542,
          7.7417,
          7.8542,
          26,
          13.5,
          26.2875,
          151.55,
          15.2458,
          49.5042,
          26.55,
          52,
          9.4833,
          13,
          7.65,
          227.525,
          10.5,
          15.5,
          7.775,
          33,
          7.0542,
          13,
          13,
          53.1,
          8.6625,
          21,
          7.7375,
          26,
          7.925,
          211.3375,
          18.7875,
          0,
          13,
          13,
          16.1,
          34.375,
          512.3292,
          7.8958,
          7.8958,
          30,
          78.85,
          262.375,
          16.1,
          7.925,
          71,
          20.25,
          13,
          53.1,
          7.75,
          23,
          12.475,
          9.5,
          7.8958,
          65,
          14.5,
          7.7958,
          11.5,
          8.05,
          86.5,
          14.5,
          7.125,
          7.2292,
          120,
          7.775,
          77.9583,
          39.6,
          7.75,
          24.15,
          8.3625,
          9.5,
          7.8542,
          10.5,
          7.225,
          23,
          7.75,
          7.75,
          12.475,
          7.7375,
          211.3375,
          7.2292,
          57,
          30,
          23.45,
          7.05,
          7.25,
          7.4958,
          29.125,
          20.575,
          79.2,
          7.75,
          26,
          69.55,
          30.6958,
          7.8958,
          13,
          25.9292,
          8.6833,
          7.2292,
          24.15,
          13,
          26.25,
          120,
          8.5167,
          6.975,
          7.775,
          0,
          7.775,
          13,
          53.1,
          7.8875,
          24.15,
          10.5,
          31.275,
          8.05,
          0,
          7.925,
          37.0042,
          6.45,
          27.9,
          93.5,
          8.6625,
          0,
          12.475,
          39.6875,
          6.95,
          56.4958,
          37.0042,
          7.75,
          80,
          14.4542,
          18.75,
          7.2292,
          7.8542,
          8.3,
          83.1583,
          8.6625,
          8.05,
          56.4958,
          29.7,
          7.925,
          10.5,
          31,
          6.4375,
          8.6625,
          7.55,
          69.55,
          7.8958,
          33,
          89.1042,
          31.275,
          7.775,
          15.2458,
          39.4,
          26,
          9.35,
          164.8667,
          26.55,
          19.2583,
          7.2292,
          14.1083,
          11.5,
          25.9292,
          69.55,
          13,
          13,
          13.8583,
          50.4958,
          9.5,
          11.1333,
          7.8958,
          52.5542,
          5,
          9,
          24,
          7.225,
          9.8458,
          7.8958,
          7.8958,
          83.1583,
          26,
          7.8958,
          10.5167,
          10.5,
          7.05,
          29.125,
          13,
          30,
          23.45,
          30,
          7.75
         ],
         "y0": " ",
         "yaxis": "y"
        }
       ],
       "layout": {
        "boxmode": "group",
        "legend": {
         "tracegroupgap": 0
        },
        "margin": {
         "t": 60
        },
        "template": {
         "data": {
          "bar": [
           {
            "error_x": {
             "color": "#2a3f5f"
            },
            "error_y": {
             "color": "#2a3f5f"
            },
            "marker": {
             "line": {
              "color": "#E5ECF6",
              "width": 0.5
             }
            },
            "type": "bar"
           }
          ],
          "barpolar": [
           {
            "marker": {
             "line": {
              "color": "#E5ECF6",
              "width": 0.5
             }
            },
            "type": "barpolar"
           }
          ],
          "carpet": [
           {
            "aaxis": {
             "endlinecolor": "#2a3f5f",
             "gridcolor": "white",
             "linecolor": "white",
             "minorgridcolor": "white",
             "startlinecolor": "#2a3f5f"
            },
            "baxis": {
             "endlinecolor": "#2a3f5f",
             "gridcolor": "white",
             "linecolor": "white",
             "minorgridcolor": "white",
             "startlinecolor": "#2a3f5f"
            },
            "type": "carpet"
           }
          ],
          "choropleth": [
           {
            "colorbar": {
             "outlinewidth": 0,
             "ticks": ""
            },
            "type": "choropleth"
           }
          ],
          "contour": [
           {
            "colorbar": {
             "outlinewidth": 0,
             "ticks": ""
            },
            "colorscale": [
             [
              0,
              "#0d0887"
             ],
             [
              0.1111111111111111,
              "#46039f"
             ],
             [
              0.2222222222222222,
              "#7201a8"
             ],
             [
              0.3333333333333333,
              "#9c179e"
             ],
             [
              0.4444444444444444,
              "#bd3786"
             ],
             [
              0.5555555555555556,
              "#d8576b"
             ],
             [
              0.6666666666666666,
              "#ed7953"
             ],
             [
              0.7777777777777778,
              "#fb9f3a"
             ],
             [
              0.8888888888888888,
              "#fdca26"
             ],
             [
              1,
              "#f0f921"
             ]
            ],
            "type": "contour"
           }
          ],
          "contourcarpet": [
           {
            "colorbar": {
             "outlinewidth": 0,
             "ticks": ""
            },
            "type": "contourcarpet"
           }
          ],
          "heatmap": [
           {
            "colorbar": {
             "outlinewidth": 0,
             "ticks": ""
            },
            "colorscale": [
             [
              0,
              "#0d0887"
             ],
             [
              0.1111111111111111,
              "#46039f"
             ],
             [
              0.2222222222222222,
              "#7201a8"
             ],
             [
              0.3333333333333333,
              "#9c179e"
             ],
             [
              0.4444444444444444,
              "#bd3786"
             ],
             [
              0.5555555555555556,
              "#d8576b"
             ],
             [
              0.6666666666666666,
              "#ed7953"
             ],
             [
              0.7777777777777778,
              "#fb9f3a"
             ],
             [
              0.8888888888888888,
              "#fdca26"
             ],
             [
              1,
              "#f0f921"
             ]
            ],
            "type": "heatmap"
           }
          ],
          "heatmapgl": [
           {
            "colorbar": {
             "outlinewidth": 0,
             "ticks": ""
            },
            "colorscale": [
             [
              0,
              "#0d0887"
             ],
             [
              0.1111111111111111,
              "#46039f"
             ],
             [
              0.2222222222222222,
              "#7201a8"
             ],
             [
              0.3333333333333333,
              "#9c179e"
             ],
             [
              0.4444444444444444,
              "#bd3786"
             ],
             [
              0.5555555555555556,
              "#d8576b"
             ],
             [
              0.6666666666666666,
              "#ed7953"
             ],
             [
              0.7777777777777778,
              "#fb9f3a"
             ],
             [
              0.8888888888888888,
              "#fdca26"
             ],
             [
              1,
              "#f0f921"
             ]
            ],
            "type": "heatmapgl"
           }
          ],
          "histogram": [
           {
            "marker": {
             "colorbar": {
              "outlinewidth": 0,
              "ticks": ""
             }
            },
            "type": "histogram"
           }
          ],
          "histogram2d": [
           {
            "colorbar": {
             "outlinewidth": 0,
             "ticks": ""
            },
            "colorscale": [
             [
              0,
              "#0d0887"
             ],
             [
              0.1111111111111111,
              "#46039f"
             ],
             [
              0.2222222222222222,
              "#7201a8"
             ],
             [
              0.3333333333333333,
              "#9c179e"
             ],
             [
              0.4444444444444444,
              "#bd3786"
             ],
             [
              0.5555555555555556,
              "#d8576b"
             ],
             [
              0.6666666666666666,
              "#ed7953"
             ],
             [
              0.7777777777777778,
              "#fb9f3a"
             ],
             [
              0.8888888888888888,
              "#fdca26"
             ],
             [
              1,
              "#f0f921"
             ]
            ],
            "type": "histogram2d"
           }
          ],
          "histogram2dcontour": [
           {
            "colorbar": {
             "outlinewidth": 0,
             "ticks": ""
            },
            "colorscale": [
             [
              0,
              "#0d0887"
             ],
             [
              0.1111111111111111,
              "#46039f"
             ],
             [
              0.2222222222222222,
              "#7201a8"
             ],
             [
              0.3333333333333333,
              "#9c179e"
             ],
             [
              0.4444444444444444,
              "#bd3786"
             ],
             [
              0.5555555555555556,
              "#d8576b"
             ],
             [
              0.6666666666666666,
              "#ed7953"
             ],
             [
              0.7777777777777778,
              "#fb9f3a"
             ],
             [
              0.8888888888888888,
              "#fdca26"
             ],
             [
              1,
              "#f0f921"
             ]
            ],
            "type": "histogram2dcontour"
           }
          ],
          "mesh3d": [
           {
            "colorbar": {
             "outlinewidth": 0,
             "ticks": ""
            },
            "type": "mesh3d"
           }
          ],
          "parcoords": [
           {
            "line": {
             "colorbar": {
              "outlinewidth": 0,
              "ticks": ""
             }
            },
            "type": "parcoords"
           }
          ],
          "pie": [
           {
            "automargin": true,
            "type": "pie"
           }
          ],
          "scatter": [
           {
            "marker": {
             "colorbar": {
              "outlinewidth": 0,
              "ticks": ""
             }
            },
            "type": "scatter"
           }
          ],
          "scatter3d": [
           {
            "line": {
             "colorbar": {
              "outlinewidth": 0,
              "ticks": ""
             }
            },
            "marker": {
             "colorbar": {
              "outlinewidth": 0,
              "ticks": ""
             }
            },
            "type": "scatter3d"
           }
          ],
          "scattercarpet": [
           {
            "marker": {
             "colorbar": {
              "outlinewidth": 0,
              "ticks": ""
             }
            },
            "type": "scattercarpet"
           }
          ],
          "scattergeo": [
           {
            "marker": {
             "colorbar": {
              "outlinewidth": 0,
              "ticks": ""
             }
            },
            "type": "scattergeo"
           }
          ],
          "scattergl": [
           {
            "marker": {
             "colorbar": {
              "outlinewidth": 0,
              "ticks": ""
             }
            },
            "type": "scattergl"
           }
          ],
          "scattermapbox": [
           {
            "marker": {
             "colorbar": {
              "outlinewidth": 0,
              "ticks": ""
             }
            },
            "type": "scattermapbox"
           }
          ],
          "scatterpolar": [
           {
            "marker": {
             "colorbar": {
              "outlinewidth": 0,
              "ticks": ""
             }
            },
            "type": "scatterpolar"
           }
          ],
          "scatterpolargl": [
           {
            "marker": {
             "colorbar": {
              "outlinewidth": 0,
              "ticks": ""
             }
            },
            "type": "scatterpolargl"
           }
          ],
          "scatterternary": [
           {
            "marker": {
             "colorbar": {
              "outlinewidth": 0,
              "ticks": ""
             }
            },
            "type": "scatterternary"
           }
          ],
          "surface": [
           {
            "colorbar": {
             "outlinewidth": 0,
             "ticks": ""
            },
            "colorscale": [
             [
              0,
              "#0d0887"
             ],
             [
              0.1111111111111111,
              "#46039f"
             ],
             [
              0.2222222222222222,
              "#7201a8"
             ],
             [
              0.3333333333333333,
              "#9c179e"
             ],
             [
              0.4444444444444444,
              "#bd3786"
             ],
             [
              0.5555555555555556,
              "#d8576b"
             ],
             [
              0.6666666666666666,
              "#ed7953"
             ],
             [
              0.7777777777777778,
              "#fb9f3a"
             ],
             [
              0.8888888888888888,
              "#fdca26"
             ],
             [
              1,
              "#f0f921"
             ]
            ],
            "type": "surface"
           }
          ],
          "table": [
           {
            "cells": {
             "fill": {
              "color": "#EBF0F8"
             },
             "line": {
              "color": "white"
             }
            },
            "header": {
             "fill": {
              "color": "#C8D4E3"
             },
             "line": {
              "color": "white"
             }
            },
            "type": "table"
           }
          ]
         },
         "layout": {
          "annotationdefaults": {
           "arrowcolor": "#2a3f5f",
           "arrowhead": 0,
           "arrowwidth": 1
          },
          "coloraxis": {
           "colorbar": {
            "outlinewidth": 0,
            "ticks": ""
           }
          },
          "colorscale": {
           "diverging": [
            [
             0,
             "#8e0152"
            ],
            [
             0.1,
             "#c51b7d"
            ],
            [
             0.2,
             "#de77ae"
            ],
            [
             0.3,
             "#f1b6da"
            ],
            [
             0.4,
             "#fde0ef"
            ],
            [
             0.5,
             "#f7f7f7"
            ],
            [
             0.6,
             "#e6f5d0"
            ],
            [
             0.7,
             "#b8e186"
            ],
            [
             0.8,
             "#7fbc41"
            ],
            [
             0.9,
             "#4d9221"
            ],
            [
             1,
             "#276419"
            ]
           ],
           "sequential": [
            [
             0,
             "#0d0887"
            ],
            [
             0.1111111111111111,
             "#46039f"
            ],
            [
             0.2222222222222222,
             "#7201a8"
            ],
            [
             0.3333333333333333,
             "#9c179e"
            ],
            [
             0.4444444444444444,
             "#bd3786"
            ],
            [
             0.5555555555555556,
             "#d8576b"
            ],
            [
             0.6666666666666666,
             "#ed7953"
            ],
            [
             0.7777777777777778,
             "#fb9f3a"
            ],
            [
             0.8888888888888888,
             "#fdca26"
            ],
            [
             1,
             "#f0f921"
            ]
           ],
           "sequentialminus": [
            [
             0,
             "#0d0887"
            ],
            [
             0.1111111111111111,
             "#46039f"
            ],
            [
             0.2222222222222222,
             "#7201a8"
            ],
            [
             0.3333333333333333,
             "#9c179e"
            ],
            [
             0.4444444444444444,
             "#bd3786"
            ],
            [
             0.5555555555555556,
             "#d8576b"
            ],
            [
             0.6666666666666666,
             "#ed7953"
            ],
            [
             0.7777777777777778,
             "#fb9f3a"
            ],
            [
             0.8888888888888888,
             "#fdca26"
            ],
            [
             1,
             "#f0f921"
            ]
           ]
          },
          "colorway": [
           "#636efa",
           "#EF553B",
           "#00cc96",
           "#ab63fa",
           "#FFA15A",
           "#19d3f3",
           "#FF6692",
           "#B6E880",
           "#FF97FF",
           "#FECB52"
          ],
          "font": {
           "color": "#2a3f5f"
          },
          "geo": {
           "bgcolor": "white",
           "lakecolor": "white",
           "landcolor": "#E5ECF6",
           "showlakes": true,
           "showland": true,
           "subunitcolor": "white"
          },
          "hoverlabel": {
           "align": "left"
          },
          "hovermode": "closest",
          "mapbox": {
           "style": "light"
          },
          "paper_bgcolor": "white",
          "plot_bgcolor": "#E5ECF6",
          "polar": {
           "angularaxis": {
            "gridcolor": "white",
            "linecolor": "white",
            "ticks": ""
           },
           "bgcolor": "#E5ECF6",
           "radialaxis": {
            "gridcolor": "white",
            "linecolor": "white",
            "ticks": ""
           }
          },
          "scene": {
           "xaxis": {
            "backgroundcolor": "#E5ECF6",
            "gridcolor": "white",
            "gridwidth": 2,
            "linecolor": "white",
            "showbackground": true,
            "ticks": "",
            "zerolinecolor": "white"
           },
           "yaxis": {
            "backgroundcolor": "#E5ECF6",
            "gridcolor": "white",
            "gridwidth": 2,
            "linecolor": "white",
            "showbackground": true,
            "ticks": "",
            "zerolinecolor": "white"
           },
           "zaxis": {
            "backgroundcolor": "#E5ECF6",
            "gridcolor": "white",
            "gridwidth": 2,
            "linecolor": "white",
            "showbackground": true,
            "ticks": "",
            "zerolinecolor": "white"
           }
          },
          "shapedefaults": {
           "line": {
            "color": "#2a3f5f"
           }
          },
          "ternary": {
           "aaxis": {
            "gridcolor": "white",
            "linecolor": "white",
            "ticks": ""
           },
           "baxis": {
            "gridcolor": "white",
            "linecolor": "white",
            "ticks": ""
           },
           "bgcolor": "#E5ECF6",
           "caxis": {
            "gridcolor": "white",
            "linecolor": "white",
            "ticks": ""
           }
          },
          "title": {
           "x": 0.05
          },
          "xaxis": {
           "automargin": true,
           "gridcolor": "white",
           "linecolor": "white",
           "ticks": "",
           "title": {
            "standoff": 15
           },
           "zerolinecolor": "white",
           "zerolinewidth": 2
          },
          "yaxis": {
           "automargin": true,
           "gridcolor": "white",
           "linecolor": "white",
           "ticks": "",
           "title": {
            "standoff": 15
           },
           "zerolinecolor": "white",
           "zerolinewidth": 2
          }
         }
        },
        "xaxis": {
         "anchor": "y",
         "domain": [
          0,
          1
         ],
         "title": {
          "text": "Pclass"
         }
        },
        "yaxis": {
         "anchor": "x",
         "domain": [
          0,
          1
         ],
         "title": {
          "text": "Fare"
         }
        }
       }
      },
      "text/html": [
       "<div>                            <div id=\"44a1006c-0761-4e95-831e-07d7911dcd7c\" class=\"plotly-graph-div\" style=\"height:525px; width:100%;\"></div>            <script type=\"text/javascript\">                require([\"plotly\"], function(Plotly) {                    window.PLOTLYENV=window.PLOTLYENV || {};                                    if (document.getElementById(\"44a1006c-0761-4e95-831e-07d7911dcd7c\")) {                    Plotly.newPlot(                        \"44a1006c-0761-4e95-831e-07d7911dcd7c\",                        [{\"alignmentgroup\": \"True\", \"boxpoints\": \"all\", \"hovertemplate\": \"Pclass=%{x}<br>Fare=%{y}<extra></extra>\", \"legendgroup\": \"\", \"marker\": {\"color\": \"#636efa\"}, \"name\": \"\", \"notched\": false, \"offsetgroup\": \"\", \"orientation\": \"v\", \"showlegend\": false, \"type\": \"box\", \"x\": [3, 1, 3, 1, 3, 3, 1, 3, 3, 2, 3, 1, 3, 3, 3, 2, 3, 2, 3, 3, 2, 2, 3, 1, 3, 3, 3, 1, 3, 3, 1, 1, 3, 2, 1, 1, 3, 3, 3, 3, 3, 2, 3, 2, 3, 3, 3, 3, 3, 3, 3, 3, 1, 2, 1, 1, 2, 3, 2, 3, 3, 1, 1, 3, 1, 3, 2, 3, 3, 3, 2, 3, 2, 3, 3, 3, 3, 3, 2, 3, 3, 3, 3, 1, 2, 3, 3, 3, 1, 3, 3, 3, 1, 3, 3, 3, 1, 1, 2, 2, 3, 3, 1, 3, 3, 3, 3, 3, 3, 3, 1, 3, 3, 3, 3, 3, 3, 2, 1, 3, 2, 3, 2, 2, 1, 3, 3, 3, 3, 3, 3, 3, 3, 2, 2, 2, 1, 1, 3, 1, 3, 3, 3, 3, 2, 2, 3, 3, 2, 2, 2, 1, 3, 3, 3, 1, 3, 3, 3, 3, 3, 2, 3, 3, 3, 3, 1, 3, 1, 3, 1, 3, 3, 3, 1, 3, 3, 1, 2, 3, 3, 2, 3, 2, 3, 1, 3, 1, 3, 3, 2, 2, 3, 2, 1, 1, 3, 3, 3, 2, 3, 3, 3, 3, 3, 3, 3, 3, 3, 1, 3, 2, 3, 2, 3, 1, 3, 2, 1, 2, 3, 2, 3, 3, 1, 3, 2, 3, 2, 3, 1, 3, 2, 3, 2, 3, 2, 2, 2, 2, 3, 3, 2, 3, 3, 1, 3, 2, 1, 2, 3, 3, 1, 3, 3, 3, 1, 1, 1, 2, 3, 3, 1, 1, 3, 2, 3, 3, 1, 1, 1, 3, 2, 1, 3, 1, 3, 2, 3, 3, 3, 3, 3, 3, 1, 3, 3, 3, 2, 3, 1, 1, 2, 3, 3, 1, 3, 1, 1, 1, 3, 3, 3, 2, 3, 1, 1, 1, 2, 1, 1, 1, 2, 3, 2, 3, 2, 2, 1, 1, 3, 3, 2, 2, 3, 1, 3, 2, 3, 1, 3, 1, 1, 3, 1, 3, 1, 1, 3, 1, 2, 1, 2, 2, 2, 2, 2, 3, 3, 3, 3, 1, 3, 3, 3, 3, 1, 2, 3, 3, 3, 2, 3, 3, 3, 3, 1, 3, 3, 1, 1, 3, 3, 1, 3, 1, 3, 1, 3, 3, 1, 3, 3, 1, 3, 2, 3, 2, 3, 2, 1, 3, 3, 1, 3, 3, 3, 2, 2, 2, 3, 3, 3, 3, 3, 2, 3, 2, 3, 3, 3, 3, 1, 2, 3, 3, 2, 2, 2, 3, 3, 3, 3, 3, 3, 3, 2, 2, 3, 3, 1, 3, 2, 3, 1, 1, 3, 2, 1, 2, 2, 3, 3, 2, 3, 1, 2, 1, 3, 1, 2, 3, 1, 1, 3, 3, 1, 1, 2, 3, 1, 3, 1, 2, 3, 3, 2, 1, 3, 3, 3, 3, 2, 2, 3, 1, 2, 3, 3, 3, 3, 2, 3, 3, 1, 3, 1, 1, 3, 3, 3, 3, 1, 1, 3, 3, 1, 3, 1, 3, 3, 3, 3, 3, 1, 1, 2, 1, 3, 3, 3, 3, 1, 1, 3, 1, 2, 3, 2, 3, 1, 3, 3, 1, 3, 3, 2, 1, 3, 2, 2, 3, 3, 3, 3, 2, 1, 1, 3, 1, 1, 3, 3, 2, 1, 1, 2, 2, 3, 2, 1, 2, 3, 3, 3, 1, 1, 1, 1, 3, 3, 3, 2, 3, 3, 3, 3, 3, 3, 3, 2, 1, 1, 3, 3, 3, 2, 1, 3, 3, 2, 1, 2, 1, 3, 1, 2, 1, 3, 3, 3, 1, 3, 3, 2, 3, 2, 3, 3, 1, 2, 3, 1, 3, 1, 3, 3, 1, 2, 1, 3, 3, 3, 3, 3, 2, 3, 3, 2, 2, 3, 1, 3, 3, 3, 1, 2, 1, 3, 3, 1, 3, 1, 1, 3, 2, 3, 2, 3, 3, 3, 1, 3, 3, 3, 1, 3, 1, 3, 3, 3, 2, 3, 3, 3, 2, 3, 3, 2, 1, 1, 3, 1, 3, 3, 2, 2, 3, 3, 1, 2, 1, 2, 2, 2, 3, 3, 3, 3, 1, 3, 1, 3, 3, 2, 2, 3, 3, 3, 1, 1, 3, 3, 3, 1, 2, 3, 3, 1, 3, 1, 1, 3, 3, 3, 2, 2, 1, 1, 3, 1, 1, 1, 3, 2, 3, 1, 2, 3, 3, 2, 3, 2, 2, 1, 3, 2, 3, 2, 3, 1, 3, 2, 2, 2, 3, 3, 1, 3, 3, 1, 1, 1, 3, 3, 1, 3, 2, 1, 3, 2, 3, 3, 3, 2, 2, 3, 2, 3, 1, 3, 3, 3, 1, 3, 1, 1, 3, 3, 3, 3, 3, 2, 3, 2, 3, 3, 3, 3, 1, 3, 1, 1, 3, 3, 3, 3, 3, 3, 1, 3, 2, 3, 1, 3, 2, 1, 3, 3, 3, 2, 2, 1, 3, 3, 3, 1, 3, 2, 1, 3, 3, 2, 3, 3, 1, 3, 2, 3, 3, 1, 3, 1, 3, 3, 3, 3, 2, 3, 1, 3, 2, 3, 3, 3, 1, 3, 3, 3, 1, 3, 2, 1, 3, 3, 3, 3, 3, 2, 1, 3, 3, 3, 1, 2, 3, 1, 1, 3, 3, 3, 2, 1, 3, 2, 2, 2, 1, 3, 3, 3, 1, 1, 3, 2, 3, 3, 3, 3, 1, 2, 3, 3, 2, 3, 3, 2, 1, 3, 1, 3], \"x0\": \" \", \"xaxis\": \"x\", \"y\": [7.25, 71.2833, 7.925, 53.1, 8.05, 8.4583, 51.8625, 21.075, 11.1333, 30.0708, 16.7, 26.55, 8.05, 31.275, 7.8542, 16.0, 29.125, 13.0, 18.0, 7.225, 26.0, 13.0, 8.0292, 35.5, 21.075, 31.3875, 7.225, 263.0, 7.8792, 7.8958, 27.7208, 146.5208, 7.75, 10.5, 82.1708, 52.0, 7.2292, 8.05, 18.0, 11.2417, 9.475, 21.0, 7.8958, 41.5792, 7.8792, 8.05, 15.5, 7.75, 21.6792, 17.8, 39.6875, 7.8, 76.7292, 26.0, 61.9792, 35.5, 10.5, 7.2292, 27.75, 46.9, 7.2292, 80.0, 83.475, 27.9, 27.7208, 15.2458, 10.5, 8.1583, 7.925, 8.6625, 10.5, 46.9, 73.5, 14.4542, 56.4958, 7.65, 7.8958, 8.05, 29.0, 12.475, 9.0, 9.5, 7.7875, 47.1, 10.5, 15.85, 34.375, 8.05, 263.0, 8.05, 8.05, 7.8542, 61.175, 20.575, 7.25, 8.05, 34.6542, 63.3583, 23.0, 26.0, 7.8958, 7.8958, 77.2875, 8.6542, 7.925, 7.8958, 7.65, 7.775, 7.8958, 24.15, 52.0, 14.4542, 8.05, 9.825, 14.4583, 7.925, 7.75, 21.0, 247.5208, 31.275, 73.5, 8.05, 30.0708, 13.0, 77.2875, 11.2417, 7.75, 7.1417, 22.3583, 6.975, 7.8958, 7.05, 14.5, 26.0, 13.0, 15.0458, 26.2833, 53.1, 9.2167, 79.2, 15.2458, 7.75, 15.85, 6.75, 11.5, 36.75, 7.7958, 34.375, 26.0, 13.0, 12.525, 66.6, 8.05, 14.5, 7.3125, 61.3792, 7.7333, 8.05, 8.6625, 69.55, 16.1, 15.75, 7.775, 8.6625, 39.6875, 20.525, 55.0, 27.9, 25.925, 56.4958, 33.5, 29.125, 11.1333, 7.925, 30.6958, 7.8542, 25.4667, 28.7125, 13.0, 0.0, 69.55, 15.05, 31.3875, 39.0, 22.025, 50.0, 15.5, 26.55, 15.5, 7.8958, 13.0, 13.0, 7.8542, 26.0, 27.7208, 146.5208, 7.75, 8.4042, 7.75, 13.0, 9.5, 69.55, 6.4958, 7.225, 8.05, 10.4625, 15.85, 18.7875, 7.75, 31.0, 7.05, 21.0, 7.25, 13.0, 7.75, 113.275, 7.925, 27.0, 76.2917, 10.5, 8.05, 13.0, 8.05, 7.8958, 90.0, 9.35, 10.5, 7.25, 13.0, 25.4667, 83.475, 7.775, 13.5, 31.3875, 10.5, 7.55, 26.0, 26.25, 10.5, 12.275, 14.4542, 15.5, 10.5, 7.125, 7.225, 90.0, 7.775, 14.5, 52.5542, 26.0, 7.25, 10.4625, 26.55, 16.1, 20.2125, 15.2458, 79.2, 86.5, 512.3292, 26.0, 7.75, 31.3875, 79.65, 0.0, 7.75, 10.5, 39.6875, 7.775, 153.4625, 135.6333, 31.0, 0.0, 19.5, 29.7, 7.75, 77.9583, 7.75, 0.0, 29.125, 20.25, 7.75, 7.8542, 9.5, 8.05, 26.0, 8.6625, 9.5, 7.8958, 13.0, 7.75, 78.85, 91.0792, 12.875, 8.85, 7.8958, 27.7208, 7.2292, 151.55, 30.5, 247.5208, 7.75, 23.25, 0.0, 12.35, 8.05, 151.55, 110.8833, 108.9, 24.0, 56.9292, 83.1583, 262.375, 26.0, 7.8958, 26.25, 7.8542, 26.0, 14.0, 164.8667, 134.5, 7.25, 7.8958, 12.35, 29.0, 69.55, 135.6333, 6.2375, 13.0, 20.525, 57.9792, 23.25, 28.5, 153.4625, 18.0, 133.65, 7.8958, 66.6, 134.5, 8.05, 35.5, 26.0, 263.0, 13.0, 13.0, 13.0, 13.0, 13.0, 16.1, 15.9, 8.6625, 9.225, 35.0, 7.2292, 17.8, 7.225, 9.5, 55.0, 13.0, 7.8792, 7.8792, 27.9, 27.7208, 14.4542, 7.05, 15.5, 7.25, 75.25, 7.2292, 7.75, 69.3, 55.4417, 6.4958, 8.05, 135.6333, 21.075, 82.1708, 7.25, 211.5, 4.0125, 7.775, 227.525, 15.7417, 7.925, 52.0, 7.8958, 73.5, 46.9, 13.0, 7.7292, 12.0, 120.0, 7.7958, 7.925, 113.275, 16.7, 7.7958, 7.8542, 26.0, 10.5, 12.65, 7.925, 8.05, 9.825, 15.85, 8.6625, 21.0, 7.75, 18.75, 7.775, 25.4667, 7.8958, 6.8583, 90.0, 0.0, 7.925, 8.05, 32.5, 13.0, 13.0, 24.15, 7.8958, 7.7333, 7.875, 14.4, 20.2125, 7.25, 26.0, 26.0, 7.75, 8.05, 26.55, 16.1, 26.0, 7.125, 55.9, 120.0, 34.375, 18.75, 263.0, 10.5, 26.25, 9.5, 7.775, 13.0, 8.1125, 81.8583, 19.5, 26.55, 19.2583, 30.5, 27.75, 19.9667, 27.75, 89.1042, 8.05, 7.8958, 26.55, 51.8625, 10.5, 7.75, 26.55, 8.05, 38.5, 13.0, 8.05, 7.05, 0.0, 26.55, 7.725, 19.2583, 7.25, 8.6625, 27.75, 13.7917, 9.8375, 52.0, 21.0, 7.0458, 7.5208, 12.2875, 46.9, 0.0, 8.05, 9.5875, 91.0792, 25.4667, 90.0, 29.7, 8.05, 15.9, 19.9667, 7.25, 30.5, 49.5042, 8.05, 14.4583, 78.2667, 15.1, 151.55, 7.7958, 8.6625, 7.75, 7.6292, 9.5875, 86.5, 108.9, 26.0, 26.55, 22.525, 56.4958, 7.75, 8.05, 26.2875, 59.4, 7.4958, 34.0208, 10.5, 24.15, 26.0, 7.8958, 93.5, 7.8958, 7.225, 57.9792, 7.2292, 7.75, 10.5, 221.7792, 7.925, 11.5, 26.0, 7.2292, 7.2292, 22.3583, 8.6625, 26.25, 26.55, 106.425, 14.5, 49.5, 71.0, 31.275, 31.275, 26.0, 106.425, 26.0, 26.0, 13.8625, 20.525, 36.75, 110.8833, 26.0, 7.8292, 7.225, 7.775, 26.55, 39.6, 227.525, 79.65, 17.4, 7.75, 7.8958, 13.5, 8.05, 8.05, 24.15, 7.8958, 21.075, 7.2292, 7.8542, 10.5, 51.4792, 26.3875, 7.75, 8.05, 14.5, 13.0, 55.9, 14.4583, 7.925, 30.0, 110.8833, 26.0, 40.125, 8.7125, 79.65, 15.0, 79.2, 8.05, 8.05, 7.125, 78.2667, 7.25, 7.75, 26.0, 24.15, 33.0, 0.0, 7.225, 56.9292, 27.0, 7.8958, 42.4, 8.05, 26.55, 15.55, 7.8958, 30.5, 41.5792, 153.4625, 31.275, 7.05, 15.5, 7.75, 8.05, 65.0, 14.4, 16.1, 39.0, 10.5, 14.4542, 52.5542, 15.7417, 7.8542, 16.1, 32.3208, 12.35, 77.9583, 7.8958, 7.7333, 30.0, 7.0542, 30.5, 0.0, 27.9, 13.0, 7.925, 26.25, 39.6875, 16.1, 7.8542, 69.3, 27.9, 56.4958, 19.2583, 76.7292, 7.8958, 35.5, 7.55, 7.55, 7.8958, 23.0, 8.4333, 7.8292, 6.75, 73.5, 7.8958, 15.5, 13.0, 113.275, 133.65, 7.225, 25.5875, 7.4958, 7.925, 73.5, 13.0, 7.775, 8.05, 52.0, 39.0, 52.0, 10.5, 13.0, 0.0, 7.775, 8.05, 9.8417, 46.9, 512.3292, 8.1375, 76.7292, 9.225, 46.9, 39.0, 41.5792, 39.6875, 10.1708, 7.7958, 211.3375, 57.0, 13.4167, 56.4958, 7.225, 26.55, 13.5, 8.05, 7.7333, 110.8833, 7.65, 227.525, 26.2875, 14.4542, 7.7417, 7.8542, 26.0, 13.5, 26.2875, 151.55, 15.2458, 49.5042, 26.55, 52.0, 9.4833, 13.0, 7.65, 227.525, 10.5, 15.5, 7.775, 33.0, 7.0542, 13.0, 13.0, 53.1, 8.6625, 21.0, 7.7375, 26.0, 7.925, 211.3375, 18.7875, 0.0, 13.0, 13.0, 16.1, 34.375, 512.3292, 7.8958, 7.8958, 30.0, 78.85, 262.375, 16.1, 7.925, 71.0, 20.25, 13.0, 53.1, 7.75, 23.0, 12.475, 9.5, 7.8958, 65.0, 14.5, 7.7958, 11.5, 8.05, 86.5, 14.5, 7.125, 7.2292, 120.0, 7.775, 77.9583, 39.6, 7.75, 24.15, 8.3625, 9.5, 7.8542, 10.5, 7.225, 23.0, 7.75, 7.75, 12.475, 7.7375, 211.3375, 7.2292, 57.0, 30.0, 23.45, 7.05, 7.25, 7.4958, 29.125, 20.575, 79.2, 7.75, 26.0, 69.55, 30.6958, 7.8958, 13.0, 25.9292, 8.6833, 7.2292, 24.15, 13.0, 26.25, 120.0, 8.5167, 6.975, 7.775, 0.0, 7.775, 13.0, 53.1, 7.8875, 24.15, 10.5, 31.275, 8.05, 0.0, 7.925, 37.0042, 6.45, 27.9, 93.5, 8.6625, 0.0, 12.475, 39.6875, 6.95, 56.4958, 37.0042, 7.75, 80.0, 14.4542, 18.75, 7.2292, 7.8542, 8.3, 83.1583, 8.6625, 8.05, 56.4958, 29.7, 7.925, 10.5, 31.0, 6.4375, 8.6625, 7.55, 69.55, 7.8958, 33.0, 89.1042, 31.275, 7.775, 15.2458, 39.4, 26.0, 9.35, 164.8667, 26.55, 19.2583, 7.2292, 14.1083, 11.5, 25.9292, 69.55, 13.0, 13.0, 13.8583, 50.4958, 9.5, 11.1333, 7.8958, 52.5542, 5.0, 9.0, 24.0, 7.225, 9.8458, 7.8958, 7.8958, 83.1583, 26.0, 7.8958, 10.5167, 10.5, 7.05, 29.125, 13.0, 30.0, 23.45, 30.0, 7.75], \"y0\": \" \", \"yaxis\": \"y\"}],                        {\"boxmode\": \"group\", \"legend\": {\"tracegroupgap\": 0}, \"margin\": {\"t\": 60}, \"template\": {\"data\": {\"bar\": [{\"error_x\": {\"color\": \"#2a3f5f\"}, \"error_y\": {\"color\": \"#2a3f5f\"}, \"marker\": {\"line\": {\"color\": \"#E5ECF6\", \"width\": 0.5}}, \"type\": \"bar\"}], \"barpolar\": [{\"marker\": {\"line\": {\"color\": \"#E5ECF6\", \"width\": 0.5}}, \"type\": \"barpolar\"}], \"carpet\": [{\"aaxis\": {\"endlinecolor\": \"#2a3f5f\", \"gridcolor\": \"white\", \"linecolor\": \"white\", \"minorgridcolor\": \"white\", \"startlinecolor\": \"#2a3f5f\"}, \"baxis\": {\"endlinecolor\": \"#2a3f5f\", \"gridcolor\": \"white\", \"linecolor\": \"white\", \"minorgridcolor\": \"white\", \"startlinecolor\": \"#2a3f5f\"}, \"type\": \"carpet\"}], \"choropleth\": [{\"colorbar\": {\"outlinewidth\": 0, \"ticks\": \"\"}, \"type\": \"choropleth\"}], \"contour\": [{\"colorbar\": {\"outlinewidth\": 0, \"ticks\": \"\"}, \"colorscale\": [[0.0, \"#0d0887\"], [0.1111111111111111, \"#46039f\"], [0.2222222222222222, \"#7201a8\"], [0.3333333333333333, \"#9c179e\"], [0.4444444444444444, \"#bd3786\"], [0.5555555555555556, \"#d8576b\"], [0.6666666666666666, \"#ed7953\"], [0.7777777777777778, \"#fb9f3a\"], [0.8888888888888888, \"#fdca26\"], [1.0, \"#f0f921\"]], \"type\": \"contour\"}], \"contourcarpet\": [{\"colorbar\": {\"outlinewidth\": 0, \"ticks\": \"\"}, \"type\": \"contourcarpet\"}], \"heatmap\": [{\"colorbar\": {\"outlinewidth\": 0, \"ticks\": \"\"}, \"colorscale\": [[0.0, \"#0d0887\"], [0.1111111111111111, \"#46039f\"], [0.2222222222222222, \"#7201a8\"], [0.3333333333333333, \"#9c179e\"], [0.4444444444444444, \"#bd3786\"], [0.5555555555555556, \"#d8576b\"], [0.6666666666666666, \"#ed7953\"], [0.7777777777777778, \"#fb9f3a\"], [0.8888888888888888, \"#fdca26\"], [1.0, \"#f0f921\"]], \"type\": \"heatmap\"}], \"heatmapgl\": [{\"colorbar\": {\"outlinewidth\": 0, \"ticks\": \"\"}, \"colorscale\": [[0.0, \"#0d0887\"], [0.1111111111111111, \"#46039f\"], [0.2222222222222222, \"#7201a8\"], [0.3333333333333333, \"#9c179e\"], [0.4444444444444444, \"#bd3786\"], [0.5555555555555556, \"#d8576b\"], [0.6666666666666666, \"#ed7953\"], [0.7777777777777778, \"#fb9f3a\"], [0.8888888888888888, \"#fdca26\"], [1.0, \"#f0f921\"]], \"type\": \"heatmapgl\"}], \"histogram\": [{\"marker\": {\"colorbar\": {\"outlinewidth\": 0, \"ticks\": \"\"}}, \"type\": \"histogram\"}], \"histogram2d\": [{\"colorbar\": {\"outlinewidth\": 0, \"ticks\": \"\"}, \"colorscale\": [[0.0, \"#0d0887\"], [0.1111111111111111, \"#46039f\"], [0.2222222222222222, \"#7201a8\"], [0.3333333333333333, \"#9c179e\"], [0.4444444444444444, \"#bd3786\"], [0.5555555555555556, \"#d8576b\"], [0.6666666666666666, \"#ed7953\"], [0.7777777777777778, \"#fb9f3a\"], [0.8888888888888888, \"#fdca26\"], [1.0, \"#f0f921\"]], \"type\": \"histogram2d\"}], \"histogram2dcontour\": [{\"colorbar\": {\"outlinewidth\": 0, \"ticks\": \"\"}, \"colorscale\": [[0.0, \"#0d0887\"], [0.1111111111111111, \"#46039f\"], [0.2222222222222222, \"#7201a8\"], [0.3333333333333333, \"#9c179e\"], [0.4444444444444444, \"#bd3786\"], [0.5555555555555556, \"#d8576b\"], [0.6666666666666666, \"#ed7953\"], [0.7777777777777778, \"#fb9f3a\"], [0.8888888888888888, \"#fdca26\"], [1.0, \"#f0f921\"]], \"type\": \"histogram2dcontour\"}], \"mesh3d\": [{\"colorbar\": {\"outlinewidth\": 0, \"ticks\": \"\"}, \"type\": \"mesh3d\"}], \"parcoords\": [{\"line\": {\"colorbar\": {\"outlinewidth\": 0, \"ticks\": \"\"}}, \"type\": \"parcoords\"}], \"pie\": [{\"automargin\": true, \"type\": \"pie\"}], \"scatter\": [{\"marker\": {\"colorbar\": {\"outlinewidth\": 0, \"ticks\": \"\"}}, \"type\": \"scatter\"}], \"scatter3d\": [{\"line\": {\"colorbar\": {\"outlinewidth\": 0, \"ticks\": \"\"}}, \"marker\": {\"colorbar\": {\"outlinewidth\": 0, \"ticks\": \"\"}}, \"type\": \"scatter3d\"}], \"scattercarpet\": [{\"marker\": {\"colorbar\": {\"outlinewidth\": 0, \"ticks\": \"\"}}, \"type\": \"scattercarpet\"}], \"scattergeo\": [{\"marker\": {\"colorbar\": {\"outlinewidth\": 0, \"ticks\": \"\"}}, \"type\": \"scattergeo\"}], \"scattergl\": [{\"marker\": {\"colorbar\": {\"outlinewidth\": 0, \"ticks\": \"\"}}, \"type\": \"scattergl\"}], \"scattermapbox\": [{\"marker\": {\"colorbar\": {\"outlinewidth\": 0, \"ticks\": \"\"}}, \"type\": \"scattermapbox\"}], \"scatterpolar\": [{\"marker\": {\"colorbar\": {\"outlinewidth\": 0, \"ticks\": \"\"}}, \"type\": \"scatterpolar\"}], \"scatterpolargl\": [{\"marker\": {\"colorbar\": {\"outlinewidth\": 0, \"ticks\": \"\"}}, \"type\": \"scatterpolargl\"}], \"scatterternary\": [{\"marker\": {\"colorbar\": {\"outlinewidth\": 0, \"ticks\": \"\"}}, \"type\": \"scatterternary\"}], \"surface\": [{\"colorbar\": {\"outlinewidth\": 0, \"ticks\": \"\"}, \"colorscale\": [[0.0, \"#0d0887\"], [0.1111111111111111, \"#46039f\"], [0.2222222222222222, \"#7201a8\"], [0.3333333333333333, \"#9c179e\"], [0.4444444444444444, \"#bd3786\"], [0.5555555555555556, \"#d8576b\"], [0.6666666666666666, \"#ed7953\"], [0.7777777777777778, \"#fb9f3a\"], [0.8888888888888888, \"#fdca26\"], [1.0, \"#f0f921\"]], \"type\": \"surface\"}], \"table\": [{\"cells\": {\"fill\": {\"color\": \"#EBF0F8\"}, \"line\": {\"color\": \"white\"}}, \"header\": {\"fill\": {\"color\": \"#C8D4E3\"}, \"line\": {\"color\": \"white\"}}, \"type\": \"table\"}]}, \"layout\": {\"annotationdefaults\": {\"arrowcolor\": \"#2a3f5f\", \"arrowhead\": 0, \"arrowwidth\": 1}, \"coloraxis\": {\"colorbar\": {\"outlinewidth\": 0, \"ticks\": \"\"}}, \"colorscale\": {\"diverging\": [[0, \"#8e0152\"], [0.1, \"#c51b7d\"], [0.2, \"#de77ae\"], [0.3, \"#f1b6da\"], [0.4, \"#fde0ef\"], [0.5, \"#f7f7f7\"], [0.6, \"#e6f5d0\"], [0.7, \"#b8e186\"], [0.8, \"#7fbc41\"], [0.9, \"#4d9221\"], [1, \"#276419\"]], \"sequential\": [[0.0, \"#0d0887\"], [0.1111111111111111, \"#46039f\"], [0.2222222222222222, \"#7201a8\"], [0.3333333333333333, \"#9c179e\"], [0.4444444444444444, \"#bd3786\"], [0.5555555555555556, \"#d8576b\"], [0.6666666666666666, \"#ed7953\"], [0.7777777777777778, \"#fb9f3a\"], [0.8888888888888888, \"#fdca26\"], [1.0, \"#f0f921\"]], \"sequentialminus\": [[0.0, \"#0d0887\"], [0.1111111111111111, \"#46039f\"], [0.2222222222222222, \"#7201a8\"], [0.3333333333333333, \"#9c179e\"], [0.4444444444444444, \"#bd3786\"], [0.5555555555555556, \"#d8576b\"], [0.6666666666666666, \"#ed7953\"], [0.7777777777777778, \"#fb9f3a\"], [0.8888888888888888, \"#fdca26\"], [1.0, \"#f0f921\"]]}, \"colorway\": [\"#636efa\", \"#EF553B\", \"#00cc96\", \"#ab63fa\", \"#FFA15A\", \"#19d3f3\", \"#FF6692\", \"#B6E880\", \"#FF97FF\", \"#FECB52\"], \"font\": {\"color\": \"#2a3f5f\"}, \"geo\": {\"bgcolor\": \"white\", \"lakecolor\": \"white\", \"landcolor\": \"#E5ECF6\", \"showlakes\": true, \"showland\": true, \"subunitcolor\": \"white\"}, \"hoverlabel\": {\"align\": \"left\"}, \"hovermode\": \"closest\", \"mapbox\": {\"style\": \"light\"}, \"paper_bgcolor\": \"white\", \"plot_bgcolor\": \"#E5ECF6\", \"polar\": {\"angularaxis\": {\"gridcolor\": \"white\", \"linecolor\": \"white\", \"ticks\": \"\"}, \"bgcolor\": \"#E5ECF6\", \"radialaxis\": {\"gridcolor\": \"white\", \"linecolor\": \"white\", \"ticks\": \"\"}}, \"scene\": {\"xaxis\": {\"backgroundcolor\": \"#E5ECF6\", \"gridcolor\": \"white\", \"gridwidth\": 2, \"linecolor\": \"white\", \"showbackground\": true, \"ticks\": \"\", \"zerolinecolor\": \"white\"}, \"yaxis\": {\"backgroundcolor\": \"#E5ECF6\", \"gridcolor\": \"white\", \"gridwidth\": 2, \"linecolor\": \"white\", \"showbackground\": true, \"ticks\": \"\", \"zerolinecolor\": \"white\"}, \"zaxis\": {\"backgroundcolor\": \"#E5ECF6\", \"gridcolor\": \"white\", \"gridwidth\": 2, \"linecolor\": \"white\", \"showbackground\": true, \"ticks\": \"\", \"zerolinecolor\": \"white\"}}, \"shapedefaults\": {\"line\": {\"color\": \"#2a3f5f\"}}, \"ternary\": {\"aaxis\": {\"gridcolor\": \"white\", \"linecolor\": \"white\", \"ticks\": \"\"}, \"baxis\": {\"gridcolor\": \"white\", \"linecolor\": \"white\", \"ticks\": \"\"}, \"bgcolor\": \"#E5ECF6\", \"caxis\": {\"gridcolor\": \"white\", \"linecolor\": \"white\", \"ticks\": \"\"}}, \"title\": {\"x\": 0.05}, \"xaxis\": {\"automargin\": true, \"gridcolor\": \"white\", \"linecolor\": \"white\", \"ticks\": \"\", \"title\": {\"standoff\": 15}, \"zerolinecolor\": \"white\", \"zerolinewidth\": 2}, \"yaxis\": {\"automargin\": true, \"gridcolor\": \"white\", \"linecolor\": \"white\", \"ticks\": \"\", \"title\": {\"standoff\": 15}, \"zerolinecolor\": \"white\", \"zerolinewidth\": 2}}}, \"xaxis\": {\"anchor\": \"y\", \"domain\": [0.0, 1.0], \"title\": {\"text\": \"Pclass\"}}, \"yaxis\": {\"anchor\": \"x\", \"domain\": [0.0, 1.0], \"title\": {\"text\": \"Fare\"}}},                        {\"responsive\": true}                    ).then(function(){\n",
       "                            \n",
       "var gd = document.getElementById('44a1006c-0761-4e95-831e-07d7911dcd7c');\n",
       "var x = new MutationObserver(function (mutations, observer) {{\n",
       "        var display = window.getComputedStyle(gd).display;\n",
       "        if (!display || display === 'none') {{\n",
       "            console.log([gd, 'removed!']);\n",
       "            Plotly.purge(gd);\n",
       "            observer.disconnect();\n",
       "        }}\n",
       "}});\n",
       "\n",
       "// Listen for the removal of the full notebook cells\n",
       "var notebookContainer = gd.closest('#notebook-container');\n",
       "if (notebookContainer) {{\n",
       "    x.observe(notebookContainer, {childList: true});\n",
       "}}\n",
       "\n",
       "// Listen for the clearing of the current output cell\n",
       "var outputEl = gd.closest('.output');\n",
       "if (outputEl) {{\n",
       "    x.observe(outputEl, {childList: true});\n",
       "}}\n",
       "\n",
       "                        })                };                });            </script>        </div>"
      ]
     },
     "metadata": {},
     "output_type": "display_data"
    }
   ],
   "source": [
    "# Plotting distribution of fare on a log graph\n",
    "fig = px.box(titanic, x=\"Pclass\", y=\"Fare\", points=\"all\")\n",
    "fig.show()"
   ]
  },
  {
   "cell_type": "code",
   "execution_count": null,
   "metadata": {},
   "outputs": [],
   "source": []
  },
  {
   "cell_type": "raw",
   "metadata": {},
   "source": [
    "5.Graph the value counts of the number of passengers who survived and did not survive based on gender using a stacked bar graph."
   ]
  },
  {
   "cell_type": "code",
   "execution_count": 352,
   "metadata": {},
   "outputs": [
    {
     "data": {
      "application/vnd.plotly.v1+json": {
       "config": {
        "plotlyServerURL": "https://plot.ly"
       },
       "data": [
        {
         "alignmentgroup": "True",
         "hovertemplate": "Sex=%{x}<br>Pclass=%{y}<br>Survived=%{marker.color}<extra></extra>",
         "legendgroup": "",
         "marker": {
          "color": [
           81,
           233,
           468,
           109
          ],
          "coloraxis": "coloraxis"
         },
         "name": "",
         "offsetgroup": "",
         "orientation": "v",
         "showlegend": false,
         "textposition": "auto",
         "type": "bar",
         "x": [
          0,
          0,
          1,
          1
         ],
         "xaxis": "x",
         "y": [
          0,
          1,
          0,
          1
         ],
         "yaxis": "y"
        }
       ],
       "layout": {
        "barmode": "group",
        "coloraxis": {
         "colorbar": {
          "title": {
           "text": "Survived"
          }
         },
         "colorscale": [
          [
           0,
           "#0d0887"
          ],
          [
           0.1111111111111111,
           "#46039f"
          ],
          [
           0.2222222222222222,
           "#7201a8"
          ],
          [
           0.3333333333333333,
           "#9c179e"
          ],
          [
           0.4444444444444444,
           "#bd3786"
          ],
          [
           0.5555555555555556,
           "#d8576b"
          ],
          [
           0.6666666666666666,
           "#ed7953"
          ],
          [
           0.7777777777777778,
           "#fb9f3a"
          ],
          [
           0.8888888888888888,
           "#fdca26"
          ],
          [
           1,
           "#f0f921"
          ]
         ]
        },
        "legend": {
         "tracegroupgap": 0
        },
        "margin": {
         "t": 60
        },
        "template": {
         "data": {
          "bar": [
           {
            "error_x": {
             "color": "#2a3f5f"
            },
            "error_y": {
             "color": "#2a3f5f"
            },
            "marker": {
             "line": {
              "color": "#E5ECF6",
              "width": 0.5
             }
            },
            "type": "bar"
           }
          ],
          "barpolar": [
           {
            "marker": {
             "line": {
              "color": "#E5ECF6",
              "width": 0.5
             }
            },
            "type": "barpolar"
           }
          ],
          "carpet": [
           {
            "aaxis": {
             "endlinecolor": "#2a3f5f",
             "gridcolor": "white",
             "linecolor": "white",
             "minorgridcolor": "white",
             "startlinecolor": "#2a3f5f"
            },
            "baxis": {
             "endlinecolor": "#2a3f5f",
             "gridcolor": "white",
             "linecolor": "white",
             "minorgridcolor": "white",
             "startlinecolor": "#2a3f5f"
            },
            "type": "carpet"
           }
          ],
          "choropleth": [
           {
            "colorbar": {
             "outlinewidth": 0,
             "ticks": ""
            },
            "type": "choropleth"
           }
          ],
          "contour": [
           {
            "colorbar": {
             "outlinewidth": 0,
             "ticks": ""
            },
            "colorscale": [
             [
              0,
              "#0d0887"
             ],
             [
              0.1111111111111111,
              "#46039f"
             ],
             [
              0.2222222222222222,
              "#7201a8"
             ],
             [
              0.3333333333333333,
              "#9c179e"
             ],
             [
              0.4444444444444444,
              "#bd3786"
             ],
             [
              0.5555555555555556,
              "#d8576b"
             ],
             [
              0.6666666666666666,
              "#ed7953"
             ],
             [
              0.7777777777777778,
              "#fb9f3a"
             ],
             [
              0.8888888888888888,
              "#fdca26"
             ],
             [
              1,
              "#f0f921"
             ]
            ],
            "type": "contour"
           }
          ],
          "contourcarpet": [
           {
            "colorbar": {
             "outlinewidth": 0,
             "ticks": ""
            },
            "type": "contourcarpet"
           }
          ],
          "heatmap": [
           {
            "colorbar": {
             "outlinewidth": 0,
             "ticks": ""
            },
            "colorscale": [
             [
              0,
              "#0d0887"
             ],
             [
              0.1111111111111111,
              "#46039f"
             ],
             [
              0.2222222222222222,
              "#7201a8"
             ],
             [
              0.3333333333333333,
              "#9c179e"
             ],
             [
              0.4444444444444444,
              "#bd3786"
             ],
             [
              0.5555555555555556,
              "#d8576b"
             ],
             [
              0.6666666666666666,
              "#ed7953"
             ],
             [
              0.7777777777777778,
              "#fb9f3a"
             ],
             [
              0.8888888888888888,
              "#fdca26"
             ],
             [
              1,
              "#f0f921"
             ]
            ],
            "type": "heatmap"
           }
          ],
          "heatmapgl": [
           {
            "colorbar": {
             "outlinewidth": 0,
             "ticks": ""
            },
            "colorscale": [
             [
              0,
              "#0d0887"
             ],
             [
              0.1111111111111111,
              "#46039f"
             ],
             [
              0.2222222222222222,
              "#7201a8"
             ],
             [
              0.3333333333333333,
              "#9c179e"
             ],
             [
              0.4444444444444444,
              "#bd3786"
             ],
             [
              0.5555555555555556,
              "#d8576b"
             ],
             [
              0.6666666666666666,
              "#ed7953"
             ],
             [
              0.7777777777777778,
              "#fb9f3a"
             ],
             [
              0.8888888888888888,
              "#fdca26"
             ],
             [
              1,
              "#f0f921"
             ]
            ],
            "type": "heatmapgl"
           }
          ],
          "histogram": [
           {
            "marker": {
             "colorbar": {
              "outlinewidth": 0,
              "ticks": ""
             }
            },
            "type": "histogram"
           }
          ],
          "histogram2d": [
           {
            "colorbar": {
             "outlinewidth": 0,
             "ticks": ""
            },
            "colorscale": [
             [
              0,
              "#0d0887"
             ],
             [
              0.1111111111111111,
              "#46039f"
             ],
             [
              0.2222222222222222,
              "#7201a8"
             ],
             [
              0.3333333333333333,
              "#9c179e"
             ],
             [
              0.4444444444444444,
              "#bd3786"
             ],
             [
              0.5555555555555556,
              "#d8576b"
             ],
             [
              0.6666666666666666,
              "#ed7953"
             ],
             [
              0.7777777777777778,
              "#fb9f3a"
             ],
             [
              0.8888888888888888,
              "#fdca26"
             ],
             [
              1,
              "#f0f921"
             ]
            ],
            "type": "histogram2d"
           }
          ],
          "histogram2dcontour": [
           {
            "colorbar": {
             "outlinewidth": 0,
             "ticks": ""
            },
            "colorscale": [
             [
              0,
              "#0d0887"
             ],
             [
              0.1111111111111111,
              "#46039f"
             ],
             [
              0.2222222222222222,
              "#7201a8"
             ],
             [
              0.3333333333333333,
              "#9c179e"
             ],
             [
              0.4444444444444444,
              "#bd3786"
             ],
             [
              0.5555555555555556,
              "#d8576b"
             ],
             [
              0.6666666666666666,
              "#ed7953"
             ],
             [
              0.7777777777777778,
              "#fb9f3a"
             ],
             [
              0.8888888888888888,
              "#fdca26"
             ],
             [
              1,
              "#f0f921"
             ]
            ],
            "type": "histogram2dcontour"
           }
          ],
          "mesh3d": [
           {
            "colorbar": {
             "outlinewidth": 0,
             "ticks": ""
            },
            "type": "mesh3d"
           }
          ],
          "parcoords": [
           {
            "line": {
             "colorbar": {
              "outlinewidth": 0,
              "ticks": ""
             }
            },
            "type": "parcoords"
           }
          ],
          "pie": [
           {
            "automargin": true,
            "type": "pie"
           }
          ],
          "scatter": [
           {
            "marker": {
             "colorbar": {
              "outlinewidth": 0,
              "ticks": ""
             }
            },
            "type": "scatter"
           }
          ],
          "scatter3d": [
           {
            "line": {
             "colorbar": {
              "outlinewidth": 0,
              "ticks": ""
             }
            },
            "marker": {
             "colorbar": {
              "outlinewidth": 0,
              "ticks": ""
             }
            },
            "type": "scatter3d"
           }
          ],
          "scattercarpet": [
           {
            "marker": {
             "colorbar": {
              "outlinewidth": 0,
              "ticks": ""
             }
            },
            "type": "scattercarpet"
           }
          ],
          "scattergeo": [
           {
            "marker": {
             "colorbar": {
              "outlinewidth": 0,
              "ticks": ""
             }
            },
            "type": "scattergeo"
           }
          ],
          "scattergl": [
           {
            "marker": {
             "colorbar": {
              "outlinewidth": 0,
              "ticks": ""
             }
            },
            "type": "scattergl"
           }
          ],
          "scattermapbox": [
           {
            "marker": {
             "colorbar": {
              "outlinewidth": 0,
              "ticks": ""
             }
            },
            "type": "scattermapbox"
           }
          ],
          "scatterpolar": [
           {
            "marker": {
             "colorbar": {
              "outlinewidth": 0,
              "ticks": ""
             }
            },
            "type": "scatterpolar"
           }
          ],
          "scatterpolargl": [
           {
            "marker": {
             "colorbar": {
              "outlinewidth": 0,
              "ticks": ""
             }
            },
            "type": "scatterpolargl"
           }
          ],
          "scatterternary": [
           {
            "marker": {
             "colorbar": {
              "outlinewidth": 0,
              "ticks": ""
             }
            },
            "type": "scatterternary"
           }
          ],
          "surface": [
           {
            "colorbar": {
             "outlinewidth": 0,
             "ticks": ""
            },
            "colorscale": [
             [
              0,
              "#0d0887"
             ],
             [
              0.1111111111111111,
              "#46039f"
             ],
             [
              0.2222222222222222,
              "#7201a8"
             ],
             [
              0.3333333333333333,
              "#9c179e"
             ],
             [
              0.4444444444444444,
              "#bd3786"
             ],
             [
              0.5555555555555556,
              "#d8576b"
             ],
             [
              0.6666666666666666,
              "#ed7953"
             ],
             [
              0.7777777777777778,
              "#fb9f3a"
             ],
             [
              0.8888888888888888,
              "#fdca26"
             ],
             [
              1,
              "#f0f921"
             ]
            ],
            "type": "surface"
           }
          ],
          "table": [
           {
            "cells": {
             "fill": {
              "color": "#EBF0F8"
             },
             "line": {
              "color": "white"
             }
            },
            "header": {
             "fill": {
              "color": "#C8D4E3"
             },
             "line": {
              "color": "white"
             }
            },
            "type": "table"
           }
          ]
         },
         "layout": {
          "annotationdefaults": {
           "arrowcolor": "#2a3f5f",
           "arrowhead": 0,
           "arrowwidth": 1
          },
          "coloraxis": {
           "colorbar": {
            "outlinewidth": 0,
            "ticks": ""
           }
          },
          "colorscale": {
           "diverging": [
            [
             0,
             "#8e0152"
            ],
            [
             0.1,
             "#c51b7d"
            ],
            [
             0.2,
             "#de77ae"
            ],
            [
             0.3,
             "#f1b6da"
            ],
            [
             0.4,
             "#fde0ef"
            ],
            [
             0.5,
             "#f7f7f7"
            ],
            [
             0.6,
             "#e6f5d0"
            ],
            [
             0.7,
             "#b8e186"
            ],
            [
             0.8,
             "#7fbc41"
            ],
            [
             0.9,
             "#4d9221"
            ],
            [
             1,
             "#276419"
            ]
           ],
           "sequential": [
            [
             0,
             "#0d0887"
            ],
            [
             0.1111111111111111,
             "#46039f"
            ],
            [
             0.2222222222222222,
             "#7201a8"
            ],
            [
             0.3333333333333333,
             "#9c179e"
            ],
            [
             0.4444444444444444,
             "#bd3786"
            ],
            [
             0.5555555555555556,
             "#d8576b"
            ],
            [
             0.6666666666666666,
             "#ed7953"
            ],
            [
             0.7777777777777778,
             "#fb9f3a"
            ],
            [
             0.8888888888888888,
             "#fdca26"
            ],
            [
             1,
             "#f0f921"
            ]
           ],
           "sequentialminus": [
            [
             0,
             "#0d0887"
            ],
            [
             0.1111111111111111,
             "#46039f"
            ],
            [
             0.2222222222222222,
             "#7201a8"
            ],
            [
             0.3333333333333333,
             "#9c179e"
            ],
            [
             0.4444444444444444,
             "#bd3786"
            ],
            [
             0.5555555555555556,
             "#d8576b"
            ],
            [
             0.6666666666666666,
             "#ed7953"
            ],
            [
             0.7777777777777778,
             "#fb9f3a"
            ],
            [
             0.8888888888888888,
             "#fdca26"
            ],
            [
             1,
             "#f0f921"
            ]
           ]
          },
          "colorway": [
           "#636efa",
           "#EF553B",
           "#00cc96",
           "#ab63fa",
           "#FFA15A",
           "#19d3f3",
           "#FF6692",
           "#B6E880",
           "#FF97FF",
           "#FECB52"
          ],
          "font": {
           "color": "#2a3f5f"
          },
          "geo": {
           "bgcolor": "white",
           "lakecolor": "white",
           "landcolor": "#E5ECF6",
           "showlakes": true,
           "showland": true,
           "subunitcolor": "white"
          },
          "hoverlabel": {
           "align": "left"
          },
          "hovermode": "closest",
          "mapbox": {
           "style": "light"
          },
          "paper_bgcolor": "white",
          "plot_bgcolor": "#E5ECF6",
          "polar": {
           "angularaxis": {
            "gridcolor": "white",
            "linecolor": "white",
            "ticks": ""
           },
           "bgcolor": "#E5ECF6",
           "radialaxis": {
            "gridcolor": "white",
            "linecolor": "white",
            "ticks": ""
           }
          },
          "scene": {
           "xaxis": {
            "backgroundcolor": "#E5ECF6",
            "gridcolor": "white",
            "gridwidth": 2,
            "linecolor": "white",
            "showbackground": true,
            "ticks": "",
            "zerolinecolor": "white"
           },
           "yaxis": {
            "backgroundcolor": "#E5ECF6",
            "gridcolor": "white",
            "gridwidth": 2,
            "linecolor": "white",
            "showbackground": true,
            "ticks": "",
            "zerolinecolor": "white"
           },
           "zaxis": {
            "backgroundcolor": "#E5ECF6",
            "gridcolor": "white",
            "gridwidth": 2,
            "linecolor": "white",
            "showbackground": true,
            "ticks": "",
            "zerolinecolor": "white"
           }
          },
          "shapedefaults": {
           "line": {
            "color": "#2a3f5f"
           }
          },
          "ternary": {
           "aaxis": {
            "gridcolor": "white",
            "linecolor": "white",
            "ticks": ""
           },
           "baxis": {
            "gridcolor": "white",
            "linecolor": "white",
            "ticks": ""
           },
           "bgcolor": "#E5ECF6",
           "caxis": {
            "gridcolor": "white",
            "linecolor": "white",
            "ticks": ""
           }
          },
          "title": {
           "x": 0.05
          },
          "xaxis": {
           "automargin": true,
           "gridcolor": "white",
           "linecolor": "white",
           "ticks": "",
           "title": {
            "standoff": 15
           },
           "zerolinecolor": "white",
           "zerolinewidth": 2
          },
          "yaxis": {
           "automargin": true,
           "gridcolor": "white",
           "linecolor": "white",
           "ticks": "",
           "title": {
            "standoff": 15
           },
           "zerolinecolor": "white",
           "zerolinewidth": 2
          }
         }
        },
        "xaxis": {
         "anchor": "y",
         "domain": [
          0,
          1
         ],
         "title": {
          "text": "Sex"
         }
        },
        "yaxis": {
         "anchor": "x",
         "domain": [
          0,
          1
         ],
         "title": {
          "text": "Pclass"
         }
        }
       }
      },
      "text/html": [
       "<div>                            <div id=\"9443cfbd-4a92-4ba4-acd2-9e5577e1f52f\" class=\"plotly-graph-div\" style=\"height:525px; width:100%;\"></div>            <script type=\"text/javascript\">                require([\"plotly\"], function(Plotly) {                    window.PLOTLYENV=window.PLOTLYENV || {};                                    if (document.getElementById(\"9443cfbd-4a92-4ba4-acd2-9e5577e1f52f\")) {                    Plotly.newPlot(                        \"9443cfbd-4a92-4ba4-acd2-9e5577e1f52f\",                        [{\"alignmentgroup\": \"True\", \"hovertemplate\": \"Sex=%{x}<br>Pclass=%{y}<br>Survived=%{marker.color}<extra></extra>\", \"legendgroup\": \"\", \"marker\": {\"color\": [81, 233, 468, 109], \"coloraxis\": \"coloraxis\"}, \"name\": \"\", \"offsetgroup\": \"\", \"orientation\": \"v\", \"showlegend\": false, \"textposition\": \"auto\", \"type\": \"bar\", \"x\": [0, 0, 1, 1], \"xaxis\": \"x\", \"y\": [0, 1, 0, 1], \"yaxis\": \"y\"}],                        {\"barmode\": \"group\", \"coloraxis\": {\"colorbar\": {\"title\": {\"text\": \"Survived\"}}, \"colorscale\": [[0.0, \"#0d0887\"], [0.1111111111111111, \"#46039f\"], [0.2222222222222222, \"#7201a8\"], [0.3333333333333333, \"#9c179e\"], [0.4444444444444444, \"#bd3786\"], [0.5555555555555556, \"#d8576b\"], [0.6666666666666666, \"#ed7953\"], [0.7777777777777778, \"#fb9f3a\"], [0.8888888888888888, \"#fdca26\"], [1.0, \"#f0f921\"]]}, \"legend\": {\"tracegroupgap\": 0}, \"margin\": {\"t\": 60}, \"template\": {\"data\": {\"bar\": [{\"error_x\": {\"color\": \"#2a3f5f\"}, \"error_y\": {\"color\": \"#2a3f5f\"}, \"marker\": {\"line\": {\"color\": \"#E5ECF6\", \"width\": 0.5}}, \"type\": \"bar\"}], \"barpolar\": [{\"marker\": {\"line\": {\"color\": \"#E5ECF6\", \"width\": 0.5}}, \"type\": \"barpolar\"}], \"carpet\": [{\"aaxis\": {\"endlinecolor\": \"#2a3f5f\", \"gridcolor\": \"white\", \"linecolor\": \"white\", \"minorgridcolor\": \"white\", \"startlinecolor\": \"#2a3f5f\"}, \"baxis\": {\"endlinecolor\": \"#2a3f5f\", \"gridcolor\": \"white\", \"linecolor\": \"white\", \"minorgridcolor\": \"white\", \"startlinecolor\": \"#2a3f5f\"}, \"type\": \"carpet\"}], \"choropleth\": [{\"colorbar\": {\"outlinewidth\": 0, \"ticks\": \"\"}, \"type\": \"choropleth\"}], \"contour\": [{\"colorbar\": {\"outlinewidth\": 0, \"ticks\": \"\"}, \"colorscale\": [[0.0, \"#0d0887\"], [0.1111111111111111, \"#46039f\"], [0.2222222222222222, \"#7201a8\"], [0.3333333333333333, \"#9c179e\"], [0.4444444444444444, \"#bd3786\"], [0.5555555555555556, \"#d8576b\"], [0.6666666666666666, \"#ed7953\"], [0.7777777777777778, \"#fb9f3a\"], [0.8888888888888888, \"#fdca26\"], [1.0, \"#f0f921\"]], \"type\": \"contour\"}], \"contourcarpet\": [{\"colorbar\": {\"outlinewidth\": 0, \"ticks\": \"\"}, \"type\": \"contourcarpet\"}], \"heatmap\": [{\"colorbar\": {\"outlinewidth\": 0, \"ticks\": \"\"}, \"colorscale\": [[0.0, \"#0d0887\"], [0.1111111111111111, \"#46039f\"], [0.2222222222222222, \"#7201a8\"], [0.3333333333333333, \"#9c179e\"], [0.4444444444444444, \"#bd3786\"], [0.5555555555555556, \"#d8576b\"], [0.6666666666666666, \"#ed7953\"], [0.7777777777777778, \"#fb9f3a\"], [0.8888888888888888, \"#fdca26\"], [1.0, \"#f0f921\"]], \"type\": \"heatmap\"}], \"heatmapgl\": [{\"colorbar\": {\"outlinewidth\": 0, \"ticks\": \"\"}, \"colorscale\": [[0.0, \"#0d0887\"], [0.1111111111111111, \"#46039f\"], [0.2222222222222222, \"#7201a8\"], [0.3333333333333333, \"#9c179e\"], [0.4444444444444444, \"#bd3786\"], [0.5555555555555556, \"#d8576b\"], [0.6666666666666666, \"#ed7953\"], [0.7777777777777778, \"#fb9f3a\"], [0.8888888888888888, \"#fdca26\"], [1.0, \"#f0f921\"]], \"type\": \"heatmapgl\"}], \"histogram\": [{\"marker\": {\"colorbar\": {\"outlinewidth\": 0, \"ticks\": \"\"}}, \"type\": \"histogram\"}], \"histogram2d\": [{\"colorbar\": {\"outlinewidth\": 0, \"ticks\": \"\"}, \"colorscale\": [[0.0, \"#0d0887\"], [0.1111111111111111, \"#46039f\"], [0.2222222222222222, \"#7201a8\"], [0.3333333333333333, \"#9c179e\"], [0.4444444444444444, \"#bd3786\"], [0.5555555555555556, \"#d8576b\"], [0.6666666666666666, \"#ed7953\"], [0.7777777777777778, \"#fb9f3a\"], [0.8888888888888888, \"#fdca26\"], [1.0, \"#f0f921\"]], \"type\": \"histogram2d\"}], \"histogram2dcontour\": [{\"colorbar\": {\"outlinewidth\": 0, \"ticks\": \"\"}, \"colorscale\": [[0.0, \"#0d0887\"], [0.1111111111111111, \"#46039f\"], [0.2222222222222222, \"#7201a8\"], [0.3333333333333333, \"#9c179e\"], [0.4444444444444444, \"#bd3786\"], [0.5555555555555556, \"#d8576b\"], [0.6666666666666666, \"#ed7953\"], [0.7777777777777778, \"#fb9f3a\"], [0.8888888888888888, \"#fdca26\"], [1.0, \"#f0f921\"]], \"type\": \"histogram2dcontour\"}], \"mesh3d\": [{\"colorbar\": {\"outlinewidth\": 0, \"ticks\": \"\"}, \"type\": \"mesh3d\"}], \"parcoords\": [{\"line\": {\"colorbar\": {\"outlinewidth\": 0, \"ticks\": \"\"}}, \"type\": \"parcoords\"}], \"pie\": [{\"automargin\": true, \"type\": \"pie\"}], \"scatter\": [{\"marker\": {\"colorbar\": {\"outlinewidth\": 0, \"ticks\": \"\"}}, \"type\": \"scatter\"}], \"scatter3d\": [{\"line\": {\"colorbar\": {\"outlinewidth\": 0, \"ticks\": \"\"}}, \"marker\": {\"colorbar\": {\"outlinewidth\": 0, \"ticks\": \"\"}}, \"type\": \"scatter3d\"}], \"scattercarpet\": [{\"marker\": {\"colorbar\": {\"outlinewidth\": 0, \"ticks\": \"\"}}, \"type\": \"scattercarpet\"}], \"scattergeo\": [{\"marker\": {\"colorbar\": {\"outlinewidth\": 0, \"ticks\": \"\"}}, \"type\": \"scattergeo\"}], \"scattergl\": [{\"marker\": {\"colorbar\": {\"outlinewidth\": 0, \"ticks\": \"\"}}, \"type\": \"scattergl\"}], \"scattermapbox\": [{\"marker\": {\"colorbar\": {\"outlinewidth\": 0, \"ticks\": \"\"}}, \"type\": \"scattermapbox\"}], \"scatterpolar\": [{\"marker\": {\"colorbar\": {\"outlinewidth\": 0, \"ticks\": \"\"}}, \"type\": \"scatterpolar\"}], \"scatterpolargl\": [{\"marker\": {\"colorbar\": {\"outlinewidth\": 0, \"ticks\": \"\"}}, \"type\": \"scatterpolargl\"}], \"scatterternary\": [{\"marker\": {\"colorbar\": {\"outlinewidth\": 0, \"ticks\": \"\"}}, \"type\": \"scatterternary\"}], \"surface\": [{\"colorbar\": {\"outlinewidth\": 0, \"ticks\": \"\"}, \"colorscale\": [[0.0, \"#0d0887\"], [0.1111111111111111, \"#46039f\"], [0.2222222222222222, \"#7201a8\"], [0.3333333333333333, \"#9c179e\"], [0.4444444444444444, \"#bd3786\"], [0.5555555555555556, \"#d8576b\"], [0.6666666666666666, \"#ed7953\"], [0.7777777777777778, \"#fb9f3a\"], [0.8888888888888888, \"#fdca26\"], [1.0, \"#f0f921\"]], \"type\": \"surface\"}], \"table\": [{\"cells\": {\"fill\": {\"color\": \"#EBF0F8\"}, \"line\": {\"color\": \"white\"}}, \"header\": {\"fill\": {\"color\": \"#C8D4E3\"}, \"line\": {\"color\": \"white\"}}, \"type\": \"table\"}]}, \"layout\": {\"annotationdefaults\": {\"arrowcolor\": \"#2a3f5f\", \"arrowhead\": 0, \"arrowwidth\": 1}, \"coloraxis\": {\"colorbar\": {\"outlinewidth\": 0, \"ticks\": \"\"}}, \"colorscale\": {\"diverging\": [[0, \"#8e0152\"], [0.1, \"#c51b7d\"], [0.2, \"#de77ae\"], [0.3, \"#f1b6da\"], [0.4, \"#fde0ef\"], [0.5, \"#f7f7f7\"], [0.6, \"#e6f5d0\"], [0.7, \"#b8e186\"], [0.8, \"#7fbc41\"], [0.9, \"#4d9221\"], [1, \"#276419\"]], \"sequential\": [[0.0, \"#0d0887\"], [0.1111111111111111, \"#46039f\"], [0.2222222222222222, \"#7201a8\"], [0.3333333333333333, \"#9c179e\"], [0.4444444444444444, \"#bd3786\"], [0.5555555555555556, \"#d8576b\"], [0.6666666666666666, \"#ed7953\"], [0.7777777777777778, \"#fb9f3a\"], [0.8888888888888888, \"#fdca26\"], [1.0, \"#f0f921\"]], \"sequentialminus\": [[0.0, \"#0d0887\"], [0.1111111111111111, \"#46039f\"], [0.2222222222222222, \"#7201a8\"], [0.3333333333333333, \"#9c179e\"], [0.4444444444444444, \"#bd3786\"], [0.5555555555555556, \"#d8576b\"], [0.6666666666666666, \"#ed7953\"], [0.7777777777777778, \"#fb9f3a\"], [0.8888888888888888, \"#fdca26\"], [1.0, \"#f0f921\"]]}, \"colorway\": [\"#636efa\", \"#EF553B\", \"#00cc96\", \"#ab63fa\", \"#FFA15A\", \"#19d3f3\", \"#FF6692\", \"#B6E880\", \"#FF97FF\", \"#FECB52\"], \"font\": {\"color\": \"#2a3f5f\"}, \"geo\": {\"bgcolor\": \"white\", \"lakecolor\": \"white\", \"landcolor\": \"#E5ECF6\", \"showlakes\": true, \"showland\": true, \"subunitcolor\": \"white\"}, \"hoverlabel\": {\"align\": \"left\"}, \"hovermode\": \"closest\", \"mapbox\": {\"style\": \"light\"}, \"paper_bgcolor\": \"white\", \"plot_bgcolor\": \"#E5ECF6\", \"polar\": {\"angularaxis\": {\"gridcolor\": \"white\", \"linecolor\": \"white\", \"ticks\": \"\"}, \"bgcolor\": \"#E5ECF6\", \"radialaxis\": {\"gridcolor\": \"white\", \"linecolor\": \"white\", \"ticks\": \"\"}}, \"scene\": {\"xaxis\": {\"backgroundcolor\": \"#E5ECF6\", \"gridcolor\": \"white\", \"gridwidth\": 2, \"linecolor\": \"white\", \"showbackground\": true, \"ticks\": \"\", \"zerolinecolor\": \"white\"}, \"yaxis\": {\"backgroundcolor\": \"#E5ECF6\", \"gridcolor\": \"white\", \"gridwidth\": 2, \"linecolor\": \"white\", \"showbackground\": true, \"ticks\": \"\", \"zerolinecolor\": \"white\"}, \"zaxis\": {\"backgroundcolor\": \"#E5ECF6\", \"gridcolor\": \"white\", \"gridwidth\": 2, \"linecolor\": \"white\", \"showbackground\": true, \"ticks\": \"\", \"zerolinecolor\": \"white\"}}, \"shapedefaults\": {\"line\": {\"color\": \"#2a3f5f\"}}, \"ternary\": {\"aaxis\": {\"gridcolor\": \"white\", \"linecolor\": \"white\", \"ticks\": \"\"}, \"baxis\": {\"gridcolor\": \"white\", \"linecolor\": \"white\", \"ticks\": \"\"}, \"bgcolor\": \"#E5ECF6\", \"caxis\": {\"gridcolor\": \"white\", \"linecolor\": \"white\", \"ticks\": \"\"}}, \"title\": {\"x\": 0.05}, \"xaxis\": {\"automargin\": true, \"gridcolor\": \"white\", \"linecolor\": \"white\", \"ticks\": \"\", \"title\": {\"standoff\": 15}, \"zerolinecolor\": \"white\", \"zerolinewidth\": 2}, \"yaxis\": {\"automargin\": true, \"gridcolor\": \"white\", \"linecolor\": \"white\", \"ticks\": \"\", \"title\": {\"standoff\": 15}, \"zerolinecolor\": \"white\", \"zerolinewidth\": 2}}}, \"xaxis\": {\"anchor\": \"y\", \"domain\": [0.0, 1.0], \"title\": {\"text\": \"Sex\"}}, \"yaxis\": {\"anchor\": \"x\", \"domain\": [0.0, 1.0], \"title\": {\"text\": \"Pclass\"}}},                        {\"responsive\": true}                    ).then(function(){\n",
       "                            \n",
       "var gd = document.getElementById('9443cfbd-4a92-4ba4-acd2-9e5577e1f52f');\n",
       "var x = new MutationObserver(function (mutations, observer) {{\n",
       "        var display = window.getComputedStyle(gd).display;\n",
       "        if (!display || display === 'none') {{\n",
       "            console.log([gd, 'removed!']);\n",
       "            Plotly.purge(gd);\n",
       "            observer.disconnect();\n",
       "        }}\n",
       "}});\n",
       "\n",
       "// Listen for the removal of the full notebook cells\n",
       "var notebookContainer = gd.closest('#notebook-container');\n",
       "if (notebookContainer) {{\n",
       "    x.observe(notebookContainer, {childList: true});\n",
       "}}\n",
       "\n",
       "// Listen for the clearing of the current output cell\n",
       "var outputEl = gd.closest('.output');\n",
       "if (outputEl) {{\n",
       "    x.observe(outputEl, {childList: true});\n",
       "}}\n",
       "\n",
       "                        })                };                });            </script>        </div>"
      ]
     },
     "metadata": {},
     "output_type": "display_data"
    }
   ],
   "source": [
    "grouped_count = titanic[['Sex','Pclass','Survived']].groupby(['Sex','Survived']).count().reset_index()\n",
    "grouped_count.columns = [\"Sex\",\"Pclass\",\"Survived\"]\n",
    "px.bar(grouped_count, x = \"Sex\", y = \"Pclass\", color = \"Survived\", barmode = \"group\", labels = dict(Name = \"Count\"))"
   ]
  },
  {
   "cell_type": "code",
   "execution_count": null,
   "metadata": {},
   "outputs": [],
   "source": []
  },
  {
   "cell_type": "raw",
   "metadata": {},
   "source": [
    "6. Using a scatter plot, plot the ages to the fare paid by the each passenger based on their gender"
   ]
  },
  {
   "cell_type": "code",
   "execution_count": 290,
   "metadata": {},
   "outputs": [
    {
     "data": {
      "application/vnd.plotly.v1+json": {
       "config": {
        "plotlyServerURL": "https://plot.ly"
       },
       "data": [
        {
         "marker": {
          "color": "rgb(255,0,0)",
          "size": 10
         },
         "mode": "markers",
         "type": "scatter3d",
         "x": [
          22,
          38,
          26,
          35,
          35,
          "29",
          54,
          2,
          27,
          14,
          4,
          58,
          20,
          39,
          14,
          55,
          2,
          "29",
          31,
          "29",
          35,
          34,
          15,
          28,
          8,
          38,
          "29",
          19,
          "29",
          "29",
          40,
          "29",
          "29",
          66,
          28,
          42,
          "29",
          21,
          18,
          14,
          40,
          27,
          "29",
          3,
          19,
          "29",
          "29",
          "29",
          "29",
          18,
          7,
          21,
          49,
          29,
          65,
          "29",
          21,
          28.5,
          5,
          11,
          22,
          38,
          45,
          4,
          "29",
          "29",
          29,
          19,
          17,
          26,
          32,
          16,
          21,
          26,
          32,
          25,
          "29",
          "29",
          0.83,
          30,
          22,
          29,
          "29",
          28,
          17,
          33,
          16,
          "29",
          23,
          24,
          29,
          20,
          46,
          26,
          59,
          "29",
          71,
          23,
          34,
          34,
          28,
          "29",
          21,
          33,
          37,
          28,
          21,
          "29",
          38,
          "29",
          47,
          14.5,
          22,
          20,
          17,
          21,
          70.5,
          29,
          24,
          2,
          21,
          "29",
          32.5,
          32.5,
          54,
          12,
          "29",
          24,
          "29",
          45,
          33,
          20,
          47,
          29,
          25,
          23,
          19,
          37,
          16,
          24,
          "29",
          22,
          24,
          19,
          18,
          19,
          27,
          9,
          36.5,
          42,
          51,
          22,
          55.5,
          40.5,
          "29",
          51,
          16,
          30,
          "29",
          "29",
          44,
          40,
          26,
          17,
          1,
          9,
          "29",
          45,
          "29",
          28,
          61,
          4,
          1,
          21,
          56,
          18,
          "29",
          50,
          30,
          36,
          "29",
          "29",
          9,
          1,
          4,
          "29",
          "29",
          45,
          40,
          36,
          32,
          19,
          19,
          3,
          44,
          58,
          "29",
          42,
          "29",
          24,
          28,
          "29",
          34,
          45.5,
          18,
          2,
          32,
          26,
          16,
          40,
          24,
          35,
          22,
          30,
          "29",
          31,
          27,
          42,
          32,
          30,
          16,
          27,
          51,
          "29",
          38,
          22,
          19,
          20.5,
          18,
          "29",
          35,
          29,
          59,
          5,
          24,
          "29",
          44,
          8,
          19,
          33,
          "29",
          "29",
          29,
          22,
          30,
          44,
          25,
          24,
          37,
          54,
          "29",
          29,
          62,
          30,
          41,
          29,
          "29",
          30,
          35,
          50,
          "29",
          3,
          52,
          40,
          "29",
          36,
          16,
          25,
          58,
          35,
          "29",
          25,
          41,
          37,
          "29",
          63,
          45,
          "29",
          7,
          35,
          65,
          28,
          16,
          19,
          "29",
          33,
          30,
          22,
          42,
          22,
          26,
          19,
          36,
          24,
          24,
          "29",
          23.5,
          2,
          "29",
          50,
          "29",
          "29",
          19,
          "29",
          "29",
          0.92,
          "29",
          17,
          30,
          30,
          24,
          18,
          26,
          28,
          43,
          26,
          24,
          54,
          31,
          40,
          22,
          27,
          30,
          22,
          "29",
          36,
          61,
          36,
          31,
          16,
          "29",
          45.5,
          38,
          16,
          "29",
          "29",
          29,
          41,
          45,
          45,
          2,
          24,
          28,
          25,
          36,
          24,
          40,
          "29",
          3,
          42,
          23,
          "29",
          15,
          25,
          "29",
          28,
          22,
          38,
          "29",
          "29",
          40,
          29,
          45,
          35,
          "29",
          30,
          60,
          "29",
          "29",
          24,
          25,
          18,
          19,
          22,
          3,
          "29",
          22,
          27,
          20,
          19,
          42,
          1,
          32,
          35,
          "29",
          18,
          1,
          36,
          "29",
          17,
          36,
          21,
          28,
          23,
          24,
          22,
          31,
          46,
          23,
          28,
          39,
          26,
          21,
          28,
          20,
          34,
          51,
          3,
          21,
          "29",
          "29",
          "29",
          33,
          "29",
          44,
          "29",
          34,
          18,
          30,
          10,
          "29",
          21,
          29,
          28,
          18,
          "29",
          28,
          19,
          "29",
          32,
          28,
          "29",
          42,
          17,
          50,
          14,
          21,
          24,
          64,
          31,
          45,
          20,
          25,
          28,
          "29",
          4,
          13,
          34,
          5,
          52,
          36,
          "29",
          30,
          49,
          "29",
          29,
          65,
          "29",
          50,
          "29",
          48,
          34,
          47,
          48,
          "29",
          38,
          "29",
          56,
          "29",
          0.75,
          "29",
          38,
          33,
          23,
          22,
          "29",
          34,
          29,
          22,
          2,
          9,
          "29",
          50,
          63,
          25,
          "29",
          35,
          58,
          30,
          9,
          "29",
          21,
          55,
          71,
          21,
          "29",
          54,
          "29",
          25,
          24,
          17,
          21,
          "29",
          37,
          16,
          18,
          33,
          "29",
          28,
          26,
          29,
          "29",
          36,
          54,
          24,
          47,
          34,
          "29",
          36,
          32,
          30,
          22,
          "29",
          44,
          "29",
          40.5,
          50,
          "29",
          39,
          23,
          2,
          "29",
          17,
          "29",
          30,
          7,
          45,
          30,
          "29",
          22,
          36,
          9,
          11,
          32,
          50,
          64,
          19,
          "29",
          33,
          8,
          17,
          27,
          "29",
          22,
          22,
          62,
          48,
          "29",
          39,
          36,
          "29",
          40,
          28,
          "29",
          "29",
          24,
          19,
          29,
          "29",
          32,
          62,
          53,
          36,
          "29",
          16,
          19,
          34,
          39,
          "29",
          32,
          25,
          39,
          54,
          36,
          "29",
          18,
          47,
          60,
          22,
          "29",
          35,
          52,
          47,
          "29",
          37,
          36,
          "29",
          49,
          "29",
          49,
          24,
          "29",
          "29",
          44,
          35,
          36,
          30,
          27,
          22,
          40,
          39,
          "29",
          "29",
          "29",
          35,
          24,
          34,
          26,
          4,
          26,
          27,
          42,
          20,
          21,
          21,
          61,
          57,
          21,
          26,
          "29",
          80,
          51,
          32,
          "29",
          9,
          28,
          32,
          31,
          41,
          "29",
          20,
          24,
          2,
          "29",
          0.75,
          48,
          19,
          56,
          "29",
          23,
          "29",
          18,
          21,
          "29",
          18,
          24,
          "29",
          32,
          23,
          58,
          50,
          40,
          47,
          36,
          20,
          32,
          25,
          "29",
          43,
          "29",
          40,
          31,
          70,
          31,
          "29",
          18,
          24.5,
          18,
          43,
          36,
          "29",
          27,
          20,
          14,
          60,
          25,
          14,
          19,
          18,
          15,
          31,
          4,
          "29",
          25,
          60,
          52,
          44,
          "29",
          49,
          42,
          18,
          35,
          18,
          25,
          26,
          39,
          45,
          42,
          22,
          "29",
          24,
          "29",
          48,
          29,
          52,
          19,
          38,
          27,
          "29",
          33,
          6,
          17,
          34,
          50,
          27,
          20,
          30,
          "29",
          25,
          25,
          29,
          11,
          "29",
          23,
          23,
          28.5,
          48,
          35,
          "29",
          "29",
          "29",
          36,
          21,
          24,
          31,
          70,
          16,
          30,
          19,
          31,
          4,
          6,
          33,
          23,
          48,
          0.67,
          28,
          18,
          34,
          33,
          "29",
          41,
          20,
          36,
          16,
          51,
          "29",
          30.5,
          "29",
          32,
          24,
          48,
          57,
          "29",
          54,
          18,
          "29",
          5,
          "29",
          43,
          13,
          17,
          29,
          "29",
          25,
          25,
          18,
          8,
          1,
          46,
          "29",
          16,
          "29",
          "29",
          25,
          39,
          49,
          31,
          30,
          30,
          34,
          31,
          11,
          0.42,
          27,
          31,
          39,
          18,
          39,
          33,
          26,
          39,
          35,
          6,
          30.5,
          "29",
          23,
          31,
          43,
          10,
          52,
          27,
          38,
          27,
          2,
          "29",
          "29",
          1,
          "29",
          62,
          15,
          0.83,
          "29",
          23,
          18,
          39,
          21,
          "29",
          32,
          "29",
          20,
          16,
          30,
          34.5,
          17,
          42,
          "29",
          35,
          28,
          "29",
          4,
          74,
          9,
          16,
          44,
          18,
          45,
          51,
          24,
          "29",
          41,
          21,
          48,
          "29",
          24,
          42,
          27,
          31,
          "29",
          4,
          26,
          47,
          33,
          47,
          28,
          15,
          20,
          19,
          "29",
          56,
          25,
          33,
          22,
          28,
          25,
          39,
          27,
          19,
          "29",
          26,
          32
         ],
         "y": [
          7.25,
          71.2833,
          7.925,
          53.1,
          8.05,
          8.4583,
          51.8625,
          21.075,
          11.1333,
          30.0708,
          16.7,
          26.55,
          8.05,
          31.275,
          7.8542,
          16,
          29.125,
          13,
          18,
          7.225,
          26,
          13,
          8.0292,
          35.5,
          21.075,
          31.3875,
          7.225,
          263,
          7.8792,
          7.8958,
          27.7208,
          146.5208,
          7.75,
          10.5,
          82.1708,
          52,
          7.2292,
          8.05,
          18,
          11.2417,
          9.475,
          21,
          7.8958,
          41.5792,
          7.8792,
          8.05,
          15.5,
          7.75,
          21.6792,
          17.8,
          39.6875,
          7.8,
          76.7292,
          26,
          61.9792,
          35.5,
          10.5,
          7.2292,
          27.75,
          46.9,
          7.2292,
          80,
          83.475,
          27.9,
          27.7208,
          15.2458,
          10.5,
          8.1583,
          7.925,
          8.6625,
          10.5,
          46.9,
          73.5,
          14.4542,
          56.4958,
          7.65,
          7.8958,
          8.05,
          29,
          12.475,
          9,
          9.5,
          7.7875,
          47.1,
          10.5,
          15.85,
          34.375,
          8.05,
          263,
          8.05,
          8.05,
          7.8542,
          61.175,
          20.575,
          7.25,
          8.05,
          34.6542,
          63.3583,
          23,
          26,
          7.8958,
          7.8958,
          77.2875,
          8.6542,
          7.925,
          7.8958,
          7.65,
          7.775,
          7.8958,
          24.15,
          52,
          14.4542,
          8.05,
          9.825,
          14.4583,
          7.925,
          7.75,
          21,
          247.5208,
          31.275,
          73.5,
          8.05,
          30.0708,
          13,
          77.2875,
          11.2417,
          7.75,
          7.1417,
          22.3583,
          6.975,
          7.8958,
          7.05,
          14.5,
          26,
          13,
          15.0458,
          26.2833,
          53.1,
          9.2167,
          79.2,
          15.2458,
          7.75,
          15.85,
          6.75,
          11.5,
          36.75,
          7.7958,
          34.375,
          26,
          13,
          12.525,
          66.6,
          8.05,
          14.5,
          7.3125,
          61.3792,
          7.7333,
          8.05,
          8.6625,
          69.55,
          16.1,
          15.75,
          7.775,
          8.6625,
          39.6875,
          20.525,
          55,
          27.9,
          25.925,
          56.4958,
          33.5,
          29.125,
          11.1333,
          7.925,
          30.6958,
          7.8542,
          25.4667,
          28.7125,
          13,
          0,
          69.55,
          15.05,
          31.3875,
          39,
          22.025,
          50,
          15.5,
          26.55,
          15.5,
          7.8958,
          13,
          13,
          7.8542,
          26,
          27.7208,
          146.5208,
          7.75,
          8.4042,
          7.75,
          13,
          9.5,
          69.55,
          6.4958,
          7.225,
          8.05,
          10.4625,
          15.85,
          18.7875,
          7.75,
          31,
          7.05,
          21,
          7.25,
          13,
          7.75,
          113.275,
          7.925,
          27,
          76.2917,
          10.5,
          8.05,
          13,
          8.05,
          7.8958,
          90,
          9.35,
          10.5,
          7.25,
          13,
          25.4667,
          83.475,
          7.775,
          13.5,
          31.3875,
          10.5,
          7.55,
          26,
          26.25,
          10.5,
          12.275,
          14.4542,
          15.5,
          10.5,
          7.125,
          7.225,
          90,
          7.775,
          14.5,
          52.5542,
          26,
          7.25,
          10.4625,
          26.55,
          16.1,
          20.2125,
          15.2458,
          79.2,
          86.5,
          512.3292,
          26,
          7.75,
          31.3875,
          79.65,
          0,
          7.75,
          10.5,
          39.6875,
          7.775,
          153.4625,
          135.6333,
          31,
          0,
          19.5,
          29.7,
          7.75,
          77.9583,
          7.75,
          0,
          29.125,
          20.25,
          7.75,
          7.8542,
          9.5,
          8.05,
          26,
          8.6625,
          9.5,
          7.8958,
          13,
          7.75,
          78.85,
          91.0792,
          12.875,
          8.85,
          7.8958,
          27.7208,
          7.2292,
          151.55,
          30.5,
          247.5208,
          7.75,
          23.25,
          0,
          12.35,
          8.05,
          151.55,
          110.8833,
          108.9,
          24,
          56.9292,
          83.1583,
          262.375,
          26,
          7.8958,
          26.25,
          7.8542,
          26,
          14,
          164.8667,
          134.5,
          7.25,
          7.8958,
          12.35,
          29,
          69.55,
          135.6333,
          6.2375,
          13,
          20.525,
          57.9792,
          23.25,
          28.5,
          153.4625,
          18,
          133.65,
          7.8958,
          66.6,
          134.5,
          8.05,
          35.5,
          26,
          263,
          13,
          13,
          13,
          13,
          13,
          16.1,
          15.9,
          8.6625,
          9.225,
          35,
          7.2292,
          17.8,
          7.225,
          9.5,
          55,
          13,
          7.8792,
          7.8792,
          27.9,
          27.7208,
          14.4542,
          7.05,
          15.5,
          7.25,
          75.25,
          7.2292,
          7.75,
          69.3,
          55.4417,
          6.4958,
          8.05,
          135.6333,
          21.075,
          82.1708,
          7.25,
          211.5,
          4.0125,
          7.775,
          227.525,
          15.7417,
          7.925,
          52,
          7.8958,
          73.5,
          46.9,
          13,
          7.7292,
          12,
          120,
          7.7958,
          7.925,
          113.275,
          16.7,
          7.7958,
          7.8542,
          26,
          10.5,
          12.65,
          7.925,
          8.05,
          9.825,
          15.85,
          8.6625,
          21,
          7.75,
          18.75,
          7.775,
          25.4667,
          7.8958,
          6.8583,
          90,
          0,
          7.925,
          8.05,
          32.5,
          13,
          13,
          24.15,
          7.8958,
          7.7333,
          7.875,
          14.4,
          20.2125,
          7.25,
          26,
          26,
          7.75,
          8.05,
          26.55,
          16.1,
          26,
          7.125,
          55.9,
          120,
          34.375,
          18.75,
          263,
          10.5,
          26.25,
          9.5,
          7.775,
          13,
          8.1125,
          81.8583,
          19.5,
          26.55,
          19.2583,
          30.5,
          27.75,
          19.9667,
          27.75,
          89.1042,
          8.05,
          7.8958,
          26.55,
          51.8625,
          10.5,
          7.75,
          26.55,
          8.05,
          38.5,
          13,
          8.05,
          7.05,
          0,
          26.55,
          7.725,
          19.2583,
          7.25,
          8.6625,
          27.75,
          13.7917,
          9.8375,
          52,
          21,
          7.0458,
          7.5208,
          12.2875,
          46.9,
          0,
          8.05,
          9.5875,
          91.0792,
          25.4667,
          90,
          29.7,
          8.05,
          15.9,
          19.9667,
          7.25,
          30.5,
          49.5042,
          8.05,
          14.4583,
          78.2667,
          15.1,
          151.55,
          7.7958,
          8.6625,
          7.75,
          7.6292,
          9.5875,
          86.5,
          108.9,
          26,
          26.55,
          22.525,
          56.4958,
          7.75,
          8.05,
          26.2875,
          59.4,
          7.4958,
          34.0208,
          10.5,
          24.15,
          26,
          7.8958,
          93.5,
          7.8958,
          7.225,
          57.9792,
          7.2292,
          7.75,
          10.5,
          221.7792,
          7.925,
          11.5,
          26,
          7.2292,
          7.2292,
          22.3583,
          8.6625,
          26.25,
          26.55,
          106.425,
          14.5,
          49.5,
          71,
          31.275,
          31.275,
          26,
          106.425,
          26,
          26,
          13.8625,
          20.525,
          36.75,
          110.8833,
          26,
          7.8292,
          7.225,
          7.775,
          26.55,
          39.6,
          227.525,
          79.65,
          17.4,
          7.75,
          7.8958,
          13.5,
          8.05,
          8.05,
          24.15,
          7.8958,
          21.075,
          7.2292,
          7.8542,
          10.5,
          51.4792,
          26.3875,
          7.75,
          8.05,
          14.5,
          13,
          55.9,
          14.4583,
          7.925,
          30,
          110.8833,
          26,
          40.125,
          8.7125,
          79.65,
          15,
          79.2,
          8.05,
          8.05,
          7.125,
          78.2667,
          7.25,
          7.75,
          26,
          24.15,
          33,
          0,
          7.225,
          56.9292,
          27,
          7.8958,
          42.4,
          8.05,
          26.55,
          15.55,
          7.8958,
          30.5,
          41.5792,
          153.4625,
          31.275,
          7.05,
          15.5,
          7.75,
          8.05,
          65,
          14.4,
          16.1,
          39,
          10.5,
          14.4542,
          52.5542,
          15.7417,
          7.8542,
          16.1,
          32.3208,
          12.35,
          77.9583,
          7.8958,
          7.7333,
          30,
          7.0542,
          30.5,
          0,
          27.9,
          13,
          7.925,
          26.25,
          39.6875,
          16.1,
          7.8542,
          69.3,
          27.9,
          56.4958,
          19.2583,
          76.7292,
          7.8958,
          35.5,
          7.55,
          7.55,
          7.8958,
          23,
          8.4333,
          7.8292,
          6.75,
          73.5,
          7.8958,
          15.5,
          13,
          113.275,
          133.65,
          7.225,
          25.5875,
          7.4958,
          7.925,
          73.5,
          13,
          7.775,
          8.05,
          52,
          39,
          52,
          10.5,
          13,
          0,
          7.775,
          8.05,
          9.8417,
          46.9,
          512.3292,
          8.1375,
          76.7292,
          9.225,
          46.9,
          39,
          41.5792,
          39.6875,
          10.1708,
          7.7958,
          211.3375,
          57,
          13.4167,
          56.4958,
          7.225,
          26.55,
          13.5,
          8.05,
          7.7333,
          110.8833,
          7.65,
          227.525,
          26.2875,
          14.4542,
          7.7417,
          7.8542,
          26,
          13.5,
          26.2875,
          151.55,
          15.2458,
          49.5042,
          26.55,
          52,
          9.4833,
          13,
          7.65,
          227.525,
          10.5,
          15.5,
          7.775,
          33,
          7.0542,
          13,
          13,
          53.1,
          8.6625,
          21,
          7.7375,
          26,
          7.925,
          211.3375,
          18.7875,
          0,
          13,
          13,
          16.1,
          34.375,
          512.3292,
          7.8958,
          7.8958,
          30,
          78.85,
          262.375,
          16.1,
          7.925,
          71,
          20.25,
          13,
          53.1,
          7.75,
          23,
          12.475,
          9.5,
          7.8958,
          65,
          14.5,
          7.7958,
          11.5,
          8.05,
          86.5,
          14.5,
          7.125,
          7.2292,
          120,
          7.775,
          77.9583,
          39.6,
          7.75,
          24.15,
          8.3625,
          9.5,
          7.8542,
          10.5,
          7.225,
          23,
          7.75,
          7.75,
          12.475,
          7.7375,
          211.3375,
          7.2292,
          57,
          30,
          23.45,
          7.05,
          7.25,
          7.4958,
          29.125,
          20.575,
          79.2,
          7.75,
          26,
          69.55,
          30.6958,
          7.8958,
          13,
          25.9292,
          8.6833,
          7.2292,
          24.15,
          13,
          26.25,
          120,
          8.5167,
          6.975,
          7.775,
          0,
          7.775,
          13,
          53.1,
          7.8875,
          24.15,
          10.5,
          31.275,
          8.05,
          0,
          7.925,
          37.0042,
          6.45,
          27.9,
          93.5,
          8.6625,
          0,
          12.475,
          39.6875,
          6.95,
          56.4958,
          37.0042,
          7.75,
          80,
          14.4542,
          18.75,
          7.2292,
          7.8542,
          8.3,
          83.1583,
          8.6625,
          8.05,
          56.4958,
          29.7,
          7.925,
          10.5,
          31,
          6.4375,
          8.6625,
          7.55,
          69.55,
          7.8958,
          33,
          89.1042,
          31.275,
          7.775,
          15.2458,
          39.4,
          26,
          9.35,
          164.8667,
          26.55,
          19.2583,
          7.2292,
          14.1083,
          11.5,
          25.9292,
          69.55,
          13,
          13,
          13.8583,
          50.4958,
          9.5,
          11.1333,
          7.8958,
          52.5542,
          5,
          9,
          24,
          7.225,
          9.8458,
          7.8958,
          7.8958,
          83.1583,
          26,
          7.8958,
          10.5167,
          10.5,
          7.05,
          29.125,
          13,
          30,
          23.45,
          30,
          7.75
         ],
         "z": [
          1,
          0,
          0,
          0,
          1,
          1,
          1,
          1,
          0,
          0,
          0,
          0,
          1,
          1,
          0,
          0,
          1,
          1,
          0,
          0,
          1,
          1,
          0,
          1,
          0,
          0,
          1,
          1,
          0,
          1,
          1,
          0,
          0,
          1,
          1,
          1,
          1,
          1,
          0,
          0,
          0,
          0,
          1,
          0,
          0,
          1,
          1,
          0,
          1,
          0,
          1,
          1,
          0,
          0,
          1,
          1,
          0,
          1,
          0,
          1,
          1,
          0,
          1,
          1,
          1,
          1,
          0,
          1,
          0,
          1,
          1,
          0,
          1,
          1,
          1,
          1,
          1,
          1,
          1,
          0,
          1,
          1,
          0,
          1,
          0,
          0,
          1,
          1,
          0,
          1,
          1,
          1,
          1,
          1,
          1,
          1,
          1,
          1,
          0,
          1,
          0,
          1,
          1,
          1,
          1,
          1,
          0,
          1,
          1,
          0,
          1,
          0,
          1,
          0,
          0,
          1,
          1,
          1,
          1,
          0,
          1,
          1,
          1,
          0,
          1,
          1,
          1,
          1,
          0,
          1,
          1,
          1,
          0,
          0,
          1,
          1,
          0,
          1,
          1,
          1,
          0,
          0,
          0,
          1,
          1,
          1,
          1,
          0,
          1,
          1,
          1,
          0,
          1,
          1,
          1,
          1,
          0,
          1,
          1,
          1,
          1,
          0,
          1,
          1,
          1,
          1,
          0,
          0,
          1,
          1,
          1,
          1,
          0,
          1,
          1,
          1,
          1,
          0,
          1,
          1,
          0,
          1,
          1,
          1,
          0,
          1,
          0,
          1,
          1,
          1,
          0,
          1,
          0,
          1,
          0,
          0,
          1,
          1,
          0,
          0,
          1,
          1,
          1,
          1,
          1,
          0,
          1,
          1,
          0,
          1,
          1,
          0,
          1,
          1,
          1,
          0,
          0,
          1,
          0,
          1,
          1,
          1,
          1,
          1,
          1,
          1,
          1,
          1,
          1,
          0,
          0,
          1,
          1,
          0,
          1,
          0,
          1,
          0,
          1,
          1,
          0,
          0,
          1,
          1,
          1,
          1,
          0,
          0,
          1,
          1,
          1,
          0,
          1,
          1,
          0,
          0,
          0,
          0,
          0,
          0,
          1,
          1,
          1,
          1,
          0,
          1,
          1,
          1,
          0,
          0,
          1,
          1,
          0,
          1,
          0,
          0,
          0,
          1,
          1,
          0,
          1,
          1,
          1,
          1,
          1,
          1,
          1,
          1,
          1,
          0,
          0,
          0,
          1,
          0,
          1,
          1,
          1,
          0,
          1,
          0,
          0,
          1,
          1,
          0,
          1,
          1,
          0,
          0,
          1,
          0,
          0,
          0,
          0,
          1,
          1,
          0,
          0,
          1,
          0,
          0,
          1,
          1,
          0,
          0,
          1,
          0,
          1,
          0,
          0,
          0,
          0,
          1,
          1,
          1,
          0,
          1,
          1,
          0,
          1,
          1,
          1,
          0,
          1,
          1,
          1,
          0,
          0,
          0,
          1,
          1,
          1,
          1,
          1,
          1,
          1,
          1,
          0,
          0,
          0,
          0,
          1,
          1,
          0,
          1,
          1,
          1,
          0,
          0,
          0,
          0,
          1,
          1,
          1,
          1,
          0,
          0,
          0,
          1,
          1,
          1,
          0,
          0,
          1,
          0,
          1,
          1,
          1,
          0,
          1,
          0,
          1,
          1,
          1,
          0,
          0,
          1,
          0,
          1,
          1,
          0,
          1,
          1,
          0,
          1,
          0,
          1,
          1,
          1,
          1,
          0,
          1,
          1,
          0,
          1,
          1,
          0,
          0,
          0,
          1,
          0,
          1,
          1,
          1,
          0,
          1,
          1,
          0,
          0,
          1,
          1,
          1,
          0,
          0,
          1,
          1,
          0,
          0,
          0,
          1,
          1,
          0,
          1,
          1,
          0,
          1,
          1,
          0,
          1,
          0,
          1,
          1,
          1,
          1,
          1,
          1,
          1,
          1,
          0,
          0,
          1,
          1,
          1,
          1,
          1,
          1,
          1,
          1,
          1,
          1,
          0,
          1,
          1,
          0,
          0,
          0,
          1,
          1,
          1,
          1,
          0,
          1,
          1,
          1,
          0,
          1,
          0,
          0,
          1,
          1,
          1,
          1,
          1,
          1,
          1,
          1,
          1,
          0,
          1,
          0,
          1,
          1,
          0,
          0,
          0,
          0,
          1,
          0,
          1,
          1,
          1,
          1,
          1,
          1,
          0,
          1,
          1,
          0,
          1,
          0,
          1,
          0,
          1,
          1,
          0,
          1,
          1,
          0,
          1,
          1,
          1,
          0,
          1,
          1,
          0,
          0,
          0,
          1,
          0,
          1,
          0,
          0,
          0,
          0,
          1,
          1,
          1,
          0,
          1,
          1,
          1,
          1,
          1,
          1,
          1,
          0,
          1,
          0,
          1,
          0,
          0,
          1,
          1,
          1,
          1,
          0,
          1,
          1,
          0,
          1,
          1,
          1,
          0,
          1,
          0,
          1,
          1,
          0,
          0,
          0,
          1,
          0,
          0,
          1,
          1,
          1,
          0,
          1,
          1,
          1,
          1,
          1,
          0,
          1,
          0,
          1,
          1,
          0,
          1,
          1,
          1,
          0,
          1,
          1,
          1,
          1,
          1,
          1,
          1,
          0,
          0,
          0,
          1,
          0,
          1,
          1,
          0,
          1,
          0,
          0,
          1,
          1,
          1,
          1,
          1,
          1,
          1,
          1,
          0,
          1,
          1,
          1,
          1,
          1,
          1,
          0,
          0,
          1,
          1,
          0,
          1,
          1,
          0,
          0,
          1,
          0,
          1,
          1,
          1,
          1,
          0,
          1,
          0,
          1,
          0,
          0,
          1,
          1,
          0,
          1,
          1,
          1,
          1,
          1,
          1,
          1,
          1,
          1,
          1,
          1,
          0,
          0,
          1,
          1,
          1,
          1,
          1,
          1,
          0,
          0,
          1,
          0,
          1,
          1,
          1,
          1,
          1,
          1,
          1,
          1,
          0,
          1,
          0,
          1,
          1,
          1,
          1,
          1,
          0,
          1,
          1,
          0,
          1,
          0,
          1,
          1,
          1,
          0,
          1,
          0,
          1,
          0,
          1,
          1,
          1,
          1,
          1,
          0,
          0,
          1,
          1,
          0,
          1,
          1,
          1,
          1,
          1,
          0,
          0,
          1,
          0,
          0,
          1,
          1,
          1,
          1,
          1,
          0,
          1,
          1,
          1,
          1,
          1,
          0,
          1,
          1,
          1,
          1,
          0,
          1,
          1,
          0,
          1,
          1,
          1,
          0,
          1,
          1,
          1,
          1,
          0,
          1,
          1,
          1,
          0,
          1,
          0,
          1,
          0,
          1,
          1,
          1,
          1,
          0,
          1,
          0,
          1,
          1,
          0,
          1,
          0,
          0,
          0,
          1,
          1,
          1,
          1,
          0,
          1,
          1,
          1,
          1,
          1,
          0,
          1,
          1,
          1,
          0,
          0,
          1,
          0,
          1,
          0,
          1,
          1,
          1,
          1,
          1,
          0,
          1,
          0,
          1,
          1,
          1,
          0,
          1,
          1,
          0,
          1,
          1,
          1,
          0,
          1,
          1,
          0,
          1,
          1,
          1,
          1,
          1,
          0,
          0,
          1,
          1,
          1,
          1,
          0,
          1,
          1,
          1,
          1,
          1,
          1,
          0,
          1,
          1,
          1,
          1,
          1,
          1,
          0,
          1,
          1,
          0,
          0,
          0,
          0,
          0,
          1,
          0,
          1,
          1,
          1,
          0,
          0,
          1,
          0,
          0,
          1,
          1,
          1,
          1,
          0,
          1,
          1,
          0,
          0,
          1,
          1,
          1,
          0,
          0,
          1,
          0,
          1,
          1,
          0,
          1,
          0,
          0,
          1,
          1
         ]
        }
       ],
       "layout": {
        "margin": {
         "b": 0,
         "l": 0,
         "r": 0,
         "t": 0
        },
        "template": {
         "data": {
          "bar": [
           {
            "error_x": {
             "color": "#2a3f5f"
            },
            "error_y": {
             "color": "#2a3f5f"
            },
            "marker": {
             "line": {
              "color": "#E5ECF6",
              "width": 0.5
             }
            },
            "type": "bar"
           }
          ],
          "barpolar": [
           {
            "marker": {
             "line": {
              "color": "#E5ECF6",
              "width": 0.5
             }
            },
            "type": "barpolar"
           }
          ],
          "carpet": [
           {
            "aaxis": {
             "endlinecolor": "#2a3f5f",
             "gridcolor": "white",
             "linecolor": "white",
             "minorgridcolor": "white",
             "startlinecolor": "#2a3f5f"
            },
            "baxis": {
             "endlinecolor": "#2a3f5f",
             "gridcolor": "white",
             "linecolor": "white",
             "minorgridcolor": "white",
             "startlinecolor": "#2a3f5f"
            },
            "type": "carpet"
           }
          ],
          "choropleth": [
           {
            "colorbar": {
             "outlinewidth": 0,
             "ticks": ""
            },
            "type": "choropleth"
           }
          ],
          "contour": [
           {
            "colorbar": {
             "outlinewidth": 0,
             "ticks": ""
            },
            "colorscale": [
             [
              0,
              "#0d0887"
             ],
             [
              0.1111111111111111,
              "#46039f"
             ],
             [
              0.2222222222222222,
              "#7201a8"
             ],
             [
              0.3333333333333333,
              "#9c179e"
             ],
             [
              0.4444444444444444,
              "#bd3786"
             ],
             [
              0.5555555555555556,
              "#d8576b"
             ],
             [
              0.6666666666666666,
              "#ed7953"
             ],
             [
              0.7777777777777778,
              "#fb9f3a"
             ],
             [
              0.8888888888888888,
              "#fdca26"
             ],
             [
              1,
              "#f0f921"
             ]
            ],
            "type": "contour"
           }
          ],
          "contourcarpet": [
           {
            "colorbar": {
             "outlinewidth": 0,
             "ticks": ""
            },
            "type": "contourcarpet"
           }
          ],
          "heatmap": [
           {
            "colorbar": {
             "outlinewidth": 0,
             "ticks": ""
            },
            "colorscale": [
             [
              0,
              "#0d0887"
             ],
             [
              0.1111111111111111,
              "#46039f"
             ],
             [
              0.2222222222222222,
              "#7201a8"
             ],
             [
              0.3333333333333333,
              "#9c179e"
             ],
             [
              0.4444444444444444,
              "#bd3786"
             ],
             [
              0.5555555555555556,
              "#d8576b"
             ],
             [
              0.6666666666666666,
              "#ed7953"
             ],
             [
              0.7777777777777778,
              "#fb9f3a"
             ],
             [
              0.8888888888888888,
              "#fdca26"
             ],
             [
              1,
              "#f0f921"
             ]
            ],
            "type": "heatmap"
           }
          ],
          "heatmapgl": [
           {
            "colorbar": {
             "outlinewidth": 0,
             "ticks": ""
            },
            "colorscale": [
             [
              0,
              "#0d0887"
             ],
             [
              0.1111111111111111,
              "#46039f"
             ],
             [
              0.2222222222222222,
              "#7201a8"
             ],
             [
              0.3333333333333333,
              "#9c179e"
             ],
             [
              0.4444444444444444,
              "#bd3786"
             ],
             [
              0.5555555555555556,
              "#d8576b"
             ],
             [
              0.6666666666666666,
              "#ed7953"
             ],
             [
              0.7777777777777778,
              "#fb9f3a"
             ],
             [
              0.8888888888888888,
              "#fdca26"
             ],
             [
              1,
              "#f0f921"
             ]
            ],
            "type": "heatmapgl"
           }
          ],
          "histogram": [
           {
            "marker": {
             "colorbar": {
              "outlinewidth": 0,
              "ticks": ""
             }
            },
            "type": "histogram"
           }
          ],
          "histogram2d": [
           {
            "colorbar": {
             "outlinewidth": 0,
             "ticks": ""
            },
            "colorscale": [
             [
              0,
              "#0d0887"
             ],
             [
              0.1111111111111111,
              "#46039f"
             ],
             [
              0.2222222222222222,
              "#7201a8"
             ],
             [
              0.3333333333333333,
              "#9c179e"
             ],
             [
              0.4444444444444444,
              "#bd3786"
             ],
             [
              0.5555555555555556,
              "#d8576b"
             ],
             [
              0.6666666666666666,
              "#ed7953"
             ],
             [
              0.7777777777777778,
              "#fb9f3a"
             ],
             [
              0.8888888888888888,
              "#fdca26"
             ],
             [
              1,
              "#f0f921"
             ]
            ],
            "type": "histogram2d"
           }
          ],
          "histogram2dcontour": [
           {
            "colorbar": {
             "outlinewidth": 0,
             "ticks": ""
            },
            "colorscale": [
             [
              0,
              "#0d0887"
             ],
             [
              0.1111111111111111,
              "#46039f"
             ],
             [
              0.2222222222222222,
              "#7201a8"
             ],
             [
              0.3333333333333333,
              "#9c179e"
             ],
             [
              0.4444444444444444,
              "#bd3786"
             ],
             [
              0.5555555555555556,
              "#d8576b"
             ],
             [
              0.6666666666666666,
              "#ed7953"
             ],
             [
              0.7777777777777778,
              "#fb9f3a"
             ],
             [
              0.8888888888888888,
              "#fdca26"
             ],
             [
              1,
              "#f0f921"
             ]
            ],
            "type": "histogram2dcontour"
           }
          ],
          "mesh3d": [
           {
            "colorbar": {
             "outlinewidth": 0,
             "ticks": ""
            },
            "type": "mesh3d"
           }
          ],
          "parcoords": [
           {
            "line": {
             "colorbar": {
              "outlinewidth": 0,
              "ticks": ""
             }
            },
            "type": "parcoords"
           }
          ],
          "pie": [
           {
            "automargin": true,
            "type": "pie"
           }
          ],
          "scatter": [
           {
            "marker": {
             "colorbar": {
              "outlinewidth": 0,
              "ticks": ""
             }
            },
            "type": "scatter"
           }
          ],
          "scatter3d": [
           {
            "line": {
             "colorbar": {
              "outlinewidth": 0,
              "ticks": ""
             }
            },
            "marker": {
             "colorbar": {
              "outlinewidth": 0,
              "ticks": ""
             }
            },
            "type": "scatter3d"
           }
          ],
          "scattercarpet": [
           {
            "marker": {
             "colorbar": {
              "outlinewidth": 0,
              "ticks": ""
             }
            },
            "type": "scattercarpet"
           }
          ],
          "scattergeo": [
           {
            "marker": {
             "colorbar": {
              "outlinewidth": 0,
              "ticks": ""
             }
            },
            "type": "scattergeo"
           }
          ],
          "scattergl": [
           {
            "marker": {
             "colorbar": {
              "outlinewidth": 0,
              "ticks": ""
             }
            },
            "type": "scattergl"
           }
          ],
          "scattermapbox": [
           {
            "marker": {
             "colorbar": {
              "outlinewidth": 0,
              "ticks": ""
             }
            },
            "type": "scattermapbox"
           }
          ],
          "scatterpolar": [
           {
            "marker": {
             "colorbar": {
              "outlinewidth": 0,
              "ticks": ""
             }
            },
            "type": "scatterpolar"
           }
          ],
          "scatterpolargl": [
           {
            "marker": {
             "colorbar": {
              "outlinewidth": 0,
              "ticks": ""
             }
            },
            "type": "scatterpolargl"
           }
          ],
          "scatterternary": [
           {
            "marker": {
             "colorbar": {
              "outlinewidth": 0,
              "ticks": ""
             }
            },
            "type": "scatterternary"
           }
          ],
          "surface": [
           {
            "colorbar": {
             "outlinewidth": 0,
             "ticks": ""
            },
            "colorscale": [
             [
              0,
              "#0d0887"
             ],
             [
              0.1111111111111111,
              "#46039f"
             ],
             [
              0.2222222222222222,
              "#7201a8"
             ],
             [
              0.3333333333333333,
              "#9c179e"
             ],
             [
              0.4444444444444444,
              "#bd3786"
             ],
             [
              0.5555555555555556,
              "#d8576b"
             ],
             [
              0.6666666666666666,
              "#ed7953"
             ],
             [
              0.7777777777777778,
              "#fb9f3a"
             ],
             [
              0.8888888888888888,
              "#fdca26"
             ],
             [
              1,
              "#f0f921"
             ]
            ],
            "type": "surface"
           }
          ],
          "table": [
           {
            "cells": {
             "fill": {
              "color": "#EBF0F8"
             },
             "line": {
              "color": "white"
             }
            },
            "header": {
             "fill": {
              "color": "#C8D4E3"
             },
             "line": {
              "color": "white"
             }
            },
            "type": "table"
           }
          ]
         },
         "layout": {
          "annotationdefaults": {
           "arrowcolor": "#2a3f5f",
           "arrowhead": 0,
           "arrowwidth": 1
          },
          "coloraxis": {
           "colorbar": {
            "outlinewidth": 0,
            "ticks": ""
           }
          },
          "colorscale": {
           "diverging": [
            [
             0,
             "#8e0152"
            ],
            [
             0.1,
             "#c51b7d"
            ],
            [
             0.2,
             "#de77ae"
            ],
            [
             0.3,
             "#f1b6da"
            ],
            [
             0.4,
             "#fde0ef"
            ],
            [
             0.5,
             "#f7f7f7"
            ],
            [
             0.6,
             "#e6f5d0"
            ],
            [
             0.7,
             "#b8e186"
            ],
            [
             0.8,
             "#7fbc41"
            ],
            [
             0.9,
             "#4d9221"
            ],
            [
             1,
             "#276419"
            ]
           ],
           "sequential": [
            [
             0,
             "#0d0887"
            ],
            [
             0.1111111111111111,
             "#46039f"
            ],
            [
             0.2222222222222222,
             "#7201a8"
            ],
            [
             0.3333333333333333,
             "#9c179e"
            ],
            [
             0.4444444444444444,
             "#bd3786"
            ],
            [
             0.5555555555555556,
             "#d8576b"
            ],
            [
             0.6666666666666666,
             "#ed7953"
            ],
            [
             0.7777777777777778,
             "#fb9f3a"
            ],
            [
             0.8888888888888888,
             "#fdca26"
            ],
            [
             1,
             "#f0f921"
            ]
           ],
           "sequentialminus": [
            [
             0,
             "#0d0887"
            ],
            [
             0.1111111111111111,
             "#46039f"
            ],
            [
             0.2222222222222222,
             "#7201a8"
            ],
            [
             0.3333333333333333,
             "#9c179e"
            ],
            [
             0.4444444444444444,
             "#bd3786"
            ],
            [
             0.5555555555555556,
             "#d8576b"
            ],
            [
             0.6666666666666666,
             "#ed7953"
            ],
            [
             0.7777777777777778,
             "#fb9f3a"
            ],
            [
             0.8888888888888888,
             "#fdca26"
            ],
            [
             1,
             "#f0f921"
            ]
           ]
          },
          "colorway": [
           "#636efa",
           "#EF553B",
           "#00cc96",
           "#ab63fa",
           "#FFA15A",
           "#19d3f3",
           "#FF6692",
           "#B6E880",
           "#FF97FF",
           "#FECB52"
          ],
          "font": {
           "color": "#2a3f5f"
          },
          "geo": {
           "bgcolor": "white",
           "lakecolor": "white",
           "landcolor": "#E5ECF6",
           "showlakes": true,
           "showland": true,
           "subunitcolor": "white"
          },
          "hoverlabel": {
           "align": "left"
          },
          "hovermode": "closest",
          "mapbox": {
           "style": "light"
          },
          "paper_bgcolor": "white",
          "plot_bgcolor": "#E5ECF6",
          "polar": {
           "angularaxis": {
            "gridcolor": "white",
            "linecolor": "white",
            "ticks": ""
           },
           "bgcolor": "#E5ECF6",
           "radialaxis": {
            "gridcolor": "white",
            "linecolor": "white",
            "ticks": ""
           }
          },
          "scene": {
           "xaxis": {
            "backgroundcolor": "#E5ECF6",
            "gridcolor": "white",
            "gridwidth": 2,
            "linecolor": "white",
            "showbackground": true,
            "ticks": "",
            "zerolinecolor": "white"
           },
           "yaxis": {
            "backgroundcolor": "#E5ECF6",
            "gridcolor": "white",
            "gridwidth": 2,
            "linecolor": "white",
            "showbackground": true,
            "ticks": "",
            "zerolinecolor": "white"
           },
           "zaxis": {
            "backgroundcolor": "#E5ECF6",
            "gridcolor": "white",
            "gridwidth": 2,
            "linecolor": "white",
            "showbackground": true,
            "ticks": "",
            "zerolinecolor": "white"
           }
          },
          "shapedefaults": {
           "line": {
            "color": "#2a3f5f"
           }
          },
          "ternary": {
           "aaxis": {
            "gridcolor": "white",
            "linecolor": "white",
            "ticks": ""
           },
           "baxis": {
            "gridcolor": "white",
            "linecolor": "white",
            "ticks": ""
           },
           "bgcolor": "#E5ECF6",
           "caxis": {
            "gridcolor": "white",
            "linecolor": "white",
            "ticks": ""
           }
          },
          "title": {
           "x": 0.05
          },
          "xaxis": {
           "automargin": true,
           "gridcolor": "white",
           "linecolor": "white",
           "ticks": "",
           "title": {
            "standoff": 15
           },
           "zerolinecolor": "white",
           "zerolinewidth": 2
          },
          "yaxis": {
           "automargin": true,
           "gridcolor": "white",
           "linecolor": "white",
           "ticks": "",
           "title": {
            "standoff": 15
           },
           "zerolinecolor": "white",
           "zerolinewidth": 2
          }
         }
        }
       }
      },
      "text/html": [
       "<div>                            <div id=\"cde6c692-4065-4f42-b311-07bfd1c87248\" class=\"plotly-graph-div\" style=\"height:525px; width:100%;\"></div>            <script type=\"text/javascript\">                require([\"plotly\"], function(Plotly) {                    window.PLOTLYENV=window.PLOTLYENV || {};                                    if (document.getElementById(\"cde6c692-4065-4f42-b311-07bfd1c87248\")) {                    Plotly.newPlot(                        \"cde6c692-4065-4f42-b311-07bfd1c87248\",                        [{\"marker\": {\"color\": \"rgb(255,0,0)\", \"size\": 10}, \"mode\": \"markers\", \"type\": \"scatter3d\", \"x\": [22.0, 38.0, 26.0, 35.0, 35.0, \"29\", 54.0, 2.0, 27.0, 14.0, 4.0, 58.0, 20.0, 39.0, 14.0, 55.0, 2.0, \"29\", 31.0, \"29\", 35.0, 34.0, 15.0, 28.0, 8.0, 38.0, \"29\", 19.0, \"29\", \"29\", 40.0, \"29\", \"29\", 66.0, 28.0, 42.0, \"29\", 21.0, 18.0, 14.0, 40.0, 27.0, \"29\", 3.0, 19.0, \"29\", \"29\", \"29\", \"29\", 18.0, 7.0, 21.0, 49.0, 29.0, 65.0, \"29\", 21.0, 28.5, 5.0, 11.0, 22.0, 38.0, 45.0, 4.0, \"29\", \"29\", 29.0, 19.0, 17.0, 26.0, 32.0, 16.0, 21.0, 26.0, 32.0, 25.0, \"29\", \"29\", 0.83, 30.0, 22.0, 29.0, \"29\", 28.0, 17.0, 33.0, 16.0, \"29\", 23.0, 24.0, 29.0, 20.0, 46.0, 26.0, 59.0, \"29\", 71.0, 23.0, 34.0, 34.0, 28.0, \"29\", 21.0, 33.0, 37.0, 28.0, 21.0, \"29\", 38.0, \"29\", 47.0, 14.5, 22.0, 20.0, 17.0, 21.0, 70.5, 29.0, 24.0, 2.0, 21.0, \"29\", 32.5, 32.5, 54.0, 12.0, \"29\", 24.0, \"29\", 45.0, 33.0, 20.0, 47.0, 29.0, 25.0, 23.0, 19.0, 37.0, 16.0, 24.0, \"29\", 22.0, 24.0, 19.0, 18.0, 19.0, 27.0, 9.0, 36.5, 42.0, 51.0, 22.0, 55.5, 40.5, \"29\", 51.0, 16.0, 30.0, \"29\", \"29\", 44.0, 40.0, 26.0, 17.0, 1.0, 9.0, \"29\", 45.0, \"29\", 28.0, 61.0, 4.0, 1.0, 21.0, 56.0, 18.0, \"29\", 50.0, 30.0, 36.0, \"29\", \"29\", 9.0, 1.0, 4.0, \"29\", \"29\", 45.0, 40.0, 36.0, 32.0, 19.0, 19.0, 3.0, 44.0, 58.0, \"29\", 42.0, \"29\", 24.0, 28.0, \"29\", 34.0, 45.5, 18.0, 2.0, 32.0, 26.0, 16.0, 40.0, 24.0, 35.0, 22.0, 30.0, \"29\", 31.0, 27.0, 42.0, 32.0, 30.0, 16.0, 27.0, 51.0, \"29\", 38.0, 22.0, 19.0, 20.5, 18.0, \"29\", 35.0, 29.0, 59.0, 5.0, 24.0, \"29\", 44.0, 8.0, 19.0, 33.0, \"29\", \"29\", 29.0, 22.0, 30.0, 44.0, 25.0, 24.0, 37.0, 54.0, \"29\", 29.0, 62.0, 30.0, 41.0, 29.0, \"29\", 30.0, 35.0, 50.0, \"29\", 3.0, 52.0, 40.0, \"29\", 36.0, 16.0, 25.0, 58.0, 35.0, \"29\", 25.0, 41.0, 37.0, \"29\", 63.0, 45.0, \"29\", 7.0, 35.0, 65.0, 28.0, 16.0, 19.0, \"29\", 33.0, 30.0, 22.0, 42.0, 22.0, 26.0, 19.0, 36.0, 24.0, 24.0, \"29\", 23.5, 2.0, \"29\", 50.0, \"29\", \"29\", 19.0, \"29\", \"29\", 0.92, \"29\", 17.0, 30.0, 30.0, 24.0, 18.0, 26.0, 28.0, 43.0, 26.0, 24.0, 54.0, 31.0, 40.0, 22.0, 27.0, 30.0, 22.0, \"29\", 36.0, 61.0, 36.0, 31.0, 16.0, \"29\", 45.5, 38.0, 16.0, \"29\", \"29\", 29.0, 41.0, 45.0, 45.0, 2.0, 24.0, 28.0, 25.0, 36.0, 24.0, 40.0, \"29\", 3.0, 42.0, 23.0, \"29\", 15.0, 25.0, \"29\", 28.0, 22.0, 38.0, \"29\", \"29\", 40.0, 29.0, 45.0, 35.0, \"29\", 30.0, 60.0, \"29\", \"29\", 24.0, 25.0, 18.0, 19.0, 22.0, 3.0, \"29\", 22.0, 27.0, 20.0, 19.0, 42.0, 1.0, 32.0, 35.0, \"29\", 18.0, 1.0, 36.0, \"29\", 17.0, 36.0, 21.0, 28.0, 23.0, 24.0, 22.0, 31.0, 46.0, 23.0, 28.0, 39.0, 26.0, 21.0, 28.0, 20.0, 34.0, 51.0, 3.0, 21.0, \"29\", \"29\", \"29\", 33.0, \"29\", 44.0, \"29\", 34.0, 18.0, 30.0, 10.0, \"29\", 21.0, 29.0, 28.0, 18.0, \"29\", 28.0, 19.0, \"29\", 32.0, 28.0, \"29\", 42.0, 17.0, 50.0, 14.0, 21.0, 24.0, 64.0, 31.0, 45.0, 20.0, 25.0, 28.0, \"29\", 4.0, 13.0, 34.0, 5.0, 52.0, 36.0, \"29\", 30.0, 49.0, \"29\", 29.0, 65.0, \"29\", 50.0, \"29\", 48.0, 34.0, 47.0, 48.0, \"29\", 38.0, \"29\", 56.0, \"29\", 0.75, \"29\", 38.0, 33.0, 23.0, 22.0, \"29\", 34.0, 29.0, 22.0, 2.0, 9.0, \"29\", 50.0, 63.0, 25.0, \"29\", 35.0, 58.0, 30.0, 9.0, \"29\", 21.0, 55.0, 71.0, 21.0, \"29\", 54.0, \"29\", 25.0, 24.0, 17.0, 21.0, \"29\", 37.0, 16.0, 18.0, 33.0, \"29\", 28.0, 26.0, 29.0, \"29\", 36.0, 54.0, 24.0, 47.0, 34.0, \"29\", 36.0, 32.0, 30.0, 22.0, \"29\", 44.0, \"29\", 40.5, 50.0, \"29\", 39.0, 23.0, 2.0, \"29\", 17.0, \"29\", 30.0, 7.0, 45.0, 30.0, \"29\", 22.0, 36.0, 9.0, 11.0, 32.0, 50.0, 64.0, 19.0, \"29\", 33.0, 8.0, 17.0, 27.0, \"29\", 22.0, 22.0, 62.0, 48.0, \"29\", 39.0, 36.0, \"29\", 40.0, 28.0, \"29\", \"29\", 24.0, 19.0, 29.0, \"29\", 32.0, 62.0, 53.0, 36.0, \"29\", 16.0, 19.0, 34.0, 39.0, \"29\", 32.0, 25.0, 39.0, 54.0, 36.0, \"29\", 18.0, 47.0, 60.0, 22.0, \"29\", 35.0, 52.0, 47.0, \"29\", 37.0, 36.0, \"29\", 49.0, \"29\", 49.0, 24.0, \"29\", \"29\", 44.0, 35.0, 36.0, 30.0, 27.0, 22.0, 40.0, 39.0, \"29\", \"29\", \"29\", 35.0, 24.0, 34.0, 26.0, 4.0, 26.0, 27.0, 42.0, 20.0, 21.0, 21.0, 61.0, 57.0, 21.0, 26.0, \"29\", 80.0, 51.0, 32.0, \"29\", 9.0, 28.0, 32.0, 31.0, 41.0, \"29\", 20.0, 24.0, 2.0, \"29\", 0.75, 48.0, 19.0, 56.0, \"29\", 23.0, \"29\", 18.0, 21.0, \"29\", 18.0, 24.0, \"29\", 32.0, 23.0, 58.0, 50.0, 40.0, 47.0, 36.0, 20.0, 32.0, 25.0, \"29\", 43.0, \"29\", 40.0, 31.0, 70.0, 31.0, \"29\", 18.0, 24.5, 18.0, 43.0, 36.0, \"29\", 27.0, 20.0, 14.0, 60.0, 25.0, 14.0, 19.0, 18.0, 15.0, 31.0, 4.0, \"29\", 25.0, 60.0, 52.0, 44.0, \"29\", 49.0, 42.0, 18.0, 35.0, 18.0, 25.0, 26.0, 39.0, 45.0, 42.0, 22.0, \"29\", 24.0, \"29\", 48.0, 29.0, 52.0, 19.0, 38.0, 27.0, \"29\", 33.0, 6.0, 17.0, 34.0, 50.0, 27.0, 20.0, 30.0, \"29\", 25.0, 25.0, 29.0, 11.0, \"29\", 23.0, 23.0, 28.5, 48.0, 35.0, \"29\", \"29\", \"29\", 36.0, 21.0, 24.0, 31.0, 70.0, 16.0, 30.0, 19.0, 31.0, 4.0, 6.0, 33.0, 23.0, 48.0, 0.67, 28.0, 18.0, 34.0, 33.0, \"29\", 41.0, 20.0, 36.0, 16.0, 51.0, \"29\", 30.5, \"29\", 32.0, 24.0, 48.0, 57.0, \"29\", 54.0, 18.0, \"29\", 5.0, \"29\", 43.0, 13.0, 17.0, 29.0, \"29\", 25.0, 25.0, 18.0, 8.0, 1.0, 46.0, \"29\", 16.0, \"29\", \"29\", 25.0, 39.0, 49.0, 31.0, 30.0, 30.0, 34.0, 31.0, 11.0, 0.42, 27.0, 31.0, 39.0, 18.0, 39.0, 33.0, 26.0, 39.0, 35.0, 6.0, 30.5, \"29\", 23.0, 31.0, 43.0, 10.0, 52.0, 27.0, 38.0, 27.0, 2.0, \"29\", \"29\", 1.0, \"29\", 62.0, 15.0, 0.83, \"29\", 23.0, 18.0, 39.0, 21.0, \"29\", 32.0, \"29\", 20.0, 16.0, 30.0, 34.5, 17.0, 42.0, \"29\", 35.0, 28.0, \"29\", 4.0, 74.0, 9.0, 16.0, 44.0, 18.0, 45.0, 51.0, 24.0, \"29\", 41.0, 21.0, 48.0, \"29\", 24.0, 42.0, 27.0, 31.0, \"29\", 4.0, 26.0, 47.0, 33.0, 47.0, 28.0, 15.0, 20.0, 19.0, \"29\", 56.0, 25.0, 33.0, 22.0, 28.0, 25.0, 39.0, 27.0, 19.0, \"29\", 26.0, 32.0], \"y\": [7.25, 71.2833, 7.925, 53.1, 8.05, 8.4583, 51.8625, 21.075, 11.1333, 30.0708, 16.7, 26.55, 8.05, 31.275, 7.8542, 16.0, 29.125, 13.0, 18.0, 7.225, 26.0, 13.0, 8.0292, 35.5, 21.075, 31.3875, 7.225, 263.0, 7.8792, 7.8958, 27.7208, 146.5208, 7.75, 10.5, 82.1708, 52.0, 7.2292, 8.05, 18.0, 11.2417, 9.475, 21.0, 7.8958, 41.5792, 7.8792, 8.05, 15.5, 7.75, 21.6792, 17.8, 39.6875, 7.8, 76.7292, 26.0, 61.9792, 35.5, 10.5, 7.2292, 27.75, 46.9, 7.2292, 80.0, 83.475, 27.9, 27.7208, 15.2458, 10.5, 8.1583, 7.925, 8.6625, 10.5, 46.9, 73.5, 14.4542, 56.4958, 7.65, 7.8958, 8.05, 29.0, 12.475, 9.0, 9.5, 7.7875, 47.1, 10.5, 15.85, 34.375, 8.05, 263.0, 8.05, 8.05, 7.8542, 61.175, 20.575, 7.25, 8.05, 34.6542, 63.3583, 23.0, 26.0, 7.8958, 7.8958, 77.2875, 8.6542, 7.925, 7.8958, 7.65, 7.775, 7.8958, 24.15, 52.0, 14.4542, 8.05, 9.825, 14.4583, 7.925, 7.75, 21.0, 247.5208, 31.275, 73.5, 8.05, 30.0708, 13.0, 77.2875, 11.2417, 7.75, 7.1417, 22.3583, 6.975, 7.8958, 7.05, 14.5, 26.0, 13.0, 15.0458, 26.2833, 53.1, 9.2167, 79.2, 15.2458, 7.75, 15.85, 6.75, 11.5, 36.75, 7.7958, 34.375, 26.0, 13.0, 12.525, 66.6, 8.05, 14.5, 7.3125, 61.3792, 7.7333, 8.05, 8.6625, 69.55, 16.1, 15.75, 7.775, 8.6625, 39.6875, 20.525, 55.0, 27.9, 25.925, 56.4958, 33.5, 29.125, 11.1333, 7.925, 30.6958, 7.8542, 25.4667, 28.7125, 13.0, 0.0, 69.55, 15.05, 31.3875, 39.0, 22.025, 50.0, 15.5, 26.55, 15.5, 7.8958, 13.0, 13.0, 7.8542, 26.0, 27.7208, 146.5208, 7.75, 8.4042, 7.75, 13.0, 9.5, 69.55, 6.4958, 7.225, 8.05, 10.4625, 15.85, 18.7875, 7.75, 31.0, 7.05, 21.0, 7.25, 13.0, 7.75, 113.275, 7.925, 27.0, 76.2917, 10.5, 8.05, 13.0, 8.05, 7.8958, 90.0, 9.35, 10.5, 7.25, 13.0, 25.4667, 83.475, 7.775, 13.5, 31.3875, 10.5, 7.55, 26.0, 26.25, 10.5, 12.275, 14.4542, 15.5, 10.5, 7.125, 7.225, 90.0, 7.775, 14.5, 52.5542, 26.0, 7.25, 10.4625, 26.55, 16.1, 20.2125, 15.2458, 79.2, 86.5, 512.3292, 26.0, 7.75, 31.3875, 79.65, 0.0, 7.75, 10.5, 39.6875, 7.775, 153.4625, 135.6333, 31.0, 0.0, 19.5, 29.7, 7.75, 77.9583, 7.75, 0.0, 29.125, 20.25, 7.75, 7.8542, 9.5, 8.05, 26.0, 8.6625, 9.5, 7.8958, 13.0, 7.75, 78.85, 91.0792, 12.875, 8.85, 7.8958, 27.7208, 7.2292, 151.55, 30.5, 247.5208, 7.75, 23.25, 0.0, 12.35, 8.05, 151.55, 110.8833, 108.9, 24.0, 56.9292, 83.1583, 262.375, 26.0, 7.8958, 26.25, 7.8542, 26.0, 14.0, 164.8667, 134.5, 7.25, 7.8958, 12.35, 29.0, 69.55, 135.6333, 6.2375, 13.0, 20.525, 57.9792, 23.25, 28.5, 153.4625, 18.0, 133.65, 7.8958, 66.6, 134.5, 8.05, 35.5, 26.0, 263.0, 13.0, 13.0, 13.0, 13.0, 13.0, 16.1, 15.9, 8.6625, 9.225, 35.0, 7.2292, 17.8, 7.225, 9.5, 55.0, 13.0, 7.8792, 7.8792, 27.9, 27.7208, 14.4542, 7.05, 15.5, 7.25, 75.25, 7.2292, 7.75, 69.3, 55.4417, 6.4958, 8.05, 135.6333, 21.075, 82.1708, 7.25, 211.5, 4.0125, 7.775, 227.525, 15.7417, 7.925, 52.0, 7.8958, 73.5, 46.9, 13.0, 7.7292, 12.0, 120.0, 7.7958, 7.925, 113.275, 16.7, 7.7958, 7.8542, 26.0, 10.5, 12.65, 7.925, 8.05, 9.825, 15.85, 8.6625, 21.0, 7.75, 18.75, 7.775, 25.4667, 7.8958, 6.8583, 90.0, 0.0, 7.925, 8.05, 32.5, 13.0, 13.0, 24.15, 7.8958, 7.7333, 7.875, 14.4, 20.2125, 7.25, 26.0, 26.0, 7.75, 8.05, 26.55, 16.1, 26.0, 7.125, 55.9, 120.0, 34.375, 18.75, 263.0, 10.5, 26.25, 9.5, 7.775, 13.0, 8.1125, 81.8583, 19.5, 26.55, 19.2583, 30.5, 27.75, 19.9667, 27.75, 89.1042, 8.05, 7.8958, 26.55, 51.8625, 10.5, 7.75, 26.55, 8.05, 38.5, 13.0, 8.05, 7.05, 0.0, 26.55, 7.725, 19.2583, 7.25, 8.6625, 27.75, 13.7917, 9.8375, 52.0, 21.0, 7.0458, 7.5208, 12.2875, 46.9, 0.0, 8.05, 9.5875, 91.0792, 25.4667, 90.0, 29.7, 8.05, 15.9, 19.9667, 7.25, 30.5, 49.5042, 8.05, 14.4583, 78.2667, 15.1, 151.55, 7.7958, 8.6625, 7.75, 7.6292, 9.5875, 86.5, 108.9, 26.0, 26.55, 22.525, 56.4958, 7.75, 8.05, 26.2875, 59.4, 7.4958, 34.0208, 10.5, 24.15, 26.0, 7.8958, 93.5, 7.8958, 7.225, 57.9792, 7.2292, 7.75, 10.5, 221.7792, 7.925, 11.5, 26.0, 7.2292, 7.2292, 22.3583, 8.6625, 26.25, 26.55, 106.425, 14.5, 49.5, 71.0, 31.275, 31.275, 26.0, 106.425, 26.0, 26.0, 13.8625, 20.525, 36.75, 110.8833, 26.0, 7.8292, 7.225, 7.775, 26.55, 39.6, 227.525, 79.65, 17.4, 7.75, 7.8958, 13.5, 8.05, 8.05, 24.15, 7.8958, 21.075, 7.2292, 7.8542, 10.5, 51.4792, 26.3875, 7.75, 8.05, 14.5, 13.0, 55.9, 14.4583, 7.925, 30.0, 110.8833, 26.0, 40.125, 8.7125, 79.65, 15.0, 79.2, 8.05, 8.05, 7.125, 78.2667, 7.25, 7.75, 26.0, 24.15, 33.0, 0.0, 7.225, 56.9292, 27.0, 7.8958, 42.4, 8.05, 26.55, 15.55, 7.8958, 30.5, 41.5792, 153.4625, 31.275, 7.05, 15.5, 7.75, 8.05, 65.0, 14.4, 16.1, 39.0, 10.5, 14.4542, 52.5542, 15.7417, 7.8542, 16.1, 32.3208, 12.35, 77.9583, 7.8958, 7.7333, 30.0, 7.0542, 30.5, 0.0, 27.9, 13.0, 7.925, 26.25, 39.6875, 16.1, 7.8542, 69.3, 27.9, 56.4958, 19.2583, 76.7292, 7.8958, 35.5, 7.55, 7.55, 7.8958, 23.0, 8.4333, 7.8292, 6.75, 73.5, 7.8958, 15.5, 13.0, 113.275, 133.65, 7.225, 25.5875, 7.4958, 7.925, 73.5, 13.0, 7.775, 8.05, 52.0, 39.0, 52.0, 10.5, 13.0, 0.0, 7.775, 8.05, 9.8417, 46.9, 512.3292, 8.1375, 76.7292, 9.225, 46.9, 39.0, 41.5792, 39.6875, 10.1708, 7.7958, 211.3375, 57.0, 13.4167, 56.4958, 7.225, 26.55, 13.5, 8.05, 7.7333, 110.8833, 7.65, 227.525, 26.2875, 14.4542, 7.7417, 7.8542, 26.0, 13.5, 26.2875, 151.55, 15.2458, 49.5042, 26.55, 52.0, 9.4833, 13.0, 7.65, 227.525, 10.5, 15.5, 7.775, 33.0, 7.0542, 13.0, 13.0, 53.1, 8.6625, 21.0, 7.7375, 26.0, 7.925, 211.3375, 18.7875, 0.0, 13.0, 13.0, 16.1, 34.375, 512.3292, 7.8958, 7.8958, 30.0, 78.85, 262.375, 16.1, 7.925, 71.0, 20.25, 13.0, 53.1, 7.75, 23.0, 12.475, 9.5, 7.8958, 65.0, 14.5, 7.7958, 11.5, 8.05, 86.5, 14.5, 7.125, 7.2292, 120.0, 7.775, 77.9583, 39.6, 7.75, 24.15, 8.3625, 9.5, 7.8542, 10.5, 7.225, 23.0, 7.75, 7.75, 12.475, 7.7375, 211.3375, 7.2292, 57.0, 30.0, 23.45, 7.05, 7.25, 7.4958, 29.125, 20.575, 79.2, 7.75, 26.0, 69.55, 30.6958, 7.8958, 13.0, 25.9292, 8.6833, 7.2292, 24.15, 13.0, 26.25, 120.0, 8.5167, 6.975, 7.775, 0.0, 7.775, 13.0, 53.1, 7.8875, 24.15, 10.5, 31.275, 8.05, 0.0, 7.925, 37.0042, 6.45, 27.9, 93.5, 8.6625, 0.0, 12.475, 39.6875, 6.95, 56.4958, 37.0042, 7.75, 80.0, 14.4542, 18.75, 7.2292, 7.8542, 8.3, 83.1583, 8.6625, 8.05, 56.4958, 29.7, 7.925, 10.5, 31.0, 6.4375, 8.6625, 7.55, 69.55, 7.8958, 33.0, 89.1042, 31.275, 7.775, 15.2458, 39.4, 26.0, 9.35, 164.8667, 26.55, 19.2583, 7.2292, 14.1083, 11.5, 25.9292, 69.55, 13.0, 13.0, 13.8583, 50.4958, 9.5, 11.1333, 7.8958, 52.5542, 5.0, 9.0, 24.0, 7.225, 9.8458, 7.8958, 7.8958, 83.1583, 26.0, 7.8958, 10.5167, 10.5, 7.05, 29.125, 13.0, 30.0, 23.45, 30.0, 7.75], \"z\": [1, 0, 0, 0, 1, 1, 1, 1, 0, 0, 0, 0, 1, 1, 0, 0, 1, 1, 0, 0, 1, 1, 0, 1, 0, 0, 1, 1, 0, 1, 1, 0, 0, 1, 1, 1, 1, 1, 0, 0, 0, 0, 1, 0, 0, 1, 1, 0, 1, 0, 1, 1, 0, 0, 1, 1, 0, 1, 0, 1, 1, 0, 1, 1, 1, 1, 0, 1, 0, 1, 1, 0, 1, 1, 1, 1, 1, 1, 1, 0, 1, 1, 0, 1, 0, 0, 1, 1, 0, 1, 1, 1, 1, 1, 1, 1, 1, 1, 0, 1, 0, 1, 1, 1, 1, 1, 0, 1, 1, 0, 1, 0, 1, 0, 0, 1, 1, 1, 1, 0, 1, 1, 1, 0, 1, 1, 1, 1, 0, 1, 1, 1, 0, 0, 1, 1, 0, 1, 1, 1, 0, 0, 0, 1, 1, 1, 1, 0, 1, 1, 1, 0, 1, 1, 1, 1, 0, 1, 1, 1, 1, 0, 1, 1, 1, 1, 0, 0, 1, 1, 1, 1, 0, 1, 1, 1, 1, 0, 1, 1, 0, 1, 1, 1, 0, 1, 0, 1, 1, 1, 0, 1, 0, 1, 0, 0, 1, 1, 0, 0, 1, 1, 1, 1, 1, 0, 1, 1, 0, 1, 1, 0, 1, 1, 1, 0, 0, 1, 0, 1, 1, 1, 1, 1, 1, 1, 1, 1, 1, 0, 0, 1, 1, 0, 1, 0, 1, 0, 1, 1, 0, 0, 1, 1, 1, 1, 0, 0, 1, 1, 1, 0, 1, 1, 0, 0, 0, 0, 0, 0, 1, 1, 1, 1, 0, 1, 1, 1, 0, 0, 1, 1, 0, 1, 0, 0, 0, 1, 1, 0, 1, 1, 1, 1, 1, 1, 1, 1, 1, 0, 0, 0, 1, 0, 1, 1, 1, 0, 1, 0, 0, 1, 1, 0, 1, 1, 0, 0, 1, 0, 0, 0, 0, 1, 1, 0, 0, 1, 0, 0, 1, 1, 0, 0, 1, 0, 1, 0, 0, 0, 0, 1, 1, 1, 0, 1, 1, 0, 1, 1, 1, 0, 1, 1, 1, 0, 0, 0, 1, 1, 1, 1, 1, 1, 1, 1, 0, 0, 0, 0, 1, 1, 0, 1, 1, 1, 0, 0, 0, 0, 1, 1, 1, 1, 0, 0, 0, 1, 1, 1, 0, 0, 1, 0, 1, 1, 1, 0, 1, 0, 1, 1, 1, 0, 0, 1, 0, 1, 1, 0, 1, 1, 0, 1, 0, 1, 1, 1, 1, 0, 1, 1, 0, 1, 1, 0, 0, 0, 1, 0, 1, 1, 1, 0, 1, 1, 0, 0, 1, 1, 1, 0, 0, 1, 1, 0, 0, 0, 1, 1, 0, 1, 1, 0, 1, 1, 0, 1, 0, 1, 1, 1, 1, 1, 1, 1, 1, 0, 0, 1, 1, 1, 1, 1, 1, 1, 1, 1, 1, 0, 1, 1, 0, 0, 0, 1, 1, 1, 1, 0, 1, 1, 1, 0, 1, 0, 0, 1, 1, 1, 1, 1, 1, 1, 1, 1, 0, 1, 0, 1, 1, 0, 0, 0, 0, 1, 0, 1, 1, 1, 1, 1, 1, 0, 1, 1, 0, 1, 0, 1, 0, 1, 1, 0, 1, 1, 0, 1, 1, 1, 0, 1, 1, 0, 0, 0, 1, 0, 1, 0, 0, 0, 0, 1, 1, 1, 0, 1, 1, 1, 1, 1, 1, 1, 0, 1, 0, 1, 0, 0, 1, 1, 1, 1, 0, 1, 1, 0, 1, 1, 1, 0, 1, 0, 1, 1, 0, 0, 0, 1, 0, 0, 1, 1, 1, 0, 1, 1, 1, 1, 1, 0, 1, 0, 1, 1, 0, 1, 1, 1, 0, 1, 1, 1, 1, 1, 1, 1, 0, 0, 0, 1, 0, 1, 1, 0, 1, 0, 0, 1, 1, 1, 1, 1, 1, 1, 1, 0, 1, 1, 1, 1, 1, 1, 0, 0, 1, 1, 0, 1, 1, 0, 0, 1, 0, 1, 1, 1, 1, 0, 1, 0, 1, 0, 0, 1, 1, 0, 1, 1, 1, 1, 1, 1, 1, 1, 1, 1, 1, 0, 0, 1, 1, 1, 1, 1, 1, 0, 0, 1, 0, 1, 1, 1, 1, 1, 1, 1, 1, 0, 1, 0, 1, 1, 1, 1, 1, 0, 1, 1, 0, 1, 0, 1, 1, 1, 0, 1, 0, 1, 0, 1, 1, 1, 1, 1, 0, 0, 1, 1, 0, 1, 1, 1, 1, 1, 0, 0, 1, 0, 0, 1, 1, 1, 1, 1, 0, 1, 1, 1, 1, 1, 0, 1, 1, 1, 1, 0, 1, 1, 0, 1, 1, 1, 0, 1, 1, 1, 1, 0, 1, 1, 1, 0, 1, 0, 1, 0, 1, 1, 1, 1, 0, 1, 0, 1, 1, 0, 1, 0, 0, 0, 1, 1, 1, 1, 0, 1, 1, 1, 1, 1, 0, 1, 1, 1, 0, 0, 1, 0, 1, 0, 1, 1, 1, 1, 1, 0, 1, 0, 1, 1, 1, 0, 1, 1, 0, 1, 1, 1, 0, 1, 1, 0, 1, 1, 1, 1, 1, 0, 0, 1, 1, 1, 1, 0, 1, 1, 1, 1, 1, 1, 0, 1, 1, 1, 1, 1, 1, 0, 1, 1, 0, 0, 0, 0, 0, 1, 0, 1, 1, 1, 0, 0, 1, 0, 0, 1, 1, 1, 1, 0, 1, 1, 0, 0, 1, 1, 1, 0, 0, 1, 0, 1, 1, 0, 1, 0, 0, 1, 1]}],                        {\"margin\": {\"b\": 0, \"l\": 0, \"r\": 0, \"t\": 0}, \"template\": {\"data\": {\"bar\": [{\"error_x\": {\"color\": \"#2a3f5f\"}, \"error_y\": {\"color\": \"#2a3f5f\"}, \"marker\": {\"line\": {\"color\": \"#E5ECF6\", \"width\": 0.5}}, \"type\": \"bar\"}], \"barpolar\": [{\"marker\": {\"line\": {\"color\": \"#E5ECF6\", \"width\": 0.5}}, \"type\": \"barpolar\"}], \"carpet\": [{\"aaxis\": {\"endlinecolor\": \"#2a3f5f\", \"gridcolor\": \"white\", \"linecolor\": \"white\", \"minorgridcolor\": \"white\", \"startlinecolor\": \"#2a3f5f\"}, \"baxis\": {\"endlinecolor\": \"#2a3f5f\", \"gridcolor\": \"white\", \"linecolor\": \"white\", \"minorgridcolor\": \"white\", \"startlinecolor\": \"#2a3f5f\"}, \"type\": \"carpet\"}], \"choropleth\": [{\"colorbar\": {\"outlinewidth\": 0, \"ticks\": \"\"}, \"type\": \"choropleth\"}], \"contour\": [{\"colorbar\": {\"outlinewidth\": 0, \"ticks\": \"\"}, \"colorscale\": [[0.0, \"#0d0887\"], [0.1111111111111111, \"#46039f\"], [0.2222222222222222, \"#7201a8\"], [0.3333333333333333, \"#9c179e\"], [0.4444444444444444, \"#bd3786\"], [0.5555555555555556, \"#d8576b\"], [0.6666666666666666, \"#ed7953\"], [0.7777777777777778, \"#fb9f3a\"], [0.8888888888888888, \"#fdca26\"], [1.0, \"#f0f921\"]], \"type\": \"contour\"}], \"contourcarpet\": [{\"colorbar\": {\"outlinewidth\": 0, \"ticks\": \"\"}, \"type\": \"contourcarpet\"}], \"heatmap\": [{\"colorbar\": {\"outlinewidth\": 0, \"ticks\": \"\"}, \"colorscale\": [[0.0, \"#0d0887\"], [0.1111111111111111, \"#46039f\"], [0.2222222222222222, \"#7201a8\"], [0.3333333333333333, \"#9c179e\"], [0.4444444444444444, \"#bd3786\"], [0.5555555555555556, \"#d8576b\"], [0.6666666666666666, \"#ed7953\"], [0.7777777777777778, \"#fb9f3a\"], [0.8888888888888888, \"#fdca26\"], [1.0, \"#f0f921\"]], \"type\": \"heatmap\"}], \"heatmapgl\": [{\"colorbar\": {\"outlinewidth\": 0, \"ticks\": \"\"}, \"colorscale\": [[0.0, \"#0d0887\"], [0.1111111111111111, \"#46039f\"], [0.2222222222222222, \"#7201a8\"], [0.3333333333333333, \"#9c179e\"], [0.4444444444444444, \"#bd3786\"], [0.5555555555555556, \"#d8576b\"], [0.6666666666666666, \"#ed7953\"], [0.7777777777777778, \"#fb9f3a\"], [0.8888888888888888, \"#fdca26\"], [1.0, \"#f0f921\"]], \"type\": \"heatmapgl\"}], \"histogram\": [{\"marker\": {\"colorbar\": {\"outlinewidth\": 0, \"ticks\": \"\"}}, \"type\": \"histogram\"}], \"histogram2d\": [{\"colorbar\": {\"outlinewidth\": 0, \"ticks\": \"\"}, \"colorscale\": [[0.0, \"#0d0887\"], [0.1111111111111111, \"#46039f\"], [0.2222222222222222, \"#7201a8\"], [0.3333333333333333, \"#9c179e\"], [0.4444444444444444, \"#bd3786\"], [0.5555555555555556, \"#d8576b\"], [0.6666666666666666, \"#ed7953\"], [0.7777777777777778, \"#fb9f3a\"], [0.8888888888888888, \"#fdca26\"], [1.0, \"#f0f921\"]], \"type\": \"histogram2d\"}], \"histogram2dcontour\": [{\"colorbar\": {\"outlinewidth\": 0, \"ticks\": \"\"}, \"colorscale\": [[0.0, \"#0d0887\"], [0.1111111111111111, \"#46039f\"], [0.2222222222222222, \"#7201a8\"], [0.3333333333333333, \"#9c179e\"], [0.4444444444444444, \"#bd3786\"], [0.5555555555555556, \"#d8576b\"], [0.6666666666666666, \"#ed7953\"], [0.7777777777777778, \"#fb9f3a\"], [0.8888888888888888, \"#fdca26\"], [1.0, \"#f0f921\"]], \"type\": \"histogram2dcontour\"}], \"mesh3d\": [{\"colorbar\": {\"outlinewidth\": 0, \"ticks\": \"\"}, \"type\": \"mesh3d\"}], \"parcoords\": [{\"line\": {\"colorbar\": {\"outlinewidth\": 0, \"ticks\": \"\"}}, \"type\": \"parcoords\"}], \"pie\": [{\"automargin\": true, \"type\": \"pie\"}], \"scatter\": [{\"marker\": {\"colorbar\": {\"outlinewidth\": 0, \"ticks\": \"\"}}, \"type\": \"scatter\"}], \"scatter3d\": [{\"line\": {\"colorbar\": {\"outlinewidth\": 0, \"ticks\": \"\"}}, \"marker\": {\"colorbar\": {\"outlinewidth\": 0, \"ticks\": \"\"}}, \"type\": \"scatter3d\"}], \"scattercarpet\": [{\"marker\": {\"colorbar\": {\"outlinewidth\": 0, \"ticks\": \"\"}}, \"type\": \"scattercarpet\"}], \"scattergeo\": [{\"marker\": {\"colorbar\": {\"outlinewidth\": 0, \"ticks\": \"\"}}, \"type\": \"scattergeo\"}], \"scattergl\": [{\"marker\": {\"colorbar\": {\"outlinewidth\": 0, \"ticks\": \"\"}}, \"type\": \"scattergl\"}], \"scattermapbox\": [{\"marker\": {\"colorbar\": {\"outlinewidth\": 0, \"ticks\": \"\"}}, \"type\": \"scattermapbox\"}], \"scatterpolar\": [{\"marker\": {\"colorbar\": {\"outlinewidth\": 0, \"ticks\": \"\"}}, \"type\": \"scatterpolar\"}], \"scatterpolargl\": [{\"marker\": {\"colorbar\": {\"outlinewidth\": 0, \"ticks\": \"\"}}, \"type\": \"scatterpolargl\"}], \"scatterternary\": [{\"marker\": {\"colorbar\": {\"outlinewidth\": 0, \"ticks\": \"\"}}, \"type\": \"scatterternary\"}], \"surface\": [{\"colorbar\": {\"outlinewidth\": 0, \"ticks\": \"\"}, \"colorscale\": [[0.0, \"#0d0887\"], [0.1111111111111111, \"#46039f\"], [0.2222222222222222, \"#7201a8\"], [0.3333333333333333, \"#9c179e\"], [0.4444444444444444, \"#bd3786\"], [0.5555555555555556, \"#d8576b\"], [0.6666666666666666, \"#ed7953\"], [0.7777777777777778, \"#fb9f3a\"], [0.8888888888888888, \"#fdca26\"], [1.0, \"#f0f921\"]], \"type\": \"surface\"}], \"table\": [{\"cells\": {\"fill\": {\"color\": \"#EBF0F8\"}, \"line\": {\"color\": \"white\"}}, \"header\": {\"fill\": {\"color\": \"#C8D4E3\"}, \"line\": {\"color\": \"white\"}}, \"type\": \"table\"}]}, \"layout\": {\"annotationdefaults\": {\"arrowcolor\": \"#2a3f5f\", \"arrowhead\": 0, \"arrowwidth\": 1}, \"coloraxis\": {\"colorbar\": {\"outlinewidth\": 0, \"ticks\": \"\"}}, \"colorscale\": {\"diverging\": [[0, \"#8e0152\"], [0.1, \"#c51b7d\"], [0.2, \"#de77ae\"], [0.3, \"#f1b6da\"], [0.4, \"#fde0ef\"], [0.5, \"#f7f7f7\"], [0.6, \"#e6f5d0\"], [0.7, \"#b8e186\"], [0.8, \"#7fbc41\"], [0.9, \"#4d9221\"], [1, \"#276419\"]], \"sequential\": [[0.0, \"#0d0887\"], [0.1111111111111111, \"#46039f\"], [0.2222222222222222, \"#7201a8\"], [0.3333333333333333, \"#9c179e\"], [0.4444444444444444, \"#bd3786\"], [0.5555555555555556, \"#d8576b\"], [0.6666666666666666, \"#ed7953\"], [0.7777777777777778, \"#fb9f3a\"], [0.8888888888888888, \"#fdca26\"], [1.0, \"#f0f921\"]], \"sequentialminus\": [[0.0, \"#0d0887\"], [0.1111111111111111, \"#46039f\"], [0.2222222222222222, \"#7201a8\"], [0.3333333333333333, \"#9c179e\"], [0.4444444444444444, \"#bd3786\"], [0.5555555555555556, \"#d8576b\"], [0.6666666666666666, \"#ed7953\"], [0.7777777777777778, \"#fb9f3a\"], [0.8888888888888888, \"#fdca26\"], [1.0, \"#f0f921\"]]}, \"colorway\": [\"#636efa\", \"#EF553B\", \"#00cc96\", \"#ab63fa\", \"#FFA15A\", \"#19d3f3\", \"#FF6692\", \"#B6E880\", \"#FF97FF\", \"#FECB52\"], \"font\": {\"color\": \"#2a3f5f\"}, \"geo\": {\"bgcolor\": \"white\", \"lakecolor\": \"white\", \"landcolor\": \"#E5ECF6\", \"showlakes\": true, \"showland\": true, \"subunitcolor\": \"white\"}, \"hoverlabel\": {\"align\": \"left\"}, \"hovermode\": \"closest\", \"mapbox\": {\"style\": \"light\"}, \"paper_bgcolor\": \"white\", \"plot_bgcolor\": \"#E5ECF6\", \"polar\": {\"angularaxis\": {\"gridcolor\": \"white\", \"linecolor\": \"white\", \"ticks\": \"\"}, \"bgcolor\": \"#E5ECF6\", \"radialaxis\": {\"gridcolor\": \"white\", \"linecolor\": \"white\", \"ticks\": \"\"}}, \"scene\": {\"xaxis\": {\"backgroundcolor\": \"#E5ECF6\", \"gridcolor\": \"white\", \"gridwidth\": 2, \"linecolor\": \"white\", \"showbackground\": true, \"ticks\": \"\", \"zerolinecolor\": \"white\"}, \"yaxis\": {\"backgroundcolor\": \"#E5ECF6\", \"gridcolor\": \"white\", \"gridwidth\": 2, \"linecolor\": \"white\", \"showbackground\": true, \"ticks\": \"\", \"zerolinecolor\": \"white\"}, \"zaxis\": {\"backgroundcolor\": \"#E5ECF6\", \"gridcolor\": \"white\", \"gridwidth\": 2, \"linecolor\": \"white\", \"showbackground\": true, \"ticks\": \"\", \"zerolinecolor\": \"white\"}}, \"shapedefaults\": {\"line\": {\"color\": \"#2a3f5f\"}}, \"ternary\": {\"aaxis\": {\"gridcolor\": \"white\", \"linecolor\": \"white\", \"ticks\": \"\"}, \"baxis\": {\"gridcolor\": \"white\", \"linecolor\": \"white\", \"ticks\": \"\"}, \"bgcolor\": \"#E5ECF6\", \"caxis\": {\"gridcolor\": \"white\", \"linecolor\": \"white\", \"ticks\": \"\"}}, \"title\": {\"x\": 0.05}, \"xaxis\": {\"automargin\": true, \"gridcolor\": \"white\", \"linecolor\": \"white\", \"ticks\": \"\", \"title\": {\"standoff\": 15}, \"zerolinecolor\": \"white\", \"zerolinewidth\": 2}, \"yaxis\": {\"automargin\": true, \"gridcolor\": \"white\", \"linecolor\": \"white\", \"ticks\": \"\", \"title\": {\"standoff\": 15}, \"zerolinecolor\": \"white\", \"zerolinewidth\": 2}}}},                        {\"responsive\": true}                    ).then(function(){\n",
       "                            \n",
       "var gd = document.getElementById('cde6c692-4065-4f42-b311-07bfd1c87248');\n",
       "var x = new MutationObserver(function (mutations, observer) {{\n",
       "        var display = window.getComputedStyle(gd).display;\n",
       "        if (!display || display === 'none') {{\n",
       "            console.log([gd, 'removed!']);\n",
       "            Plotly.purge(gd);\n",
       "            observer.disconnect();\n",
       "        }}\n",
       "}});\n",
       "\n",
       "// Listen for the removal of the full notebook cells\n",
       "var notebookContainer = gd.closest('#notebook-container');\n",
       "if (notebookContainer) {{\n",
       "    x.observe(notebookContainer, {childList: true});\n",
       "}}\n",
       "\n",
       "// Listen for the clearing of the current output cell\n",
       "var outputEl = gd.closest('.output');\n",
       "if (outputEl) {{\n",
       "    x.observe(outputEl, {childList: true});\n",
       "}}\n",
       "\n",
       "                        })                };                });            </script>        </div>"
      ]
     },
     "metadata": {},
     "output_type": "display_data"
    }
   ],
   "source": [
    "# create trace 1 that is 3d scatter\n",
    "import plotly.figure_factory as ff\n",
    "trace1 = go.Scatter3d(\n",
    "    x=titanic.Age,\n",
    "    y=titanic.Fare,\n",
    "    z=titanic.Sex,\n",
    "    mode='markers',\n",
    "    marker=dict(\n",
    "        size=10,\n",
    "        color='rgb(255,0,0)',                # set color to an array/list of desired values      \n",
    "    )\n",
    ")\n",
    "\n",
    "data = [trace1]\n",
    "layout = go.Layout(\n",
    "    margin=dict(\n",
    "        l=0,\n",
    "        r=0,\n",
    "        b=0,\n",
    "        t=0  \n",
    "    )\n",
    "    \n",
    ")\n",
    "fig = go.Figure(data=data, layout=layout)\n",
    "\n",
    "fig.show()\n"
   ]
  },
  {
   "cell_type": "raw",
   "metadata": {},
   "source": [
    "7. Plot a bubble plot of the ages to the fare paid by each passenger categorizing whether they survived or not. The size of each bubble should be determined by the passenger class and the name of each individual as the hover name."
   ]
  },
  {
   "cell_type": "code",
   "execution_count": null,
   "metadata": {},
   "outputs": [],
   "source": []
  },
  {
   "cell_type": "code",
   "execution_count": null,
   "metadata": {},
   "outputs": [],
   "source": []
  },
  {
   "cell_type": "code",
   "execution_count": 343,
   "metadata": {},
   "outputs": [
    {
     "data": {
      "application/vnd.plotly.v1+json": {
       "config": {
        "linkText": "Export to plot.ly",
        "plotlyServerURL": "https://plot.ly",
        "showLink": false
       },
       "data": [
        {
         "marker": {
          "color": [
           0,
           1,
           1,
           1,
           0,
           0,
           0,
           0,
           1,
           1,
           1,
           1,
           0,
           0,
           0,
           1,
           0,
           1,
           0,
           1,
           0,
           1,
           1,
           1,
           0,
           1,
           0,
           0,
           1,
           0,
           0,
           1,
           1,
           0,
           0,
           0,
           1,
           0,
           0,
           1,
           0,
           0,
           0,
           1,
           1,
           0,
           0,
           1,
           0,
           0,
           0,
           0,
           1,
           1,
           0,
           1,
           1,
           0,
           1,
           0,
           0,
           1,
           0,
           0,
           0,
           1,
           1,
           0,
           1,
           0,
           0,
           0,
           0,
           0,
           1,
           0,
           0,
           0,
           1,
           1,
           0,
           1,
           1,
           0,
           1,
           1,
           0,
           0,
           1,
           0,
           0,
           0,
           0,
           0,
           0,
           0,
           0,
           1,
           1,
           0,
           0,
           0,
           0,
           0,
           0,
           0,
           1,
           1,
           0,
           1,
           0,
           0,
           0,
           0,
           0,
           0,
           0,
           0,
           0,
           0,
           0,
           0,
           0,
           1,
           0,
           1,
           0,
           1,
           1,
           0,
           0,
           0,
           0,
           1,
           0,
           0,
           1,
           0,
           0,
           0,
           0,
           1,
           1,
           0,
           0,
           0,
           1,
           0,
           0,
           0,
           0,
           1,
           0,
           0,
           0,
           0,
           1,
           0,
           0,
           0,
           0,
           1,
           0,
           0,
           0,
           1,
           1,
           0,
           0,
           0,
           0,
           0,
           1,
           0,
           0,
           0,
           0,
           0,
           0,
           0,
           0,
           0,
           0,
           1,
           1,
           0,
           1,
           1,
           0,
           0,
           1,
           0,
           1,
           1,
           1,
           1,
           0,
           0,
           1,
           0,
           0,
           0,
           0,
           0,
           1,
           0,
           0,
           1,
           1,
           1,
           0,
           1,
           0,
           0,
           0,
           1,
           1,
           0,
           1,
           0,
           1,
           0,
           0,
           0,
           1,
           0,
           1,
           0,
           0,
           0,
           1,
           0,
           0,
           1,
           0,
           0,
           0,
           1,
           0,
           0,
           0,
           1,
           0,
           0,
           0,
           0,
           0,
           1,
           1,
           0,
           0,
           0,
           0,
           0,
           0,
           1,
           1,
           1,
           1,
           1,
           0,
           1,
           0,
           0,
           0,
           0,
           0,
           1,
           1,
           1,
           0,
           1,
           1,
           0,
           1,
           1,
           0,
           0,
           0,
           1,
           0,
           0,
           0,
           1,
           0,
           0,
           1,
           0,
           1,
           1,
           1,
           1,
           0,
           0,
           0,
           0,
           0,
           0,
           1,
           1,
           1,
           1,
           0,
           1,
           0,
           1,
           1,
           1,
           0,
           1,
           1,
           1,
           0,
           0,
           0,
           1,
           1,
           0,
           1,
           1,
           0,
           0,
           1,
           1,
           0,
           1,
           0,
           1,
           1,
           1,
           1,
           0,
           0,
           0,
           1,
           0,
           0,
           1,
           1,
           0,
           1,
           1,
           0,
           0,
           0,
           1,
           1,
           1,
           1,
           0,
           0,
           0,
           0,
           0,
           0,
           0,
           1,
           0,
           1,
           1,
           0,
           0,
           0,
           0,
           0,
           0,
           1,
           1,
           1,
           1,
           1,
           0,
           0,
           0,
           0,
           1,
           1,
           0,
           0,
           0,
           1,
           1,
           0,
           1,
           0,
           0,
           0,
           1,
           0,
           1,
           1,
           1,
           0,
           1,
           1,
           0,
           0,
           0,
           0,
           1,
           1,
           0,
           0,
           0,
           0,
           0,
           0,
           1,
           0,
           0,
           0,
           0,
           1,
           0,
           1,
           0,
           1,
           1,
           0,
           0,
           0,
           0,
           0,
           0,
           0,
           0,
           1,
           1,
           0,
           1,
           1,
           1,
           1,
           0,
           0,
           1,
           0,
           1,
           0,
           0,
           1,
           0,
           0,
           1,
           1,
           1,
           1,
           1,
           1,
           1,
           0,
           0,
           0,
           1,
           0,
           1,
           0,
           1,
           1,
           0,
           1,
           0,
           0,
           0,
           0,
           0,
           0,
           0,
           0,
           1,
           0,
           0,
           1,
           1,
           0,
           0,
           0,
           0,
           0,
           1,
           0,
           0,
           0,
           1,
           1,
           0,
           1,
           0,
           0,
           1,
           0,
           0,
           0,
           0,
           0,
           0,
           1,
           0,
           0,
           0,
           0,
           0,
           0,
           0,
           1,
           0,
           1,
           1,
           0,
           1,
           1,
           0,
           1,
           1,
           0,
           0,
           1,
           0,
           1,
           0,
           1,
           0,
           0,
           1,
           0,
           0,
           1,
           0,
           0,
           0,
           1,
           0,
           0,
           1,
           0,
           1,
           0,
           1,
           0,
           1,
           1,
           0,
           0,
           1,
           0,
           0,
           1,
           1,
           0,
           1,
           1,
           0,
           0,
           1,
           1,
           0,
           1,
           0,
           1,
           1,
           0,
           0,
           0,
           0,
           0,
           0,
           0,
           0,
           0,
           1,
           1,
           1,
           1,
           1,
           0,
           0,
           1,
           1,
           0,
           1,
           1,
           1,
           0,
           0,
           0,
           1,
           0,
           1,
           0,
           0,
           0,
           1,
           0,
           0,
           0,
           0,
           1,
           0,
           0,
           1,
           1,
           0,
           0,
           0,
           1,
           0,
           0,
           1,
           1,
           1,
           0,
           0,
           1,
           0,
           0,
           1,
           0,
           0,
           1,
           0,
           0,
           1,
           1,
           0,
           0,
           0,
           0,
           1,
           0,
           0,
           1,
           0,
           1,
           0,
           0,
           1,
           0,
           0,
           0,
           0,
           0,
           1,
           0,
           1,
           1,
           1,
           0,
           1,
           0,
           1,
           0,
           1,
           0,
           1,
           0,
           0,
           0,
           0,
           0,
           0,
           1,
           0,
           0,
           0,
           1,
           0,
           0,
           0,
           0,
           1,
           1,
           0,
           0,
           1,
           0,
           0,
           0,
           1,
           0,
           1,
           0,
           1,
           0,
           0,
           0,
           0,
           0,
           0,
           0,
           1,
           1,
           1,
           1,
           0,
           0,
           0,
           0,
           1,
           0,
           0,
           1,
           1,
           0,
           0,
           0,
           0,
           1,
           1,
           1,
           1,
           1,
           0,
           1,
           0,
           0,
           0,
           1,
           1,
           0,
           0,
           1,
           0,
           0,
           0,
           1,
           0,
           1,
           1,
           0,
           0,
           1,
           0,
           0,
           0,
           0,
           0,
           0,
           1,
           0,
           0,
           1,
           0,
           1,
           0,
           1,
           0,
           0,
           1,
           0,
           0,
           1,
           1,
           0,
           0,
           1,
           1,
           0,
           0,
           0,
           1,
           0,
           0,
           1,
           1,
           0,
           1,
           0,
           0,
           0,
           0,
           0,
           0,
           0,
           0,
           1,
           0,
           0,
           1,
           0,
           1,
           1,
           1,
           0,
           0,
           0,
           0,
           1,
           0,
           1,
           0,
           0,
           0,
           0,
           0,
           0,
           0,
           1,
           1,
           0,
           0,
           0,
           1,
           1,
           1,
           1,
           0,
           0,
           0,
           0,
           1,
           0,
           0,
           0,
           0,
           0,
           0,
           0,
           0,
           0,
           0,
           1,
           1,
           0,
           1,
           0,
           0,
           0,
           1,
           1,
           1,
           1,
           1,
           0,
           0,
           0,
           1,
           0,
           0,
           1,
           1,
           0,
           0,
           1,
           0,
           0,
           0,
           0,
           0,
           0,
           1,
           0,
           0,
           0,
           1,
           0,
           1,
           1,
           1,
           1,
           0,
           0,
           0,
           1,
           0,
           0,
           1,
           1,
           0,
           0,
           1,
           0,
           1,
           0,
           0,
           1,
           1,
           0,
           0,
           0,
           1,
           1,
           0,
           0,
           0,
           0,
           0,
           0,
           1,
           0,
           1,
           0
          ],
          "showscale": true,
          "size": [
           45,
           15,
           45,
           15,
           45,
           45,
           15,
           45,
           45,
           30,
           45,
           15,
           45,
           45,
           45,
           30,
           45,
           30,
           45,
           45,
           30,
           30,
           45,
           15,
           45,
           45,
           45,
           15,
           45,
           45,
           15,
           15,
           45,
           30,
           15,
           15,
           45,
           45,
           45,
           45,
           45,
           30,
           45,
           30,
           45,
           45,
           45,
           45,
           45,
           45,
           45,
           45,
           15,
           30,
           15,
           15,
           30,
           45,
           30,
           45,
           45,
           15,
           15,
           45,
           15,
           45,
           30,
           45,
           45,
           45,
           30,
           45,
           30,
           45,
           45,
           45,
           45,
           45,
           30,
           45,
           45,
           45,
           45,
           15,
           30,
           45,
           45,
           45,
           15,
           45,
           45,
           45,
           15,
           45,
           45,
           45,
           15,
           15,
           30,
           30,
           45,
           45,
           15,
           45,
           45,
           45,
           45,
           45,
           45,
           45,
           15,
           45,
           45,
           45,
           45,
           45,
           45,
           30,
           15,
           45,
           30,
           45,
           30,
           30,
           15,
           45,
           45,
           45,
           45,
           45,
           45,
           45,
           45,
           30,
           30,
           30,
           15,
           15,
           45,
           15,
           45,
           45,
           45,
           45,
           30,
           30,
           45,
           45,
           30,
           30,
           30,
           15,
           45,
           45,
           45,
           15,
           45,
           45,
           45,
           45,
           45,
           30,
           45,
           45,
           45,
           45,
           15,
           45,
           15,
           45,
           15,
           45,
           45,
           45,
           15,
           45,
           45,
           15,
           30,
           45,
           45,
           30,
           45,
           30,
           45,
           15,
           45,
           15,
           45,
           45,
           30,
           30,
           45,
           30,
           15,
           15,
           45,
           45,
           45,
           30,
           45,
           45,
           45,
           45,
           45,
           45,
           45,
           45,
           45,
           15,
           45,
           30,
           45,
           30,
           45,
           15,
           45,
           30,
           15,
           30,
           45,
           30,
           45,
           45,
           15,
           45,
           30,
           45,
           30,
           45,
           15,
           45,
           30,
           45,
           30,
           45,
           30,
           30,
           30,
           30,
           45,
           45,
           30,
           45,
           45,
           15,
           45,
           30,
           15,
           30,
           45,
           45,
           15,
           45,
           45,
           45,
           15,
           15,
           15,
           30,
           45,
           45,
           15,
           15,
           45,
           30,
           45,
           45,
           15,
           15,
           15,
           45,
           30,
           15,
           45,
           15,
           45,
           30,
           45,
           45,
           45,
           45,
           45,
           45,
           15,
           45,
           45,
           45,
           30,
           45,
           15,
           15,
           30,
           45,
           45,
           15,
           45,
           15,
           15,
           15,
           45,
           45,
           45,
           30,
           45,
           15,
           15,
           15,
           30,
           15,
           15,
           15,
           30,
           45,
           30,
           45,
           30,
           30,
           15,
           15,
           45,
           45,
           30,
           30,
           45,
           15,
           45,
           30,
           45,
           15,
           45,
           15,
           15,
           45,
           15,
           45,
           15,
           15,
           45,
           15,
           30,
           15,
           30,
           30,
           30,
           30,
           30,
           45,
           45,
           45,
           45,
           15,
           45,
           45,
           45,
           45,
           15,
           30,
           45,
           45,
           45,
           30,
           45,
           45,
           45,
           45,
           15,
           45,
           45,
           15,
           15,
           45,
           45,
           15,
           45,
           15,
           45,
           15,
           45,
           45,
           15,
           45,
           45,
           15,
           45,
           30,
           45,
           30,
           45,
           30,
           15,
           45,
           45,
           15,
           45,
           45,
           45,
           30,
           30,
           30,
           45,
           45,
           45,
           45,
           45,
           30,
           45,
           30,
           45,
           45,
           45,
           45,
           15,
           30,
           45,
           45,
           30,
           30,
           30,
           45,
           45,
           45,
           45,
           45,
           45,
           45,
           30,
           30,
           45,
           45,
           15,
           45,
           30,
           45,
           15,
           15,
           45,
           30,
           15,
           30,
           30,
           45,
           45,
           30,
           45,
           15,
           30,
           15,
           45,
           15,
           30,
           45,
           15,
           15,
           45,
           45,
           15,
           15,
           30,
           45,
           15,
           45,
           15,
           30,
           45,
           45,
           30,
           15,
           45,
           45,
           45,
           45,
           30,
           30,
           45,
           15,
           30,
           45,
           45,
           45,
           45,
           30,
           45,
           45,
           15,
           45,
           15,
           15,
           45,
           45,
           45,
           45,
           15,
           15,
           45,
           45,
           15,
           45,
           15,
           45,
           45,
           45,
           45,
           45,
           15,
           15,
           30,
           15,
           45,
           45,
           45,
           45,
           15,
           15,
           45,
           15,
           30,
           45,
           30,
           45,
           15,
           45,
           45,
           15,
           45,
           45,
           30,
           15,
           45,
           30,
           30,
           45,
           45,
           45,
           45,
           30,
           15,
           15,
           45,
           15,
           15,
           45,
           45,
           30,
           15,
           15,
           30,
           30,
           45,
           30,
           15,
           30,
           45,
           45,
           45,
           15,
           15,
           15,
           15,
           45,
           45,
           45,
           30,
           45,
           45,
           45,
           45,
           45,
           45,
           45,
           30,
           15,
           15,
           45,
           45,
           45,
           30,
           15,
           45,
           45,
           30,
           15,
           30,
           15,
           45,
           15,
           30,
           15,
           45,
           45,
           45,
           15,
           45,
           45,
           30,
           45,
           30,
           45,
           45,
           15,
           30,
           45,
           15,
           45,
           15,
           45,
           45,
           15,
           30,
           15,
           45,
           45,
           45,
           45,
           45,
           30,
           45,
           45,
           30,
           30,
           45,
           15,
           45,
           45,
           45,
           15,
           30,
           15,
           45,
           45,
           15,
           45,
           15,
           15,
           45,
           30,
           45,
           30,
           45,
           45,
           45,
           15,
           45,
           45,
           45,
           15,
           45,
           15,
           45,
           45,
           45,
           30,
           45,
           45,
           45,
           30,
           45,
           45,
           30,
           15,
           15,
           45,
           15,
           45,
           45,
           30,
           30,
           45,
           45,
           15,
           30,
           15,
           30,
           30,
           30,
           45,
           45,
           45,
           45,
           15,
           45,
           15,
           45,
           45,
           30,
           30,
           45,
           45,
           45,
           15,
           15,
           45,
           45,
           45,
           15,
           30,
           45,
           45,
           15,
           45,
           15,
           15,
           45,
           45,
           45,
           30,
           30,
           15,
           15,
           45,
           15,
           15,
           15,
           45,
           30,
           45,
           15,
           30,
           45,
           45,
           30,
           45,
           30,
           30,
           15,
           45,
           30,
           45,
           30,
           45,
           15,
           45,
           30,
           30,
           30,
           45,
           45,
           15,
           45,
           45,
           15,
           15,
           15,
           45,
           45,
           15,
           45,
           30,
           15,
           45,
           30,
           45,
           45,
           45,
           30,
           30,
           45,
           30,
           45,
           15,
           45,
           45,
           45,
           15,
           45,
           15,
           15,
           45,
           45,
           45,
           45,
           45,
           30,
           45,
           30,
           45,
           45,
           45,
           45,
           15,
           45,
           15,
           15,
           45,
           45,
           45,
           45,
           45,
           45,
           15,
           45,
           30,
           45,
           15,
           45,
           30,
           15,
           45,
           45,
           45,
           30,
           30,
           15,
           45,
           45,
           45,
           15,
           45,
           30,
           15,
           45,
           45,
           30,
           45,
           45,
           15,
           45,
           30,
           45,
           45,
           15,
           45,
           15,
           45,
           45,
           45,
           45,
           30,
           45,
           15,
           45,
           30,
           45,
           45,
           45,
           15,
           45,
           45,
           45,
           15,
           45,
           30,
           15,
           45,
           45,
           45,
           45,
           45,
           30,
           15,
           45,
           45,
           45,
           15,
           30,
           45,
           15,
           15,
           45,
           45,
           45,
           30,
           15,
           45,
           30,
           30,
           30,
           15,
           45,
           45,
           45,
           15,
           15,
           45,
           30,
           45,
           45,
           45,
           45,
           15,
           30,
           45,
           45,
           30,
           45,
           45,
           30,
           15,
           45,
           15,
           45
          ]
         },
         "mode": "markers",
         "text": [
          3,
          1,
          3,
          1,
          3,
          3,
          1,
          3,
          3,
          2,
          3,
          1,
          3,
          3,
          3,
          2,
          3,
          2,
          3,
          3,
          2,
          2,
          3,
          1,
          3,
          3,
          3,
          1,
          3,
          3,
          1,
          1,
          3,
          2,
          1,
          1,
          3,
          3,
          3,
          3,
          3,
          2,
          3,
          2,
          3,
          3,
          3,
          3,
          3,
          3,
          3,
          3,
          1,
          2,
          1,
          1,
          2,
          3,
          2,
          3,
          3,
          1,
          1,
          3,
          1,
          3,
          2,
          3,
          3,
          3,
          2,
          3,
          2,
          3,
          3,
          3,
          3,
          3,
          2,
          3,
          3,
          3,
          3,
          1,
          2,
          3,
          3,
          3,
          1,
          3,
          3,
          3,
          1,
          3,
          3,
          3,
          1,
          1,
          2,
          2,
          3,
          3,
          1,
          3,
          3,
          3,
          3,
          3,
          3,
          3,
          1,
          3,
          3,
          3,
          3,
          3,
          3,
          2,
          1,
          3,
          2,
          3,
          2,
          2,
          1,
          3,
          3,
          3,
          3,
          3,
          3,
          3,
          3,
          2,
          2,
          2,
          1,
          1,
          3,
          1,
          3,
          3,
          3,
          3,
          2,
          2,
          3,
          3,
          2,
          2,
          2,
          1,
          3,
          3,
          3,
          1,
          3,
          3,
          3,
          3,
          3,
          2,
          3,
          3,
          3,
          3,
          1,
          3,
          1,
          3,
          1,
          3,
          3,
          3,
          1,
          3,
          3,
          1,
          2,
          3,
          3,
          2,
          3,
          2,
          3,
          1,
          3,
          1,
          3,
          3,
          2,
          2,
          3,
          2,
          1,
          1,
          3,
          3,
          3,
          2,
          3,
          3,
          3,
          3,
          3,
          3,
          3,
          3,
          3,
          1,
          3,
          2,
          3,
          2,
          3,
          1,
          3,
          2,
          1,
          2,
          3,
          2,
          3,
          3,
          1,
          3,
          2,
          3,
          2,
          3,
          1,
          3,
          2,
          3,
          2,
          3,
          2,
          2,
          2,
          2,
          3,
          3,
          2,
          3,
          3,
          1,
          3,
          2,
          1,
          2,
          3,
          3,
          1,
          3,
          3,
          3,
          1,
          1,
          1,
          2,
          3,
          3,
          1,
          1,
          3,
          2,
          3,
          3,
          1,
          1,
          1,
          3,
          2,
          1,
          3,
          1,
          3,
          2,
          3,
          3,
          3,
          3,
          3,
          3,
          1,
          3,
          3,
          3,
          2,
          3,
          1,
          1,
          2,
          3,
          3,
          1,
          3,
          1,
          1,
          1,
          3,
          3,
          3,
          2,
          3,
          1,
          1,
          1,
          2,
          1,
          1,
          1,
          2,
          3,
          2,
          3,
          2,
          2,
          1,
          1,
          3,
          3,
          2,
          2,
          3,
          1,
          3,
          2,
          3,
          1,
          3,
          1,
          1,
          3,
          1,
          3,
          1,
          1,
          3,
          1,
          2,
          1,
          2,
          2,
          2,
          2,
          2,
          3,
          3,
          3,
          3,
          1,
          3,
          3,
          3,
          3,
          1,
          2,
          3,
          3,
          3,
          2,
          3,
          3,
          3,
          3,
          1,
          3,
          3,
          1,
          1,
          3,
          3,
          1,
          3,
          1,
          3,
          1,
          3,
          3,
          1,
          3,
          3,
          1,
          3,
          2,
          3,
          2,
          3,
          2,
          1,
          3,
          3,
          1,
          3,
          3,
          3,
          2,
          2,
          2,
          3,
          3,
          3,
          3,
          3,
          2,
          3,
          2,
          3,
          3,
          3,
          3,
          1,
          2,
          3,
          3,
          2,
          2,
          2,
          3,
          3,
          3,
          3,
          3,
          3,
          3,
          2,
          2,
          3,
          3,
          1,
          3,
          2,
          3,
          1,
          1,
          3,
          2,
          1,
          2,
          2,
          3,
          3,
          2,
          3,
          1,
          2,
          1,
          3,
          1,
          2,
          3,
          1,
          1,
          3,
          3,
          1,
          1,
          2,
          3,
          1,
          3,
          1,
          2,
          3,
          3,
          2,
          1,
          3,
          3,
          3,
          3,
          2,
          2,
          3,
          1,
          2,
          3,
          3,
          3,
          3,
          2,
          3,
          3,
          1,
          3,
          1,
          1,
          3,
          3,
          3,
          3,
          1,
          1,
          3,
          3,
          1,
          3,
          1,
          3,
          3,
          3,
          3,
          3,
          1,
          1,
          2,
          1,
          3,
          3,
          3,
          3,
          1,
          1,
          3,
          1,
          2,
          3,
          2,
          3,
          1,
          3,
          3,
          1,
          3,
          3,
          2,
          1,
          3,
          2,
          2,
          3,
          3,
          3,
          3,
          2,
          1,
          1,
          3,
          1,
          1,
          3,
          3,
          2,
          1,
          1,
          2,
          2,
          3,
          2,
          1,
          2,
          3,
          3,
          3,
          1,
          1,
          1,
          1,
          3,
          3,
          3,
          2,
          3,
          3,
          3,
          3,
          3,
          3,
          3,
          2,
          1,
          1,
          3,
          3,
          3,
          2,
          1,
          3,
          3,
          2,
          1,
          2,
          1,
          3,
          1,
          2,
          1,
          3,
          3,
          3,
          1,
          3,
          3,
          2,
          3,
          2,
          3,
          3,
          1,
          2,
          3,
          1,
          3,
          1,
          3,
          3,
          1,
          2,
          1,
          3,
          3,
          3,
          3,
          3,
          2,
          3,
          3,
          2,
          2,
          3,
          1,
          3,
          3,
          3,
          1,
          2,
          1,
          3,
          3,
          1,
          3,
          1,
          1,
          3,
          2,
          3,
          2,
          3,
          3,
          3,
          1,
          3,
          3,
          3,
          1,
          3,
          1,
          3,
          3,
          3,
          2,
          3,
          3,
          3,
          2,
          3,
          3,
          2,
          1,
          1,
          3,
          1,
          3,
          3,
          2,
          2,
          3,
          3,
          1,
          2,
          1,
          2,
          2,
          2,
          3,
          3,
          3,
          3,
          1,
          3,
          1,
          3,
          3,
          2,
          2,
          3,
          3,
          3,
          1,
          1,
          3,
          3,
          3,
          1,
          2,
          3,
          3,
          1,
          3,
          1,
          1,
          3,
          3,
          3,
          2,
          2,
          1,
          1,
          3,
          1,
          1,
          1,
          3,
          2,
          3,
          1,
          2,
          3,
          3,
          2,
          3,
          2,
          2,
          1,
          3,
          2,
          3,
          2,
          3,
          1,
          3,
          2,
          2,
          2,
          3,
          3,
          1,
          3,
          3,
          1,
          1,
          1,
          3,
          3,
          1,
          3,
          2,
          1,
          3,
          2,
          3,
          3,
          3,
          2,
          2,
          3,
          2,
          3,
          1,
          3,
          3,
          3,
          1,
          3,
          1,
          1,
          3,
          3,
          3,
          3,
          3,
          2,
          3,
          2,
          3,
          3,
          3,
          3,
          1,
          3,
          1,
          1,
          3,
          3,
          3,
          3,
          3,
          3,
          1,
          3,
          2,
          3,
          1,
          3,
          2,
          1,
          3,
          3,
          3,
          2,
          2,
          1,
          3,
          3,
          3,
          1,
          3,
          2,
          1,
          3,
          3,
          2,
          3,
          3,
          1,
          3,
          2,
          3,
          3,
          1,
          3,
          1,
          3,
          3,
          3,
          3,
          2,
          3,
          1,
          3,
          2,
          3,
          3,
          3,
          1,
          3,
          3,
          3,
          1,
          3,
          2,
          1,
          3,
          3,
          3,
          3,
          3,
          2,
          1,
          3,
          3,
          3,
          1,
          2,
          3,
          1,
          1,
          3,
          3,
          3,
          2,
          1,
          3,
          2,
          2,
          2,
          1,
          3,
          3,
          3,
          1,
          1,
          3,
          2,
          3,
          3,
          3,
          3,
          1,
          2,
          3,
          3,
          2,
          3,
          3,
          2,
          1,
          3,
          1,
          3
         ],
         "type": "scatter",
         "x": [
          22,
          38,
          26,
          35,
          35,
          "29",
          54,
          2,
          27,
          14,
          4,
          58,
          20,
          39,
          14,
          55,
          2,
          "29",
          31,
          "29",
          35,
          34,
          15,
          28,
          8,
          38,
          "29",
          19,
          "29",
          "29",
          40,
          "29",
          "29",
          66,
          28,
          42,
          "29",
          21,
          18,
          14,
          40,
          27,
          "29",
          3,
          19,
          "29",
          "29",
          "29",
          "29",
          18,
          7,
          21,
          49,
          29,
          65,
          "29",
          21,
          28.5,
          5,
          11,
          22,
          38,
          45,
          4,
          "29",
          "29",
          29,
          19,
          17,
          26,
          32,
          16,
          21,
          26,
          32,
          25,
          "29",
          "29",
          0.83,
          30,
          22,
          29,
          "29",
          28,
          17,
          33,
          16,
          "29",
          23,
          24,
          29,
          20,
          46,
          26,
          59,
          "29",
          71,
          23,
          34,
          34,
          28,
          "29",
          21,
          33,
          37,
          28,
          21,
          "29",
          38,
          "29",
          47,
          14.5,
          22,
          20,
          17,
          21,
          70.5,
          29,
          24,
          2,
          21,
          "29",
          32.5,
          32.5,
          54,
          12,
          "29",
          24,
          "29",
          45,
          33,
          20,
          47,
          29,
          25,
          23,
          19,
          37,
          16,
          24,
          "29",
          22,
          24,
          19,
          18,
          19,
          27,
          9,
          36.5,
          42,
          51,
          22,
          55.5,
          40.5,
          "29",
          51,
          16,
          30,
          "29",
          "29",
          44,
          40,
          26,
          17,
          1,
          9,
          "29",
          45,
          "29",
          28,
          61,
          4,
          1,
          21,
          56,
          18,
          "29",
          50,
          30,
          36,
          "29",
          "29",
          9,
          1,
          4,
          "29",
          "29",
          45,
          40,
          36,
          32,
          19,
          19,
          3,
          44,
          58,
          "29",
          42,
          "29",
          24,
          28,
          "29",
          34,
          45.5,
          18,
          2,
          32,
          26,
          16,
          40,
          24,
          35,
          22,
          30,
          "29",
          31,
          27,
          42,
          32,
          30,
          16,
          27,
          51,
          "29",
          38,
          22,
          19,
          20.5,
          18,
          "29",
          35,
          29,
          59,
          5,
          24,
          "29",
          44,
          8,
          19,
          33,
          "29",
          "29",
          29,
          22,
          30,
          44,
          25,
          24,
          37,
          54,
          "29",
          29,
          62,
          30,
          41,
          29,
          "29",
          30,
          35,
          50,
          "29",
          3,
          52,
          40,
          "29",
          36,
          16,
          25,
          58,
          35,
          "29",
          25,
          41,
          37,
          "29",
          63,
          45,
          "29",
          7,
          35,
          65,
          28,
          16,
          19,
          "29",
          33,
          30,
          22,
          42,
          22,
          26,
          19,
          36,
          24,
          24,
          "29",
          23.5,
          2,
          "29",
          50,
          "29",
          "29",
          19,
          "29",
          "29",
          0.92,
          "29",
          17,
          30,
          30,
          24,
          18,
          26,
          28,
          43,
          26,
          24,
          54,
          31,
          40,
          22,
          27,
          30,
          22,
          "29",
          36,
          61,
          36,
          31,
          16,
          "29",
          45.5,
          38,
          16,
          "29",
          "29",
          29,
          41,
          45,
          45,
          2,
          24,
          28,
          25,
          36,
          24,
          40,
          "29",
          3,
          42,
          23,
          "29",
          15,
          25,
          "29",
          28,
          22,
          38,
          "29",
          "29",
          40,
          29,
          45,
          35,
          "29",
          30,
          60,
          "29",
          "29",
          24,
          25,
          18,
          19,
          22,
          3,
          "29",
          22,
          27,
          20,
          19,
          42,
          1,
          32,
          35,
          "29",
          18,
          1,
          36,
          "29",
          17,
          36,
          21,
          28,
          23,
          24,
          22,
          31,
          46,
          23,
          28,
          39,
          26,
          21,
          28,
          20,
          34,
          51,
          3,
          21,
          "29",
          "29",
          "29",
          33,
          "29",
          44,
          "29",
          34,
          18,
          30,
          10,
          "29",
          21,
          29,
          28,
          18,
          "29",
          28,
          19,
          "29",
          32,
          28,
          "29",
          42,
          17,
          50,
          14,
          21,
          24,
          64,
          31,
          45,
          20,
          25,
          28,
          "29",
          4,
          13,
          34,
          5,
          52,
          36,
          "29",
          30,
          49,
          "29",
          29,
          65,
          "29",
          50,
          "29",
          48,
          34,
          47,
          48,
          "29",
          38,
          "29",
          56,
          "29",
          0.75,
          "29",
          38,
          33,
          23,
          22,
          "29",
          34,
          29,
          22,
          2,
          9,
          "29",
          50,
          63,
          25,
          "29",
          35,
          58,
          30,
          9,
          "29",
          21,
          55,
          71,
          21,
          "29",
          54,
          "29",
          25,
          24,
          17,
          21,
          "29",
          37,
          16,
          18,
          33,
          "29",
          28,
          26,
          29,
          "29",
          36,
          54,
          24,
          47,
          34,
          "29",
          36,
          32,
          30,
          22,
          "29",
          44,
          "29",
          40.5,
          50,
          "29",
          39,
          23,
          2,
          "29",
          17,
          "29",
          30,
          7,
          45,
          30,
          "29",
          22,
          36,
          9,
          11,
          32,
          50,
          64,
          19,
          "29",
          33,
          8,
          17,
          27,
          "29",
          22,
          22,
          62,
          48,
          "29",
          39,
          36,
          "29",
          40,
          28,
          "29",
          "29",
          24,
          19,
          29,
          "29",
          32,
          62,
          53,
          36,
          "29",
          16,
          19,
          34,
          39,
          "29",
          32,
          25,
          39,
          54,
          36,
          "29",
          18,
          47,
          60,
          22,
          "29",
          35,
          52,
          47,
          "29",
          37,
          36,
          "29",
          49,
          "29",
          49,
          24,
          "29",
          "29",
          44,
          35,
          36,
          30,
          27,
          22,
          40,
          39,
          "29",
          "29",
          "29",
          35,
          24,
          34,
          26,
          4,
          26,
          27,
          42,
          20,
          21,
          21,
          61,
          57,
          21,
          26,
          "29",
          80,
          51,
          32,
          "29",
          9,
          28,
          32,
          31,
          41,
          "29",
          20,
          24,
          2,
          "29",
          0.75,
          48,
          19,
          56,
          "29",
          23,
          "29",
          18,
          21,
          "29",
          18,
          24,
          "29",
          32,
          23,
          58,
          50,
          40,
          47,
          36,
          20,
          32,
          25,
          "29",
          43,
          "29",
          40,
          31,
          70,
          31,
          "29",
          18,
          24.5,
          18,
          43,
          36,
          "29",
          27,
          20,
          14,
          60,
          25,
          14,
          19,
          18,
          15,
          31,
          4,
          "29",
          25,
          60,
          52,
          44,
          "29",
          49,
          42,
          18,
          35,
          18,
          25,
          26,
          39,
          45,
          42,
          22,
          "29",
          24,
          "29",
          48,
          29,
          52,
          19,
          38,
          27,
          "29",
          33,
          6,
          17,
          34,
          50,
          27,
          20,
          30,
          "29",
          25,
          25,
          29,
          11,
          "29",
          23,
          23,
          28.5,
          48,
          35,
          "29",
          "29",
          "29",
          36,
          21,
          24,
          31,
          70,
          16,
          30,
          19,
          31,
          4,
          6,
          33,
          23,
          48,
          0.67,
          28,
          18,
          34,
          33,
          "29",
          41,
          20,
          36,
          16,
          51,
          "29",
          30.5,
          "29",
          32,
          24,
          48,
          57,
          "29",
          54,
          18,
          "29",
          5,
          "29",
          43,
          13,
          17,
          29,
          "29",
          25,
          25,
          18,
          8,
          1,
          46,
          "29",
          16,
          "29",
          "29",
          25,
          39,
          49,
          31,
          30,
          30,
          34,
          31,
          11,
          0.42,
          27,
          31,
          39,
          18,
          39,
          33,
          26,
          39,
          35,
          6,
          30.5,
          "29",
          23,
          31,
          43,
          10,
          52,
          27,
          38,
          27,
          2,
          "29",
          "29",
          1,
          "29",
          62,
          15,
          0.83,
          "29",
          23,
          18,
          39,
          21,
          "29",
          32,
          "29",
          20,
          16,
          30,
          34.5,
          17,
          42,
          "29",
          35,
          28,
          "29",
          4,
          74,
          9,
          16,
          44,
          18,
          45,
          51,
          24,
          "29",
          41,
          21,
          48,
          "29",
          24,
          42,
          27,
          31,
          "29",
          4,
          26,
          47,
          33,
          47,
          28,
          15,
          20,
          19,
          "29",
          56,
          25,
          33,
          22,
          28,
          25,
          39,
          27,
          19,
          "29",
          26,
          32
         ],
         "y": [
          7.25,
          71.2833,
          7.925,
          53.1,
          8.05,
          8.4583,
          51.8625,
          21.075,
          11.1333,
          30.0708,
          16.7,
          26.55,
          8.05,
          31.275,
          7.8542,
          16,
          29.125,
          13,
          18,
          7.225,
          26,
          13,
          8.0292,
          35.5,
          21.075,
          31.3875,
          7.225,
          263,
          7.8792,
          7.8958,
          27.7208,
          146.5208,
          7.75,
          10.5,
          82.1708,
          52,
          7.2292,
          8.05,
          18,
          11.2417,
          9.475,
          21,
          7.8958,
          41.5792,
          7.8792,
          8.05,
          15.5,
          7.75,
          21.6792,
          17.8,
          39.6875,
          7.8,
          76.7292,
          26,
          61.9792,
          35.5,
          10.5,
          7.2292,
          27.75,
          46.9,
          7.2292,
          80,
          83.475,
          27.9,
          27.7208,
          15.2458,
          10.5,
          8.1583,
          7.925,
          8.6625,
          10.5,
          46.9,
          73.5,
          14.4542,
          56.4958,
          7.65,
          7.8958,
          8.05,
          29,
          12.475,
          9,
          9.5,
          7.7875,
          47.1,
          10.5,
          15.85,
          34.375,
          8.05,
          263,
          8.05,
          8.05,
          7.8542,
          61.175,
          20.575,
          7.25,
          8.05,
          34.6542,
          63.3583,
          23,
          26,
          7.8958,
          7.8958,
          77.2875,
          8.6542,
          7.925,
          7.8958,
          7.65,
          7.775,
          7.8958,
          24.15,
          52,
          14.4542,
          8.05,
          9.825,
          14.4583,
          7.925,
          7.75,
          21,
          247.5208,
          31.275,
          73.5,
          8.05,
          30.0708,
          13,
          77.2875,
          11.2417,
          7.75,
          7.1417,
          22.3583,
          6.975,
          7.8958,
          7.05,
          14.5,
          26,
          13,
          15.0458,
          26.2833,
          53.1,
          9.2167,
          79.2,
          15.2458,
          7.75,
          15.85,
          6.75,
          11.5,
          36.75,
          7.7958,
          34.375,
          26,
          13,
          12.525,
          66.6,
          8.05,
          14.5,
          7.3125,
          61.3792,
          7.7333,
          8.05,
          8.6625,
          69.55,
          16.1,
          15.75,
          7.775,
          8.6625,
          39.6875,
          20.525,
          55,
          27.9,
          25.925,
          56.4958,
          33.5,
          29.125,
          11.1333,
          7.925,
          30.6958,
          7.8542,
          25.4667,
          28.7125,
          13,
          0,
          69.55,
          15.05,
          31.3875,
          39,
          22.025,
          50,
          15.5,
          26.55,
          15.5,
          7.8958,
          13,
          13,
          7.8542,
          26,
          27.7208,
          146.5208,
          7.75,
          8.4042,
          7.75,
          13,
          9.5,
          69.55,
          6.4958,
          7.225,
          8.05,
          10.4625,
          15.85,
          18.7875,
          7.75,
          31,
          7.05,
          21,
          7.25,
          13,
          7.75,
          113.275,
          7.925,
          27,
          76.2917,
          10.5,
          8.05,
          13,
          8.05,
          7.8958,
          90,
          9.35,
          10.5,
          7.25,
          13,
          25.4667,
          83.475,
          7.775,
          13.5,
          31.3875,
          10.5,
          7.55,
          26,
          26.25,
          10.5,
          12.275,
          14.4542,
          15.5,
          10.5,
          7.125,
          7.225,
          90,
          7.775,
          14.5,
          52.5542,
          26,
          7.25,
          10.4625,
          26.55,
          16.1,
          20.2125,
          15.2458,
          79.2,
          86.5,
          512.3292,
          26,
          7.75,
          31.3875,
          79.65,
          0,
          7.75,
          10.5,
          39.6875,
          7.775,
          153.4625,
          135.6333,
          31,
          0,
          19.5,
          29.7,
          7.75,
          77.9583,
          7.75,
          0,
          29.125,
          20.25,
          7.75,
          7.8542,
          9.5,
          8.05,
          26,
          8.6625,
          9.5,
          7.8958,
          13,
          7.75,
          78.85,
          91.0792,
          12.875,
          8.85,
          7.8958,
          27.7208,
          7.2292,
          151.55,
          30.5,
          247.5208,
          7.75,
          23.25,
          0,
          12.35,
          8.05,
          151.55,
          110.8833,
          108.9,
          24,
          56.9292,
          83.1583,
          262.375,
          26,
          7.8958,
          26.25,
          7.8542,
          26,
          14,
          164.8667,
          134.5,
          7.25,
          7.8958,
          12.35,
          29,
          69.55,
          135.6333,
          6.2375,
          13,
          20.525,
          57.9792,
          23.25,
          28.5,
          153.4625,
          18,
          133.65,
          7.8958,
          66.6,
          134.5,
          8.05,
          35.5,
          26,
          263,
          13,
          13,
          13,
          13,
          13,
          16.1,
          15.9,
          8.6625,
          9.225,
          35,
          7.2292,
          17.8,
          7.225,
          9.5,
          55,
          13,
          7.8792,
          7.8792,
          27.9,
          27.7208,
          14.4542,
          7.05,
          15.5,
          7.25,
          75.25,
          7.2292,
          7.75,
          69.3,
          55.4417,
          6.4958,
          8.05,
          135.6333,
          21.075,
          82.1708,
          7.25,
          211.5,
          4.0125,
          7.775,
          227.525,
          15.7417,
          7.925,
          52,
          7.8958,
          73.5,
          46.9,
          13,
          7.7292,
          12,
          120,
          7.7958,
          7.925,
          113.275,
          16.7,
          7.7958,
          7.8542,
          26,
          10.5,
          12.65,
          7.925,
          8.05,
          9.825,
          15.85,
          8.6625,
          21,
          7.75,
          18.75,
          7.775,
          25.4667,
          7.8958,
          6.8583,
          90,
          0,
          7.925,
          8.05,
          32.5,
          13,
          13,
          24.15,
          7.8958,
          7.7333,
          7.875,
          14.4,
          20.2125,
          7.25,
          26,
          26,
          7.75,
          8.05,
          26.55,
          16.1,
          26,
          7.125,
          55.9,
          120,
          34.375,
          18.75,
          263,
          10.5,
          26.25,
          9.5,
          7.775,
          13,
          8.1125,
          81.8583,
          19.5,
          26.55,
          19.2583,
          30.5,
          27.75,
          19.9667,
          27.75,
          89.1042,
          8.05,
          7.8958,
          26.55,
          51.8625,
          10.5,
          7.75,
          26.55,
          8.05,
          38.5,
          13,
          8.05,
          7.05,
          0,
          26.55,
          7.725,
          19.2583,
          7.25,
          8.6625,
          27.75,
          13.7917,
          9.8375,
          52,
          21,
          7.0458,
          7.5208,
          12.2875,
          46.9,
          0,
          8.05,
          9.5875,
          91.0792,
          25.4667,
          90,
          29.7,
          8.05,
          15.9,
          19.9667,
          7.25,
          30.5,
          49.5042,
          8.05,
          14.4583,
          78.2667,
          15.1,
          151.55,
          7.7958,
          8.6625,
          7.75,
          7.6292,
          9.5875,
          86.5,
          108.9,
          26,
          26.55,
          22.525,
          56.4958,
          7.75,
          8.05,
          26.2875,
          59.4,
          7.4958,
          34.0208,
          10.5,
          24.15,
          26,
          7.8958,
          93.5,
          7.8958,
          7.225,
          57.9792,
          7.2292,
          7.75,
          10.5,
          221.7792,
          7.925,
          11.5,
          26,
          7.2292,
          7.2292,
          22.3583,
          8.6625,
          26.25,
          26.55,
          106.425,
          14.5,
          49.5,
          71,
          31.275,
          31.275,
          26,
          106.425,
          26,
          26,
          13.8625,
          20.525,
          36.75,
          110.8833,
          26,
          7.8292,
          7.225,
          7.775,
          26.55,
          39.6,
          227.525,
          79.65,
          17.4,
          7.75,
          7.8958,
          13.5,
          8.05,
          8.05,
          24.15,
          7.8958,
          21.075,
          7.2292,
          7.8542,
          10.5,
          51.4792,
          26.3875,
          7.75,
          8.05,
          14.5,
          13,
          55.9,
          14.4583,
          7.925,
          30,
          110.8833,
          26,
          40.125,
          8.7125,
          79.65,
          15,
          79.2,
          8.05,
          8.05,
          7.125,
          78.2667,
          7.25,
          7.75,
          26,
          24.15,
          33,
          0,
          7.225,
          56.9292,
          27,
          7.8958,
          42.4,
          8.05,
          26.55,
          15.55,
          7.8958,
          30.5,
          41.5792,
          153.4625,
          31.275,
          7.05,
          15.5,
          7.75,
          8.05,
          65,
          14.4,
          16.1,
          39,
          10.5,
          14.4542,
          52.5542,
          15.7417,
          7.8542,
          16.1,
          32.3208,
          12.35,
          77.9583,
          7.8958,
          7.7333,
          30,
          7.0542,
          30.5,
          0,
          27.9,
          13,
          7.925,
          26.25,
          39.6875,
          16.1,
          7.8542,
          69.3,
          27.9,
          56.4958,
          19.2583,
          76.7292,
          7.8958,
          35.5,
          7.55,
          7.55,
          7.8958,
          23,
          8.4333,
          7.8292,
          6.75,
          73.5,
          7.8958,
          15.5,
          13,
          113.275,
          133.65,
          7.225,
          25.5875,
          7.4958,
          7.925,
          73.5,
          13,
          7.775,
          8.05,
          52,
          39,
          52,
          10.5,
          13,
          0,
          7.775,
          8.05,
          9.8417,
          46.9,
          512.3292,
          8.1375,
          76.7292,
          9.225,
          46.9,
          39,
          41.5792,
          39.6875,
          10.1708,
          7.7958,
          211.3375,
          57,
          13.4167,
          56.4958,
          7.225,
          26.55,
          13.5,
          8.05,
          7.7333,
          110.8833,
          7.65,
          227.525,
          26.2875,
          14.4542,
          7.7417,
          7.8542,
          26,
          13.5,
          26.2875,
          151.55,
          15.2458,
          49.5042,
          26.55,
          52,
          9.4833,
          13,
          7.65,
          227.525,
          10.5,
          15.5,
          7.775,
          33,
          7.0542,
          13,
          13,
          53.1,
          8.6625,
          21,
          7.7375,
          26,
          7.925,
          211.3375,
          18.7875,
          0,
          13,
          13,
          16.1,
          34.375,
          512.3292,
          7.8958,
          7.8958,
          30,
          78.85,
          262.375,
          16.1,
          7.925,
          71,
          20.25,
          13,
          53.1,
          7.75,
          23,
          12.475,
          9.5,
          7.8958,
          65,
          14.5,
          7.7958,
          11.5,
          8.05,
          86.5,
          14.5,
          7.125,
          7.2292,
          120,
          7.775,
          77.9583,
          39.6,
          7.75,
          24.15,
          8.3625,
          9.5,
          7.8542,
          10.5,
          7.225,
          23,
          7.75,
          7.75,
          12.475,
          7.7375,
          211.3375,
          7.2292,
          57,
          30,
          23.45,
          7.05,
          7.25,
          7.4958,
          29.125,
          20.575,
          79.2,
          7.75,
          26,
          69.55,
          30.6958,
          7.8958,
          13,
          25.9292,
          8.6833,
          7.2292,
          24.15,
          13,
          26.25,
          120,
          8.5167,
          6.975,
          7.775,
          0,
          7.775,
          13,
          53.1,
          7.8875,
          24.15,
          10.5,
          31.275,
          8.05,
          0,
          7.925,
          37.0042,
          6.45,
          27.9,
          93.5,
          8.6625,
          0,
          12.475,
          39.6875,
          6.95,
          56.4958,
          37.0042,
          7.75,
          80,
          14.4542,
          18.75,
          7.2292,
          7.8542,
          8.3,
          83.1583,
          8.6625,
          8.05,
          56.4958,
          29.7,
          7.925,
          10.5,
          31,
          6.4375,
          8.6625,
          7.55,
          69.55,
          7.8958,
          33,
          89.1042,
          31.275,
          7.775,
          15.2458,
          39.4,
          26,
          9.35,
          164.8667,
          26.55,
          19.2583,
          7.2292,
          14.1083,
          11.5,
          25.9292,
          69.55,
          13,
          13,
          13.8583,
          50.4958,
          9.5,
          11.1333,
          7.8958,
          52.5542,
          5,
          9,
          24,
          7.225,
          9.8458,
          7.8958,
          7.8958,
          83.1583,
          26,
          7.8958,
          10.5167,
          10.5,
          7.05,
          29.125,
          13,
          30,
          23.45,
          30,
          7.75
         ]
        }
       ],
       "layout": {
        "template": {
         "data": {
          "bar": [
           {
            "error_x": {
             "color": "#2a3f5f"
            },
            "error_y": {
             "color": "#2a3f5f"
            },
            "marker": {
             "line": {
              "color": "#E5ECF6",
              "width": 0.5
             }
            },
            "type": "bar"
           }
          ],
          "barpolar": [
           {
            "marker": {
             "line": {
              "color": "#E5ECF6",
              "width": 0.5
             }
            },
            "type": "barpolar"
           }
          ],
          "carpet": [
           {
            "aaxis": {
             "endlinecolor": "#2a3f5f",
             "gridcolor": "white",
             "linecolor": "white",
             "minorgridcolor": "white",
             "startlinecolor": "#2a3f5f"
            },
            "baxis": {
             "endlinecolor": "#2a3f5f",
             "gridcolor": "white",
             "linecolor": "white",
             "minorgridcolor": "white",
             "startlinecolor": "#2a3f5f"
            },
            "type": "carpet"
           }
          ],
          "choropleth": [
           {
            "colorbar": {
             "outlinewidth": 0,
             "ticks": ""
            },
            "type": "choropleth"
           }
          ],
          "contour": [
           {
            "colorbar": {
             "outlinewidth": 0,
             "ticks": ""
            },
            "colorscale": [
             [
              0,
              "#0d0887"
             ],
             [
              0.1111111111111111,
              "#46039f"
             ],
             [
              0.2222222222222222,
              "#7201a8"
             ],
             [
              0.3333333333333333,
              "#9c179e"
             ],
             [
              0.4444444444444444,
              "#bd3786"
             ],
             [
              0.5555555555555556,
              "#d8576b"
             ],
             [
              0.6666666666666666,
              "#ed7953"
             ],
             [
              0.7777777777777778,
              "#fb9f3a"
             ],
             [
              0.8888888888888888,
              "#fdca26"
             ],
             [
              1,
              "#f0f921"
             ]
            ],
            "type": "contour"
           }
          ],
          "contourcarpet": [
           {
            "colorbar": {
             "outlinewidth": 0,
             "ticks": ""
            },
            "type": "contourcarpet"
           }
          ],
          "heatmap": [
           {
            "colorbar": {
             "outlinewidth": 0,
             "ticks": ""
            },
            "colorscale": [
             [
              0,
              "#0d0887"
             ],
             [
              0.1111111111111111,
              "#46039f"
             ],
             [
              0.2222222222222222,
              "#7201a8"
             ],
             [
              0.3333333333333333,
              "#9c179e"
             ],
             [
              0.4444444444444444,
              "#bd3786"
             ],
             [
              0.5555555555555556,
              "#d8576b"
             ],
             [
              0.6666666666666666,
              "#ed7953"
             ],
             [
              0.7777777777777778,
              "#fb9f3a"
             ],
             [
              0.8888888888888888,
              "#fdca26"
             ],
             [
              1,
              "#f0f921"
             ]
            ],
            "type": "heatmap"
           }
          ],
          "heatmapgl": [
           {
            "colorbar": {
             "outlinewidth": 0,
             "ticks": ""
            },
            "colorscale": [
             [
              0,
              "#0d0887"
             ],
             [
              0.1111111111111111,
              "#46039f"
             ],
             [
              0.2222222222222222,
              "#7201a8"
             ],
             [
              0.3333333333333333,
              "#9c179e"
             ],
             [
              0.4444444444444444,
              "#bd3786"
             ],
             [
              0.5555555555555556,
              "#d8576b"
             ],
             [
              0.6666666666666666,
              "#ed7953"
             ],
             [
              0.7777777777777778,
              "#fb9f3a"
             ],
             [
              0.8888888888888888,
              "#fdca26"
             ],
             [
              1,
              "#f0f921"
             ]
            ],
            "type": "heatmapgl"
           }
          ],
          "histogram": [
           {
            "marker": {
             "colorbar": {
              "outlinewidth": 0,
              "ticks": ""
             }
            },
            "type": "histogram"
           }
          ],
          "histogram2d": [
           {
            "colorbar": {
             "outlinewidth": 0,
             "ticks": ""
            },
            "colorscale": [
             [
              0,
              "#0d0887"
             ],
             [
              0.1111111111111111,
              "#46039f"
             ],
             [
              0.2222222222222222,
              "#7201a8"
             ],
             [
              0.3333333333333333,
              "#9c179e"
             ],
             [
              0.4444444444444444,
              "#bd3786"
             ],
             [
              0.5555555555555556,
              "#d8576b"
             ],
             [
              0.6666666666666666,
              "#ed7953"
             ],
             [
              0.7777777777777778,
              "#fb9f3a"
             ],
             [
              0.8888888888888888,
              "#fdca26"
             ],
             [
              1,
              "#f0f921"
             ]
            ],
            "type": "histogram2d"
           }
          ],
          "histogram2dcontour": [
           {
            "colorbar": {
             "outlinewidth": 0,
             "ticks": ""
            },
            "colorscale": [
             [
              0,
              "#0d0887"
             ],
             [
              0.1111111111111111,
              "#46039f"
             ],
             [
              0.2222222222222222,
              "#7201a8"
             ],
             [
              0.3333333333333333,
              "#9c179e"
             ],
             [
              0.4444444444444444,
              "#bd3786"
             ],
             [
              0.5555555555555556,
              "#d8576b"
             ],
             [
              0.6666666666666666,
              "#ed7953"
             ],
             [
              0.7777777777777778,
              "#fb9f3a"
             ],
             [
              0.8888888888888888,
              "#fdca26"
             ],
             [
              1,
              "#f0f921"
             ]
            ],
            "type": "histogram2dcontour"
           }
          ],
          "mesh3d": [
           {
            "colorbar": {
             "outlinewidth": 0,
             "ticks": ""
            },
            "type": "mesh3d"
           }
          ],
          "parcoords": [
           {
            "line": {
             "colorbar": {
              "outlinewidth": 0,
              "ticks": ""
             }
            },
            "type": "parcoords"
           }
          ],
          "pie": [
           {
            "automargin": true,
            "type": "pie"
           }
          ],
          "scatter": [
           {
            "marker": {
             "colorbar": {
              "outlinewidth": 0,
              "ticks": ""
             }
            },
            "type": "scatter"
           }
          ],
          "scatter3d": [
           {
            "line": {
             "colorbar": {
              "outlinewidth": 0,
              "ticks": ""
             }
            },
            "marker": {
             "colorbar": {
              "outlinewidth": 0,
              "ticks": ""
             }
            },
            "type": "scatter3d"
           }
          ],
          "scattercarpet": [
           {
            "marker": {
             "colorbar": {
              "outlinewidth": 0,
              "ticks": ""
             }
            },
            "type": "scattercarpet"
           }
          ],
          "scattergeo": [
           {
            "marker": {
             "colorbar": {
              "outlinewidth": 0,
              "ticks": ""
             }
            },
            "type": "scattergeo"
           }
          ],
          "scattergl": [
           {
            "marker": {
             "colorbar": {
              "outlinewidth": 0,
              "ticks": ""
             }
            },
            "type": "scattergl"
           }
          ],
          "scattermapbox": [
           {
            "marker": {
             "colorbar": {
              "outlinewidth": 0,
              "ticks": ""
             }
            },
            "type": "scattermapbox"
           }
          ],
          "scatterpolar": [
           {
            "marker": {
             "colorbar": {
              "outlinewidth": 0,
              "ticks": ""
             }
            },
            "type": "scatterpolar"
           }
          ],
          "scatterpolargl": [
           {
            "marker": {
             "colorbar": {
              "outlinewidth": 0,
              "ticks": ""
             }
            },
            "type": "scatterpolargl"
           }
          ],
          "scatterternary": [
           {
            "marker": {
             "colorbar": {
              "outlinewidth": 0,
              "ticks": ""
             }
            },
            "type": "scatterternary"
           }
          ],
          "surface": [
           {
            "colorbar": {
             "outlinewidth": 0,
             "ticks": ""
            },
            "colorscale": [
             [
              0,
              "#0d0887"
             ],
             [
              0.1111111111111111,
              "#46039f"
             ],
             [
              0.2222222222222222,
              "#7201a8"
             ],
             [
              0.3333333333333333,
              "#9c179e"
             ],
             [
              0.4444444444444444,
              "#bd3786"
             ],
             [
              0.5555555555555556,
              "#d8576b"
             ],
             [
              0.6666666666666666,
              "#ed7953"
             ],
             [
              0.7777777777777778,
              "#fb9f3a"
             ],
             [
              0.8888888888888888,
              "#fdca26"
             ],
             [
              1,
              "#f0f921"
             ]
            ],
            "type": "surface"
           }
          ],
          "table": [
           {
            "cells": {
             "fill": {
              "color": "#EBF0F8"
             },
             "line": {
              "color": "white"
             }
            },
            "header": {
             "fill": {
              "color": "#C8D4E3"
             },
             "line": {
              "color": "white"
             }
            },
            "type": "table"
           }
          ]
         },
         "layout": {
          "annotationdefaults": {
           "arrowcolor": "#2a3f5f",
           "arrowhead": 0,
           "arrowwidth": 1
          },
          "coloraxis": {
           "colorbar": {
            "outlinewidth": 0,
            "ticks": ""
           }
          },
          "colorscale": {
           "diverging": [
            [
             0,
             "#8e0152"
            ],
            [
             0.1,
             "#c51b7d"
            ],
            [
             0.2,
             "#de77ae"
            ],
            [
             0.3,
             "#f1b6da"
            ],
            [
             0.4,
             "#fde0ef"
            ],
            [
             0.5,
             "#f7f7f7"
            ],
            [
             0.6,
             "#e6f5d0"
            ],
            [
             0.7,
             "#b8e186"
            ],
            [
             0.8,
             "#7fbc41"
            ],
            [
             0.9,
             "#4d9221"
            ],
            [
             1,
             "#276419"
            ]
           ],
           "sequential": [
            [
             0,
             "#0d0887"
            ],
            [
             0.1111111111111111,
             "#46039f"
            ],
            [
             0.2222222222222222,
             "#7201a8"
            ],
            [
             0.3333333333333333,
             "#9c179e"
            ],
            [
             0.4444444444444444,
             "#bd3786"
            ],
            [
             0.5555555555555556,
             "#d8576b"
            ],
            [
             0.6666666666666666,
             "#ed7953"
            ],
            [
             0.7777777777777778,
             "#fb9f3a"
            ],
            [
             0.8888888888888888,
             "#fdca26"
            ],
            [
             1,
             "#f0f921"
            ]
           ],
           "sequentialminus": [
            [
             0,
             "#0d0887"
            ],
            [
             0.1111111111111111,
             "#46039f"
            ],
            [
             0.2222222222222222,
             "#7201a8"
            ],
            [
             0.3333333333333333,
             "#9c179e"
            ],
            [
             0.4444444444444444,
             "#bd3786"
            ],
            [
             0.5555555555555556,
             "#d8576b"
            ],
            [
             0.6666666666666666,
             "#ed7953"
            ],
            [
             0.7777777777777778,
             "#fb9f3a"
            ],
            [
             0.8888888888888888,
             "#fdca26"
            ],
            [
             1,
             "#f0f921"
            ]
           ]
          },
          "colorway": [
           "#636efa",
           "#EF553B",
           "#00cc96",
           "#ab63fa",
           "#FFA15A",
           "#19d3f3",
           "#FF6692",
           "#B6E880",
           "#FF97FF",
           "#FECB52"
          ],
          "font": {
           "color": "#2a3f5f"
          },
          "geo": {
           "bgcolor": "white",
           "lakecolor": "white",
           "landcolor": "#E5ECF6",
           "showlakes": true,
           "showland": true,
           "subunitcolor": "white"
          },
          "hoverlabel": {
           "align": "left"
          },
          "hovermode": "closest",
          "mapbox": {
           "style": "light"
          },
          "paper_bgcolor": "white",
          "plot_bgcolor": "#E5ECF6",
          "polar": {
           "angularaxis": {
            "gridcolor": "white",
            "linecolor": "white",
            "ticks": ""
           },
           "bgcolor": "#E5ECF6",
           "radialaxis": {
            "gridcolor": "white",
            "linecolor": "white",
            "ticks": ""
           }
          },
          "scene": {
           "xaxis": {
            "backgroundcolor": "#E5ECF6",
            "gridcolor": "white",
            "gridwidth": 2,
            "linecolor": "white",
            "showbackground": true,
            "ticks": "",
            "zerolinecolor": "white"
           },
           "yaxis": {
            "backgroundcolor": "#E5ECF6",
            "gridcolor": "white",
            "gridwidth": 2,
            "linecolor": "white",
            "showbackground": true,
            "ticks": "",
            "zerolinecolor": "white"
           },
           "zaxis": {
            "backgroundcolor": "#E5ECF6",
            "gridcolor": "white",
            "gridwidth": 2,
            "linecolor": "white",
            "showbackground": true,
            "ticks": "",
            "zerolinecolor": "white"
           }
          },
          "shapedefaults": {
           "line": {
            "color": "#2a3f5f"
           }
          },
          "ternary": {
           "aaxis": {
            "gridcolor": "white",
            "linecolor": "white",
            "ticks": ""
           },
           "baxis": {
            "gridcolor": "white",
            "linecolor": "white",
            "ticks": ""
           },
           "bgcolor": "#E5ECF6",
           "caxis": {
            "gridcolor": "white",
            "linecolor": "white",
            "ticks": ""
           }
          },
          "title": {
           "x": 0.05
          },
          "xaxis": {
           "automargin": true,
           "gridcolor": "white",
           "linecolor": "white",
           "ticks": "",
           "title": {
            "standoff": 15
           },
           "zerolinecolor": "white",
           "zerolinewidth": 2
          },
          "yaxis": {
           "automargin": true,
           "gridcolor": "white",
           "linecolor": "white",
           "ticks": "",
           "title": {
            "standoff": 15
           },
           "zerolinecolor": "white",
           "zerolinewidth": 2
          }
         }
        },
        "title": {
         "text": "Fare vs Age with Survivability and Pclass"
        },
        "xaxis": {
         "title": {
          "text": "Age"
         }
        },
        "yaxis": {
         "title": {
          "text": "Fare"
         }
        }
       }
      },
      "text/html": [
       "<div>                            <div id=\"536fe2d7-80d9-47bc-9016-ec2a474b4a64\" class=\"plotly-graph-div\" style=\"height:525px; width:100%;\"></div>            <script type=\"text/javascript\">                require([\"plotly\"], function(Plotly) {                    window.PLOTLYENV=window.PLOTLYENV || {};                                    if (document.getElementById(\"536fe2d7-80d9-47bc-9016-ec2a474b4a64\")) {                    Plotly.newPlot(                        \"536fe2d7-80d9-47bc-9016-ec2a474b4a64\",                        [{\"marker\": {\"color\": [0, 1, 1, 1, 0, 0, 0, 0, 1, 1, 1, 1, 0, 0, 0, 1, 0, 1, 0, 1, 0, 1, 1, 1, 0, 1, 0, 0, 1, 0, 0, 1, 1, 0, 0, 0, 1, 0, 0, 1, 0, 0, 0, 1, 1, 0, 0, 1, 0, 0, 0, 0, 1, 1, 0, 1, 1, 0, 1, 0, 0, 1, 0, 0, 0, 1, 1, 0, 1, 0, 0, 0, 0, 0, 1, 0, 0, 0, 1, 1, 0, 1, 1, 0, 1, 1, 0, 0, 1, 0, 0, 0, 0, 0, 0, 0, 0, 1, 1, 0, 0, 0, 0, 0, 0, 0, 1, 1, 0, 1, 0, 0, 0, 0, 0, 0, 0, 0, 0, 0, 0, 0, 0, 1, 0, 1, 0, 1, 1, 0, 0, 0, 0, 1, 0, 0, 1, 0, 0, 0, 0, 1, 1, 0, 0, 0, 1, 0, 0, 0, 0, 1, 0, 0, 0, 0, 1, 0, 0, 0, 0, 1, 0, 0, 0, 1, 1, 0, 0, 0, 0, 0, 1, 0, 0, 0, 0, 0, 0, 0, 0, 0, 0, 1, 1, 0, 1, 1, 0, 0, 1, 0, 1, 1, 1, 1, 0, 0, 1, 0, 0, 0, 0, 0, 1, 0, 0, 1, 1, 1, 0, 1, 0, 0, 0, 1, 1, 0, 1, 0, 1, 0, 0, 0, 1, 0, 1, 0, 0, 0, 1, 0, 0, 1, 0, 0, 0, 1, 0, 0, 0, 1, 0, 0, 0, 0, 0, 1, 1, 0, 0, 0, 0, 0, 0, 1, 1, 1, 1, 1, 0, 1, 0, 0, 0, 0, 0, 1, 1, 1, 0, 1, 1, 0, 1, 1, 0, 0, 0, 1, 0, 0, 0, 1, 0, 0, 1, 0, 1, 1, 1, 1, 0, 0, 0, 0, 0, 0, 1, 1, 1, 1, 0, 1, 0, 1, 1, 1, 0, 1, 1, 1, 0, 0, 0, 1, 1, 0, 1, 1, 0, 0, 1, 1, 0, 1, 0, 1, 1, 1, 1, 0, 0, 0, 1, 0, 0, 1, 1, 0, 1, 1, 0, 0, 0, 1, 1, 1, 1, 0, 0, 0, 0, 0, 0, 0, 1, 0, 1, 1, 0, 0, 0, 0, 0, 0, 1, 1, 1, 1, 1, 0, 0, 0, 0, 1, 1, 0, 0, 0, 1, 1, 0, 1, 0, 0, 0, 1, 0, 1, 1, 1, 0, 1, 1, 0, 0, 0, 0, 1, 1, 0, 0, 0, 0, 0, 0, 1, 0, 0, 0, 0, 1, 0, 1, 0, 1, 1, 0, 0, 0, 0, 0, 0, 0, 0, 1, 1, 0, 1, 1, 1, 1, 0, 0, 1, 0, 1, 0, 0, 1, 0, 0, 1, 1, 1, 1, 1, 1, 1, 0, 0, 0, 1, 0, 1, 0, 1, 1, 0, 1, 0, 0, 0, 0, 0, 0, 0, 0, 1, 0, 0, 1, 1, 0, 0, 0, 0, 0, 1, 0, 0, 0, 1, 1, 0, 1, 0, 0, 1, 0, 0, 0, 0, 0, 0, 1, 0, 0, 0, 0, 0, 0, 0, 1, 0, 1, 1, 0, 1, 1, 0, 1, 1, 0, 0, 1, 0, 1, 0, 1, 0, 0, 1, 0, 0, 1, 0, 0, 0, 1, 0, 0, 1, 0, 1, 0, 1, 0, 1, 1, 0, 0, 1, 0, 0, 1, 1, 0, 1, 1, 0, 0, 1, 1, 0, 1, 0, 1, 1, 0, 0, 0, 0, 0, 0, 0, 0, 0, 1, 1, 1, 1, 1, 0, 0, 1, 1, 0, 1, 1, 1, 0, 0, 0, 1, 0, 1, 0, 0, 0, 1, 0, 0, 0, 0, 1, 0, 0, 1, 1, 0, 0, 0, 1, 0, 0, 1, 1, 1, 0, 0, 1, 0, 0, 1, 0, 0, 1, 0, 0, 1, 1, 0, 0, 0, 0, 1, 0, 0, 1, 0, 1, 0, 0, 1, 0, 0, 0, 0, 0, 1, 0, 1, 1, 1, 0, 1, 0, 1, 0, 1, 0, 1, 0, 0, 0, 0, 0, 0, 1, 0, 0, 0, 1, 0, 0, 0, 0, 1, 1, 0, 0, 1, 0, 0, 0, 1, 0, 1, 0, 1, 0, 0, 0, 0, 0, 0, 0, 1, 1, 1, 1, 0, 0, 0, 0, 1, 0, 0, 1, 1, 0, 0, 0, 0, 1, 1, 1, 1, 1, 0, 1, 0, 0, 0, 1, 1, 0, 0, 1, 0, 0, 0, 1, 0, 1, 1, 0, 0, 1, 0, 0, 0, 0, 0, 0, 1, 0, 0, 1, 0, 1, 0, 1, 0, 0, 1, 0, 0, 1, 1, 0, 0, 1, 1, 0, 0, 0, 1, 0, 0, 1, 1, 0, 1, 0, 0, 0, 0, 0, 0, 0, 0, 1, 0, 0, 1, 0, 1, 1, 1, 0, 0, 0, 0, 1, 0, 1, 0, 0, 0, 0, 0, 0, 0, 1, 1, 0, 0, 0, 1, 1, 1, 1, 0, 0, 0, 0, 1, 0, 0, 0, 0, 0, 0, 0, 0, 0, 0, 1, 1, 0, 1, 0, 0, 0, 1, 1, 1, 1, 1, 0, 0, 0, 1, 0, 0, 1, 1, 0, 0, 1, 0, 0, 0, 0, 0, 0, 1, 0, 0, 0, 1, 0, 1, 1, 1, 1, 0, 0, 0, 1, 0, 0, 1, 1, 0, 0, 1, 0, 1, 0, 0, 1, 1, 0, 0, 0, 1, 1, 0, 0, 0, 0, 0, 0, 1, 0, 1, 0], \"showscale\": true, \"size\": [45, 15, 45, 15, 45, 45, 15, 45, 45, 30, 45, 15, 45, 45, 45, 30, 45, 30, 45, 45, 30, 30, 45, 15, 45, 45, 45, 15, 45, 45, 15, 15, 45, 30, 15, 15, 45, 45, 45, 45, 45, 30, 45, 30, 45, 45, 45, 45, 45, 45, 45, 45, 15, 30, 15, 15, 30, 45, 30, 45, 45, 15, 15, 45, 15, 45, 30, 45, 45, 45, 30, 45, 30, 45, 45, 45, 45, 45, 30, 45, 45, 45, 45, 15, 30, 45, 45, 45, 15, 45, 45, 45, 15, 45, 45, 45, 15, 15, 30, 30, 45, 45, 15, 45, 45, 45, 45, 45, 45, 45, 15, 45, 45, 45, 45, 45, 45, 30, 15, 45, 30, 45, 30, 30, 15, 45, 45, 45, 45, 45, 45, 45, 45, 30, 30, 30, 15, 15, 45, 15, 45, 45, 45, 45, 30, 30, 45, 45, 30, 30, 30, 15, 45, 45, 45, 15, 45, 45, 45, 45, 45, 30, 45, 45, 45, 45, 15, 45, 15, 45, 15, 45, 45, 45, 15, 45, 45, 15, 30, 45, 45, 30, 45, 30, 45, 15, 45, 15, 45, 45, 30, 30, 45, 30, 15, 15, 45, 45, 45, 30, 45, 45, 45, 45, 45, 45, 45, 45, 45, 15, 45, 30, 45, 30, 45, 15, 45, 30, 15, 30, 45, 30, 45, 45, 15, 45, 30, 45, 30, 45, 15, 45, 30, 45, 30, 45, 30, 30, 30, 30, 45, 45, 30, 45, 45, 15, 45, 30, 15, 30, 45, 45, 15, 45, 45, 45, 15, 15, 15, 30, 45, 45, 15, 15, 45, 30, 45, 45, 15, 15, 15, 45, 30, 15, 45, 15, 45, 30, 45, 45, 45, 45, 45, 45, 15, 45, 45, 45, 30, 45, 15, 15, 30, 45, 45, 15, 45, 15, 15, 15, 45, 45, 45, 30, 45, 15, 15, 15, 30, 15, 15, 15, 30, 45, 30, 45, 30, 30, 15, 15, 45, 45, 30, 30, 45, 15, 45, 30, 45, 15, 45, 15, 15, 45, 15, 45, 15, 15, 45, 15, 30, 15, 30, 30, 30, 30, 30, 45, 45, 45, 45, 15, 45, 45, 45, 45, 15, 30, 45, 45, 45, 30, 45, 45, 45, 45, 15, 45, 45, 15, 15, 45, 45, 15, 45, 15, 45, 15, 45, 45, 15, 45, 45, 15, 45, 30, 45, 30, 45, 30, 15, 45, 45, 15, 45, 45, 45, 30, 30, 30, 45, 45, 45, 45, 45, 30, 45, 30, 45, 45, 45, 45, 15, 30, 45, 45, 30, 30, 30, 45, 45, 45, 45, 45, 45, 45, 30, 30, 45, 45, 15, 45, 30, 45, 15, 15, 45, 30, 15, 30, 30, 45, 45, 30, 45, 15, 30, 15, 45, 15, 30, 45, 15, 15, 45, 45, 15, 15, 30, 45, 15, 45, 15, 30, 45, 45, 30, 15, 45, 45, 45, 45, 30, 30, 45, 15, 30, 45, 45, 45, 45, 30, 45, 45, 15, 45, 15, 15, 45, 45, 45, 45, 15, 15, 45, 45, 15, 45, 15, 45, 45, 45, 45, 45, 15, 15, 30, 15, 45, 45, 45, 45, 15, 15, 45, 15, 30, 45, 30, 45, 15, 45, 45, 15, 45, 45, 30, 15, 45, 30, 30, 45, 45, 45, 45, 30, 15, 15, 45, 15, 15, 45, 45, 30, 15, 15, 30, 30, 45, 30, 15, 30, 45, 45, 45, 15, 15, 15, 15, 45, 45, 45, 30, 45, 45, 45, 45, 45, 45, 45, 30, 15, 15, 45, 45, 45, 30, 15, 45, 45, 30, 15, 30, 15, 45, 15, 30, 15, 45, 45, 45, 15, 45, 45, 30, 45, 30, 45, 45, 15, 30, 45, 15, 45, 15, 45, 45, 15, 30, 15, 45, 45, 45, 45, 45, 30, 45, 45, 30, 30, 45, 15, 45, 45, 45, 15, 30, 15, 45, 45, 15, 45, 15, 15, 45, 30, 45, 30, 45, 45, 45, 15, 45, 45, 45, 15, 45, 15, 45, 45, 45, 30, 45, 45, 45, 30, 45, 45, 30, 15, 15, 45, 15, 45, 45, 30, 30, 45, 45, 15, 30, 15, 30, 30, 30, 45, 45, 45, 45, 15, 45, 15, 45, 45, 30, 30, 45, 45, 45, 15, 15, 45, 45, 45, 15, 30, 45, 45, 15, 45, 15, 15, 45, 45, 45, 30, 30, 15, 15, 45, 15, 15, 15, 45, 30, 45, 15, 30, 45, 45, 30, 45, 30, 30, 15, 45, 30, 45, 30, 45, 15, 45, 30, 30, 30, 45, 45, 15, 45, 45, 15, 15, 15, 45, 45, 15, 45, 30, 15, 45, 30, 45, 45, 45, 30, 30, 45, 30, 45, 15, 45, 45, 45, 15, 45, 15, 15, 45, 45, 45, 45, 45, 30, 45, 30, 45, 45, 45, 45, 15, 45, 15, 15, 45, 45, 45, 45, 45, 45, 15, 45, 30, 45, 15, 45, 30, 15, 45, 45, 45, 30, 30, 15, 45, 45, 45, 15, 45, 30, 15, 45, 45, 30, 45, 45, 15, 45, 30, 45, 45, 15, 45, 15, 45, 45, 45, 45, 30, 45, 15, 45, 30, 45, 45, 45, 15, 45, 45, 45, 15, 45, 30, 15, 45, 45, 45, 45, 45, 30, 15, 45, 45, 45, 15, 30, 45, 15, 15, 45, 45, 45, 30, 15, 45, 30, 30, 30, 15, 45, 45, 45, 15, 15, 45, 30, 45, 45, 45, 45, 15, 30, 45, 45, 30, 45, 45, 30, 15, 45, 15, 45]}, \"mode\": \"markers\", \"text\": [3.0, 1.0, 3.0, 1.0, 3.0, 3.0, 1.0, 3.0, 3.0, 2.0, 3.0, 1.0, 3.0, 3.0, 3.0, 2.0, 3.0, 2.0, 3.0, 3.0, 2.0, 2.0, 3.0, 1.0, 3.0, 3.0, 3.0, 1.0, 3.0, 3.0, 1.0, 1.0, 3.0, 2.0, 1.0, 1.0, 3.0, 3.0, 3.0, 3.0, 3.0, 2.0, 3.0, 2.0, 3.0, 3.0, 3.0, 3.0, 3.0, 3.0, 3.0, 3.0, 1.0, 2.0, 1.0, 1.0, 2.0, 3.0, 2.0, 3.0, 3.0, 1.0, 1.0, 3.0, 1.0, 3.0, 2.0, 3.0, 3.0, 3.0, 2.0, 3.0, 2.0, 3.0, 3.0, 3.0, 3.0, 3.0, 2.0, 3.0, 3.0, 3.0, 3.0, 1.0, 2.0, 3.0, 3.0, 3.0, 1.0, 3.0, 3.0, 3.0, 1.0, 3.0, 3.0, 3.0, 1.0, 1.0, 2.0, 2.0, 3.0, 3.0, 1.0, 3.0, 3.0, 3.0, 3.0, 3.0, 3.0, 3.0, 1.0, 3.0, 3.0, 3.0, 3.0, 3.0, 3.0, 2.0, 1.0, 3.0, 2.0, 3.0, 2.0, 2.0, 1.0, 3.0, 3.0, 3.0, 3.0, 3.0, 3.0, 3.0, 3.0, 2.0, 2.0, 2.0, 1.0, 1.0, 3.0, 1.0, 3.0, 3.0, 3.0, 3.0, 2.0, 2.0, 3.0, 3.0, 2.0, 2.0, 2.0, 1.0, 3.0, 3.0, 3.0, 1.0, 3.0, 3.0, 3.0, 3.0, 3.0, 2.0, 3.0, 3.0, 3.0, 3.0, 1.0, 3.0, 1.0, 3.0, 1.0, 3.0, 3.0, 3.0, 1.0, 3.0, 3.0, 1.0, 2.0, 3.0, 3.0, 2.0, 3.0, 2.0, 3.0, 1.0, 3.0, 1.0, 3.0, 3.0, 2.0, 2.0, 3.0, 2.0, 1.0, 1.0, 3.0, 3.0, 3.0, 2.0, 3.0, 3.0, 3.0, 3.0, 3.0, 3.0, 3.0, 3.0, 3.0, 1.0, 3.0, 2.0, 3.0, 2.0, 3.0, 1.0, 3.0, 2.0, 1.0, 2.0, 3.0, 2.0, 3.0, 3.0, 1.0, 3.0, 2.0, 3.0, 2.0, 3.0, 1.0, 3.0, 2.0, 3.0, 2.0, 3.0, 2.0, 2.0, 2.0, 2.0, 3.0, 3.0, 2.0, 3.0, 3.0, 1.0, 3.0, 2.0, 1.0, 2.0, 3.0, 3.0, 1.0, 3.0, 3.0, 3.0, 1.0, 1.0, 1.0, 2.0, 3.0, 3.0, 1.0, 1.0, 3.0, 2.0, 3.0, 3.0, 1.0, 1.0, 1.0, 3.0, 2.0, 1.0, 3.0, 1.0, 3.0, 2.0, 3.0, 3.0, 3.0, 3.0, 3.0, 3.0, 1.0, 3.0, 3.0, 3.0, 2.0, 3.0, 1.0, 1.0, 2.0, 3.0, 3.0, 1.0, 3.0, 1.0, 1.0, 1.0, 3.0, 3.0, 3.0, 2.0, 3.0, 1.0, 1.0, 1.0, 2.0, 1.0, 1.0, 1.0, 2.0, 3.0, 2.0, 3.0, 2.0, 2.0, 1.0, 1.0, 3.0, 3.0, 2.0, 2.0, 3.0, 1.0, 3.0, 2.0, 3.0, 1.0, 3.0, 1.0, 1.0, 3.0, 1.0, 3.0, 1.0, 1.0, 3.0, 1.0, 2.0, 1.0, 2.0, 2.0, 2.0, 2.0, 2.0, 3.0, 3.0, 3.0, 3.0, 1.0, 3.0, 3.0, 3.0, 3.0, 1.0, 2.0, 3.0, 3.0, 3.0, 2.0, 3.0, 3.0, 3.0, 3.0, 1.0, 3.0, 3.0, 1.0, 1.0, 3.0, 3.0, 1.0, 3.0, 1.0, 3.0, 1.0, 3.0, 3.0, 1.0, 3.0, 3.0, 1.0, 3.0, 2.0, 3.0, 2.0, 3.0, 2.0, 1.0, 3.0, 3.0, 1.0, 3.0, 3.0, 3.0, 2.0, 2.0, 2.0, 3.0, 3.0, 3.0, 3.0, 3.0, 2.0, 3.0, 2.0, 3.0, 3.0, 3.0, 3.0, 1.0, 2.0, 3.0, 3.0, 2.0, 2.0, 2.0, 3.0, 3.0, 3.0, 3.0, 3.0, 3.0, 3.0, 2.0, 2.0, 3.0, 3.0, 1.0, 3.0, 2.0, 3.0, 1.0, 1.0, 3.0, 2.0, 1.0, 2.0, 2.0, 3.0, 3.0, 2.0, 3.0, 1.0, 2.0, 1.0, 3.0, 1.0, 2.0, 3.0, 1.0, 1.0, 3.0, 3.0, 1.0, 1.0, 2.0, 3.0, 1.0, 3.0, 1.0, 2.0, 3.0, 3.0, 2.0, 1.0, 3.0, 3.0, 3.0, 3.0, 2.0, 2.0, 3.0, 1.0, 2.0, 3.0, 3.0, 3.0, 3.0, 2.0, 3.0, 3.0, 1.0, 3.0, 1.0, 1.0, 3.0, 3.0, 3.0, 3.0, 1.0, 1.0, 3.0, 3.0, 1.0, 3.0, 1.0, 3.0, 3.0, 3.0, 3.0, 3.0, 1.0, 1.0, 2.0, 1.0, 3.0, 3.0, 3.0, 3.0, 1.0, 1.0, 3.0, 1.0, 2.0, 3.0, 2.0, 3.0, 1.0, 3.0, 3.0, 1.0, 3.0, 3.0, 2.0, 1.0, 3.0, 2.0, 2.0, 3.0, 3.0, 3.0, 3.0, 2.0, 1.0, 1.0, 3.0, 1.0, 1.0, 3.0, 3.0, 2.0, 1.0, 1.0, 2.0, 2.0, 3.0, 2.0, 1.0, 2.0, 3.0, 3.0, 3.0, 1.0, 1.0, 1.0, 1.0, 3.0, 3.0, 3.0, 2.0, 3.0, 3.0, 3.0, 3.0, 3.0, 3.0, 3.0, 2.0, 1.0, 1.0, 3.0, 3.0, 3.0, 2.0, 1.0, 3.0, 3.0, 2.0, 1.0, 2.0, 1.0, 3.0, 1.0, 2.0, 1.0, 3.0, 3.0, 3.0, 1.0, 3.0, 3.0, 2.0, 3.0, 2.0, 3.0, 3.0, 1.0, 2.0, 3.0, 1.0, 3.0, 1.0, 3.0, 3.0, 1.0, 2.0, 1.0, 3.0, 3.0, 3.0, 3.0, 3.0, 2.0, 3.0, 3.0, 2.0, 2.0, 3.0, 1.0, 3.0, 3.0, 3.0, 1.0, 2.0, 1.0, 3.0, 3.0, 1.0, 3.0, 1.0, 1.0, 3.0, 2.0, 3.0, 2.0, 3.0, 3.0, 3.0, 1.0, 3.0, 3.0, 3.0, 1.0, 3.0, 1.0, 3.0, 3.0, 3.0, 2.0, 3.0, 3.0, 3.0, 2.0, 3.0, 3.0, 2.0, 1.0, 1.0, 3.0, 1.0, 3.0, 3.0, 2.0, 2.0, 3.0, 3.0, 1.0, 2.0, 1.0, 2.0, 2.0, 2.0, 3.0, 3.0, 3.0, 3.0, 1.0, 3.0, 1.0, 3.0, 3.0, 2.0, 2.0, 3.0, 3.0, 3.0, 1.0, 1.0, 3.0, 3.0, 3.0, 1.0, 2.0, 3.0, 3.0, 1.0, 3.0, 1.0, 1.0, 3.0, 3.0, 3.0, 2.0, 2.0, 1.0, 1.0, 3.0, 1.0, 1.0, 1.0, 3.0, 2.0, 3.0, 1.0, 2.0, 3.0, 3.0, 2.0, 3.0, 2.0, 2.0, 1.0, 3.0, 2.0, 3.0, 2.0, 3.0, 1.0, 3.0, 2.0, 2.0, 2.0, 3.0, 3.0, 1.0, 3.0, 3.0, 1.0, 1.0, 1.0, 3.0, 3.0, 1.0, 3.0, 2.0, 1.0, 3.0, 2.0, 3.0, 3.0, 3.0, 2.0, 2.0, 3.0, 2.0, 3.0, 1.0, 3.0, 3.0, 3.0, 1.0, 3.0, 1.0, 1.0, 3.0, 3.0, 3.0, 3.0, 3.0, 2.0, 3.0, 2.0, 3.0, 3.0, 3.0, 3.0, 1.0, 3.0, 1.0, 1.0, 3.0, 3.0, 3.0, 3.0, 3.0, 3.0, 1.0, 3.0, 2.0, 3.0, 1.0, 3.0, 2.0, 1.0, 3.0, 3.0, 3.0, 2.0, 2.0, 1.0, 3.0, 3.0, 3.0, 1.0, 3.0, 2.0, 1.0, 3.0, 3.0, 2.0, 3.0, 3.0, 1.0, 3.0, 2.0, 3.0, 3.0, 1.0, 3.0, 1.0, 3.0, 3.0, 3.0, 3.0, 2.0, 3.0, 1.0, 3.0, 2.0, 3.0, 3.0, 3.0, 1.0, 3.0, 3.0, 3.0, 1.0, 3.0, 2.0, 1.0, 3.0, 3.0, 3.0, 3.0, 3.0, 2.0, 1.0, 3.0, 3.0, 3.0, 1.0, 2.0, 3.0, 1.0, 1.0, 3.0, 3.0, 3.0, 2.0, 1.0, 3.0, 2.0, 2.0, 2.0, 1.0, 3.0, 3.0, 3.0, 1.0, 1.0, 3.0, 2.0, 3.0, 3.0, 3.0, 3.0, 1.0, 2.0, 3.0, 3.0, 2.0, 3.0, 3.0, 2.0, 1.0, 3.0, 1.0, 3.0], \"type\": \"scatter\", \"x\": [22.0, 38.0, 26.0, 35.0, 35.0, \"29\", 54.0, 2.0, 27.0, 14.0, 4.0, 58.0, 20.0, 39.0, 14.0, 55.0, 2.0, \"29\", 31.0, \"29\", 35.0, 34.0, 15.0, 28.0, 8.0, 38.0, \"29\", 19.0, \"29\", \"29\", 40.0, \"29\", \"29\", 66.0, 28.0, 42.0, \"29\", 21.0, 18.0, 14.0, 40.0, 27.0, \"29\", 3.0, 19.0, \"29\", \"29\", \"29\", \"29\", 18.0, 7.0, 21.0, 49.0, 29.0, 65.0, \"29\", 21.0, 28.5, 5.0, 11.0, 22.0, 38.0, 45.0, 4.0, \"29\", \"29\", 29.0, 19.0, 17.0, 26.0, 32.0, 16.0, 21.0, 26.0, 32.0, 25.0, \"29\", \"29\", 0.83, 30.0, 22.0, 29.0, \"29\", 28.0, 17.0, 33.0, 16.0, \"29\", 23.0, 24.0, 29.0, 20.0, 46.0, 26.0, 59.0, \"29\", 71.0, 23.0, 34.0, 34.0, 28.0, \"29\", 21.0, 33.0, 37.0, 28.0, 21.0, \"29\", 38.0, \"29\", 47.0, 14.5, 22.0, 20.0, 17.0, 21.0, 70.5, 29.0, 24.0, 2.0, 21.0, \"29\", 32.5, 32.5, 54.0, 12.0, \"29\", 24.0, \"29\", 45.0, 33.0, 20.0, 47.0, 29.0, 25.0, 23.0, 19.0, 37.0, 16.0, 24.0, \"29\", 22.0, 24.0, 19.0, 18.0, 19.0, 27.0, 9.0, 36.5, 42.0, 51.0, 22.0, 55.5, 40.5, \"29\", 51.0, 16.0, 30.0, \"29\", \"29\", 44.0, 40.0, 26.0, 17.0, 1.0, 9.0, \"29\", 45.0, \"29\", 28.0, 61.0, 4.0, 1.0, 21.0, 56.0, 18.0, \"29\", 50.0, 30.0, 36.0, \"29\", \"29\", 9.0, 1.0, 4.0, \"29\", \"29\", 45.0, 40.0, 36.0, 32.0, 19.0, 19.0, 3.0, 44.0, 58.0, \"29\", 42.0, \"29\", 24.0, 28.0, \"29\", 34.0, 45.5, 18.0, 2.0, 32.0, 26.0, 16.0, 40.0, 24.0, 35.0, 22.0, 30.0, \"29\", 31.0, 27.0, 42.0, 32.0, 30.0, 16.0, 27.0, 51.0, \"29\", 38.0, 22.0, 19.0, 20.5, 18.0, \"29\", 35.0, 29.0, 59.0, 5.0, 24.0, \"29\", 44.0, 8.0, 19.0, 33.0, \"29\", \"29\", 29.0, 22.0, 30.0, 44.0, 25.0, 24.0, 37.0, 54.0, \"29\", 29.0, 62.0, 30.0, 41.0, 29.0, \"29\", 30.0, 35.0, 50.0, \"29\", 3.0, 52.0, 40.0, \"29\", 36.0, 16.0, 25.0, 58.0, 35.0, \"29\", 25.0, 41.0, 37.0, \"29\", 63.0, 45.0, \"29\", 7.0, 35.0, 65.0, 28.0, 16.0, 19.0, \"29\", 33.0, 30.0, 22.0, 42.0, 22.0, 26.0, 19.0, 36.0, 24.0, 24.0, \"29\", 23.5, 2.0, \"29\", 50.0, \"29\", \"29\", 19.0, \"29\", \"29\", 0.92, \"29\", 17.0, 30.0, 30.0, 24.0, 18.0, 26.0, 28.0, 43.0, 26.0, 24.0, 54.0, 31.0, 40.0, 22.0, 27.0, 30.0, 22.0, \"29\", 36.0, 61.0, 36.0, 31.0, 16.0, \"29\", 45.5, 38.0, 16.0, \"29\", \"29\", 29.0, 41.0, 45.0, 45.0, 2.0, 24.0, 28.0, 25.0, 36.0, 24.0, 40.0, \"29\", 3.0, 42.0, 23.0, \"29\", 15.0, 25.0, \"29\", 28.0, 22.0, 38.0, \"29\", \"29\", 40.0, 29.0, 45.0, 35.0, \"29\", 30.0, 60.0, \"29\", \"29\", 24.0, 25.0, 18.0, 19.0, 22.0, 3.0, \"29\", 22.0, 27.0, 20.0, 19.0, 42.0, 1.0, 32.0, 35.0, \"29\", 18.0, 1.0, 36.0, \"29\", 17.0, 36.0, 21.0, 28.0, 23.0, 24.0, 22.0, 31.0, 46.0, 23.0, 28.0, 39.0, 26.0, 21.0, 28.0, 20.0, 34.0, 51.0, 3.0, 21.0, \"29\", \"29\", \"29\", 33.0, \"29\", 44.0, \"29\", 34.0, 18.0, 30.0, 10.0, \"29\", 21.0, 29.0, 28.0, 18.0, \"29\", 28.0, 19.0, \"29\", 32.0, 28.0, \"29\", 42.0, 17.0, 50.0, 14.0, 21.0, 24.0, 64.0, 31.0, 45.0, 20.0, 25.0, 28.0, \"29\", 4.0, 13.0, 34.0, 5.0, 52.0, 36.0, \"29\", 30.0, 49.0, \"29\", 29.0, 65.0, \"29\", 50.0, \"29\", 48.0, 34.0, 47.0, 48.0, \"29\", 38.0, \"29\", 56.0, \"29\", 0.75, \"29\", 38.0, 33.0, 23.0, 22.0, \"29\", 34.0, 29.0, 22.0, 2.0, 9.0, \"29\", 50.0, 63.0, 25.0, \"29\", 35.0, 58.0, 30.0, 9.0, \"29\", 21.0, 55.0, 71.0, 21.0, \"29\", 54.0, \"29\", 25.0, 24.0, 17.0, 21.0, \"29\", 37.0, 16.0, 18.0, 33.0, \"29\", 28.0, 26.0, 29.0, \"29\", 36.0, 54.0, 24.0, 47.0, 34.0, \"29\", 36.0, 32.0, 30.0, 22.0, \"29\", 44.0, \"29\", 40.5, 50.0, \"29\", 39.0, 23.0, 2.0, \"29\", 17.0, \"29\", 30.0, 7.0, 45.0, 30.0, \"29\", 22.0, 36.0, 9.0, 11.0, 32.0, 50.0, 64.0, 19.0, \"29\", 33.0, 8.0, 17.0, 27.0, \"29\", 22.0, 22.0, 62.0, 48.0, \"29\", 39.0, 36.0, \"29\", 40.0, 28.0, \"29\", \"29\", 24.0, 19.0, 29.0, \"29\", 32.0, 62.0, 53.0, 36.0, \"29\", 16.0, 19.0, 34.0, 39.0, \"29\", 32.0, 25.0, 39.0, 54.0, 36.0, \"29\", 18.0, 47.0, 60.0, 22.0, \"29\", 35.0, 52.0, 47.0, \"29\", 37.0, 36.0, \"29\", 49.0, \"29\", 49.0, 24.0, \"29\", \"29\", 44.0, 35.0, 36.0, 30.0, 27.0, 22.0, 40.0, 39.0, \"29\", \"29\", \"29\", 35.0, 24.0, 34.0, 26.0, 4.0, 26.0, 27.0, 42.0, 20.0, 21.0, 21.0, 61.0, 57.0, 21.0, 26.0, \"29\", 80.0, 51.0, 32.0, \"29\", 9.0, 28.0, 32.0, 31.0, 41.0, \"29\", 20.0, 24.0, 2.0, \"29\", 0.75, 48.0, 19.0, 56.0, \"29\", 23.0, \"29\", 18.0, 21.0, \"29\", 18.0, 24.0, \"29\", 32.0, 23.0, 58.0, 50.0, 40.0, 47.0, 36.0, 20.0, 32.0, 25.0, \"29\", 43.0, \"29\", 40.0, 31.0, 70.0, 31.0, \"29\", 18.0, 24.5, 18.0, 43.0, 36.0, \"29\", 27.0, 20.0, 14.0, 60.0, 25.0, 14.0, 19.0, 18.0, 15.0, 31.0, 4.0, \"29\", 25.0, 60.0, 52.0, 44.0, \"29\", 49.0, 42.0, 18.0, 35.0, 18.0, 25.0, 26.0, 39.0, 45.0, 42.0, 22.0, \"29\", 24.0, \"29\", 48.0, 29.0, 52.0, 19.0, 38.0, 27.0, \"29\", 33.0, 6.0, 17.0, 34.0, 50.0, 27.0, 20.0, 30.0, \"29\", 25.0, 25.0, 29.0, 11.0, \"29\", 23.0, 23.0, 28.5, 48.0, 35.0, \"29\", \"29\", \"29\", 36.0, 21.0, 24.0, 31.0, 70.0, 16.0, 30.0, 19.0, 31.0, 4.0, 6.0, 33.0, 23.0, 48.0, 0.67, 28.0, 18.0, 34.0, 33.0, \"29\", 41.0, 20.0, 36.0, 16.0, 51.0, \"29\", 30.5, \"29\", 32.0, 24.0, 48.0, 57.0, \"29\", 54.0, 18.0, \"29\", 5.0, \"29\", 43.0, 13.0, 17.0, 29.0, \"29\", 25.0, 25.0, 18.0, 8.0, 1.0, 46.0, \"29\", 16.0, \"29\", \"29\", 25.0, 39.0, 49.0, 31.0, 30.0, 30.0, 34.0, 31.0, 11.0, 0.42, 27.0, 31.0, 39.0, 18.0, 39.0, 33.0, 26.0, 39.0, 35.0, 6.0, 30.5, \"29\", 23.0, 31.0, 43.0, 10.0, 52.0, 27.0, 38.0, 27.0, 2.0, \"29\", \"29\", 1.0, \"29\", 62.0, 15.0, 0.83, \"29\", 23.0, 18.0, 39.0, 21.0, \"29\", 32.0, \"29\", 20.0, 16.0, 30.0, 34.5, 17.0, 42.0, \"29\", 35.0, 28.0, \"29\", 4.0, 74.0, 9.0, 16.0, 44.0, 18.0, 45.0, 51.0, 24.0, \"29\", 41.0, 21.0, 48.0, \"29\", 24.0, 42.0, 27.0, 31.0, \"29\", 4.0, 26.0, 47.0, 33.0, 47.0, 28.0, 15.0, 20.0, 19.0, \"29\", 56.0, 25.0, 33.0, 22.0, 28.0, 25.0, 39.0, 27.0, 19.0, \"29\", 26.0, 32.0], \"y\": [7.25, 71.2833, 7.925, 53.1, 8.05, 8.4583, 51.8625, 21.075, 11.1333, 30.0708, 16.7, 26.55, 8.05, 31.275, 7.8542, 16.0, 29.125, 13.0, 18.0, 7.225, 26.0, 13.0, 8.0292, 35.5, 21.075, 31.3875, 7.225, 263.0, 7.8792, 7.8958, 27.7208, 146.5208, 7.75, 10.5, 82.1708, 52.0, 7.2292, 8.05, 18.0, 11.2417, 9.475, 21.0, 7.8958, 41.5792, 7.8792, 8.05, 15.5, 7.75, 21.6792, 17.8, 39.6875, 7.8, 76.7292, 26.0, 61.9792, 35.5, 10.5, 7.2292, 27.75, 46.9, 7.2292, 80.0, 83.475, 27.9, 27.7208, 15.2458, 10.5, 8.1583, 7.925, 8.6625, 10.5, 46.9, 73.5, 14.4542, 56.4958, 7.65, 7.8958, 8.05, 29.0, 12.475, 9.0, 9.5, 7.7875, 47.1, 10.5, 15.85, 34.375, 8.05, 263.0, 8.05, 8.05, 7.8542, 61.175, 20.575, 7.25, 8.05, 34.6542, 63.3583, 23.0, 26.0, 7.8958, 7.8958, 77.2875, 8.6542, 7.925, 7.8958, 7.65, 7.775, 7.8958, 24.15, 52.0, 14.4542, 8.05, 9.825, 14.4583, 7.925, 7.75, 21.0, 247.5208, 31.275, 73.5, 8.05, 30.0708, 13.0, 77.2875, 11.2417, 7.75, 7.1417, 22.3583, 6.975, 7.8958, 7.05, 14.5, 26.0, 13.0, 15.0458, 26.2833, 53.1, 9.2167, 79.2, 15.2458, 7.75, 15.85, 6.75, 11.5, 36.75, 7.7958, 34.375, 26.0, 13.0, 12.525, 66.6, 8.05, 14.5, 7.3125, 61.3792, 7.7333, 8.05, 8.6625, 69.55, 16.1, 15.75, 7.775, 8.6625, 39.6875, 20.525, 55.0, 27.9, 25.925, 56.4958, 33.5, 29.125, 11.1333, 7.925, 30.6958, 7.8542, 25.4667, 28.7125, 13.0, 0.0, 69.55, 15.05, 31.3875, 39.0, 22.025, 50.0, 15.5, 26.55, 15.5, 7.8958, 13.0, 13.0, 7.8542, 26.0, 27.7208, 146.5208, 7.75, 8.4042, 7.75, 13.0, 9.5, 69.55, 6.4958, 7.225, 8.05, 10.4625, 15.85, 18.7875, 7.75, 31.0, 7.05, 21.0, 7.25, 13.0, 7.75, 113.275, 7.925, 27.0, 76.2917, 10.5, 8.05, 13.0, 8.05, 7.8958, 90.0, 9.35, 10.5, 7.25, 13.0, 25.4667, 83.475, 7.775, 13.5, 31.3875, 10.5, 7.55, 26.0, 26.25, 10.5, 12.275, 14.4542, 15.5, 10.5, 7.125, 7.225, 90.0, 7.775, 14.5, 52.5542, 26.0, 7.25, 10.4625, 26.55, 16.1, 20.2125, 15.2458, 79.2, 86.5, 512.3292, 26.0, 7.75, 31.3875, 79.65, 0.0, 7.75, 10.5, 39.6875, 7.775, 153.4625, 135.6333, 31.0, 0.0, 19.5, 29.7, 7.75, 77.9583, 7.75, 0.0, 29.125, 20.25, 7.75, 7.8542, 9.5, 8.05, 26.0, 8.6625, 9.5, 7.8958, 13.0, 7.75, 78.85, 91.0792, 12.875, 8.85, 7.8958, 27.7208, 7.2292, 151.55, 30.5, 247.5208, 7.75, 23.25, 0.0, 12.35, 8.05, 151.55, 110.8833, 108.9, 24.0, 56.9292, 83.1583, 262.375, 26.0, 7.8958, 26.25, 7.8542, 26.0, 14.0, 164.8667, 134.5, 7.25, 7.8958, 12.35, 29.0, 69.55, 135.6333, 6.2375, 13.0, 20.525, 57.9792, 23.25, 28.5, 153.4625, 18.0, 133.65, 7.8958, 66.6, 134.5, 8.05, 35.5, 26.0, 263.0, 13.0, 13.0, 13.0, 13.0, 13.0, 16.1, 15.9, 8.6625, 9.225, 35.0, 7.2292, 17.8, 7.225, 9.5, 55.0, 13.0, 7.8792, 7.8792, 27.9, 27.7208, 14.4542, 7.05, 15.5, 7.25, 75.25, 7.2292, 7.75, 69.3, 55.4417, 6.4958, 8.05, 135.6333, 21.075, 82.1708, 7.25, 211.5, 4.0125, 7.775, 227.525, 15.7417, 7.925, 52.0, 7.8958, 73.5, 46.9, 13.0, 7.7292, 12.0, 120.0, 7.7958, 7.925, 113.275, 16.7, 7.7958, 7.8542, 26.0, 10.5, 12.65, 7.925, 8.05, 9.825, 15.85, 8.6625, 21.0, 7.75, 18.75, 7.775, 25.4667, 7.8958, 6.8583, 90.0, 0.0, 7.925, 8.05, 32.5, 13.0, 13.0, 24.15, 7.8958, 7.7333, 7.875, 14.4, 20.2125, 7.25, 26.0, 26.0, 7.75, 8.05, 26.55, 16.1, 26.0, 7.125, 55.9, 120.0, 34.375, 18.75, 263.0, 10.5, 26.25, 9.5, 7.775, 13.0, 8.1125, 81.8583, 19.5, 26.55, 19.2583, 30.5, 27.75, 19.9667, 27.75, 89.1042, 8.05, 7.8958, 26.55, 51.8625, 10.5, 7.75, 26.55, 8.05, 38.5, 13.0, 8.05, 7.05, 0.0, 26.55, 7.725, 19.2583, 7.25, 8.6625, 27.75, 13.7917, 9.8375, 52.0, 21.0, 7.0458, 7.5208, 12.2875, 46.9, 0.0, 8.05, 9.5875, 91.0792, 25.4667, 90.0, 29.7, 8.05, 15.9, 19.9667, 7.25, 30.5, 49.5042, 8.05, 14.4583, 78.2667, 15.1, 151.55, 7.7958, 8.6625, 7.75, 7.6292, 9.5875, 86.5, 108.9, 26.0, 26.55, 22.525, 56.4958, 7.75, 8.05, 26.2875, 59.4, 7.4958, 34.0208, 10.5, 24.15, 26.0, 7.8958, 93.5, 7.8958, 7.225, 57.9792, 7.2292, 7.75, 10.5, 221.7792, 7.925, 11.5, 26.0, 7.2292, 7.2292, 22.3583, 8.6625, 26.25, 26.55, 106.425, 14.5, 49.5, 71.0, 31.275, 31.275, 26.0, 106.425, 26.0, 26.0, 13.8625, 20.525, 36.75, 110.8833, 26.0, 7.8292, 7.225, 7.775, 26.55, 39.6, 227.525, 79.65, 17.4, 7.75, 7.8958, 13.5, 8.05, 8.05, 24.15, 7.8958, 21.075, 7.2292, 7.8542, 10.5, 51.4792, 26.3875, 7.75, 8.05, 14.5, 13.0, 55.9, 14.4583, 7.925, 30.0, 110.8833, 26.0, 40.125, 8.7125, 79.65, 15.0, 79.2, 8.05, 8.05, 7.125, 78.2667, 7.25, 7.75, 26.0, 24.15, 33.0, 0.0, 7.225, 56.9292, 27.0, 7.8958, 42.4, 8.05, 26.55, 15.55, 7.8958, 30.5, 41.5792, 153.4625, 31.275, 7.05, 15.5, 7.75, 8.05, 65.0, 14.4, 16.1, 39.0, 10.5, 14.4542, 52.5542, 15.7417, 7.8542, 16.1, 32.3208, 12.35, 77.9583, 7.8958, 7.7333, 30.0, 7.0542, 30.5, 0.0, 27.9, 13.0, 7.925, 26.25, 39.6875, 16.1, 7.8542, 69.3, 27.9, 56.4958, 19.2583, 76.7292, 7.8958, 35.5, 7.55, 7.55, 7.8958, 23.0, 8.4333, 7.8292, 6.75, 73.5, 7.8958, 15.5, 13.0, 113.275, 133.65, 7.225, 25.5875, 7.4958, 7.925, 73.5, 13.0, 7.775, 8.05, 52.0, 39.0, 52.0, 10.5, 13.0, 0.0, 7.775, 8.05, 9.8417, 46.9, 512.3292, 8.1375, 76.7292, 9.225, 46.9, 39.0, 41.5792, 39.6875, 10.1708, 7.7958, 211.3375, 57.0, 13.4167, 56.4958, 7.225, 26.55, 13.5, 8.05, 7.7333, 110.8833, 7.65, 227.525, 26.2875, 14.4542, 7.7417, 7.8542, 26.0, 13.5, 26.2875, 151.55, 15.2458, 49.5042, 26.55, 52.0, 9.4833, 13.0, 7.65, 227.525, 10.5, 15.5, 7.775, 33.0, 7.0542, 13.0, 13.0, 53.1, 8.6625, 21.0, 7.7375, 26.0, 7.925, 211.3375, 18.7875, 0.0, 13.0, 13.0, 16.1, 34.375, 512.3292, 7.8958, 7.8958, 30.0, 78.85, 262.375, 16.1, 7.925, 71.0, 20.25, 13.0, 53.1, 7.75, 23.0, 12.475, 9.5, 7.8958, 65.0, 14.5, 7.7958, 11.5, 8.05, 86.5, 14.5, 7.125, 7.2292, 120.0, 7.775, 77.9583, 39.6, 7.75, 24.15, 8.3625, 9.5, 7.8542, 10.5, 7.225, 23.0, 7.75, 7.75, 12.475, 7.7375, 211.3375, 7.2292, 57.0, 30.0, 23.45, 7.05, 7.25, 7.4958, 29.125, 20.575, 79.2, 7.75, 26.0, 69.55, 30.6958, 7.8958, 13.0, 25.9292, 8.6833, 7.2292, 24.15, 13.0, 26.25, 120.0, 8.5167, 6.975, 7.775, 0.0, 7.775, 13.0, 53.1, 7.8875, 24.15, 10.5, 31.275, 8.05, 0.0, 7.925, 37.0042, 6.45, 27.9, 93.5, 8.6625, 0.0, 12.475, 39.6875, 6.95, 56.4958, 37.0042, 7.75, 80.0, 14.4542, 18.75, 7.2292, 7.8542, 8.3, 83.1583, 8.6625, 8.05, 56.4958, 29.7, 7.925, 10.5, 31.0, 6.4375, 8.6625, 7.55, 69.55, 7.8958, 33.0, 89.1042, 31.275, 7.775, 15.2458, 39.4, 26.0, 9.35, 164.8667, 26.55, 19.2583, 7.2292, 14.1083, 11.5, 25.9292, 69.55, 13.0, 13.0, 13.8583, 50.4958, 9.5, 11.1333, 7.8958, 52.5542, 5.0, 9.0, 24.0, 7.225, 9.8458, 7.8958, 7.8958, 83.1583, 26.0, 7.8958, 10.5167, 10.5, 7.05, 29.125, 13.0, 30.0, 23.45, 30.0, 7.75]}],                        {\"template\": {\"data\": {\"bar\": [{\"error_x\": {\"color\": \"#2a3f5f\"}, \"error_y\": {\"color\": \"#2a3f5f\"}, \"marker\": {\"line\": {\"color\": \"#E5ECF6\", \"width\": 0.5}}, \"type\": \"bar\"}], \"barpolar\": [{\"marker\": {\"line\": {\"color\": \"#E5ECF6\", \"width\": 0.5}}, \"type\": \"barpolar\"}], \"carpet\": [{\"aaxis\": {\"endlinecolor\": \"#2a3f5f\", \"gridcolor\": \"white\", \"linecolor\": \"white\", \"minorgridcolor\": \"white\", \"startlinecolor\": \"#2a3f5f\"}, \"baxis\": {\"endlinecolor\": \"#2a3f5f\", \"gridcolor\": \"white\", \"linecolor\": \"white\", \"minorgridcolor\": \"white\", \"startlinecolor\": \"#2a3f5f\"}, \"type\": \"carpet\"}], \"choropleth\": [{\"colorbar\": {\"outlinewidth\": 0, \"ticks\": \"\"}, \"type\": \"choropleth\"}], \"contour\": [{\"colorbar\": {\"outlinewidth\": 0, \"ticks\": \"\"}, \"colorscale\": [[0.0, \"#0d0887\"], [0.1111111111111111, \"#46039f\"], [0.2222222222222222, \"#7201a8\"], [0.3333333333333333, \"#9c179e\"], [0.4444444444444444, \"#bd3786\"], [0.5555555555555556, \"#d8576b\"], [0.6666666666666666, \"#ed7953\"], [0.7777777777777778, \"#fb9f3a\"], [0.8888888888888888, \"#fdca26\"], [1.0, \"#f0f921\"]], \"type\": \"contour\"}], \"contourcarpet\": [{\"colorbar\": {\"outlinewidth\": 0, \"ticks\": \"\"}, \"type\": \"contourcarpet\"}], \"heatmap\": [{\"colorbar\": {\"outlinewidth\": 0, \"ticks\": \"\"}, \"colorscale\": [[0.0, \"#0d0887\"], [0.1111111111111111, \"#46039f\"], [0.2222222222222222, \"#7201a8\"], [0.3333333333333333, \"#9c179e\"], [0.4444444444444444, \"#bd3786\"], [0.5555555555555556, \"#d8576b\"], [0.6666666666666666, \"#ed7953\"], [0.7777777777777778, \"#fb9f3a\"], [0.8888888888888888, \"#fdca26\"], [1.0, \"#f0f921\"]], \"type\": \"heatmap\"}], \"heatmapgl\": [{\"colorbar\": {\"outlinewidth\": 0, \"ticks\": \"\"}, \"colorscale\": [[0.0, \"#0d0887\"], [0.1111111111111111, \"#46039f\"], [0.2222222222222222, \"#7201a8\"], [0.3333333333333333, \"#9c179e\"], [0.4444444444444444, \"#bd3786\"], [0.5555555555555556, \"#d8576b\"], [0.6666666666666666, \"#ed7953\"], [0.7777777777777778, \"#fb9f3a\"], [0.8888888888888888, \"#fdca26\"], [1.0, \"#f0f921\"]], \"type\": \"heatmapgl\"}], \"histogram\": [{\"marker\": {\"colorbar\": {\"outlinewidth\": 0, \"ticks\": \"\"}}, \"type\": \"histogram\"}], \"histogram2d\": [{\"colorbar\": {\"outlinewidth\": 0, \"ticks\": \"\"}, \"colorscale\": [[0.0, \"#0d0887\"], [0.1111111111111111, \"#46039f\"], [0.2222222222222222, \"#7201a8\"], [0.3333333333333333, \"#9c179e\"], [0.4444444444444444, \"#bd3786\"], [0.5555555555555556, \"#d8576b\"], [0.6666666666666666, \"#ed7953\"], [0.7777777777777778, \"#fb9f3a\"], [0.8888888888888888, \"#fdca26\"], [1.0, \"#f0f921\"]], \"type\": \"histogram2d\"}], \"histogram2dcontour\": [{\"colorbar\": {\"outlinewidth\": 0, \"ticks\": \"\"}, \"colorscale\": [[0.0, \"#0d0887\"], [0.1111111111111111, \"#46039f\"], [0.2222222222222222, \"#7201a8\"], [0.3333333333333333, \"#9c179e\"], [0.4444444444444444, \"#bd3786\"], [0.5555555555555556, \"#d8576b\"], [0.6666666666666666, \"#ed7953\"], [0.7777777777777778, \"#fb9f3a\"], [0.8888888888888888, \"#fdca26\"], [1.0, \"#f0f921\"]], \"type\": \"histogram2dcontour\"}], \"mesh3d\": [{\"colorbar\": {\"outlinewidth\": 0, \"ticks\": \"\"}, \"type\": \"mesh3d\"}], \"parcoords\": [{\"line\": {\"colorbar\": {\"outlinewidth\": 0, \"ticks\": \"\"}}, \"type\": \"parcoords\"}], \"pie\": [{\"automargin\": true, \"type\": \"pie\"}], \"scatter\": [{\"marker\": {\"colorbar\": {\"outlinewidth\": 0, \"ticks\": \"\"}}, \"type\": \"scatter\"}], \"scatter3d\": [{\"line\": {\"colorbar\": {\"outlinewidth\": 0, \"ticks\": \"\"}}, \"marker\": {\"colorbar\": {\"outlinewidth\": 0, \"ticks\": \"\"}}, \"type\": \"scatter3d\"}], \"scattercarpet\": [{\"marker\": {\"colorbar\": {\"outlinewidth\": 0, \"ticks\": \"\"}}, \"type\": \"scattercarpet\"}], \"scattergeo\": [{\"marker\": {\"colorbar\": {\"outlinewidth\": 0, \"ticks\": \"\"}}, \"type\": \"scattergeo\"}], \"scattergl\": [{\"marker\": {\"colorbar\": {\"outlinewidth\": 0, \"ticks\": \"\"}}, \"type\": \"scattergl\"}], \"scattermapbox\": [{\"marker\": {\"colorbar\": {\"outlinewidth\": 0, \"ticks\": \"\"}}, \"type\": \"scattermapbox\"}], \"scatterpolar\": [{\"marker\": {\"colorbar\": {\"outlinewidth\": 0, \"ticks\": \"\"}}, \"type\": \"scatterpolar\"}], \"scatterpolargl\": [{\"marker\": {\"colorbar\": {\"outlinewidth\": 0, \"ticks\": \"\"}}, \"type\": \"scatterpolargl\"}], \"scatterternary\": [{\"marker\": {\"colorbar\": {\"outlinewidth\": 0, \"ticks\": \"\"}}, \"type\": \"scatterternary\"}], \"surface\": [{\"colorbar\": {\"outlinewidth\": 0, \"ticks\": \"\"}, \"colorscale\": [[0.0, \"#0d0887\"], [0.1111111111111111, \"#46039f\"], [0.2222222222222222, \"#7201a8\"], [0.3333333333333333, \"#9c179e\"], [0.4444444444444444, \"#bd3786\"], [0.5555555555555556, \"#d8576b\"], [0.6666666666666666, \"#ed7953\"], [0.7777777777777778, \"#fb9f3a\"], [0.8888888888888888, \"#fdca26\"], [1.0, \"#f0f921\"]], \"type\": \"surface\"}], \"table\": [{\"cells\": {\"fill\": {\"color\": \"#EBF0F8\"}, \"line\": {\"color\": \"white\"}}, \"header\": {\"fill\": {\"color\": \"#C8D4E3\"}, \"line\": {\"color\": \"white\"}}, \"type\": \"table\"}]}, \"layout\": {\"annotationdefaults\": {\"arrowcolor\": \"#2a3f5f\", \"arrowhead\": 0, \"arrowwidth\": 1}, \"coloraxis\": {\"colorbar\": {\"outlinewidth\": 0, \"ticks\": \"\"}}, \"colorscale\": {\"diverging\": [[0, \"#8e0152\"], [0.1, \"#c51b7d\"], [0.2, \"#de77ae\"], [0.3, \"#f1b6da\"], [0.4, \"#fde0ef\"], [0.5, \"#f7f7f7\"], [0.6, \"#e6f5d0\"], [0.7, \"#b8e186\"], [0.8, \"#7fbc41\"], [0.9, \"#4d9221\"], [1, \"#276419\"]], \"sequential\": [[0.0, \"#0d0887\"], [0.1111111111111111, \"#46039f\"], [0.2222222222222222, \"#7201a8\"], [0.3333333333333333, \"#9c179e\"], [0.4444444444444444, \"#bd3786\"], [0.5555555555555556, \"#d8576b\"], [0.6666666666666666, \"#ed7953\"], [0.7777777777777778, \"#fb9f3a\"], [0.8888888888888888, \"#fdca26\"], [1.0, \"#f0f921\"]], \"sequentialminus\": [[0.0, \"#0d0887\"], [0.1111111111111111, \"#46039f\"], [0.2222222222222222, \"#7201a8\"], [0.3333333333333333, \"#9c179e\"], [0.4444444444444444, \"#bd3786\"], [0.5555555555555556, \"#d8576b\"], [0.6666666666666666, \"#ed7953\"], [0.7777777777777778, \"#fb9f3a\"], [0.8888888888888888, \"#fdca26\"], [1.0, \"#f0f921\"]]}, \"colorway\": [\"#636efa\", \"#EF553B\", \"#00cc96\", \"#ab63fa\", \"#FFA15A\", \"#19d3f3\", \"#FF6692\", \"#B6E880\", \"#FF97FF\", \"#FECB52\"], \"font\": {\"color\": \"#2a3f5f\"}, \"geo\": {\"bgcolor\": \"white\", \"lakecolor\": \"white\", \"landcolor\": \"#E5ECF6\", \"showlakes\": true, \"showland\": true, \"subunitcolor\": \"white\"}, \"hoverlabel\": {\"align\": \"left\"}, \"hovermode\": \"closest\", \"mapbox\": {\"style\": \"light\"}, \"paper_bgcolor\": \"white\", \"plot_bgcolor\": \"#E5ECF6\", \"polar\": {\"angularaxis\": {\"gridcolor\": \"white\", \"linecolor\": \"white\", \"ticks\": \"\"}, \"bgcolor\": \"#E5ECF6\", \"radialaxis\": {\"gridcolor\": \"white\", \"linecolor\": \"white\", \"ticks\": \"\"}}, \"scene\": {\"xaxis\": {\"backgroundcolor\": \"#E5ECF6\", \"gridcolor\": \"white\", \"gridwidth\": 2, \"linecolor\": \"white\", \"showbackground\": true, \"ticks\": \"\", \"zerolinecolor\": \"white\"}, \"yaxis\": {\"backgroundcolor\": \"#E5ECF6\", \"gridcolor\": \"white\", \"gridwidth\": 2, \"linecolor\": \"white\", \"showbackground\": true, \"ticks\": \"\", \"zerolinecolor\": \"white\"}, \"zaxis\": {\"backgroundcolor\": \"#E5ECF6\", \"gridcolor\": \"white\", \"gridwidth\": 2, \"linecolor\": \"white\", \"showbackground\": true, \"ticks\": \"\", \"zerolinecolor\": \"white\"}}, \"shapedefaults\": {\"line\": {\"color\": \"#2a3f5f\"}}, \"ternary\": {\"aaxis\": {\"gridcolor\": \"white\", \"linecolor\": \"white\", \"ticks\": \"\"}, \"baxis\": {\"gridcolor\": \"white\", \"linecolor\": \"white\", \"ticks\": \"\"}, \"bgcolor\": \"#E5ECF6\", \"caxis\": {\"gridcolor\": \"white\", \"linecolor\": \"white\", \"ticks\": \"\"}}, \"title\": {\"x\": 0.05}, \"xaxis\": {\"automargin\": true, \"gridcolor\": \"white\", \"linecolor\": \"white\", \"ticks\": \"\", \"title\": {\"standoff\": 15}, \"zerolinecolor\": \"white\", \"zerolinewidth\": 2}, \"yaxis\": {\"automargin\": true, \"gridcolor\": \"white\", \"linecolor\": \"white\", \"ticks\": \"\", \"title\": {\"standoff\": 15}, \"zerolinecolor\": \"white\", \"zerolinewidth\": 2}}}, \"title\": {\"text\": \"Fare vs Age with Survivability and Pclass\"}, \"xaxis\": {\"title\": {\"text\": \"Age\"}}, \"yaxis\": {\"title\": {\"text\": \"Fare\"}}},                        {\"responsive\": true}                    ).then(function(){\n",
       "                            \n",
       "var gd = document.getElementById('536fe2d7-80d9-47bc-9016-ec2a474b4a64');\n",
       "var x = new MutationObserver(function (mutations, observer) {{\n",
       "        var display = window.getComputedStyle(gd).display;\n",
       "        if (!display || display === 'none') {{\n",
       "            console.log([gd, 'removed!']);\n",
       "            Plotly.purge(gd);\n",
       "            observer.disconnect();\n",
       "        }}\n",
       "}});\n",
       "\n",
       "// Listen for the removal of the full notebook cells\n",
       "var notebookContainer = gd.closest('#notebook-container');\n",
       "if (notebookContainer) {{\n",
       "    x.observe(notebookContainer, {childList: true});\n",
       "}}\n",
       "\n",
       "// Listen for the clearing of the current output cell\n",
       "var outputEl = gd.closest('.output');\n",
       "if (outputEl) {{\n",
       "    x.observe(outputEl, {childList: true});\n",
       "}}\n",
       "\n",
       "                        })                };                });            </script>        </div>"
      ]
     },
     "metadata": {},
     "output_type": "display_data"
    }
   ],
   "source": [
    "#defining data\n",
    "data=[\n",
    "    go.Scatter(x = titanic['Age'],y=titanic['Fare'],\n",
    "               text=titanic['Pclass'],\n",
    "                mode='markers',\n",
    "               marker=dict(size=titanic['Pclass']*15, color=titanic['Survived'],showscale=True ),\n",
    "               \n",
    "                           \n",
    "              )]\n",
    "#defining layout\n",
    "layout = go.Layout(title='Fare vs Age with Survivability and Pclass',xaxis=dict(title='Age'),yaxis=dict(title='Fare'),)\n",
    "#defining figure and plotting\n",
    "figure = go.Figure(data=data,layout=layout)\n",
    "fig.update_layout(hovermode='x unified')\n",
    "iplot(figure)"
   ]
  },
  {
   "cell_type": "code",
   "execution_count": null,
   "metadata": {},
   "outputs": [],
   "source": []
  },
  {
   "cell_type": "code",
   "execution_count": null,
   "metadata": {},
   "outputs": [],
   "source": []
  },
  {
   "cell_type": "code",
   "execution_count": null,
   "metadata": {},
   "outputs": [],
   "source": []
  }
 ],
 "metadata": {
  "kernelspec": {
   "display_name": "Python 3",
   "language": "python",
   "name": "python3"
  },
  "language_info": {
   "codemirror_mode": {
    "name": "ipython",
    "version": 3
   },
   "file_extension": ".py",
   "mimetype": "text/x-python",
   "name": "python",
   "nbconvert_exporter": "python",
   "pygments_lexer": "ipython3",
   "version": "3.8.3"
  }
 },
 "nbformat": 4,
 "nbformat_minor": 4
}
